{
 "cells": [
  {
   "cell_type": "markdown",
   "metadata": {},
   "source": [
    "# Metropolis-Hastings MCMC implementation (Python)"
   ]
  },
  {
   "cell_type": "code",
   "execution_count": 94,
   "metadata": {},
   "outputs": [],
   "source": [
    "import numpy as np\n",
    "from numpy import power as p \n",
    "from numpy import log\n",
    "import matplotlib.pyplot as plt\n",
    "import corner\n"
   ]
  },
  {
   "cell_type": "markdown",
   "metadata": {},
   "source": [
    "### Create mock data\n",
    "\n",
    "The mock data we will create is drawn from the distribution $f$ which has PDF \n",
    "$$f(v| v_{esc},k) = \\frac{k+1}{v_{esc}{}^{k+1}} (v_{esc} - v)^k \\quad,\\quad v\\in[0,v_{esc}]$$\n",
    "\n",
    "and CDF\n",
    "$$ \\text{CDF}_f(v) =  \\left( 1 - \\frac{v}{v_{esc}} \\right)^{k+1} -1 \\quad,\\quad v\\in[0,v_{esc}]$$\n",
    "\n",
    "which has inverse \n",
    "$$  \\text{CDF}_f{}^{-1}(y) = v_{esc}\\left[ 1 - (1-y)^{\\frac{1}{k+1}}  \\right] \\quad,\\quad y\\in[0,1] $$\n",
    "\n",
    "We need the inverse CDF to generate samples from this distribution. Note also that the log likelihood is given by\n",
    "$$ Log\\left(\\text{Likelihood} (D|v_{esc},k)  \\right) = \\sum_d Log(f(d|vesc,k)  ) $$\n",
    "\n",
    "for a dataset D consisting of datapoints $d$, where each term is of the form\n",
    "$$  Log(f(d|vesc,k)  ) =  Log(k+1) - (k+1)Log(v_{esc}) + k~Log(v_{esc} - v) $$"
   ]
  },
  {
   "cell_type": "code",
   "execution_count": 95,
   "metadata": {},
   "outputs": [],
   "source": [
    "def powerlaw_PDF(v,x):\n",
    "    vesc,k = x\n",
    "    return ( (k+1)*p(vesc,-k-1) ) * p(vesc - v, k)\n",
    "\n",
    "def powerlaw_inverse_CDF(y,x):\n",
    "    vesc,k = x\n",
    "    return vesc*( 1.0 - p( 1.0-y, 1.0/(k+1.0)) )"
   ]
  },
  {
   "cell_type": "markdown",
   "metadata": {},
   "source": [
    "### Define helper functions"
   ]
  },
  {
   "cell_type": "code",
   "execution_count": 96,
   "metadata": {},
   "outputs": [],
   "source": [
    "def generate_samples(N,inverse_CDF,x):\n",
    "    # To sample from a distribution we perform inverse transform sampling, for which the inverse CDF is required\n",
    "    return inverse_CDF(np.random.uniform(size=N),x)"
   ]
  },
  {
   "cell_type": "markdown",
   "metadata": {},
   "source": [
    "### Sample from distribution to obtain data which we will fit via MCMC\n",
    "\n",
    "We generate data with a specific escape velocity and $k$ to use in our parameter fit later"
   ]
  },
  {
   "cell_type": "code",
   "execution_count": 97,
   "metadata": {},
   "outputs": [],
   "source": [
    "target_vesc = 550.0\n",
    "target_k = 3.0\n",
    "target_x = [target_vesc,target_k]\n",
    "num_samples = 1000\n",
    "\n",
    "target_data = generate_samples(num_samples,powerlaw_inverse_CDF,target_x)"
   ]
  },
  {
   "cell_type": "code",
   "execution_count": 98,
   "metadata": {},
   "outputs": [
    {
     "data": {
      "text/plain": [
       "<matplotlib.legend.Legend at 0x1736ca609a0>"
      ]
     },
     "execution_count": 98,
     "metadata": {},
     "output_type": "execute_result"
    },
    {
     "data": {
      "image/png": "[encoded data removed]",
      "text/plain": [
       "<Figure size 432x288 with 1 Axes>"
      ]
     },
     "metadata": {
      "needs_background": "light"
     },
     "output_type": "display_data"
    }
   ],
   "source": [
    "heights, bins, _ = plt.hist(target_data, bins=25, density=True, alpha=0.5,rwidth=0.75,color='C7')\n",
    "plt.plot(bins, powerlaw_PDF(bins,target_x),color='red',label=r\"$v_{esc}=550,~k=3$\")\n",
    "plt.title(\"Demonstration of sampling from distribution\")\n",
    "plt.xlabel(\"v\")\n",
    "plt.ylabel(\"f\")\n",
    "plt.legend()"
   ]
  },
  {
   "cell_type": "markdown",
   "metadata": {},
   "source": [
    "# Define affine-invariant MCMC functions and parameters"
   ]
  },
  {
   "cell_type": "code",
   "execution_count": 99,
   "metadata": {},
   "outputs": [],
   "source": [
    "def log_prior(x):\n",
    "    vesc,k = x\n",
    "    if 100 < vesc < 800 and 0.2 < k < 10 :\n",
    "        return 0.0\n",
    "    return -np.inf\n",
    "\n",
    "def log_likelihood(x,data):\n",
    "    vesc,k = x\n",
    "    sum = 0\n",
    "    for v in data:\n",
    "        if v < vesc:\n",
    "            sum += log(k+1) - (k+1)*log(vesc) + k*log(vesc - v)\n",
    "        else:\n",
    "            return -np.inf\n",
    "\n",
    "    return sum \n",
    "\n",
    "def log_probability(x,data):\n",
    "    lp = log_prior(x)\n",
    "    if not np.isfinite(lp):\n",
    "        return -np.inf\n",
    "    return lp + log_likelihood(x,data)\n"
   ]
  },
  {
   "cell_type": "markdown",
   "metadata": {},
   "source": [
    "# Use emcee for affine-invariant MCMC, set up sampler"
   ]
  },
  {
   "cell_type": "code",
   "execution_count": 100,
   "metadata": {},
   "outputs": [],
   "source": [
    "import emcee\n",
    "ndim = 2    # we nave 2 parameters\n",
    "nwalkers = 10\n",
    "x0 = np.random.rand(nwalkers, ndim)"
   ]
  },
  {
   "cell_type": "code",
   "execution_count": 101,
   "metadata": {},
   "outputs": [],
   "source": [
    "sampler = emcee.EnsembleSampler(nwalkers, ndim, log_probability, args=[target_data])"
   ]
  },
  {
   "cell_type": "markdown",
   "metadata": {},
   "source": [
    "# Run MCMC analysis"
   ]
  },
  {
   "cell_type": "code",
   "execution_count": 102,
   "metadata": {},
   "outputs": [],
   "source": [
    "burnin = 200\n",
    "num_steps = 5000\n",
    "\n",
    "guess_vesc = 400\n",
    "guess_k = 4\n",
    "\n",
    "initial_guess_onewalker = np.array([guess_vesc,guess_k])\n",
    "initial_guess = np.stack( [initial_guess_onewalker + np.random.normal([guess_vesc,guess_k],[90,0.9],(2,))  for _ in range(nwalkers)], axis=0 ) # Initial position for each walker randomly chosen close to initial guess"
   ]
  },
  {
   "cell_type": "markdown",
   "metadata": {},
   "source": [
    "### Perform burn-in"
   ]
  },
  {
   "cell_type": "code",
   "execution_count": 103,
   "metadata": {},
   "outputs": [
    {
     "name": "stderr",
     "output_type": "stream",
     "text": [
      "  0%|          | 0/200 [00:00<?, ?it/s]C:\\Users\\CianM\\anaconda3\\envs\\py3\\lib\\site-packages\\emcee\\moves\\red_blue.py:99: RuntimeWarning: invalid value encountered in double_scalars\n",
      "  lnpdiff = f + nlp - state.log_prob[j]\n",
      "100%|██████████| 200/200 [00:07<00:00, 27.62it/s]\n"
     ]
    }
   ],
   "source": [
    "state = sampler.run_mcmc(initial_guess, burnin,progress=True)\n",
    "samples = sampler.get_chain(flat=True)"
   ]
  },
  {
   "cell_type": "code",
   "execution_count": 104,
   "metadata": {},
   "outputs": [
    {
     "data": {
      "text/plain": [
       "<matplotlib.lines.Line2D at 0x1736ca2aa30>"
      ]
     },
     "execution_count": 104,
     "metadata": {},
     "output_type": "execute_result"
    },
    {
     "data": {
      "image/png": "[encoded data removed]",
      "text/plain": [
       "<Figure size 720x360 with 2 Axes>"
      ]
     },
     "metadata": {
      "needs_background": "light"
     },
     "output_type": "display_data"
    }
   ],
   "source": [
    "fig,axs=plt.subplots(ncols=2,figsize=(10,5))\n",
    "axs[0].hist(samples[:, 0], 25, color=\"k\", histtype=\"step\",density=True)\n",
    "axs[0].set_xlabel(r\"$v_{esc}$\")\n",
    "axs[0].set_ylabel(r\"$Posterior$\")\n",
    "axs[0].set_title(\"Burnin result\")\n",
    "axs[0].axvline(x=target_vesc)\n",
    "\n",
    "axs[1].hist(samples[:, 1], 25, color=\"k\", histtype=\"step\",density=True)\n",
    "axs[1].set_xlabel(r\"$k$\")\n",
    "#axs[1].set_ylabel(r\"$Posterior$\")\n",
    "axs[1].set_title(\"Burnin result\")\n",
    "axs[1].axvline(x=target_k)"
   ]
  },
  {
   "cell_type": "markdown",
   "metadata": {},
   "source": [
    "### Perform actual MCMC run"
   ]
  },
  {
   "cell_type": "code",
   "execution_count": 105,
   "metadata": {},
   "outputs": [
    {
     "name": "stderr",
     "output_type": "stream",
     "text": [
      "100%|██████████| 5000/5000 [03:10<00:00, 26.21it/s]\n"
     ]
    }
   ],
   "source": [
    "sampler.reset()\n",
    "sampler.run_mcmc(state, num_steps,progress=True)\n",
    "samples = sampler.get_chain(flat=True)"
   ]
  },
  {
   "cell_type": "code",
   "execution_count": 106,
   "metadata": {},
   "outputs": [
    {
     "data": {
      "text/plain": [
       "<matplotlib.lines.Line2D at 0x1736b6bb460>"
      ]
     },
     "execution_count": 106,
     "metadata": {},
     "output_type": "execute_result"
    },
    {
     "data": {
      "image/png": "[encoded data removed]",
      "text/plain": [
       "<Figure size 720x360 with 2 Axes>"
      ]
     },
     "metadata": {
      "needs_background": "light"
     },
     "output_type": "display_data"
    }
   ],
   "source": [
    "fig,axs=plt.subplots(ncols=2,figsize=(10,5))\n",
    "axs[0].hist(samples[:, 0], 25, color=\"k\", histtype=\"step\",density=True)\n",
    "axs[0].set_xlabel(r\"$v_{esc}$\")\n",
    "axs[0].set_ylabel(r\"$Posterior$\")\n",
    "axs[0].set_title(\"Full run result\")\n",
    "axs[0].axvline(x=target_vesc)\n",
    "\n",
    "axs[1].hist(samples[:, 1], 25, color=\"k\", histtype=\"step\",density=True)\n",
    "axs[1].set_xlabel(r\"$k$\")\n",
    "#axs[1].set_ylabel(r\"$Posterior$\")\n",
    "axs[1].set_title(\"Full run result\")\n",
    "axs[1].axvline(x=target_k)"
   ]
  },
  {
   "cell_type": "markdown",
   "metadata": {},
   "source": [
    "# Examine results closely\n",
    "\n",
    "Autocorrelation time:"
   ]
  },
  {
   "cell_type": "code",
   "execution_count": 107,
   "metadata": {},
   "outputs": [
    {
     "name": "stdout",
     "output_type": "stream",
     "text": [
      "[38.47552019 36.19671445]\n"
     ]
    }
   ],
   "source": [
    "tau = sampler.get_autocorr_time()\n",
    "print(tau)"
   ]
  },
  {
   "cell_type": "markdown",
   "metadata": {},
   "source": [
    "which implies a burnin of 200 steps is very reasonable, if conservative"
   ]
  },
  {
   "cell_type": "code",
   "execution_count": 108,
   "metadata": {},
   "outputs": [
    {
     "data": {
      "image/png": "[encoded data removed]",
      "text/plain": [
       "<Figure size 396x396 with 4 Axes>"
      ]
     },
     "metadata": {
      "needs_background": "light"
     },
     "output_type": "display_data"
    }
   ],
   "source": [
    "fig = corner.corner(\n",
    "    samples, labels=[r\"$v_{esc}$\",r'$k$'], truths=[target_vesc, target_k], quantiles=[0.16, 0.5, 0.84],\n",
    "                       show_titles=True, title_kwargs={\"fontsize\": 12}\n",
    ")"
   ]
  },
  {
   "cell_type": "markdown",
   "metadata": {},
   "source": [
    "### Result obtained in 3 minutes for 1000 data points and 50000 steps (10 walkers * 5000 steps)\n",
    "That is, roughly 26 iterations per second"
   ]
  },
  {
   "cell_type": "code",
   "execution_count": null,
   "metadata": {},
   "outputs": [],
   "source": []
  }
 ],
 "metadata": {
  "interpreter": {
   "hash": "e8a468ef094408c4e17b0bd6975ea6441c0551d7f5608c62c0e16565415824c2"
  },
  "kernelspec": {
   "display_name": "Python 3.9.7 ('py3')",
   "language": "python",
   "name": "python3"
  },
  "language_info": {
   "codemirror_mode": {
    "name": "ipython",
    "version": 3
   },
   "file_extension": ".py",
   "mimetype": "text/x-python",
   "name": "python",
   "nbconvert_exporter": "python",
   "pygments_lexer": "ipython3",
   "version": "3.9.7"
  },
  "orig_nbformat": 4
 },
 "nbformat": 4,
 "nbformat_minor": 2
}
