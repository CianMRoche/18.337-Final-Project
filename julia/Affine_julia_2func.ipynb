{
 "cells": [
  {
   "cell_type": "markdown",
   "metadata": {},
   "source": [
    "# 2-component model testing"
   ]
  },
  {
   "cell_type": "code",
   "execution_count": 1,
   "metadata": {},
   "outputs": [
    {
     "data": {
      "text/plain": [
       "save_chain (generic function with 1 method)"
      ]
     },
     "metadata": {},
     "output_type": "display_data"
    }
   ],
   "source": [
    "using Plots # WARNING: the \"plot\" parameter will overwrite the plot function\n",
    "using BenchmarkTools\n",
    "using LaTeXStrings\n",
    "using Distributions\n",
    "using Statistics\n",
    "using Printf\n",
    "using Distributed\n",
    "import Random: seed!\n",
    "using SpecialFunctions\n",
    "using NumericalIntegration\n",
    "using LinearAlgebra\n",
    "using NPZ\n",
    "include(\"AffineInvariantMCMC.jl\")"
   ]
  },
  {
   "cell_type": "code",
   "execution_count": 46,
   "metadata": {},
   "outputs": [],
   "source": [
    "# Adjust parameters relative to imported parameter file\n",
    "\n",
    "include(\"../params.py\")\n",
    "\n",
    "vmin = Float64(vmin)\n",
    "vesc_guess = Float64(vesc_guess)\n",
    "sigmapriormin = Float64(sigmapriormin)\n",
    "kpriormax = Float64(kpriormax)\n",
    "fs_sausage_min = Float64(fs_sausage_min)\n",
    "fs_sausage_max = Float64(fs_sausage_max)\n",
    "inverse_vesc_prior = Bool(inverse_vesc_prior)\n",
    "outlier = Bool(outlier)\n",
    "sausage = Bool(sausage)\n",
    "random_samples = Bool(random_samples)\n",
    "edr3 = Bool(edr3)\n",
    "fire = Bool(fire)\n",
    "\n",
    "if inverse_vesc_prior\n",
    "    vesc_guess = 1.0 / vesc_guess\n",
    "end\n"
   ]
  },
  {
   "cell_type": "markdown",
   "metadata": {},
   "source": [
    "### Sample from distribution to obtain data which we will fit via MCMC\n",
    "\n",
    "We generate data with a specific escape velocity and $k$ to use in our parameter fit later"
   ]
  },
  {
   "cell_type": "code",
   "execution_count": 29,
   "metadata": {},
   "outputs": [],
   "source": [
    "target_vesc = 500.0\n",
    "target_k = 3.5\n",
    "target_frac = log(0.01)\n",
    "target_sigma = log(1000.0)\n",
    "target_ks = 1.0\n",
    "target_fs = 0.6\n",
    "target_x = [target_vesc,target_k]\n",
    "\n",
    "\n",
    "#num_samples = 2000\n",
    "#target_data = generate_samples(num_samples,powerlaw_inverse_CDF,target_x);"
   ]
  },
  {
   "cell_type": "code",
   "execution_count": 5,
   "metadata": {},
   "outputs": [
    {
     "data": {
      "text/plain": [
       "1×2000 adjoint(::Vector{Float64}) with eltype Float64:\n",
       " 19.0188  22.4413  16.2253  18.2428  …  17.2787  19.2584  21.8595  21.6293"
      ]
     },
     "metadata": {},
     "output_type": "display_data"
    }
   ],
   "source": [
    "target_data = npzread(\"speed.npy\")\n",
    "target_data_err = npzread(\"speed_error.npy\")\n",
    "\n",
    "target_data_err'"
   ]
  },
  {
   "cell_type": "code",
   "execution_count": 6,
   "metadata": {},
   "outputs": [
    {
     "data": {
      "image/png": "[encoded data removed]",
      "image/svg+xml": "<?xml version=\"1.0\" encoding=\"utf-8\" standalone=\"no\"?>\n<!DOCTYPE svg PUBLIC \"-//W3C//DTD SVG 1.1//EN\"\n  \"http://www.w3.org/Graphics/SVG/1.1/DTD/svg11.dtd\">\n<svg xmlns:xlink=\"http://www.w3.org/1999/xlink\" width=\"432pt\" height=\"288pt\" viewBox=\"0 0 432 288\" xmlns=\"http://www.w3.org/2000/svg\" version=\"1.1\">\n <metadata>\n  <rdf:RDF xmlns:dc=\"http://purl.org/dc/elements/1.1/\" xmlns:cc=\"http://creativecommons.org/ns#\" xmlns:rdf=\"http://www.w3.org/1999/02/22-rdf-syntax-ns#\">\n   <cc:Work>\n    <dc:type rdf:resource=\"http://purl.org/dc/dcmitype/StillImage\"/>\n    <dc:date>2022-06-12T17:18:21.467551</dc:date>\n    <dc:format>image/svg+xml</dc:format>\n    <dc:creator>\n     <cc:Agent>\n      <dc:title>Matplotlib v3.5.2, https://matplotlib.org/</dc:title>\n     </cc:Agent>\n    </dc:creator>\n   </cc:Work>\n  </rdf:RDF>\n </metadata>\n <defs>\n  <style type=\"text/css\">*{stroke-linejoin: round; stroke-linecap: butt}</style>\n </defs>\n <g id=\"figure_1\">\n  <g id=\"patch_1\">\n   <path d=\"M 0 288 \nL 432 288 \nL 432 0 \nL 0 0 \nz\n\" style=\"fill: #ffffff\"/>\n  </g>\n  <g id=\"axes_1\">\n   <g id=\"patch_2\">\n    <path d=\"M 30.121244 273.025354 \nL 424.613596 273.025354 \nL 424.613596 19.634646 \nL 30.121244 19.634646 \nz\n\" style=\"fill: #ffffff\"/>\n   </g>\n   <g id=\"matplotlib.axis_1\">\n    <g id=\"xtick_1\">\n     <g id=\"line2d_1\">\n      <path d=\"M 51.819025 273.025354 \nL 51.819025 19.634646 \n\" clip-path=\"url(#pa2e46d88c4)\" style=\"fill: none; stroke: #000000; stroke-opacity: 0.1; stroke-width: 0.5; stroke-linecap: square\"/>\n     </g>\n     <g id=\"line2d_2\">\n      <defs>\n       <path id=\"m6701eb9f0d\" d=\"M 0 0 \nL 0 -2.5 \n\" style=\"stroke: #000000; stroke-width: 0.5\"/>\n      </defs>\n      <g>\n       <use xlink:href=\"#m6701eb9f0d\" x=\"51.819025\" y=\"273.025354\" style=\"stroke: #000000; stroke-width: 0.5\"/>\n      </g>\n     </g>\n     <g id=\"text_1\">\n      <!-- $350$ -->\n      <g transform=\"translate(44.179025 282.604104)scale(0.08 -0.08)\">\n       <defs>\n        <path id=\"DejaVuSans-33\" d=\"M 2597 2516 \nQ 3050 2419 3304 2112 \nQ 3559 1806 3559 1356 \nQ 3559 666 3084 287 \nQ 2609 -91 1734 -91 \nQ 1441 -91 1130 -33 \nQ 819 25 488 141 \nL 488 750 \nQ 750 597 1062 519 \nQ 1375 441 1716 441 \nQ 2309 441 2620 675 \nQ 2931 909 2931 1356 \nQ 2931 1769 2642 2001 \nQ 2353 2234 1838 2234 \nL 1294 2234 \nL 1294 2753 \nL 1863 2753 \nQ 2328 2753 2575 2939 \nQ 2822 3125 2822 3475 \nQ 2822 3834 2567 4026 \nQ 2313 4219 1838 4219 \nQ 1578 4219 1281 4162 \nQ 984 4106 628 3988 \nL 628 4550 \nQ 988 4650 1302 4700 \nQ 1616 4750 1894 4750 \nQ 2613 4750 3031 4423 \nQ 3450 4097 3450 3541 \nQ 3450 3153 3228 2886 \nQ 3006 2619 2597 2516 \nz\n\" transform=\"scale(0.015625)\"/>\n        <path id=\"DejaVuSans-35\" d=\"M 691 4666 \nL 3169 4666 \nL 3169 4134 \nL 1269 4134 \nL 1269 2991 \nQ 1406 3038 1543 3061 \nQ 1681 3084 1819 3084 \nQ 2600 3084 3056 2656 \nQ 3513 2228 3513 1497 \nQ 3513 744 3044 326 \nQ 2575 -91 1722 -91 \nQ 1428 -91 1123 -41 \nQ 819 9 494 109 \nL 494 744 \nQ 775 591 1075 516 \nQ 1375 441 1709 441 \nQ 2250 441 2565 725 \nQ 2881 1009 2881 1497 \nQ 2881 1984 2565 2268 \nQ 2250 2553 1709 2553 \nQ 1456 2553 1204 2497 \nQ 953 2441 691 2322 \nL 691 4666 \nz\n\" transform=\"scale(0.015625)\"/>\n        <path id=\"DejaVuSans-30\" d=\"M 2034 4250 \nQ 1547 4250 1301 3770 \nQ 1056 3291 1056 2328 \nQ 1056 1369 1301 889 \nQ 1547 409 2034 409 \nQ 2525 409 2770 889 \nQ 3016 1369 3016 2328 \nQ 3016 3291 2770 3770 \nQ 2525 4250 2034 4250 \nz\nM 2034 4750 \nQ 2819 4750 3233 4129 \nQ 3647 3509 3647 2328 \nQ 3647 1150 3233 529 \nQ 2819 -91 2034 -91 \nQ 1250 -91 836 529 \nQ 422 1150 422 2328 \nQ 422 3509 836 4129 \nQ 1250 4750 2034 4750 \nz\n\" transform=\"scale(0.015625)\"/>\n       </defs>\n       <use xlink:href=\"#DejaVuSans-33\" transform=\"translate(0 0.78125)\"/>\n       <use xlink:href=\"#DejaVuSans-35\" transform=\"translate(63.623047 0.78125)\"/>\n       <use xlink:href=\"#DejaVuSans-30\" transform=\"translate(127.246094 0.78125)\"/>\n      </g>\n     </g>\n    </g>\n    <g id=\"xtick_2\">\n     <g id=\"line2d_3\">\n      <path d=\"M 144.212917 273.025354 \nL 144.212917 19.634646 \n\" clip-path=\"url(#pa2e46d88c4)\" style=\"fill: none; stroke: #000000; stroke-opacity: 0.1; stroke-width: 0.5; stroke-linecap: square\"/>\n     </g>\n     <g id=\"line2d_4\">\n      <g>\n       <use xlink:href=\"#m6701eb9f0d\" x=\"144.212917\" y=\"273.025354\" style=\"stroke: #000000; stroke-width: 0.5\"/>\n      </g>\n     </g>\n     <g id=\"text_2\">\n      <!-- $400$ -->\n      <g transform=\"translate(136.572917 282.604104)scale(0.08 -0.08)\">\n       <defs>\n        <path id=\"DejaVuSans-34\" d=\"M 2419 4116 \nL 825 1625 \nL 2419 1625 \nL 2419 4116 \nz\nM 2253 4666 \nL 3047 4666 \nL 3047 1625 \nL 3713 1625 \nL 3713 1100 \nL 3047 1100 \nL 3047 0 \nL 2419 0 \nL 2419 1100 \nL 313 1100 \nL 313 1709 \nL 2253 4666 \nz\n\" transform=\"scale(0.015625)\"/>\n       </defs>\n       <use xlink:href=\"#DejaVuSans-34\" transform=\"translate(0 0.78125)\"/>\n       <use xlink:href=\"#DejaVuSans-30\" transform=\"translate(63.623047 0.78125)\"/>\n       <use xlink:href=\"#DejaVuSans-30\" transform=\"translate(127.246094 0.78125)\"/>\n      </g>\n     </g>\n    </g>\n    <g id=\"xtick_3\">\n     <g id=\"line2d_5\">\n      <path d=\"M 236.606809 273.025354 \nL 236.606809 19.634646 \n\" clip-path=\"url(#pa2e46d88c4)\" style=\"fill: none; stroke: #000000; stroke-opacity: 0.1; stroke-width: 0.5; stroke-linecap: square\"/>\n     </g>\n     <g id=\"line2d_6\">\n      <g>\n       <use xlink:href=\"#m6701eb9f0d\" x=\"236.606809\" y=\"273.025354\" style=\"stroke: #000000; stroke-width: 0.5\"/>\n      </g>\n     </g>\n     <g id=\"text_3\">\n      <!-- $450$ -->\n      <g transform=\"translate(228.966809 282.604104)scale(0.08 -0.08)\">\n       <use xlink:href=\"#DejaVuSans-34\" transform=\"translate(0 0.78125)\"/>\n       <use xlink:href=\"#DejaVuSans-35\" transform=\"translate(63.623047 0.78125)\"/>\n       <use xlink:href=\"#DejaVuSans-30\" transform=\"translate(127.246094 0.78125)\"/>\n      </g>\n     </g>\n    </g>\n    <g id=\"xtick_4\">\n     <g id=\"line2d_7\">\n      <path d=\"M 329.000701 273.025354 \nL 329.000701 19.634646 \n\" clip-path=\"url(#pa2e46d88c4)\" style=\"fill: none; stroke: #000000; stroke-opacity: 0.1; stroke-width: 0.5; stroke-linecap: square\"/>\n     </g>\n     <g id=\"line2d_8\">\n      <g>\n       <use xlink:href=\"#m6701eb9f0d\" x=\"329.000701\" y=\"273.025354\" style=\"stroke: #000000; stroke-width: 0.5\"/>\n      </g>\n     </g>\n     <g id=\"text_4\">\n      <!-- $500$ -->\n      <g transform=\"translate(321.360701 282.604104)scale(0.08 -0.08)\">\n       <use xlink:href=\"#DejaVuSans-35\" transform=\"translate(0 0.78125)\"/>\n       <use xlink:href=\"#DejaVuSans-30\" transform=\"translate(63.623047 0.78125)\"/>\n       <use xlink:href=\"#DejaVuSans-30\" transform=\"translate(127.246094 0.78125)\"/>\n      </g>\n     </g>\n    </g>\n    <g id=\"xtick_5\">\n     <g id=\"line2d_9\">\n      <path d=\"M 421.394593 273.025354 \nL 421.394593 19.634646 \n\" clip-path=\"url(#pa2e46d88c4)\" style=\"fill: none; stroke: #000000; stroke-opacity: 0.1; stroke-width: 0.5; stroke-linecap: square\"/>\n     </g>\n     <g id=\"line2d_10\">\n      <g>\n       <use xlink:href=\"#m6701eb9f0d\" x=\"421.394593\" y=\"273.025354\" style=\"stroke: #000000; stroke-width: 0.5\"/>\n      </g>\n     </g>\n     <g id=\"text_5\">\n      <!-- $550$ -->\n      <g transform=\"translate(413.754593 282.604104)scale(0.08 -0.08)\">\n       <use xlink:href=\"#DejaVuSans-35\" transform=\"translate(0 0.78125)\"/>\n       <use xlink:href=\"#DejaVuSans-35\" transform=\"translate(63.623047 0.78125)\"/>\n       <use xlink:href=\"#DejaVuSans-30\" transform=\"translate(127.246094 0.78125)\"/>\n      </g>\n     </g>\n    </g>\n   </g>\n   <g id=\"matplotlib.axis_2\">\n    <g id=\"ytick_1\">\n     <g id=\"line2d_11\">\n      <path d=\"M 30.121244 265.853919 \nL 424.613596 265.853919 \n\" clip-path=\"url(#pa2e46d88c4)\" style=\"fill: none; stroke: #000000; stroke-opacity: 0.1; stroke-width: 0.5; stroke-linecap: square\"/>\n     </g>\n     <g id=\"line2d_12\">\n      <defs>\n       <path id=\"mf743536ad9\" d=\"M 0 0 \nL 2.5 0 \n\" style=\"stroke: #000000; stroke-width: 0.5\"/>\n      </defs>\n      <g>\n       <use xlink:href=\"#mf743536ad9\" x=\"30.121244\" y=\"265.853919\" style=\"stroke: #000000; stroke-width: 0.5\"/>\n      </g>\n     </g>\n     <g id=\"text_6\">\n      <!-- $0.000$ -->\n      <g transform=\"translate(3.661244 268.893294)scale(0.08 -0.08)\">\n       <defs>\n        <path id=\"DejaVuSans-2e\" d=\"M 684 794 \nL 1344 794 \nL 1344 0 \nL 684 0 \nL 684 794 \nz\n\" transform=\"scale(0.015625)\"/>\n       </defs>\n       <use xlink:href=\"#DejaVuSans-30\" transform=\"translate(0 0.78125)\"/>\n       <use xlink:href=\"#DejaVuSans-2e\" transform=\"translate(63.623047 0.78125)\"/>\n       <use xlink:href=\"#DejaVuSans-30\" transform=\"translate(95.410156 0.78125)\"/>\n       <use xlink:href=\"#DejaVuSans-30\" transform=\"translate(159.033203 0.78125)\"/>\n       <use xlink:href=\"#DejaVuSans-30\" transform=\"translate(222.65625 0.78125)\"/>\n      </g>\n     </g>\n    </g>\n    <g id=\"ytick_2\">\n     <g id=\"line2d_13\">\n      <path d=\"M 30.121244 198.203381 \nL 424.613596 198.203381 \n\" clip-path=\"url(#pa2e46d88c4)\" style=\"fill: none; stroke: #000000; stroke-opacity: 0.1; stroke-width: 0.5; stroke-linecap: square\"/>\n     </g>\n     <g id=\"line2d_14\">\n      <g>\n       <use xlink:href=\"#mf743536ad9\" x=\"30.121244\" y=\"198.203381\" style=\"stroke: #000000; stroke-width: 0.5\"/>\n      </g>\n     </g>\n     <g id=\"text_7\">\n      <!-- $0.005$ -->\n      <g transform=\"translate(3.661244 201.242756)scale(0.08 -0.08)\">\n       <use xlink:href=\"#DejaVuSans-30\" transform=\"translate(0 0.78125)\"/>\n       <use xlink:href=\"#DejaVuSans-2e\" transform=\"translate(63.623047 0.78125)\"/>\n       <use xlink:href=\"#DejaVuSans-30\" transform=\"translate(95.410156 0.78125)\"/>\n       <use xlink:href=\"#DejaVuSans-30\" transform=\"translate(159.033203 0.78125)\"/>\n       <use xlink:href=\"#DejaVuSans-35\" transform=\"translate(222.65625 0.78125)\"/>\n      </g>\n     </g>\n    </g>\n    <g id=\"ytick_3\">\n     <g id=\"line2d_15\">\n      <path d=\"M 30.121244 130.552843 \nL 424.613596 130.552843 \n\" clip-path=\"url(#pa2e46d88c4)\" style=\"fill: none; stroke: #000000; stroke-opacity: 0.1; stroke-width: 0.5; stroke-linecap: square\"/>\n     </g>\n     <g id=\"line2d_16\">\n      <g>\n       <use xlink:href=\"#mf743536ad9\" x=\"30.121244\" y=\"130.552843\" style=\"stroke: #000000; stroke-width: 0.5\"/>\n      </g>\n     </g>\n     <g id=\"text_8\">\n      <!-- $0.010$ -->\n      <g transform=\"translate(3.661244 133.592218)scale(0.08 -0.08)\">\n       <defs>\n        <path id=\"DejaVuSans-31\" d=\"M 794 531 \nL 1825 531 \nL 1825 4091 \nL 703 3866 \nL 703 4441 \nL 1819 4666 \nL 2450 4666 \nL 2450 531 \nL 3481 531 \nL 3481 0 \nL 794 0 \nL 794 531 \nz\n\" transform=\"scale(0.015625)\"/>\n       </defs>\n       <use xlink:href=\"#DejaVuSans-30\" transform=\"translate(0 0.78125)\"/>\n       <use xlink:href=\"#DejaVuSans-2e\" transform=\"translate(63.623047 0.78125)\"/>\n       <use xlink:href=\"#DejaVuSans-30\" transform=\"translate(95.410156 0.78125)\"/>\n       <use xlink:href=\"#DejaVuSans-31\" transform=\"translate(159.033203 0.78125)\"/>\n       <use xlink:href=\"#DejaVuSans-30\" transform=\"translate(222.65625 0.78125)\"/>\n      </g>\n     </g>\n    </g>\n    <g id=\"ytick_4\">\n     <g id=\"line2d_17\">\n      <path d=\"M 30.121244 62.902304 \nL 424.613596 62.902304 \n\" clip-path=\"url(#pa2e46d88c4)\" style=\"fill: none; stroke: #000000; stroke-opacity: 0.1; stroke-width: 0.5; stroke-linecap: square\"/>\n     </g>\n     <g id=\"line2d_18\">\n      <g>\n       <use xlink:href=\"#mf743536ad9\" x=\"30.121244\" y=\"62.902304\" style=\"stroke: #000000; stroke-width: 0.5\"/>\n      </g>\n     </g>\n     <g id=\"text_9\">\n      <!-- $0.015$ -->\n      <g transform=\"translate(3.661244 65.941679)scale(0.08 -0.08)\">\n       <use xlink:href=\"#DejaVuSans-30\" transform=\"translate(0 0.78125)\"/>\n       <use xlink:href=\"#DejaVuSans-2e\" transform=\"translate(63.623047 0.78125)\"/>\n       <use xlink:href=\"#DejaVuSans-30\" transform=\"translate(95.410156 0.78125)\"/>\n       <use xlink:href=\"#DejaVuSans-31\" transform=\"translate(159.033203 0.78125)\"/>\n       <use xlink:href=\"#DejaVuSans-35\" transform=\"translate(222.65625 0.78125)\"/>\n      </g>\n     </g>\n    </g>\n   </g>\n   <g id=\"patch_3\">\n    <path d=\"M 51.819025 26.806081 \nL 51.819025 265.853919 \nL 70.297804 265.853919 \nL 70.297804 26.806081 \nL 51.819025 26.806081 \n\" clip-path=\"url(#pa2e46d88c4)\" style=\"fill: #808080; fill-opacity: 0.5\"/>\n   </g>\n   <g id=\"patch_4\">\n    <path d=\"M 70.297804 88.275525 \nL 70.297804 265.853919 \nL 88.776582 265.853919 \nL 88.776582 88.275525 \nL 70.297804 88.275525 \n\" clip-path=\"url(#pa2e46d88c4)\" style=\"fill: #808080; fill-opacity: 0.5\"/>\n   </g>\n   <g id=\"patch_5\">\n    <path d=\"M 88.776582 114.912284 \nL 88.776582 265.853919 \nL 107.25536 265.853919 \nL 107.25536 114.912284 \nL 88.776582 114.912284 \n\" clip-path=\"url(#pa2e46d88c4)\" style=\"fill: #808080; fill-opacity: 0.5\"/>\n   </g>\n   <g id=\"patch_6\">\n    <path d=\"M 107.25536 149.061975 \nL 107.25536 265.853919 \nL 125.734139 265.853919 \nL 125.734139 149.061975 \nL 107.25536 149.061975 \n\" clip-path=\"url(#pa2e46d88c4)\" style=\"fill: #808080; fill-opacity: 0.5\"/>\n   </g>\n   <g id=\"patch_7\">\n    <path d=\"M 125.734139 119.010247 \nL 125.734139 265.853919 \nL 144.212917 265.853919 \nL 144.212917 119.010247 \nL 125.734139 119.010247 \n\" clip-path=\"url(#pa2e46d88c4)\" style=\"fill: #808080; fill-opacity: 0.5\"/>\n   </g>\n   <g id=\"patch_8\">\n    <path d=\"M 144.212917 149.744969 \nL 144.212917 265.853919 \nL 162.691695 265.853919 \nL 162.691695 149.744969 \nL 144.212917 149.744969 \n\" clip-path=\"url(#pa2e46d88c4)\" style=\"fill: #808080; fill-opacity: 0.5\"/>\n   </g>\n   <g id=\"patch_9\">\n    <path d=\"M 162.691695 195.505555 \nL 162.691695 265.853919 \nL 181.170474 265.853919 \nL 181.170474 195.505555 \nL 162.691695 195.505555 \n\" clip-path=\"url(#pa2e46d88c4)\" style=\"fill: #808080; fill-opacity: 0.5\"/>\n   </g>\n   <g id=\"patch_10\">\n    <path d=\"M 181.170474 178.43071 \nL 181.170474 265.853919 \nL 199.649252 265.853919 \nL 199.649252 178.43071 \nL 181.170474 178.43071 \n\" clip-path=\"url(#pa2e46d88c4)\" style=\"fill: #808080; fill-opacity: 0.5\"/>\n   </g>\n   <g id=\"patch_11\">\n    <path d=\"M 199.649252 209.165432 \nL 199.649252 265.853919 \nL 218.128031 265.853919 \nL 218.128031 209.165432 \nL 199.649252 209.165432 \n\" clip-path=\"url(#pa2e46d88c4)\" style=\"fill: #808080; fill-opacity: 0.5\"/>\n   </g>\n   <g id=\"patch_12\">\n    <path d=\"M 218.128031 217.361358 \nL 218.128031 265.853919 \nL 236.606809 265.853919 \nL 236.606809 217.361358 \nL 218.128031 217.361358 \n\" clip-path=\"url(#pa2e46d88c4)\" style=\"fill: #808080; fill-opacity: 0.5\"/>\n   </g>\n   <g id=\"patch_13\">\n    <path d=\"M 236.606809 232.387222 \nL 236.606809 265.853919 \nL 255.085587 265.853919 \nL 255.085587 232.387222 \nL 236.606809 232.387222 \n\" clip-path=\"url(#pa2e46d88c4)\" style=\"fill: #808080; fill-opacity: 0.5\"/>\n   </g>\n   <g id=\"patch_14\">\n    <path d=\"M 255.085587 219.410339 \nL 255.085587 265.853919 \nL 273.564366 265.853919 \nL 273.564366 219.410339 \nL 255.085587 219.410339 \n\" clip-path=\"url(#pa2e46d88c4)\" style=\"fill: #808080; fill-opacity: 0.5\"/>\n   </g>\n   <g id=\"patch_15\">\n    <path d=\"M 273.564366 242.632129 \nL 273.564366 265.853919 \nL 292.043144 265.853919 \nL 292.043144 242.632129 \nL 273.564366 242.632129 \n\" clip-path=\"url(#pa2e46d88c4)\" style=\"fill: #808080; fill-opacity: 0.5\"/>\n   </g>\n   <g id=\"patch_16\">\n    <path d=\"M 292.043144 250.828055 \nL 292.043144 265.853919 \nL 310.521922 265.853919 \nL 310.521922 250.828055 \nL 292.043144 250.828055 \n\" clip-path=\"url(#pa2e46d88c4)\" style=\"fill: #808080; fill-opacity: 0.5\"/>\n   </g>\n   <g id=\"patch_17\">\n    <path d=\"M 310.521922 257.657993 \nL 310.521922 265.853919 \nL 329.000701 265.853919 \nL 329.000701 257.657993 \nL 310.521922 257.657993 \n\" clip-path=\"url(#pa2e46d88c4)\" style=\"fill: #808080; fill-opacity: 0.5\"/>\n   </g>\n   <g id=\"patch_18\">\n    <path d=\"M 329.000701 259.023981 \nL 329.000701 265.853919 \nL 347.479479 265.853919 \nL 347.479479 259.023981 \nL 329.000701 259.023981 \n\" clip-path=\"url(#pa2e46d88c4)\" style=\"fill: #808080; fill-opacity: 0.5\"/>\n   </g>\n   <g id=\"patch_19\">\n    <path d=\"M 347.479479 258.340987 \nL 347.479479 265.853919 \nL 365.958258 265.853919 \nL 365.958258 258.340987 \nL 347.479479 258.340987 \n\" clip-path=\"url(#pa2e46d88c4)\" style=\"fill: #808080; fill-opacity: 0.5\"/>\n   </g>\n   <g id=\"patch_20\">\n    <path d=\"M 365.958258 265.853919 \nL 365.958258 265.853919 \nL 384.437036 265.853919 \nL 384.437036 265.853919 \nL 365.958258 265.853919 \n\" clip-path=\"url(#pa2e46d88c4)\" style=\"fill: #808080; fill-opacity: 0.5\"/>\n   </g>\n   <g id=\"patch_21\">\n    <path d=\"M 384.437036 263.804938 \nL 384.437036 265.853919 \nL 402.915814 265.853919 \nL 402.915814 263.804938 \nL 384.437036 263.804938 \n\" clip-path=\"url(#pa2e46d88c4)\" style=\"fill: #808080; fill-opacity: 0.5\"/>\n   </g>\n   <g id=\"PathCollection_1\">\n    <defs>\n     <path id=\"m6484df6048\" d=\"M 0 0 \nC 0 0 0 0 0 0 \nC 0 0 0 0 0 0 \nC 0 0 0 0 0 0 \nC 0 0 0 0 0 0 \nC 0 0 0 0 0 0 \nC 0 0 0 0 0 0 \nC 0 0 0 0 0 0 \nC 0 0 0 0 0 0 \nz\n\" style=\"stroke: #000000; stroke-opacity: 0\"/>\n    </defs>\n    <g clip-path=\"url(#pa2e46d88c4)\">\n     <use xlink:href=\"#m6484df6048\" x=\"61.058414\" y=\"26.806081\" style=\"fill: #808080; fill-opacity: 0; stroke: #000000; stroke-opacity: 0\"/>\n     <use xlink:href=\"#m6484df6048\" x=\"79.537193\" y=\"88.275525\" style=\"fill: #808080; fill-opacity: 0; stroke: #000000; stroke-opacity: 0\"/>\n     <use xlink:href=\"#m6484df6048\" x=\"98.015971\" y=\"114.912284\" style=\"fill: #808080; fill-opacity: 0; stroke: #000000; stroke-opacity: 0\"/>\n     <use xlink:href=\"#m6484df6048\" x=\"116.494749\" y=\"149.061975\" style=\"fill: #808080; fill-opacity: 0; stroke: #000000; stroke-opacity: 0\"/>\n     <use xlink:href=\"#m6484df6048\" x=\"134.973528\" y=\"119.010247\" style=\"fill: #808080; fill-opacity: 0; stroke: #000000; stroke-opacity: 0\"/>\n     <use xlink:href=\"#m6484df6048\" x=\"153.452306\" y=\"149.744969\" style=\"fill: #808080; fill-opacity: 0; stroke: #000000; stroke-opacity: 0\"/>\n     <use xlink:href=\"#m6484df6048\" x=\"171.931085\" y=\"195.505555\" style=\"fill: #808080; fill-opacity: 0; stroke: #000000; stroke-opacity: 0\"/>\n     <use xlink:href=\"#m6484df6048\" x=\"190.409863\" y=\"178.43071\" style=\"fill: #808080; fill-opacity: 0; stroke: #000000; stroke-opacity: 0\"/>\n     <use xlink:href=\"#m6484df6048\" x=\"208.888641\" y=\"209.165432\" style=\"fill: #808080; fill-opacity: 0; stroke: #000000; stroke-opacity: 0\"/>\n     <use xlink:href=\"#m6484df6048\" x=\"227.36742\" y=\"217.361358\" style=\"fill: #808080; fill-opacity: 0; stroke: #000000; stroke-opacity: 0\"/>\n     <use xlink:href=\"#m6484df6048\" x=\"245.846198\" y=\"232.387222\" style=\"fill: #808080; fill-opacity: 0; stroke: #000000; stroke-opacity: 0\"/>\n     <use xlink:href=\"#m6484df6048\" x=\"264.324976\" y=\"219.410339\" style=\"fill: #808080; fill-opacity: 0; stroke: #000000; stroke-opacity: 0\"/>\n     <use xlink:href=\"#m6484df6048\" x=\"282.803755\" y=\"242.632129\" style=\"fill: #808080; fill-opacity: 0; stroke: #000000; stroke-opacity: 0\"/>\n     <use xlink:href=\"#m6484df6048\" x=\"301.282533\" y=\"250.828055\" style=\"fill: #808080; fill-opacity: 0; stroke: #000000; stroke-opacity: 0\"/>\n     <use xlink:href=\"#m6484df6048\" x=\"319.761312\" y=\"257.657993\" style=\"fill: #808080; fill-opacity: 0; stroke: #000000; stroke-opacity: 0\"/>\n     <use xlink:href=\"#m6484df6048\" x=\"338.24009\" y=\"259.023981\" style=\"fill: #808080; fill-opacity: 0; stroke: #000000; stroke-opacity: 0\"/>\n     <use xlink:href=\"#m6484df6048\" x=\"356.718868\" y=\"258.340987\" style=\"fill: #808080; fill-opacity: 0; stroke: #000000; stroke-opacity: 0\"/>\n     <use xlink:href=\"#m6484df6048\" x=\"375.197647\" y=\"265.853919\" style=\"fill: #808080; fill-opacity: 0; stroke: #000000; stroke-opacity: 0\"/>\n     <use xlink:href=\"#m6484df6048\" x=\"393.676425\" y=\"263.804938\" style=\"fill: #808080; fill-opacity: 0; stroke: #000000; stroke-opacity: 0\"/>\n    </g>\n   </g>\n   <g id=\"patch_22\">\n    <path d=\"M 30.121244 273.025354 \nL 30.121244 19.634646 \n\" style=\"fill: none; stroke: #000000; stroke-linejoin: miter; stroke-linecap: square\"/>\n   </g>\n   <g id=\"patch_23\">\n    <path d=\"M 30.121244 273.025354 \nL 424.613596 273.025354 \n\" style=\"fill: none; stroke: #000000; stroke-linejoin: miter; stroke-linecap: square\"/>\n   </g>\n   <g id=\"text_10\">\n    <!-- Demonstration of sampling from distribution -->\n    <g transform=\"translate(71.375701 13.634646)scale(0.14 -0.14)\">\n     <defs>\n      <path id=\"DejaVuSans-44\" d=\"M 1259 4147 \nL 1259 519 \nL 2022 519 \nQ 2988 519 3436 956 \nQ 3884 1394 3884 2338 \nQ 3884 3275 3436 3711 \nQ 2988 4147 2022 4147 \nL 1259 4147 \nz\nM 628 4666 \nL 1925 4666 \nQ 3281 4666 3915 4102 \nQ 4550 3538 4550 2338 \nQ 4550 1131 3912 565 \nQ 3275 0 1925 0 \nL 628 0 \nL 628 4666 \nz\n\" transform=\"scale(0.015625)\"/>\n      <path id=\"DejaVuSans-65\" d=\"M 3597 1894 \nL 3597 1613 \nL 953 1613 \nQ 991 1019 1311 708 \nQ 1631 397 2203 397 \nQ 2534 397 2845 478 \nQ 3156 559 3463 722 \nL 3463 178 \nQ 3153 47 2828 -22 \nQ 2503 -91 2169 -91 \nQ 1331 -91 842 396 \nQ 353 884 353 1716 \nQ 353 2575 817 3079 \nQ 1281 3584 2069 3584 \nQ 2775 3584 3186 3129 \nQ 3597 2675 3597 1894 \nz\nM 3022 2063 \nQ 3016 2534 2758 2815 \nQ 2500 3097 2075 3097 \nQ 1594 3097 1305 2825 \nQ 1016 2553 972 2059 \nL 3022 2063 \nz\n\" transform=\"scale(0.015625)\"/>\n      <path id=\"DejaVuSans-6d\" d=\"M 3328 2828 \nQ 3544 3216 3844 3400 \nQ 4144 3584 4550 3584 \nQ 5097 3584 5394 3201 \nQ 5691 2819 5691 2113 \nL 5691 0 \nL 5113 0 \nL 5113 2094 \nQ 5113 2597 4934 2840 \nQ 4756 3084 4391 3084 \nQ 3944 3084 3684 2787 \nQ 3425 2491 3425 1978 \nL 3425 0 \nL 2847 0 \nL 2847 2094 \nQ 2847 2600 2669 2842 \nQ 2491 3084 2119 3084 \nQ 1678 3084 1418 2786 \nQ 1159 2488 1159 1978 \nL 1159 0 \nL 581 0 \nL 581 3500 \nL 1159 3500 \nL 1159 2956 \nQ 1356 3278 1631 3431 \nQ 1906 3584 2284 3584 \nQ 2666 3584 2933 3390 \nQ 3200 3197 3328 2828 \nz\n\" transform=\"scale(0.015625)\"/>\n      <path id=\"DejaVuSans-6f\" d=\"M 1959 3097 \nQ 1497 3097 1228 2736 \nQ 959 2375 959 1747 \nQ 959 1119 1226 758 \nQ 1494 397 1959 397 \nQ 2419 397 2687 759 \nQ 2956 1122 2956 1747 \nQ 2956 2369 2687 2733 \nQ 2419 3097 1959 3097 \nz\nM 1959 3584 \nQ 2709 3584 3137 3096 \nQ 3566 2609 3566 1747 \nQ 3566 888 3137 398 \nQ 2709 -91 1959 -91 \nQ 1206 -91 779 398 \nQ 353 888 353 1747 \nQ 353 2609 779 3096 \nQ 1206 3584 1959 3584 \nz\n\" transform=\"scale(0.015625)\"/>\n      <path id=\"DejaVuSans-6e\" d=\"M 3513 2113 \nL 3513 0 \nL 2938 0 \nL 2938 2094 \nQ 2938 2591 2744 2837 \nQ 2550 3084 2163 3084 \nQ 1697 3084 1428 2787 \nQ 1159 2491 1159 1978 \nL 1159 0 \nL 581 0 \nL 581 3500 \nL 1159 3500 \nL 1159 2956 \nQ 1366 3272 1645 3428 \nQ 1925 3584 2291 3584 \nQ 2894 3584 3203 3211 \nQ 3513 2838 3513 2113 \nz\n\" transform=\"scale(0.015625)\"/>\n      <path id=\"DejaVuSans-73\" d=\"M 2834 3397 \nL 2834 2853 \nQ 2591 2978 2328 3040 \nQ 2066 3103 1784 3103 \nQ 1356 3103 1142 2972 \nQ 928 2841 928 2578 \nQ 928 2378 1081 2264 \nQ 1234 2150 1697 2047 \nL 1894 2003 \nQ 2506 1872 2764 1633 \nQ 3022 1394 3022 966 \nQ 3022 478 2636 193 \nQ 2250 -91 1575 -91 \nQ 1294 -91 989 -36 \nQ 684 19 347 128 \nL 347 722 \nQ 666 556 975 473 \nQ 1284 391 1588 391 \nQ 1994 391 2212 530 \nQ 2431 669 2431 922 \nQ 2431 1156 2273 1281 \nQ 2116 1406 1581 1522 \nL 1381 1569 \nQ 847 1681 609 1914 \nQ 372 2147 372 2553 \nQ 372 3047 722 3315 \nQ 1072 3584 1716 3584 \nQ 2034 3584 2315 3537 \nQ 2597 3491 2834 3397 \nz\n\" transform=\"scale(0.015625)\"/>\n      <path id=\"DejaVuSans-74\" d=\"M 1172 4494 \nL 1172 3500 \nL 2356 3500 \nL 2356 3053 \nL 1172 3053 \nL 1172 1153 \nQ 1172 725 1289 603 \nQ 1406 481 1766 481 \nL 2356 481 \nL 2356 0 \nL 1766 0 \nQ 1100 0 847 248 \nQ 594 497 594 1153 \nL 594 3053 \nL 172 3053 \nL 172 3500 \nL 594 3500 \nL 594 4494 \nL 1172 4494 \nz\n\" transform=\"scale(0.015625)\"/>\n      <path id=\"DejaVuSans-72\" d=\"M 2631 2963 \nQ 2534 3019 2420 3045 \nQ 2306 3072 2169 3072 \nQ 1681 3072 1420 2755 \nQ 1159 2438 1159 1844 \nL 1159 0 \nL 581 0 \nL 581 3500 \nL 1159 3500 \nL 1159 2956 \nQ 1341 3275 1631 3429 \nQ 1922 3584 2338 3584 \nQ 2397 3584 2469 3576 \nQ 2541 3569 2628 3553 \nL 2631 2963 \nz\n\" transform=\"scale(0.015625)\"/>\n      <path id=\"DejaVuSans-61\" d=\"M 2194 1759 \nQ 1497 1759 1228 1600 \nQ 959 1441 959 1056 \nQ 959 750 1161 570 \nQ 1363 391 1709 391 \nQ 2188 391 2477 730 \nQ 2766 1069 2766 1631 \nL 2766 1759 \nL 2194 1759 \nz\nM 3341 1997 \nL 3341 0 \nL 2766 0 \nL 2766 531 \nQ 2569 213 2275 61 \nQ 1981 -91 1556 -91 \nQ 1019 -91 701 211 \nQ 384 513 384 1019 \nQ 384 1609 779 1909 \nQ 1175 2209 1959 2209 \nL 2766 2209 \nL 2766 2266 \nQ 2766 2663 2505 2880 \nQ 2244 3097 1772 3097 \nQ 1472 3097 1187 3025 \nQ 903 2953 641 2809 \nL 641 3341 \nQ 956 3463 1253 3523 \nQ 1550 3584 1831 3584 \nQ 2591 3584 2966 3190 \nQ 3341 2797 3341 1997 \nz\n\" transform=\"scale(0.015625)\"/>\n      <path id=\"DejaVuSans-69\" d=\"M 603 3500 \nL 1178 3500 \nL 1178 0 \nL 603 0 \nL 603 3500 \nz\nM 603 4863 \nL 1178 4863 \nL 1178 4134 \nL 603 4134 \nL 603 4863 \nz\n\" transform=\"scale(0.015625)\"/>\n      <path id=\"DejaVuSans-20\" transform=\"scale(0.015625)\"/>\n      <path id=\"DejaVuSans-66\" d=\"M 2375 4863 \nL 2375 4384 \nL 1825 4384 \nQ 1516 4384 1395 4259 \nQ 1275 4134 1275 3809 \nL 1275 3500 \nL 2222 3500 \nL 2222 3053 \nL 1275 3053 \nL 1275 0 \nL 697 0 \nL 697 3053 \nL 147 3053 \nL 147 3500 \nL 697 3500 \nL 697 3744 \nQ 697 4328 969 4595 \nQ 1241 4863 1831 4863 \nL 2375 4863 \nz\n\" transform=\"scale(0.015625)\"/>\n      <path id=\"DejaVuSans-70\" d=\"M 1159 525 \nL 1159 -1331 \nL 581 -1331 \nL 581 3500 \nL 1159 3500 \nL 1159 2969 \nQ 1341 3281 1617 3432 \nQ 1894 3584 2278 3584 \nQ 2916 3584 3314 3078 \nQ 3713 2572 3713 1747 \nQ 3713 922 3314 415 \nQ 2916 -91 2278 -91 \nQ 1894 -91 1617 61 \nQ 1341 213 1159 525 \nz\nM 3116 1747 \nQ 3116 2381 2855 2742 \nQ 2594 3103 2138 3103 \nQ 1681 3103 1420 2742 \nQ 1159 2381 1159 1747 \nQ 1159 1113 1420 752 \nQ 1681 391 2138 391 \nQ 2594 391 2855 752 \nQ 3116 1113 3116 1747 \nz\n\" transform=\"scale(0.015625)\"/>\n      <path id=\"DejaVuSans-6c\" d=\"M 603 4863 \nL 1178 4863 \nL 1178 0 \nL 603 0 \nL 603 4863 \nz\n\" transform=\"scale(0.015625)\"/>\n      <path id=\"DejaVuSans-67\" d=\"M 2906 1791 \nQ 2906 2416 2648 2759 \nQ 2391 3103 1925 3103 \nQ 1463 3103 1205 2759 \nQ 947 2416 947 1791 \nQ 947 1169 1205 825 \nQ 1463 481 1925 481 \nQ 2391 481 2648 825 \nQ 2906 1169 2906 1791 \nz\nM 3481 434 \nQ 3481 -459 3084 -895 \nQ 2688 -1331 1869 -1331 \nQ 1566 -1331 1297 -1286 \nQ 1028 -1241 775 -1147 \nL 775 -588 \nQ 1028 -725 1275 -790 \nQ 1522 -856 1778 -856 \nQ 2344 -856 2625 -561 \nQ 2906 -266 2906 331 \nL 2906 616 \nQ 2728 306 2450 153 \nQ 2172 0 1784 0 \nQ 1141 0 747 490 \nQ 353 981 353 1791 \nQ 353 2603 747 3093 \nQ 1141 3584 1784 3584 \nQ 2172 3584 2450 3431 \nQ 2728 3278 2906 2969 \nL 2906 3500 \nL 3481 3500 \nL 3481 434 \nz\n\" transform=\"scale(0.015625)\"/>\n      <path id=\"DejaVuSans-64\" d=\"M 2906 2969 \nL 2906 4863 \nL 3481 4863 \nL 3481 0 \nL 2906 0 \nL 2906 525 \nQ 2725 213 2448 61 \nQ 2172 -91 1784 -91 \nQ 1150 -91 751 415 \nQ 353 922 353 1747 \nQ 353 2572 751 3078 \nQ 1150 3584 1784 3584 \nQ 2172 3584 2448 3432 \nQ 2725 3281 2906 2969 \nz\nM 947 1747 \nQ 947 1113 1208 752 \nQ 1469 391 1925 391 \nQ 2381 391 2643 752 \nQ 2906 1113 2906 1747 \nQ 2906 2381 2643 2742 \nQ 2381 3103 1925 3103 \nQ 1469 3103 1208 2742 \nQ 947 2381 947 1747 \nz\n\" transform=\"scale(0.015625)\"/>\n      <path id=\"DejaVuSans-62\" d=\"M 3116 1747 \nQ 3116 2381 2855 2742 \nQ 2594 3103 2138 3103 \nQ 1681 3103 1420 2742 \nQ 1159 2381 1159 1747 \nQ 1159 1113 1420 752 \nQ 1681 391 2138 391 \nQ 2594 391 2855 752 \nQ 3116 1113 3116 1747 \nz\nM 1159 2969 \nQ 1341 3281 1617 3432 \nQ 1894 3584 2278 3584 \nQ 2916 3584 3314 3078 \nQ 3713 2572 3713 1747 \nQ 3713 922 3314 415 \nQ 2916 -91 2278 -91 \nQ 1894 -91 1617 61 \nQ 1341 213 1159 525 \nL 1159 0 \nL 581 0 \nL 581 4863 \nL 1159 4863 \nL 1159 2969 \nz\n\" transform=\"scale(0.015625)\"/>\n      <path id=\"DejaVuSans-75\" d=\"M 544 1381 \nL 544 3500 \nL 1119 3500 \nL 1119 1403 \nQ 1119 906 1312 657 \nQ 1506 409 1894 409 \nQ 2359 409 2629 706 \nQ 2900 1003 2900 1516 \nL 2900 3500 \nL 3475 3500 \nL 3475 0 \nL 2900 0 \nL 2900 538 \nQ 2691 219 2414 64 \nQ 2138 -91 1772 -91 \nQ 1169 -91 856 284 \nQ 544 659 544 1381 \nz\nM 1991 3584 \nL 1991 3584 \nz\n\" transform=\"scale(0.015625)\"/>\n     </defs>\n     <use xlink:href=\"#DejaVuSans-44\"/>\n     <use xlink:href=\"#DejaVuSans-65\" x=\"77.001953\"/>\n     <use xlink:href=\"#DejaVuSans-6d\" x=\"138.525391\"/>\n     <use xlink:href=\"#DejaVuSans-6f\" x=\"235.9375\"/>\n     <use xlink:href=\"#DejaVuSans-6e\" x=\"297.119141\"/>\n     <use xlink:href=\"#DejaVuSans-73\" x=\"360.498047\"/>\n     <use xlink:href=\"#DejaVuSans-74\" x=\"412.597656\"/>\n     <use xlink:href=\"#DejaVuSans-72\" x=\"451.806641\"/>\n     <use xlink:href=\"#DejaVuSans-61\" x=\"492.919922\"/>\n     <use xlink:href=\"#DejaVuSans-74\" x=\"554.199219\"/>\n     <use xlink:href=\"#DejaVuSans-69\" x=\"593.408203\"/>\n     <use xlink:href=\"#DejaVuSans-6f\" x=\"621.191406\"/>\n     <use xlink:href=\"#DejaVuSans-6e\" x=\"682.373047\"/>\n     <use xlink:href=\"#DejaVuSans-20\" x=\"745.751953\"/>\n     <use xlink:href=\"#DejaVuSans-6f\" x=\"777.539062\"/>\n     <use xlink:href=\"#DejaVuSans-66\" x=\"838.720703\"/>\n     <use xlink:href=\"#DejaVuSans-20\" x=\"873.925781\"/>\n     <use xlink:href=\"#DejaVuSans-73\" x=\"905.712891\"/>\n     <use xlink:href=\"#DejaVuSans-61\" x=\"957.8125\"/>\n     <use xlink:href=\"#DejaVuSans-6d\" x=\"1019.091797\"/>\n     <use xlink:href=\"#DejaVuSans-70\" x=\"1116.503906\"/>\n     <use xlink:href=\"#DejaVuSans-6c\" x=\"1179.980469\"/>\n     <use xlink:href=\"#DejaVuSans-69\" x=\"1207.763672\"/>\n     <use xlink:href=\"#DejaVuSans-6e\" x=\"1235.546875\"/>\n     <use xlink:href=\"#DejaVuSans-67\" x=\"1298.925781\"/>\n     <use xlink:href=\"#DejaVuSans-20\" x=\"1362.402344\"/>\n     <use xlink:href=\"#DejaVuSans-66\" x=\"1394.189453\"/>\n     <use xlink:href=\"#DejaVuSans-72\" x=\"1429.394531\"/>\n     <use xlink:href=\"#DejaVuSans-6f\" x=\"1468.257812\"/>\n     <use xlink:href=\"#DejaVuSans-6d\" x=\"1529.439453\"/>\n     <use xlink:href=\"#DejaVuSans-20\" x=\"1626.851562\"/>\n     <use xlink:href=\"#DejaVuSans-64\" x=\"1658.638672\"/>\n     <use xlink:href=\"#DejaVuSans-69\" x=\"1722.115234\"/>\n     <use xlink:href=\"#DejaVuSans-73\" x=\"1749.898438\"/>\n     <use xlink:href=\"#DejaVuSans-74\" x=\"1801.998047\"/>\n     <use xlink:href=\"#DejaVuSans-72\" x=\"1841.207031\"/>\n     <use xlink:href=\"#DejaVuSans-69\" x=\"1882.320312\"/>\n     <use xlink:href=\"#DejaVuSans-62\" x=\"1910.103516\"/>\n     <use xlink:href=\"#DejaVuSans-75\" x=\"1973.580078\"/>\n     <use xlink:href=\"#DejaVuSans-74\" x=\"2036.958984\"/>\n     <use xlink:href=\"#DejaVuSans-69\" x=\"2076.167969\"/>\n     <use xlink:href=\"#DejaVuSans-6f\" x=\"2103.951172\"/>\n     <use xlink:href=\"#DejaVuSans-6e\" x=\"2165.132812\"/>\n    </g>\n   </g>\n  </g>\n </g>\n <defs>\n  <clipPath id=\"pa2e46d88c4\">\n   <rect x=\"30.121244\" y=\"19.634646\" width=\"394.492352\" height=\"253.390709\"/>\n  </clipPath>\n </defs>\n</svg>\n",
      "text/html": [
       "<img src=\"data:image/png;base64,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\" />"
      ]
     },
     "metadata": {},
     "output_type": "display_data"
    }
   ],
   "source": [
    "pyplot()\n",
    "\n",
    "histogram(target_data[target_data .< 550.0], normed = true,\n",
    "                    bins = 25,\n",
    "                    title = \"Demonstration of sampling from distribution\",\n",
    "                    alpha = 0.5,\n",
    "                    bar_width = 10,\n",
    "                    linewidth = 0,\n",
    "                    color = \"gray\" ,\n",
    "                    label = \"\"\n",
    "                    )\n",
    "\n",
    "#= v_test = collect(1:1:550)\n",
    "plot!(v_test, map(v -> powerlaw_PDF(v,[550.0,3.0]) , v_test) ,\n",
    "                    linewidth = 2,\n",
    "                    #color = \"red\",\n",
    "                    label = L\"v_{esc}=550,~k=3\"\n",
    "                    ) =#"
   ]
  },
  {
   "cell_type": "code",
   "execution_count": null,
   "metadata": {},
   "outputs": [],
   "source": [
    "#target_data_err = verrcut.*target_data\n",
    "target_data_err'"
   ]
  },
  {
   "cell_type": "code",
   "execution_count": null,
   "metadata": {},
   "outputs": [],
   "source": [
    "target_data'"
   ]
  },
  {
   "cell_type": "code",
   "execution_count": 7,
   "metadata": {},
   "outputs": [
    {
     "data": {
      "text/plain": [
       "1×2000 adjoint(::Vector{Float64}) with eltype Float64:\n",
       " 365.127  434.785  356.71  373.577  …  372.713  378.784  425.177  451.796"
      ]
     },
     "metadata": {},
     "output_type": "display_data"
    }
   ],
   "source": [
    "mask = target_data .> vmin\n",
    "target_data = target_data[mask]\n",
    "target_data_err = target_data_err[mask];\n",
    "target_data'"
   ]
  },
  {
   "cell_type": "markdown",
   "metadata": {},
   "source": [
    "# Define MCMC functions and parameters"
   ]
  },
  {
   "cell_type": "code",
   "execution_count": 8,
   "metadata": {},
   "outputs": [
    {
     "data": {
      "text/plain": [
       "lnprob (generic function with 10 methods)"
      ]
     },
     "metadata": {},
     "output_type": "display_data"
    }
   ],
   "source": [
    "include(\"functions_MCMC.jl\")"
   ]
  },
  {
   "cell_type": "markdown",
   "metadata": {},
   "source": [
    "# Use MCJulia to perform sampling"
   ]
  },
  {
   "cell_type": "markdown",
   "metadata": {},
   "source": [
    "### Parameters and initial conditions for walkers"
   ]
  },
  {
   "cell_type": "code",
   "execution_count": 9,
   "metadata": {},
   "outputs": [],
   "source": [
    "# Parameters and initial positions of walkers\n",
    "if sausage\n",
    "    initial_guess_dist = MvNormal(zeros(6),Diagonal([40, 0.3, 1.0, 1.0, 0.15, 0.1]))\n",
    "    initial_guess_onewalker = [vesc_guess, k_guess, frac_guess, sigma_guess, k_sausage_guess, frac_sausage_guess]\n",
    "else\n",
    "    initial_guess_dist = MvNormal(zeros(4),Diagonal([40, 0.3, 1.0, 1.0]))\n",
    "    initial_guess_onewalker = [vesc_guess, k_guess, frac_guess, sigma_guess]\n",
    "end\n",
    "\n",
    "a = 5.0     # affine-invariant MCMC scale parameter (see http://msp.org/camcos/2010/5-1/p04.xhtml) \n",
    "thin = 1\n",
    "ndims = length(initial_guess_onewalker)\n",
    "\n",
    "# there must be a cleaner way of doing the below. Maybe define centers as initial_guess_onewalker rather than zeros?\n",
    "initial_guess = copy(transpose(reduce(hcat, [initial_guess_onewalker + vec(rand(initial_guess_dist , 1))  for _ in 1:nwalkers]) ) )\n",
    "\n",
    "quantile_list = [0.16, 0.5, 0.84];\n"
   ]
  },
  {
   "cell_type": "code",
   "execution_count": 10,
   "metadata": {},
   "outputs": [
    {
     "data": {
      "text/plain": [
       "200×6 Matrix{Float64}:\n",
       " 553.34   2.06815  -11.8338   6.05194  0.669538  1.4686\n",
       " 543.046  3.16762  -11.953    5.02272  0.513096  0.947469\n",
       " 553.608  2.259    -11.141    6.36468  1.11864   0.759644\n",
       " 549.087  1.39732  -12.1638   6.89084  0.632895  0.294378\n",
       " 547.058  1.28637  -12.0997   5.23742  1.10778   0.812035\n",
       " 536.394  2.55416  -12.2821   5.25641  0.514569  1.19669\n",
       " 548.62   1.92371   -9.32517  6.1629   1.44179   1.46887\n",
       " 549.394  1.92925  -10.9659   6.53543  0.279759  0.759018\n",
       " 538.16   2.92444  -10.4462   7.57606  0.336032  0.68698\n",
       " 552.121  2.07415  -11.5969   5.56008  0.729211  1.33348\n",
       "   ⋮                                             ⋮\n",
       " 555.094  2.22314  -10.2362   5.90889  0.765818  1.59592\n",
       " 549.268  2.1571   -11.2684   6.92096  0.203453  0.538458\n",
       " 552.425  1.69223  -11.193    7.32491  1.39698   0.811574\n",
       " 560.432  1.54831  -12.5147   6.82786  0.604955  1.07654\n",
       " 555.697  1.77919  -11.5121   5.40755  0.595649  0.535793\n",
       " 561.375  1.59065   -9.48024  7.34655  1.19722   0.417644\n",
       " 556.814  1.19086  -10.4972   6.81876  0.600586  0.602846\n",
       " 544.923  2.65436  -12.2588   7.72094  0.124392  0.813458\n",
       " 547.44   2.44247  -11.384    6.86305  0.863445  1.19592"
      ]
     },
     "metadata": {},
     "output_type": "display_data"
    }
   ],
   "source": [
    "initial_guess"
   ]
  },
  {
   "cell_type": "code",
   "execution_count": 11,
   "metadata": {},
   "outputs": [
    {
     "data": {
      "text/plain": [
       "Sampler(200, 6, lnprob, 5.0, Array{Float64, 3}(undef, 200, 6, 0), Matrix{Float64}(undef, 200, 0), 0, 0, ([365.12708742114216, 434.78474618596283, 356.70998672021335, 373.57727120612753, 399.21658937165824, 353.83296571003285, 424.8968350051722, 434.0899284512569, 460.6431598550491, 377.6058346851101  …  374.02767256007337, 408.6502005503804, 437.90260721215503, 353.464468632626, 363.04532133304457, 375.9169019095055, 372.7132163949488, 378.78414321900107, 425.17670471755946, 451.7961483328489], [19.01879351814413, 22.441258151617525, 16.225255181571704, 18.24279450313759, 19.12098209497078, 18.016773551460307, 20.934278610000167, 24.035486252363793, 24.945945650988776, 18.498415541683496  …  17.91367019161424, 20.311688394264987, 22.47935601400594, 16.895556790938056, 17.770833127329073, 17.958621401071476, 17.278654392958448, 19.258402867237805, 21.85945395910144, 21.629326053633633], 350.0, true, 0.1, 20.0, 6.0, false, true, 0.0, 1.0), dummy_callback)"
      ]
     },
     "metadata": {},
     "output_type": "display_data"
    }
   ],
   "source": [
    "seed!(0)\n",
    "S = Sampler(nwalkers, ndims, lnprob, a,     # Now set the args for the function lnprob after \"theta\" (the current parameters of the analysis)\n",
    "            (target_data, target_data_err, vmin, outlier, \n",
    "            kpriormin, kpriormax, sigmapriormin, inverse_vesc_prior,\n",
    "            sausage, fs_sausage_min, fs_sausage_max)\n",
    "            )"
   ]
  },
  {
   "cell_type": "code",
   "execution_count": 12,
   "metadata": {},
   "outputs": [
    {
     "data": {
      "text/plain": [
       "4"
      ]
     },
     "metadata": {},
     "output_type": "display_data"
    }
   ],
   "source": [
    "Threads.nthreads()"
   ]
  },
  {
   "cell_type": "code",
   "execution_count": 13,
   "metadata": {},
   "outputs": [
    {
     "name": "stderr",
     "output_type": "stream",
     "text": [
      "\r\u001b[32mProgress:   0%|█                          |  ETA: 0:58:12 ( 8.77  s/it)\u001b[39m\u001b[K\r\u001b[32mProgress:   1%|█                          |  ETA: 0:38:58 ( 5.92  s/it)\u001b[39m\u001b[K\r\u001b[32mProgress:   4%|██                         |  ETA: 0:28:44 ( 4.48  s/it)\u001b[39m\u001b[K\r\u001b[32mProgress:   6%|██                         |  ETA: 0:28:22 ( 4.54  s/it)\u001b[39m\u001b[K"
     ]
    },
    {
     "name": "stderr",
     "output_type": "stream",
     "text": [
      "\r\u001b[32mProgress:   6%|██                         |  ETA: 0:29:07 ( 4.67  s/it)\u001b[39m\u001b[K\r\u001b[32mProgress:   7%|██                         |  ETA: 0:28:09 ( 4.54  s/it)\u001b[39m\u001b[K\r\u001b[32mProgress:   8%|███                        |  ETA: 0:29:14 ( 4.74  s/it)\u001b[39m\u001b[K\r\u001b[32mProgress:   8%|███                        |  ETA: 0:28:35 ( 4.66  s/it)\u001b[39m\u001b[K\r\u001b[32mProgress:   8%|███                        |  ETA: 0:28:52 ( 4.72  s/it)\u001b[39m\u001b[K"
     ]
    },
    {
     "name": "stderr",
     "output_type": "stream",
     "text": [
      "\r\u001b[32mProgress:   8%|███                        |  ETA: 0:29:07 ( 4.77  s/it)\u001b[39m\u001b[K\r\u001b[32mProgress:   9%|███                        |  ETA: 0:28:36 ( 4.71  s/it)\u001b[39m\u001b[K\r\u001b[32mProgress:  10%|███                        |  ETA: 0:28:51 ( 4.78  s/it)\u001b[39m\u001b[K\r\u001b[32mProgress:  11%|███                        |  ETA: 0:28:01 ( 4.72  s/it)\u001b[39m\u001b[K\r\u001b[32mProgress:  11%|████                       |  ETA: 0:28:03 ( 4.74  s/it)\u001b[39m\u001b[K"
     ]
    },
    {
     "name": "stderr",
     "output_type": "stream",
     "text": [
      "\r\u001b[32mProgress:  12%|████                       |  ETA: 0:28:42 ( 4.87  s/it)\u001b[39m\u001b[K\r\u001b[32mProgress:  14%|████                       |  ETA: 0:27:44 ( 4.84  s/it)\u001b[39m\u001b[K\r\u001b[32mProgress:  14%|████                       |  ETA: 0:27:54 ( 4.89  s/it)\u001b[39m\u001b[K\r\u001b[32mProgress:  15%|████                       |  ETA: 0:28:14 ( 4.97  s/it)\u001b[39m\u001b[K\r\u001b[32mProgress:  16%|█████                      |  ETA: 0:28:06 ( 5.00  s/it)\u001b[39m\u001b[K\r\u001b[32mProgress:  16%|█████                      |  ETA: 0:28:03 ( 5.01  s/it)\u001b[39m\u001b[K\r\u001b[32mProgress:  18%|█████                      |  ETA: 0:27:29 ( 5.06  s/it)\u001b[39m\u001b[K\r\u001b[32mProgress:  19%|██████                     |  ETA: 0:27:32 ( 5.08  s/it)\u001b[39m\u001b[K\r\u001b[32mProgress:  19%|██████                     |  ETA: 0:27:21 ( 5.08  s/it)\u001b[39m\u001b[K\r\u001b[32mProgress:  20%|██████                     |  ETA: 0:27:19 ( 5.09  s/it)\u001b[39m\u001b[K\r\u001b[32mProgress:  20%|██████                     |  ETA: 0:27:24 ( 5.12  s/it)\u001b[39m\u001b[K\r\u001b[32mProgress:  20%|██████                     |  ETA: 0:27:08 ( 5.10  s/it)\u001b[39m\u001b[K\r\u001b[32mProgress:  20%|██████                     |  ETA: 0:27:08 ( 5.12  s/it)\u001b[39m\u001b[K\r\u001b[32mProgress:  21%|██████                     |  ETA: 0:27:03 ( 5.12  s/it)\u001b[39m\u001b[K\r\u001b[32mProgress:  21%|██████                     |  ETA: 0:26:55 ( 5.13  s/it)\u001b[39m\u001b[K\r\u001b[32mProgress:  22%|██████                     |  ETA: 0:27:01 ( 5.16  s/it)\u001b[39m\u001b[K\r\u001b[32mProgress:  22%|███████                    |  ETA: 0:26:43 ( 5.15  s/it)\u001b[39m\u001b[K\r\u001b[32mProgress:  22%|███████                    |  ETA: 0:26:55 ( 5.21  s/it)\u001b[39m\u001b[K\r\u001b[32mProgress:  25%|███████                    |  ETA: 0:25:48 ( 5.16  s/it)\u001b[39m\u001b[K\r\u001b[32mProgress:  25%|███████                    |  ETA: 0:26:00 ( 5.22  s/it)\u001b[39m\u001b[K\r\u001b[32mProgress:  26%|███████                    |  ETA: 0:26:06 ( 5.26  s/it)\u001b[39m\u001b[K\r\u001b[32mProgress:  28%|████████                   |  ETA: 0:25:08 ( 5.24  s/it)\u001b[39m\u001b[K\r\u001b[32mProgress:  28%|████████                   |  ETA: 0:25:12 ( 5.27  s/it)\u001b[39m\u001b[K\r\u001b[32mProgress:  29%|████████                   |  ETA: 0:25:02 ( 5.27  s/it)\u001b[39m\u001b[K\r\u001b[32mProgress:  29%|████████                   |  ETA: 0:24:52 ( 5.27  s/it)\u001b[39m\u001b[K\r\u001b[32mProgress:  30%|█████████                  |  ETA: 0:24:40 ( 5.27  s/it)\u001b[39m\u001b[K\r\u001b[32mProgress:  30%|█████████                  |  ETA: 0:24:38 ( 5.28  s/it)\u001b[39m\u001b[K\r\u001b[32mProgress:  30%|█████████                  |  ETA: 0:24:19 ( 5.25  s/it)\u001b[39m\u001b[K"
     ]
    },
    {
     "name": "stderr",
     "output_type": "stream",
     "text": [
      "\r\u001b[32mProgress:  31%|█████████                  |  ETA: 0:24:23 ( 5.28  s/it)\u001b[39m\u001b[K\r\u001b[32mProgress:  31%|█████████                  |  ETA: 0:24:11 ( 5.28  s/it)\u001b[39m\u001b[K\r\u001b[32mProgress:  32%|█████████                  |  ETA: 0:23:40 ( 5.26  s/it)\u001b[39m\u001b[K\r\u001b[32mProgress:  33%|█████████                  |  ETA: 0:23:41 ( 5.28  s/it)\u001b[39m\u001b[K\r\u001b[32mProgress:  33%|█████████                  |  ETA: 0:23:38 ( 5.29  s/it)\u001b[39m\u001b[K\r\u001b[32mProgress:  33%|█████████                  |  ETA: 0:23:39 ( 5.32  s/it)\u001b[39m\u001b[K"
     ]
    },
    {
     "name": "stderr",
     "output_type": "stream",
     "text": [
      "\r\u001b[32mProgress:  36%|██████████                 |  ETA: 0:22:51 ( 5.33  s/it)\u001b[39m\u001b[K\r\u001b[32mProgress:  36%|██████████                 |  ETA: 0:22:38 ( 5.33  s/it)\u001b[39m\u001b[K"
     ]
    },
    {
     "name": "stderr",
     "output_type": "stream",
     "text": [
      "\r\u001b[32mProgress:  37%|██████████                 |  ETA: 0:22:28 ( 5.33  s/it)\u001b[39m\u001b[K\r\u001b[32mProgress:  37%|███████████                |  ETA: 0:22:14 ( 5.32  s/it)\u001b[39m\u001b[K"
     ]
    },
    {
     "name": "stderr",
     "output_type": "stream",
     "text": [
      "\r\u001b[32mProgress:  38%|███████████                |  ETA: 0:22:15 ( 5.34  s/it)\u001b[39m\u001b[K\r\u001b[32mProgress:  38%|███████████                |  ETA: 0:22:09 ( 5.34  s/it)\u001b[39m\u001b[K\r\u001b[32mProgress:  38%|███████████                |  ETA: 0:21:53 ( 5.32  s/it)\u001b[39m\u001b[K"
     ]
    },
    {
     "name": "stderr",
     "output_type": "stream",
     "text": [
      "\r\u001b[32mProgress:  38%|███████████                |  ETA: 0:21:55 ( 5.35  s/it)\u001b[39m\u001b[K\r\u001b[32mProgress:  39%|███████████                |  ETA: 0:21:37 ( 5.32  s/it)\u001b[39m\u001b[K\r\u001b[32mProgress:  40%|███████████                |  ETA: 0:21:38 ( 5.36  s/it)\u001b[39m\u001b[K\r\u001b[32mProgress:  42%|████████████               |  ETA: 0:20:38 ( 5.33  s/it)\u001b[39m\u001b[K\r\u001b[32mProgress:  43%|████████████               |  ETA: 0:20:20 ( 5.33  s/it)\u001b[39m\u001b[K\r\u001b[32mProgress:  43%|████████████               |  ETA: 0:20:15 ( 5.33  s/it)\u001b[39m\u001b[K\r\u001b[32mProgress:  44%|████████████               |  ETA: 0:19:58 ( 5.33  s/it)\u001b[39m\u001b[K\r\u001b[32mProgress:  44%|████████████               |  ETA: 0:19:42 ( 5.30  s/it)\u001b[39m\u001b[K"
     ]
    },
    {
     "name": "stderr",
     "output_type": "stream",
     "text": [
      "\r\u001b[32mProgress:  44%|█████████████              |  ETA: 0:19:45 ( 5.34  s/it)\u001b[39m\u001b[K\r\u001b[32mProgress:  45%|█████████████              |  ETA: 0:19:29 ( 5.32  s/it)\u001b[39m\u001b[K\r\u001b[32mProgress:  46%|█████████████              |  ETA: 0:19:23 ( 5.33  s/it)\u001b[39m\u001b[K\r\u001b[32mProgress:  46%|█████████████              |  ETA: 0:19:06 ( 5.31  s/it)\u001b[39m\u001b[K\r\u001b[32mProgress:  46%|█████████████              |  ETA: 0:19:02 ( 5.33  s/it)\u001b[39m\u001b[K\r\u001b[32mProgress:  47%|█████████████              |  ETA: 0:18:35 ( 5.29  s/it)\u001b[39m\u001b[K"
     ]
    },
    {
     "name": "stderr",
     "output_type": "stream",
     "text": [
      "\r\u001b[32mProgress:  48%|█████████████              |  ETA: 0:18:40 ( 5.33  s/it)\u001b[39m\u001b[K\r\u001b[32mProgress:  48%|█████████████              |  ETA: 0:18:35 ( 5.33  s/it)\u001b[39m\u001b[K"
     ]
    },
    {
     "name": "stderr",
     "output_type": "stream",
     "text": [
      "\r\u001b[32mProgress:  50%|██████████████             |  ETA: 0:17:34 ( 5.30  s/it)\u001b[39m\u001b[K\r\u001b[32mProgress:  50%|██████████████             |  ETA: 0:17:35 ( 5.33  s/it)\u001b[39m\u001b[K\r\u001b[32mProgress:  51%|██████████████             |  ETA: 0:17:13 ( 5.30  s/it)\u001b[39m\u001b[K\r\u001b[32mProgress:  52%|██████████████             |  ETA: 0:17:03 ( 5.30  s/it)\u001b[39m\u001b[K\r\u001b[32mProgress:  52%|███████████████            |  ETA: 0:17:01 ( 5.32  s/it)\u001b[39m\u001b[K\r\u001b[32mProgress:  54%|███████████████            |  ETA: 0:16:27 ( 5.31  s/it)\u001b[39m\u001b[K"
     ]
    },
    {
     "name": "stderr",
     "output_type": "stream",
     "text": [
      "\r\u001b[32mProgress:  54%|███████████████            |  ETA: 0:16:23 ( 5.31  s/it)\u001b[39m\u001b[K\r\u001b[32mProgress:  54%|███████████████            |  ETA: 0:16:17 ( 5.31  s/it)\u001b[39m\u001b[K\r\u001b[32mProgress:  54%|███████████████            |  ETA: 0:16:06 ( 5.31  s/it)\u001b[39m\u001b[K"
     ]
    },
    {
     "name": "stderr",
     "output_type": "stream",
     "text": [
      "\r\u001b[32mProgress:  55%|███████████████            |  ETA: 0:16:03 ( 5.32  s/it)\u001b[39m\u001b[K\r\u001b[32mProgress:  55%|███████████████            |  ETA: 0:15:49 ( 5.30  s/it)\u001b[39m\u001b[K\r\u001b[32mProgress:  56%|████████████████           |  ETA: 0:15:40 ( 5.31  s/it)\u001b[39m\u001b[K\r\u001b[32mProgress:  56%|████████████████           |  ETA: 0:15:28 ( 5.30  s/it)\u001b[39m\u001b[K\r\u001b[32mProgress:  58%|████████████████           |  ETA: 0:14:57 ( 5.31  s/it)\u001b[39m\u001b[K\r\u001b[32mProgress:  58%|████████████████           |  ETA: 0:14:44 ( 5.30  s/it)\u001b[39m\u001b[K"
     ]
    },
    {
     "name": "stderr",
     "output_type": "stream",
     "text": [
      "\r\u001b[32mProgress:  59%|████████████████           |  ETA: 0:14:36 ( 5.31  s/it)\u001b[39m\u001b[K\r\u001b[32mProgress:  60%|█████████████████          |  ETA: 0:14:02 ( 5.30  s/it)\u001b[39m\u001b[K"
     ]
    },
    {
     "name": "stderr",
     "output_type": "stream",
     "text": [
      "\r\u001b[32mProgress:  61%|█████████████████          |  ETA: 0:13:53 ( 5.31  s/it)\u001b[39m\u001b[K\r\u001b[32mProgress:  62%|█████████████████          |  ETA: 0:13:34 ( 5.28  s/it)\u001b[39m\u001b[K\r\u001b[32mProgress:  62%|█████████████████          |  ETA: 0:13:32 ( 5.31  s/it)\u001b[39m\u001b[K\r\u001b[32mProgress:  63%|██████████████████         |  ETA: 0:13:02 ( 5.28  s/it)\u001b[39m\u001b[K"
     ]
    },
    {
     "name": "stderr",
     "output_type": "stream",
     "text": [
      "\r\u001b[32mProgress:  64%|██████████████████         |  ETA: 0:12:51 ( 5.28  s/it)\u001b[39m\u001b[K\r\u001b[32mProgress:  64%|██████████████████         |  ETA: 0:12:49 ( 5.30  s/it)\u001b[39m\u001b[K"
     ]
    },
    {
     "name": "stderr",
     "output_type": "stream",
     "text": [
      "\r\u001b[32mProgress:  64%|██████████████████         |  ETA: 0:12:30 ( 5.28  s/it)\u001b[39m\u001b[K\r\u001b[32mProgress:  65%|██████████████████         |  ETA: 0:12:27 ( 5.30  s/it)\u001b[39m\u001b[K"
     ]
    },
    {
     "name": "stderr",
     "output_type": "stream",
     "text": [
      "\r\u001b[32mProgress:  65%|██████████████████         |  ETA: 0:12:22 ( 5.30  s/it)\u001b[39m\u001b[K\r\u001b[32mProgress:  67%|███████████████████        |  ETA: 0:11:44 ( 5.29  s/it)\u001b[39m\u001b[K"
     ]
    },
    {
     "name": "stderr",
     "output_type": "stream",
     "text": [
      "\r\u001b[32mProgress:  67%|███████████████████        |  ETA: 0:11:39 ( 5.30  s/it)\u001b[39m\u001b[K\r\u001b[32mProgress:  68%|███████████████████        |  ETA: 0:11:26 ( 5.28  s/it)\u001b[39m\u001b[K\r\u001b[32mProgress:  68%|███████████████████        |  ETA: 0:11:19 ( 5.30  s/it)\u001b[39m\u001b[K\r\u001b[32mProgress:  70%|███████████████████        |  ETA: 0:10:36 ( 5.30  s/it)\u001b[39m\u001b[K\r\u001b[32mProgress:  72%|████████████████████       |  ETA: 0:09:53 ( 5.29  s/it)\u001b[39m\u001b[K\r\u001b[32mProgress:  74%|████████████████████       |  ETA: 0:09:13 ( 5.27  s/it)\u001b[39m\u001b[K\r\u001b[32mProgress:  74%|████████████████████       |  ETA: 0:09:09 ( 5.28  s/it)\u001b[39m\u001b[K\r\u001b[32mProgress:  74%|█████████████████████      |  ETA: 0:08:58 ( 5.28  s/it)\u001b[39m\u001b[K\r\u001b[32mProgress:  77%|█████████████████████      |  ETA: 0:08:06 ( 5.28  s/it)\u001b[39m\u001b[K\r\u001b[32mProgress:  80%|██████████████████████     |  ETA: 0:07:11 ( 5.26  s/it)\u001b[39m\u001b[K"
     ]
    },
    {
     "name": "stderr",
     "output_type": "stream",
     "text": [
      "\r\u001b[32mProgress:  80%|██████████████████████     |  ETA: 0:06:50 ( 5.25  s/it)\u001b[39m\u001b[K"
     ]
    },
    {
     "name": "stderr",
     "output_type": "stream",
     "text": [
      "\r\u001b[32mProgress:  81%|██████████████████████     |  ETA: 0:06:41 ( 5.27  s/it)\u001b[39m\u001b[K\r\u001b[32mProgress:  82%|███████████████████████    |  ETA: 0:06:07 ( 5.24  s/it)\u001b[39m\u001b[K\r\u001b[32mProgress:  83%|███████████████████████    |  ETA: 0:06:02 ( 5.25  s/it)\u001b[39m\u001b[K\r\u001b[32mProgress:  83%|███████████████████████    |  ETA: 0:05:58 ( 5.26  s/it)\u001b[39m\u001b[K"
     ]
    },
    {
     "name": "stderr",
     "output_type": "stream",
     "text": [
      "\r\u001b[32mProgress:  86%|████████████████████████   |  ETA: 0:05:04 ( 5.24  s/it)\u001b[39m\u001b[K\r\u001b[32mProgress:  86%|████████████████████████   |  ETA: 0:04:59 ( 5.25  s/it)\u001b[39m\u001b[K\r\u001b[32mProgress:  86%|████████████████████████   |  ETA: 0:04:43 ( 5.23  s/it)\u001b[39m\u001b[K\r\u001b[32mProgress:  87%|████████████████████████   |  ETA: 0:04:38 ( 5.24  s/it)\u001b[39m\u001b[K\r\u001b[32mProgress:  88%|████████████████████████   |  ETA: 0:04:21 ( 5.23  s/it)\u001b[39m\u001b[K\r\u001b[32mProgress:  88%|████████████████████████   |  ETA: 0:04:11 ( 5.23  s/it)\u001b[39m\u001b[K"
     ]
    },
    {
     "name": "stderr",
     "output_type": "stream",
     "text": [
      "\r\u001b[32mProgress:  89%|█████████████████████████  |  ETA: 0:03:44 ( 5.21  s/it)\u001b[39m\u001b[K\r\u001b[32mProgress:  90%|█████████████████████████  |  ETA: 0:03:39 ( 5.22  s/it)\u001b[39m\u001b[K\r\u001b[32mProgress:  90%|█████████████████████████  |  ETA: 0:03:35 ( 5.23  s/it)\u001b[39m\u001b[K\r\u001b[32mProgress:  91%|█████████████████████████  |  ETA: 0:03:14 ( 5.23  s/it)\u001b[39m\u001b[K\r\u001b[32mProgress:  92%|█████████████████████████  |  ETA: 0:02:57 ( 5.20  s/it)\u001b[39m\u001b[K\r\u001b[32mProgress:  92%|█████████████████████████  |  ETA: 0:02:41 ( 5.20  s/it)\u001b[39m\u001b[K"
     ]
    },
    {
     "name": "stderr",
     "output_type": "stream",
     "text": [
      "\r\u001b[32mProgress:  92%|█████████████████████████  |  ETA: 0:02:36 ( 5.20  s/it)\u001b[39m\u001b[K\r\u001b[32mProgress:  93%|██████████████████████████ |  ETA: 0:02:31 ( 5.22  s/it)\u001b[39m\u001b[K\r\u001b[32mProgress:  95%|██████████████████████████ |  ETA: 0:01:39 ( 5.19  s/it)\u001b[39m\u001b[K"
     ]
    },
    {
     "name": "stderr",
     "output_type": "stream",
     "text": [
      "\r\u001b[32mProgress:  96%|██████████████████████████ |  ETA: 0:01:34 ( 5.20  s/it)\u001b[39m\u001b[K\r\u001b[32mProgress:  96%|██████████████████████████ |  ETA: 0:01:29 ( 5.21  s/it)\u001b[39m\u001b[K\r\u001b[32mProgress:  97%|███████████████████████████|  ETA: 0:00:57 ( 5.20  s/it)\u001b[39m\u001b[K"
     ]
    },
    {
     "name": "stderr",
     "output_type": "stream",
     "text": [
      "\r\u001b[32mProgress:  98%|███████████████████████████|  ETA: 0:00:52 ( 5.22  s/it)\u001b[39m\u001b[K"
     ]
    },
    {
     "name": "stderr",
     "output_type": "stream",
     "text": [
      "\r\u001b[32mProgress: 100%|███████████████████████████| Time: 0:34:54 ( 5.24  s/it)\u001b[39m\u001b[K\n"
     ]
    },
    {
     "name": "stdout",
     "output_type": "stream",
     "text": [
      "Starting multi-threaded sampling\n"
     ]
    },
    {
     "data": {
      "text/plain": [
       "200×6 Matrix{Float64}:\n",
       " 500.656  12.0226   -4.31229  6.40372  1.29328   0.919541\n",
       " 489.81    9.40581  -4.28974  6.39441  0.878505  0.850549\n",
       " 487.554   5.3229   -4.23576  6.48381  0.707908  0.804951\n",
       " 506.07    1.86844  -5.05447  6.4021   0.428869  0.158882\n",
       " 498.842  13.0333   -4.39213  6.52764  1.17969   0.916762\n",
       " 513.031  11.7456   -4.24053  6.76912  1.42525   0.900235\n",
       " 508.33   15.0389   -4.21016  6.36347  1.38852   0.946257\n",
       " 494.583  19.4453   -4.0169   6.64382  1.00923   0.90041\n",
       " 486.354   3.16948  -4.66629  6.72138  0.436143  0.585814\n",
       " 488.364  13.7043   -4.19362  6.52866  1.03532   0.907969\n",
       "   ⋮                                             ⋮\n",
       " 504.359  17.7139   -4.61131  6.74362  1.3372    0.955213\n",
       " 504.96    2.80457  -4.10552  6.49854  0.762112  0.462373\n",
       " 498.258   7.83336  -4.20813  6.25727  1.04632   0.856221\n",
       " 500.035   9.47572  -4.26533  6.48958  1.20305   0.888593\n",
       " 527.182   9.56511  -4.11125  6.22481  1.93766   0.915716\n",
       " 500.872   2.94069  -4.16511  6.58391  0.970003  0.648597\n",
       " 505.611   1.4615   -3.87079  6.51382  0.608163  0.0269426\n",
       " 496.607  17.3277   -4.77642  6.76195  1.20927   0.915023\n",
       " 512.713  15.9638   -4.46582  6.63106  1.38526   0.884801"
      ]
     },
     "metadata": {},
     "output_type": "display_data"
    }
   ],
   "source": [
    "burnin_final_state = sample(S, initial_guess, nsamples_burnin, thin, false)"
   ]
  },
  {
   "cell_type": "code",
   "execution_count": 15,
   "metadata": {},
   "outputs": [
    {
     "data": {
      "text/plain": [
       "15256"
      ]
     },
     "metadata": {},
     "output_type": "display_data"
    }
   ],
   "source": [
    "S.accepted"
   ]
  },
  {
   "cell_type": "code",
   "execution_count": 16,
   "metadata": {},
   "outputs": [
    {
     "data": {
      "text/plain": [
       "79998"
      ]
     },
     "metadata": {},
     "output_type": "display_data"
    }
   ],
   "source": [
    "S.iterations"
   ]
  },
  {
   "cell_type": "code",
   "execution_count": 17,
   "metadata": {},
   "outputs": [
    {
     "name": "stderr",
     "output_type": "stream",
     "text": [
      "\r\u001b[32mProgress:   0%|█                          |  ETA: 8:15:13 (14.87  s/it)\u001b[39m\u001b[K"
     ]
    },
    {
     "name": "stderr",
     "output_type": "stream",
     "text": [
      "\r\u001b[32mProgress:   0%|█                          |  ETA: 5:09:15 ( 9.30  s/it)\u001b[39m\u001b[K\r\u001b[32mProgress:   0%|█                          |  ETA: 3:58:10 ( 7.18  s/it)\u001b[39m\u001b[K\r\u001b[32mProgress:   1%|█                          |  ETA: 3:39:19 ( 6.62  s/it)\u001b[39m\u001b[K\r\u001b[32mProgress:   1%|█                          |  ETA: 3:22:52 ( 6.14  s/it)\u001b[39m\u001b[K"
     ]
    },
    {
     "name": "stderr",
     "output_type": "stream",
     "text": [
      "\r\u001b[32mProgress:   1%|█                          |  ETA: 3:03:03 ( 5.55  s/it)\u001b[39m\u001b[K\r\u001b[32mProgress:   1%|█                          |  ETA: 3:12:08 ( 5.83  s/it)\u001b[39m\u001b[K\r\u001b[32mProgress:   1%|█                          |  ETA: 2:55:08 ( 5.33  s/it)\u001b[39m\u001b[K\r\u001b[32mProgress:   1%|█                          |  ETA: 3:01:59 ( 5.54  s/it)\u001b[39m\u001b[K"
     ]
    },
    {
     "name": "stderr",
     "output_type": "stream",
     "text": [
      "\r\u001b[32mProgress:   2%|█                          |  ETA: 2:57:43 ( 5.42  s/it)\u001b[39m\u001b[K\r\u001b[32mProgress:   2%|█                          |  ETA: 2:56:30 ( 5.40  s/it)\u001b[39m\u001b[K\r\u001b[32mProgress:   2%|█                          |  ETA: 2:53:10 ( 5.30  s/it)\u001b[39m\u001b[K"
     ]
    },
    {
     "name": "stderr",
     "output_type": "stream",
     "text": [
      "\r\u001b[32mProgress:   2%|█                          |  ETA: 2:55:00 ( 5.36  s/it)\u001b[39m\u001b[K\r\u001b[32mProgress:   2%|█                          |  ETA: 2:51:29 ( 5.26  s/it)\u001b[39m\u001b[K\r\u001b[32mProgress:   2%|█                          |  ETA: 2:54:52 ( 5.37  s/it)\u001b[39m\u001b[K\r\u001b[32mProgress:   2%|█                          |  ETA: 2:51:12 ( 5.26  s/it)\u001b[39m\u001b[K"
     ]
    },
    {
     "name": "stderr",
     "output_type": "stream",
     "text": [
      "\r\u001b[32mProgress:   2%|█                          |  ETA: 2:53:26 ( 5.34  s/it)\u001b[39m\u001b[K\r\u001b[32mProgress:   3%|█                          |  ETA: 2:52:51 ( 5.33  s/it)\u001b[39m\u001b[K\r\u001b[32mProgress:   3%|█                          |  ETA: 2:47:28 ( 5.19  s/it)\u001b[39m\u001b[K\r\u001b[32mProgress:   3%|█                          |  ETA: 2:50:17 ( 5.28  s/it)\u001b[39m\u001b[K\r\u001b[32mProgress:   3%|█                          |  ETA: 2:46:58 ( 5.19  s/it)\u001b[39m\u001b[K"
     ]
    },
    {
     "name": "stderr",
     "output_type": "stream",
     "text": [
      "\r\u001b[32mProgress:   4%|█                          |  ETA: 2:48:11 ( 5.23  s/it)\u001b[39m\u001b[K\r\u001b[32mProgress:   4%|██                         |  ETA: 2:46:57 ( 5.20  s/it)\u001b[39m\u001b[K\r\u001b[32mProgress:   4%|██                         |  ETA: 2:47:59 ( 5.24  s/it)\u001b[39m\u001b[K\r\u001b[32mProgress:   4%|██                         |  ETA: 2:44:37 ( 5.15  s/it)\u001b[39m\u001b[K"
     ]
    },
    {
     "name": "stderr",
     "output_type": "stream",
     "text": [
      "\r\u001b[32mProgress:   4%|██                         |  ETA: 2:46:09 ( 5.20  s/it)\u001b[39m\u001b[K\r\u001b[32mProgress:   4%|██                         |  ETA: 2:47:40 ( 5.26  s/it)\u001b[39m\u001b[K\r\u001b[32mProgress:   4%|██                         |  ETA: 2:47:04 ( 5.25  s/it)\u001b[39m\u001b[K\r\u001b[32mProgress:   5%|██                         |  ETA: 2:45:04 ( 5.19  s/it)\u001b[39m\u001b[K\r\u001b[32mProgress:   5%|██                         |  ETA: 2:47:22 ( 5.27  s/it)\u001b[39m\u001b[K\r\u001b[32mProgress:   5%|██                         |  ETA: 2:41:36 ( 5.11  s/it)\u001b[39m\u001b[K\r\u001b[32mProgress:   5%|██                         |  ETA: 2:44:10 ( 5.19  s/it)\u001b[39m\u001b[K\r\u001b[32mProgress:   5%|██                         |  ETA: 2:45:01 ( 5.23  s/it)\u001b[39m\u001b[K"
     ]
    },
    {
     "name": "stderr",
     "output_type": "stream",
     "text": [
      "\r\u001b[32mProgress:   6%|██                         |  ETA: 2:44:15 ( 5.23  s/it)\u001b[39m\u001b[K"
     ]
    },
    {
     "name": "stderr",
     "output_type": "stream",
     "text": [
      "\r\u001b[32mProgress:   6%|██                         |  ETA: 2:39:50 ( 5.10  s/it)\u001b[39m\u001b[K\r\u001b[32mProgress:   6%|██                         |  ETA: 2:41:16 ( 5.15  s/it)\u001b[39m\u001b[K\r\u001b[32mProgress:   6%|██                         |  ETA: 2:42:09 ( 5.19  s/it)\u001b[39m\u001b[K\r\u001b[32mProgress:   7%|██                         |  ETA: 2:40:29 ( 5.15  s/it)\u001b[39m\u001b[K\r\u001b[32mProgress:   7%|██                         |  ETA: 2:37:45 ( 5.09  s/it)\u001b[39m\u001b[K\r\u001b[32mProgress:   7%|██                         |  ETA: 2:40:03 ( 5.17  s/it)\u001b[39m\u001b[K"
     ]
    },
    {
     "name": "stderr",
     "output_type": "stream",
     "text": [
      "\r\u001b[32mProgress:   7%|██                         |  ETA: 2:39:38 ( 5.17  s/it)\u001b[39m\u001b[K"
     ]
    },
    {
     "name": "stderr",
     "output_type": "stream",
     "text": [
      "\r\u001b[32mProgress:   7%|██                         |  ETA: 2:38:33 ( 5.14  s/it)\u001b[39m\u001b[K\r\u001b[32mProgress:   8%|███                        |  ETA: 2:38:15 ( 5.15  s/it)\u001b[39m\u001b[K"
     ]
    },
    {
     "name": "stderr",
     "output_type": "stream",
     "text": [
      "\r\u001b[32mProgress:   8%|███                        |  ETA: 2:38:28 ( 5.16  s/it)\u001b[39m\u001b[K\r\u001b[32mProgress:   8%|███                        |  ETA: 2:36:31 ( 5.12  s/it)\u001b[39m\u001b[K\r\u001b[32mProgress:   8%|███                        |  ETA: 2:37:13 ( 5.14  s/it)\u001b[39m\u001b[K"
     ]
    },
    {
     "name": "stderr",
     "output_type": "stream",
     "text": [
      "\r\u001b[32mProgress:   8%|███                        |  ETA: 2:37:57 ( 5.17  s/it)\u001b[39m\u001b[K\r\u001b[32mProgress:   9%|███                        |  ETA: 2:36:52 ( 5.15  s/it)\u001b[39m\u001b[K\r\u001b[32mProgress:   9%|███                        |  ETA: 2:36:36 ( 5.15  s/it)\u001b[39m\u001b[K\r\u001b[32mProgress:   9%|███                        |  ETA: 2:37:09 ( 5.18  s/it)\u001b[39m\u001b[K\r\u001b[32mProgress:   9%|███                        |  ETA: 2:37:13 ( 5.19  s/it)\u001b[39m\u001b[K\r\u001b[32mProgress:   9%|███                        |  ETA: 2:36:37 ( 5.19  s/it)\u001b[39m\u001b[K\r\u001b[32mProgress:  10%|███                        |  ETA: 2:34:55 ( 5.16  s/it)\u001b[39m\u001b[K"
     ]
    },
    {
     "name": "stderr",
     "output_type": "stream",
     "text": [
      "\r\u001b[32mProgress:  10%|███                        |  ETA: 2:35:51 ( 5.19  s/it)\u001b[39m\u001b[K\r\u001b[32mProgress:  10%|███                        |  ETA: 2:35:03 ( 5.17  s/it)\u001b[39m\u001b[K\r\u001b[32mProgress:  10%|███                        |  ETA: 2:35:34 ( 5.19  s/it)\u001b[39m\u001b[K\r\u001b[32mProgress:  10%|███                        |  ETA: 2:35:38 ( 5.20  s/it)\u001b[39m\u001b[K\r\u001b[32mProgress:  10%|███                        |  ETA: 2:35:34 ( 5.21  s/it)\u001b[39m\u001b[K\r\u001b[32mProgress:  11%|███                        |  ETA: 2:35:24 ( 5.21  s/it)\u001b[39m\u001b[K\r\u001b[32mProgress:  11%|███                        |  ETA: 2:35:05 ( 5.21  s/it)\u001b[39m\u001b[K\r\u001b[32mProgress:  11%|███                        |  ETA: 2:35:14 ( 5.22  s/it)\u001b[39m\u001b[K\r\u001b[32mProgress:  11%|████                       |  ETA: 2:35:11 ( 5.24  s/it)\u001b[39m\u001b[K\r\u001b[32mProgress:  11%|████                       |  ETA: 2:34:18 ( 5.22  s/it)\u001b[39m\u001b[K\r\u001b[32mProgress:  11%|████                       |  ETA: 2:35:18 ( 5.26  s/it)\u001b[39m\u001b[K\r\u001b[32mProgress:  12%|████                       |  ETA: 2:34:16 ( 5.24  s/it)\u001b[39m\u001b[K\r\u001b[32mProgress:  12%|████                       |  ETA: 2:34:35 ( 5.25  s/it)\u001b[39m\u001b[K\r\u001b[32mProgress:  12%|████                       |  ETA: 2:33:07 ( 5.22  s/it)\u001b[39m\u001b[K"
     ]
    },
    {
     "name": "stderr",
     "output_type": "stream",
     "text": [
      "\r\u001b[32mProgress:  12%|████                       |  ETA: 2:33:15 ( 5.23  s/it)\u001b[39m\u001b[K\r\u001b[32mProgress:  12%|████                       |  ETA: 2:34:05 ( 5.26  s/it)\u001b[39m\u001b[K\r\u001b[32mProgress:  13%|████                       |  ETA: 2:32:33 ( 5.24  s/it)\u001b[39m\u001b[K"
     ]
    },
    {
     "name": "stderr",
     "output_type": "stream",
     "text": [
      "\r\u001b[32mProgress:  13%|████                       |  ETA: 2:32:48 ( 5.25  s/it)\u001b[39m\u001b[K\r\u001b[32mProgress:  13%|████                       |  ETA: 2:32:03 ( 5.23  s/it)\u001b[39m\u001b[K"
     ]
    },
    {
     "name": "stderr",
     "output_type": "stream",
     "text": [
      "\r\u001b[32mProgress:  13%|████                       |  ETA: 2:32:17 ( 5.25  s/it)\u001b[39m\u001b[K\r\u001b[32mProgress:  13%|████                       |  ETA: 2:32:23 ( 5.25  s/it)\u001b[39m\u001b[K\r\u001b[32mProgress:  13%|████                       |  ETA: 2:32:33 ( 5.26  s/it)\u001b[39m\u001b[K\r\u001b[32mProgress:  14%|████                       |  ETA: 2:31:29 ( 5.25  s/it)\u001b[39m\u001b[K\r\u001b[32mProgress:  14%|████                       |  ETA: 2:31:41 ( 5.26  s/it)\u001b[39m\u001b[K\r\u001b[32mProgress:  14%|████                       |  ETA: 2:31:50 ( 5.27  s/it)\u001b[39m\u001b[K\r\u001b[32mProgress:  14%|████                       |  ETA: 2:31:05 ( 5.26  s/it)\u001b[39m\u001b[K"
     ]
    },
    {
     "name": "stderr",
     "output_type": "stream",
     "text": [
      "\r\u001b[32mProgress:  14%|████                       |  ETA: 2:31:07 ( 5.27  s/it)\u001b[39m\u001b[K\r\u001b[32mProgress:  14%|████                       |  ETA: 2:31:06 ( 5.27  s/it)\u001b[39m\u001b[K\r\u001b[32mProgress:  14%|████                       |  ETA: 2:30:01 ( 5.26  s/it)\u001b[39m\u001b[K\r\u001b[32mProgress:  15%|████                       |  ETA: 2:29:20 ( 5.25  s/it)\u001b[39m\u001b[K\r\u001b[32mProgress:  15%|████                       |  ETA: 2:29:32 ( 5.26  s/it)\u001b[39m\u001b[K\r\u001b[32mProgress:  15%|█████                      |  ETA: 2:28:13 ( 5.24  s/it)\u001b[39m\u001b[K"
     ]
    },
    {
     "name": "stderr",
     "output_type": "stream",
     "text": [
      "\r\u001b[32mProgress:  15%|█████                      |  ETA: 2:28:21 ( 5.25  s/it)\u001b[39m\u001b[K\r\u001b[32mProgress:  15%|█████                      |  ETA: 2:27:37 ( 5.23  s/it)\u001b[39m\u001b[K"
     ]
    },
    {
     "name": "stderr",
     "output_type": "stream",
     "text": [
      "\r\u001b[32mProgress:  15%|█████                      |  ETA: 2:27:56 ( 5.25  s/it)\u001b[39m\u001b[K\r\u001b[32mProgress:  16%|█████                      |  ETA: 2:27:14 ( 5.23  s/it)\u001b[39m\u001b[K"
     ]
    },
    {
     "name": "stderr",
     "output_type": "stream",
     "text": [
      "\r\u001b[32mProgress:  16%|█████                      |  ETA: 2:27:34 ( 5.25  s/it)\u001b[39m\u001b[K\r\u001b[32mProgress:  16%|█████                      |  ETA: 2:26:28 ( 5.23  s/it)\u001b[39m\u001b[K\r\u001b[32mProgress:  16%|█████                      |  ETA: 2:26:22 ( 5.23  s/it)\u001b[39m\u001b[K"
     ]
    },
    {
     "name": "stderr",
     "output_type": "stream",
     "text": [
      "\r\u001b[32mProgress:  16%|█████                      |  ETA: 2:26:42 ( 5.24  s/it)\u001b[39m\u001b[K\r\u001b[32mProgress:  16%|█████                      |  ETA: 2:26:03 ( 5.23  s/it)\u001b[39m\u001b[K\r\u001b[32mProgress:  17%|█████                      |  ETA: 2:25:28 ( 5.23  s/it)\u001b[39m\u001b[K\r\u001b[32mProgress:  17%|█████                      |  ETA: 2:26:01 ( 5.26  s/it)\u001b[39m\u001b[K\r\u001b[32mProgress:  17%|█████                      |  ETA: 2:25:00 ( 5.25  s/it)\u001b[39m\u001b[K\r\u001b[32mProgress:  17%|█████                      |  ETA: 2:24:57 ( 5.25  s/it)\u001b[39m\u001b[K"
     ]
    },
    {
     "name": "stderr",
     "output_type": "stream",
     "text": [
      "\r\u001b[32mProgress:  17%|█████                      |  ETA: 2:25:40 ( 5.28  s/it)\u001b[39m\u001b[K\r\u001b[32mProgress:  17%|█████                      |  ETA: 2:24:51 ( 5.26  s/it)\u001b[39m\u001b[K"
     ]
    },
    {
     "name": "stderr",
     "output_type": "stream",
     "text": [
      "\r\u001b[32mProgress:  18%|█████                      |  ETA: 2:25:00 ( 5.27  s/it)\u001b[39m\u001b[K\r\u001b[32mProgress:  18%|█████                      |  ETA: 2:24:44 ( 5.27  s/it)\u001b[39m\u001b[K"
     ]
    },
    {
     "name": "stderr",
     "output_type": "stream",
     "text": [
      "\r\u001b[32mProgress:  18%|█████                      |  ETA: 2:25:07 ( 5.29  s/it)\u001b[39m\u001b[K\r\u001b[32mProgress:  18%|█████                      |  ETA: 2:24:41 ( 5.28  s/it)\u001b[39m\u001b[K\r\u001b[32mProgress:  18%|█████                      |  ETA: 2:24:50 ( 5.29  s/it)\u001b[39m\u001b[K\r\u001b[32mProgress:  18%|█████                      |  ETA: 2:24:43 ( 5.29  s/it)\u001b[39m\u001b[K\r\u001b[32mProgress:  18%|█████                      |  ETA: 2:24:48 ( 5.29  s/it)\u001b[39m\u001b[K\r\u001b[32mProgress:  18%|█████                      |  ETA: 2:25:01 ( 5.31  s/it)\u001b[39m\u001b[K\r\u001b[32mProgress:  18%|█████                      |  ETA: 2:24:39 ( 5.30  s/it)\u001b[39m\u001b[K"
     ]
    },
    {
     "name": "stderr",
     "output_type": "stream",
     "text": [
      "\r\u001b[32mProgress:  18%|█████                      |  ETA: 2:24:41 ( 5.31  s/it)\u001b[39m\u001b[K\r\u001b[32mProgress:  18%|█████                      |  ETA: 2:24:43 ( 5.31  s/it)\u001b[39m\u001b[K\r\u001b[32mProgress:  18%|█████                      |  ETA: 2:24:18 ( 5.31  s/it)\u001b[39m\u001b[K\r\u001b[32mProgress:  18%|█████                      |  ETA: 2:24:29 ( 5.32  s/it)\u001b[39m\u001b[K\r\u001b[32mProgress:  19%|██████                     |  ETA: 2:24:10 ( 5.32  s/it)\u001b[39m\u001b[K"
     ]
    },
    {
     "name": "stderr",
     "output_type": "stream",
     "text": [
      "\r\u001b[32mProgress:  19%|██████                     |  ETA: 2:23:24 ( 5.31  s/it)\u001b[39m\u001b[K\r\u001b[32mProgress:  19%|██████                     |  ETA: 2:22:54 ( 5.30  s/it)\u001b[39m\u001b[K\r\u001b[32mProgress:  19%|██████                     |  ETA: 2:23:01 ( 5.31  s/it)\u001b[39m\u001b[K\r\u001b[32mProgress:  19%|██████                     |  ETA: 2:22:18 ( 5.30  s/it)\u001b[39m\u001b[K\r\u001b[32mProgress:  19%|██████                     |  ETA: 2:22:44 ( 5.32  s/it)\u001b[39m\u001b[K\r\u001b[32mProgress:  20%|██████                     |  ETA: 2:22:05 ( 5.30  s/it)\u001b[39m\u001b[K\r\u001b[32mProgress:  20%|██████                     |  ETA: 2:22:30 ( 5.32  s/it)\u001b[39m\u001b[K"
     ]
    },
    {
     "name": "stderr",
     "output_type": "stream",
     "text": [
      "\r\u001b[32mProgress:  20%|██████                     |  ETA: 2:21:24 ( 5.30  s/it)\u001b[39m\u001b[K\r\u001b[32mProgress:  20%|██████                     |  ETA: 2:21:57 ( 5.33  s/it)\u001b[39m\u001b[K"
     ]
    },
    {
     "name": "stderr",
     "output_type": "stream",
     "text": [
      "\r\u001b[32mProgress:  21%|██████                     |  ETA: 2:20:33 ( 5.31  s/it)\u001b[39m\u001b[K\r\u001b[32mProgress:  21%|██████                     |  ETA: 2:20:27 ( 5.31  s/it)\u001b[39m\u001b[K\r\u001b[32mProgress:  21%|██████                     |  ETA: 2:20:59 ( 5.33  s/it)\u001b[39m\u001b[K"
     ]
    },
    {
     "name": "stderr",
     "output_type": "stream",
     "text": [
      "\r\u001b[32mProgress:  21%|██████                     |  ETA: 2:20:11 ( 5.31  s/it)\u001b[39m\u001b[K\r\u001b[32mProgress:  21%|██████                     |  ETA: 2:20:20 ( 5.32  s/it)\u001b[39m\u001b[K\r\u001b[32mProgress:  21%|██████                     |  ETA: 2:19:09 ( 5.31  s/it)\u001b[39m\u001b[K\r\u001b[32mProgress:  21%|██████                     |  ETA: 2:19:22 ( 5.32  s/it)\u001b[39m\u001b[K"
     ]
    },
    {
     "name": "stderr",
     "output_type": "stream",
     "text": [
      "\r\u001b[32mProgress:  22%|██████                     |  ETA: 2:19:11 ( 5.32  s/it)\u001b[39m\u001b[K\r\u001b[32mProgress:  22%|██████                     |  ETA: 2:18:18 ( 5.32  s/it)\u001b[39m\u001b[K"
     ]
    },
    {
     "name": "stderr",
     "output_type": "stream",
     "text": [
      "\r\u001b[32mProgress:  22%|██████                     |  ETA: 2:18:14 ( 5.33  s/it)\u001b[39m\u001b[K\r\u001b[32mProgress:  22%|███████                    |  ETA: 2:17:30 ( 5.31  s/it)\u001b[39m\u001b[K"
     ]
    },
    {
     "name": "stderr",
     "output_type": "stream",
     "text": [
      "\r\u001b[32mProgress:  22%|███████                    |  ETA: 2:17:37 ( 5.32  s/it)\u001b[39m\u001b[K\r\u001b[32mProgress:  23%|███████                    |  ETA: 2:17:31 ( 5.33  s/it)\u001b[39m\u001b[K\r\u001b[32mProgress:  23%|███████                    |  ETA: 2:16:44 ( 5.31  s/it)\u001b[39m\u001b[K"
     ]
    },
    {
     "name": "stderr",
     "output_type": "stream",
     "text": [
      "\r\u001b[32mProgress:  23%|███████                    |  ETA: 2:16:44 ( 5.31  s/it)\u001b[39m\u001b[K\r\u001b[32mProgress:  23%|███████                    |  ETA: 2:16:48 ( 5.33  s/it)\u001b[39m\u001b[K\r\u001b[32mProgress:  23%|███████                    |  ETA: 2:15:48 ( 5.32  s/it)\u001b[39m\u001b[K\r\u001b[32mProgress:  24%|███████                    |  ETA: 2:15:59 ( 5.34  s/it)\u001b[39m\u001b[K\r\u001b[32mProgress:  24%|███████                    |  ETA: 2:15:43 ( 5.34  s/it)\u001b[39m\u001b[K\r\u001b[32mProgress:  24%|███████                    |  ETA: 2:15:25 ( 5.34  s/it)\u001b[39m\u001b[K\r\u001b[32mProgress:  24%|███████                    |  ETA: 2:14:46 ( 5.33  s/it)\u001b[39m\u001b[K"
     ]
    },
    {
     "name": "stderr",
     "output_type": "stream",
     "text": [
      "\r\u001b[32mProgress:  24%|███████                    |  ETA: 2:15:10 ( 5.35  s/it)\u001b[39m\u001b[K\r\u001b[32mProgress:  24%|███████                    |  ETA: 2:14:28 ( 5.33  s/it)\u001b[39m\u001b[K"
     ]
    },
    {
     "name": "stderr",
     "output_type": "stream",
     "text": [
      "\r\u001b[32mProgress:  24%|███████                    |  ETA: 2:14:41 ( 5.34  s/it)\u001b[39m\u001b[K\r\u001b[32mProgress:  25%|███████                    |  ETA: 2:14:36 ( 5.35  s/it)\u001b[39m\u001b[K\r\u001b[32mProgress:  25%|███████                    |  ETA: 2:13:54 ( 5.33  s/it)\u001b[39m\u001b[K"
     ]
    },
    {
     "name": "stderr",
     "output_type": "stream",
     "text": [
      "\r\u001b[32mProgress:  25%|███████                    |  ETA: 2:14:16 ( 5.35  s/it)\u001b[39m\u001b[K\r\u001b[32mProgress:  25%|███████                    |  ETA: 2:13:55 ( 5.35  s/it)\u001b[39m\u001b[K\r\u001b[32mProgress:  25%|███████                    |  ETA: 2:13:50 ( 5.35  s/it)\u001b[39m\u001b[K\r\u001b[32mProgress:  25%|███████                    |  ETA: 2:13:26 ( 5.34  s/it)\u001b[39m\u001b[K"
     ]
    },
    {
     "name": "stderr",
     "output_type": "stream",
     "text": [
      "\r\u001b[32mProgress:  25%|███████                    |  ETA: 2:13:46 ( 5.36  s/it)\u001b[39m\u001b[K\r\u001b[32mProgress:  25%|███████                    |  ETA: 2:13:04 ( 5.34  s/it)\u001b[39m\u001b[K"
     ]
    },
    {
     "name": "stderr",
     "output_type": "stream",
     "text": [
      "\r\u001b[32mProgress:  25%|███████                    |  ETA: 2:13:29 ( 5.36  s/it)\u001b[39m\u001b[K\r\u001b[32mProgress:  26%|███████                    |  ETA: 2:12:51 ( 5.35  s/it)\u001b[39m\u001b[K"
     ]
    },
    {
     "name": "stderr",
     "output_type": "stream",
     "text": [
      "\r\u001b[32mProgress:  26%|███████                    |  ETA: 2:13:08 ( 5.36  s/it)\u001b[39m\u001b[K\r\u001b[32mProgress:  26%|███████                    |  ETA: 2:12:49 ( 5.36  s/it)\u001b[39m\u001b[K\r\u001b[32mProgress:  26%|████████                   |  ETA: 2:12:13 ( 5.37  s/it)\u001b[39m\u001b[K\r\u001b[32mProgress:  26%|████████                   |  ETA: 2:11:56 ( 5.37  s/it)\u001b[39m\u001b[K\r\u001b[32mProgress:  27%|████████                   |  ETA: 2:11:32 ( 5.37  s/it)\u001b[39m\u001b[K\r\u001b[32mProgress:  27%|████████                   |  ETA: 2:11:08 ( 5.36  s/it)\u001b[39m\u001b[K\r\u001b[32mProgress:  27%|████████                   |  ETA: 2:11:17 ( 5.38  s/it)\u001b[39m\u001b[K\r\u001b[32mProgress:  27%|████████                   |  ETA: 2:10:51 ( 5.37  s/it)\u001b[39m\u001b[K\r\u001b[32mProgress:  27%|████████                   |  ETA: 2:10:48 ( 5.38  s/it)\u001b[39m\u001b[K\r\u001b[32mProgress:  27%|████████                   |  ETA: 2:10:46 ( 5.38  s/it)\u001b[39m\u001b[K\r\u001b[32mProgress:  27%|████████                   |  ETA: 2:10:01 ( 5.37  s/it)\u001b[39m\u001b[K\r\u001b[32mProgress:  27%|████████                   |  ETA: 2:10:05 ( 5.38  s/it)\u001b[39m\u001b[K\r\u001b[32mProgress:  28%|████████                   |  ETA: 2:10:16 ( 5.39  s/it)\u001b[39m\u001b[K\r\u001b[32mProgress:  28%|████████                   |  ETA: 2:09:36 ( 5.38  s/it)\u001b[39m\u001b[K"
     ]
    },
    {
     "name": "stderr",
     "output_type": "stream",
     "text": [
      "\r\u001b[32mProgress:  28%|████████                   |  ETA: 2:09:58 ( 5.40  s/it)\u001b[39m\u001b[K\r\u001b[32mProgress:  28%|████████                   |  ETA: 2:09:20 ( 5.38  s/it)\u001b[39m\u001b[K"
     ]
    },
    {
     "name": "stderr",
     "output_type": "stream",
     "text": [
      "\r\u001b[32mProgress:  28%|████████                   |  ETA: 2:09:32 ( 5.40  s/it)\u001b[39m\u001b[K\r\u001b[32mProgress:  28%|████████                   |  ETA: 2:08:32 ( 5.39  s/it)\u001b[39m\u001b[K"
     ]
    },
    {
     "name": "stderr",
     "output_type": "stream",
     "text": [
      "\r\u001b[32mProgress:  29%|████████                   |  ETA: 2:08:38 ( 5.40  s/it)\u001b[39m\u001b[K\r\u001b[32mProgress:  29%|████████                   |  ETA: 2:08:36 ( 5.40  s/it)\u001b[39m\u001b[K\r\u001b[32mProgress:  29%|████████                   |  ETA: 2:08:34 ( 5.41  s/it)\u001b[39m\u001b[K\r\u001b[32mProgress:  29%|████████                   |  ETA: 2:08:29 ( 5.41  s/it)\u001b[39m\u001b[K\r\u001b[32mProgress:  29%|████████                   |  ETA: 2:07:27 ( 5.41  s/it)\u001b[39m\u001b[K"
     ]
    },
    {
     "name": "stderr",
     "output_type": "stream",
     "text": [
      "\r\u001b[32mProgress:  29%|████████                   |  ETA: 2:07:51 ( 5.43  s/it)\u001b[39m\u001b[K\r\u001b[32mProgress:  30%|████████                   |  ETA: 2:07:36 ( 5.43  s/it)\u001b[39m\u001b[K\r\u001b[32mProgress:  30%|█████████                  |  ETA: 2:06:55 ( 5.42  s/it)\u001b[39m\u001b[K"
     ]
    },
    {
     "name": "stderr",
     "output_type": "stream",
     "text": [
      "\r\u001b[32mProgress:  30%|█████████                  |  ETA: 2:07:06 ( 5.43  s/it)\u001b[39m\u001b[K\r\u001b[32mProgress:  30%|█████████                  |  ETA: 2:06:34 ( 5.43  s/it)\u001b[39m\u001b[K\r\u001b[32mProgress:  30%|█████████                  |  ETA: 2:06:16 ( 5.43  s/it)\u001b[39m\u001b[K\r\u001b[32mProgress:  30%|█████████                  |  ETA: 2:06:36 ( 5.45  s/it)\u001b[39m\u001b[K\r\u001b[32mProgress:  31%|█████████                  |  ETA: 2:05:31 ( 5.45  s/it)\u001b[39m\u001b[K"
     ]
    },
    {
     "name": "stderr",
     "output_type": "stream",
     "text": [
      "\r\u001b[32mProgress:  31%|█████████                  |  ETA: 2:05:31 ( 5.45  s/it)\u001b[39m\u001b[K\r\u001b[32mProgress:  31%|█████████                  |  ETA: 2:05:00 ( 5.44  s/it)\u001b[39m\u001b[K\r\u001b[32mProgress:  31%|█████████                  |  ETA: 2:04:53 ( 5.45  s/it)\u001b[39m\u001b[K\r\u001b[32mProgress:  31%|█████████                  |  ETA: 2:04:38 ( 5.44  s/it)\u001b[39m\u001b[K\r\u001b[32mProgress:  31%|█████████                  |  ETA: 2:04:48 ( 5.45  s/it)\u001b[39m\u001b[K\r\u001b[32mProgress:  32%|█████████                  |  ETA: 2:03:54 ( 5.44  s/it)\u001b[39m\u001b[K"
     ]
    },
    {
     "name": "stderr",
     "output_type": "stream",
     "text": [
      "\r\u001b[32mProgress:  32%|█████████                  |  ETA: 2:03:53 ( 5.44  s/it)\u001b[39m\u001b[K\r\u001b[32mProgress:  32%|█████████                  |  ETA: 2:04:00 ( 5.45  s/it)\u001b[39m\u001b[K\r\u001b[32mProgress:  32%|█████████                  |  ETA: 2:03:07 ( 5.44  s/it)\u001b[39m\u001b[K\r\u001b[32mProgress:  32%|█████████                  |  ETA: 2:03:09 ( 5.44  s/it)\u001b[39m\u001b[K\r\u001b[32mProgress:  32%|█████████                  |  ETA: 2:03:14 ( 5.45  s/it)\u001b[39m\u001b[K\r\u001b[32mProgress:  32%|█████████                  |  ETA: 2:02:45 ( 5.44  s/it)\u001b[39m\u001b[K\r\u001b[32mProgress:  32%|█████████                  |  ETA: 2:02:43 ( 5.44  s/it)\u001b[39m\u001b[K\r\u001b[32mProgress:  32%|█████████                  |  ETA: 2:02:25 ( 5.44  s/it)\u001b[39m\u001b[K\r\u001b[32mProgress:  32%|█████████                  |  ETA: 2:02:23 ( 5.44  s/it)\u001b[39m\u001b[K\r\u001b[32mProgress:  33%|█████████                  |  ETA: 2:02:12 ( 5.44  s/it)\u001b[39m\u001b[K"
     ]
    },
    {
     "name": "stderr",
     "output_type": "stream",
     "text": [
      "\r\u001b[32mProgress:  33%|█████████                  |  ETA: 2:01:56 ( 5.44  s/it)\u001b[39m\u001b[K\r\u001b[32mProgress:  33%|█████████                  |  ETA: 2:01:46 ( 5.44  s/it)\u001b[39m\u001b[K"
     ]
    },
    {
     "name": "stderr",
     "output_type": "stream",
     "text": [
      "\r\u001b[32mProgress:  33%|█████████                  |  ETA: 2:01:30 ( 5.43  s/it)\u001b[39m\u001b[K\r\u001b[32mProgress:  33%|█████████                  |  ETA: 2:01:24 ( 5.43  s/it)\u001b[39m\u001b[K\r\u001b[32mProgress:  33%|█████████                  |  ETA: 2:01:18 ( 5.43  s/it)\u001b[39m\u001b[K"
     ]
    },
    {
     "name": "stderr",
     "output_type": "stream",
     "text": [
      "\r\u001b[32mProgress:  33%|█████████                  |  ETA: 2:01:07 ( 5.43  s/it)\u001b[39m\u001b[K\r\u001b[32mProgress:  33%|█████████                  |  ETA: 2:01:07 ( 5.44  s/it)\u001b[39m\u001b[K\r\u001b[32mProgress:  33%|█████████                  |  ETA: 2:00:47 ( 5.43  s/it)\u001b[39m\u001b[K\r\u001b[32mProgress:  33%|██████████                 |  ETA: 2:00:39 ( 5.43  s/it)\u001b[39m\u001b[K\r\u001b[32mProgress:  33%|██████████                 |  ETA: 2:00:18 ( 5.42  s/it)\u001b[39m\u001b[K\r\u001b[32mProgress:  34%|██████████                 |  ETA: 2:00:22 ( 5.43  s/it)\u001b[39m\u001b[K\r\u001b[32mProgress:  34%|██████████                 |  ETA: 2:00:03 ( 5.42  s/it)\u001b[39m\u001b[K"
     ]
    },
    {
     "name": "stderr",
     "output_type": "stream",
     "text": [
      "\r\u001b[32mProgress:  34%|██████████                 |  ETA: 1:59:56 ( 5.43  s/it)\u001b[39m\u001b[K\r\u001b[32mProgress:  34%|██████████                 |  ETA: 1:59:37 ( 5.42  s/it)\u001b[39m\u001b[K"
     ]
    },
    {
     "name": "stderr",
     "output_type": "stream",
     "text": [
      "\r\u001b[32mProgress:  34%|██████████                 |  ETA: 1:59:26 ( 5.42  s/it)\u001b[39m\u001b[K\r\u001b[32mProgress:  34%|██████████                 |  ETA: 1:59:22 ( 5.42  s/it)\u001b[39m\u001b[K\r\u001b[32mProgress:  34%|██████████                 |  ETA: 1:59:06 ( 5.42  s/it)\u001b[39m\u001b[K\r\u001b[32mProgress:  34%|██████████                 |  ETA: 1:58:58 ( 5.42  s/it)\u001b[39m\u001b[K\r\u001b[32mProgress:  34%|██████████                 |  ETA: 1:58:43 ( 5.42  s/it)\u001b[39m\u001b[K\r\u001b[32mProgress:  34%|██████████                 |  ETA: 1:58:34 ( 5.42  s/it)\u001b[39m\u001b[K\r\u001b[32mProgress:  35%|██████████                 |  ETA: 1:58:08 ( 5.42  s/it)\u001b[39m\u001b[K\r\u001b[32mProgress:  35%|██████████                 |  ETA: 1:57:50 ( 5.41  s/it)\u001b[39m\u001b[K\r\u001b[32mProgress:  35%|██████████                 |  ETA: 1:57:44 ( 5.41  s/it)\u001b[39m\u001b[K\r\u001b[32mProgress:  35%|██████████                 |  ETA: 1:57:22 ( 5.40  s/it)\u001b[39m\u001b[K\r\u001b[32mProgress:  35%|██████████                 |  ETA: 1:57:17 ( 5.41  s/it)\u001b[39m\u001b[K\r\u001b[32mProgress:  35%|██████████                 |  ETA: 1:57:11 ( 5.41  s/it)\u001b[39m\u001b[K"
     ]
    },
    {
     "name": "stderr",
     "output_type": "stream",
     "text": [
      "\r\u001b[32mProgress:  36%|██████████                 |  ETA: 1:56:00 ( 5.40  s/it)\u001b[39m\u001b[K\r\u001b[32mProgress:  36%|██████████                 |  ETA: 1:55:59 ( 5.40  s/it)\u001b[39m\u001b[K\r\u001b[32mProgress:  36%|██████████                 |  ETA: 1:55:55 ( 5.40  s/it)\u001b[39m\u001b[K"
     ]
    },
    {
     "name": "stderr",
     "output_type": "stream",
     "text": [
      "\r\u001b[32mProgress:  36%|██████████                 |  ETA: 1:54:41 ( 5.38  s/it)\u001b[39m\u001b[K\r\u001b[32mProgress:  36%|██████████                 |  ETA: 1:54:48 ( 5.39  s/it)\u001b[39m\u001b[K\r\u001b[32mProgress:  36%|██████████                 |  ETA: 1:54:31 ( 5.39  s/it)\u001b[39m\u001b[K\r\u001b[32mProgress:  37%|██████████                 |  ETA: 1:53:39 ( 5.38  s/it)\u001b[39m\u001b[K\r\u001b[32mProgress:  37%|██████████                 |  ETA: 1:53:34 ( 5.38  s/it)\u001b[39m\u001b[K\r\u001b[32mProgress:  37%|██████████                 |  ETA: 1:53:34 ( 5.39  s/it)\u001b[39m\u001b[K\r\u001b[32mProgress:  37%|██████████                 |  ETA: 1:53:16 ( 5.38  s/it)\u001b[39m\u001b[K\r\u001b[32mProgress:  37%|██████████                 |  ETA: 1:53:07 ( 5.38  s/it)\u001b[39m\u001b[K\r\u001b[32mProgress:  37%|██████████                 |  ETA: 1:53:02 ( 5.38  s/it)\u001b[39m\u001b[K"
     ]
    },
    {
     "name": "stderr",
     "output_type": "stream",
     "text": [
      "\r\u001b[32mProgress:  37%|███████████                |  ETA: 1:52:47 ( 5.38  s/it)\u001b[39m\u001b[K\r\u001b[32mProgress:  37%|███████████                |  ETA: 1:52:41 ( 5.38  s/it)\u001b[39m\u001b[K\r\u001b[32mProgress:  37%|███████████                |  ETA: 1:52:37 ( 5.38  s/it)\u001b[39m\u001b[K"
     ]
    },
    {
     "name": "stderr",
     "output_type": "stream",
     "text": [
      "\r\u001b[32mProgress:  37%|███████████                |  ETA: 1:52:11 ( 5.38  s/it)\u001b[39m\u001b[K"
     ]
    },
    {
     "name": "stderr",
     "output_type": "stream",
     "text": [
      "\r\u001b[32mProgress:  38%|███████████                |  ETA: 1:51:55 ( 5.38  s/it)\u001b[39m\u001b[K\r\u001b[32mProgress:  38%|███████████                |  ETA: 1:51:37 ( 5.37  s/it)\u001b[39m\u001b[K\r\u001b[32mProgress:  38%|███████████                |  ETA: 1:51:38 ( 5.38  s/it)\u001b[39m\u001b[K\r\u001b[32mProgress:  38%|███████████                |  ETA: 1:51:33 ( 5.38  s/it)\u001b[39m\u001b[K\r\u001b[32mProgress:  38%|███████████                |  ETA: 1:51:15 ( 5.37  s/it)\u001b[39m\u001b[K\r\u001b[32mProgress:  38%|███████████                |  ETA: 1:51:11 ( 5.37  s/it)\u001b[39m\u001b[K\r\u001b[32mProgress:  38%|███████████                |  ETA: 1:51:10 ( 5.37  s/it)\u001b[39m\u001b[K\r\u001b[32mProgress:  38%|███████████                |  ETA: 1:50:51 ( 5.37  s/it)\u001b[39m\u001b[K\r\u001b[32mProgress:  38%|███████████                |  ETA: 1:50:44 ( 5.37  s/it)\u001b[39m\u001b[K\r\u001b[32mProgress:  38%|███████████                |  ETA: 1:50:25 ( 5.36  s/it)\u001b[39m\u001b[K\r\u001b[32mProgress:  38%|███████████                |  ETA: 1:50:18 ( 5.37  s/it)\u001b[39m\u001b[K\r\u001b[32mProgress:  38%|███████████                |  ETA: 1:50:03 ( 5.36  s/it)\u001b[39m\u001b[K\r\u001b[32mProgress:  38%|███████████                |  ETA: 1:49:59 ( 5.37  s/it)\u001b[39m\u001b[K\r\u001b[32mProgress:  39%|███████████                |  ETA: 1:49:57 ( 5.37  s/it)\u001b[39m\u001b[K\r\u001b[32mProgress:  39%|███████████                |  ETA: 1:49:34 ( 5.36  s/it)\u001b[39m\u001b[K\r\u001b[32mProgress:  39%|███████████                |  ETA: 1:49:33 ( 5.37  s/it)\u001b[39m\u001b[K\r\u001b[32mProgress:  39%|███████████                |  ETA: 1:49:19 ( 5.36  s/it)\u001b[39m\u001b[K\r\u001b[32mProgress:  39%|███████████                |  ETA: 1:49:09 ( 5.36  s/it)\u001b[39m\u001b[K\r\u001b[32mProgress:  39%|███████████                |  ETA: 1:48:54 ( 5.36  s/it)\u001b[39m\u001b[K\r\u001b[32mProgress:  39%|███████████                |  ETA: 1:48:47 ( 5.36  s/it)\u001b[39m\u001b[K\r\u001b[32mProgress:  39%|███████████                |  ETA: 1:48:22 ( 5.36  s/it)\u001b[39m\u001b[K\r\u001b[32mProgress:  40%|███████████                |  ETA: 1:47:14 ( 5.35  s/it)\u001b[39m\u001b[K\r\u001b[32mProgress:  40%|███████████                |  ETA: 1:47:10 ( 5.35  s/it)\u001b[39m\u001b[K\r\u001b[32mProgress:  40%|███████████                |  ETA: 1:47:07 ( 5.35  s/it)\u001b[39m\u001b[K\r\u001b[32mProgress:  40%|███████████                |  ETA: 1:46:35 ( 5.35  s/it)\u001b[39m\u001b[K"
     ]
    },
    {
     "name": "stderr",
     "output_type": "stream",
     "text": [
      "\r\u001b[32mProgress:  40%|███████████                |  ETA: 1:46:30 ( 5.35  s/it)\u001b[39m\u001b[K\r\u001b[32mProgress:  40%|███████████                |  ETA: 1:46:19 ( 5.35  s/it)\u001b[39m\u001b[K\r\u001b[32mProgress:  40%|███████████                |  ETA: 1:46:04 ( 5.34  s/it)\u001b[39m\u001b[K\r\u001b[32mProgress:  40%|███████████                |  ETA: 1:45:59 ( 5.34  s/it)\u001b[39m\u001b[K\r\u001b[32mProgress:  41%|███████████                |  ETA: 1:45:58 ( 5.35  s/it)\u001b[39m\u001b[K\r\u001b[32mProgress:  41%|███████████                |  ETA: 1:45:39 ( 5.34  s/it)\u001b[39m\u001b[K\r\u001b[32mProgress:  41%|████████████               |  ETA: 1:45:33 ( 5.34  s/it)\u001b[39m\u001b[K\r\u001b[32mProgress:  41%|████████████               |  ETA: 1:45:16 ( 5.34  s/it)\u001b[39m\u001b[K\r\u001b[32mProgress:  41%|████████████               |  ETA: 1:45:20 ( 5.35  s/it)\u001b[39m\u001b[K\r\u001b[32mProgress:  41%|████████████               |  ETA: 1:45:05 ( 5.34  s/it)\u001b[39m\u001b[K"
     ]
    },
    {
     "name": "stderr",
     "output_type": "stream",
     "text": [
      "\r\u001b[32mProgress:  41%|████████████               |  ETA: 1:44:42 ( 5.34  s/it)\u001b[39m\u001b[K"
     ]
    },
    {
     "name": "stderr",
     "output_type": "stream",
     "text": [
      "\r\u001b[32mProgress:  42%|████████████               |  ETA: 1:43:51 ( 5.33  s/it)\u001b[39m\u001b[K"
     ]
    },
    {
     "name": "stderr",
     "output_type": "stream",
     "text": [
      "\r\u001b[32mProgress:  42%|████████████               |  ETA: 1:43:47 ( 5.34  s/it)\u001b[39m\u001b[K\r\u001b[32mProgress:  42%|████████████               |  ETA: 1:43:19 ( 5.33  s/it)\u001b[39m\u001b[K\r\u001b[32mProgress:  42%|████████████               |  ETA: 1:43:15 ( 5.34  s/it)\u001b[39m\u001b[K\r\u001b[32mProgress:  42%|████████████               |  ETA: 1:42:31 ( 5.33  s/it)\u001b[39m\u001b[K\r\u001b[32mProgress:  42%|████████████               |  ETA: 1:42:37 ( 5.34  s/it)\u001b[39m\u001b[K\r\u001b[32mProgress:  42%|████████████               |  ETA: 1:42:33 ( 5.34  s/it)\u001b[39m\u001b[K\r\u001b[32mProgress:  43%|████████████               |  ETA: 1:42:04 ( 5.33  s/it)\u001b[39m\u001b[K"
     ]
    },
    {
     "name": "stderr",
     "output_type": "stream",
     "text": [
      "\r\u001b[32mProgress:  43%|████████████               |  ETA: 1:41:59 ( 5.33  s/it)\u001b[39m\u001b[K\r\u001b[32mProgress:  43%|████████████               |  ETA: 1:42:01 ( 5.34  s/it)\u001b[39m\u001b[K\r\u001b[32mProgress:  43%|████████████               |  ETA: 1:41:49 ( 5.34  s/it)\u001b[39m\u001b[K"
     ]
    },
    {
     "name": "stderr",
     "output_type": "stream",
     "text": [
      "\r\u001b[32mProgress:  43%|████████████               |  ETA: 1:41:46 ( 5.34  s/it)\u001b[39m\u001b[K\r\u001b[32mProgress:  43%|████████████               |  ETA: 1:41:43 ( 5.34  s/it)\u001b[39m\u001b[K\r\u001b[32mProgress:  43%|████████████               |  ETA: 1:41:27 ( 5.34  s/it)\u001b[39m\u001b[K"
     ]
    },
    {
     "name": "stderr",
     "output_type": "stream",
     "text": [
      "\r\u001b[32mProgress:  43%|████████████               |  ETA: 1:41:24 ( 5.34  s/it)\u001b[39m\u001b[K\r\u001b[32mProgress:  43%|████████████               |  ETA: 1:41:20 ( 5.34  s/it)\u001b[39m\u001b[K\r\u001b[32mProgress:  43%|████████████               |  ETA: 1:41:03 ( 5.34  s/it)\u001b[39m\u001b[K"
     ]
    },
    {
     "name": "stderr",
     "output_type": "stream",
     "text": [
      "\r\u001b[32mProgress:  43%|████████████               |  ETA: 1:41:01 ( 5.34  s/it)\u001b[39m\u001b[K\r\u001b[32mProgress:  43%|████████████               |  ETA: 1:40:57 ( 5.34  s/it)\u001b[39m\u001b[K\r\u001b[32mProgress:  43%|████████████               |  ETA: 1:40:41 ( 5.34  s/it)\u001b[39m\u001b[K"
     ]
    },
    {
     "name": "stderr",
     "output_type": "stream",
     "text": [
      "\r\u001b[32mProgress:  43%|████████████               |  ETA: 1:40:37 ( 5.34  s/it)\u001b[39m\u001b[K\r\u001b[32mProgress:  44%|████████████               |  ETA: 1:40:38 ( 5.34  s/it)\u001b[39m\u001b[K\r\u001b[32mProgress:  44%|████████████               |  ETA: 1:40:16 ( 5.34  s/it)\u001b[39m\u001b[K\r\u001b[32mProgress:  44%|████████████               |  ETA: 1:39:45 ( 5.34  s/it)\u001b[39m\u001b[K\r\u001b[32mProgress:  44%|████████████               |  ETA: 1:39:33 ( 5.34  s/it)\u001b[39m\u001b[K\r\u001b[32mProgress:  44%|████████████               |  ETA: 1:39:30 ( 5.34  s/it)\u001b[39m\u001b[K\r\u001b[32mProgress:  44%|████████████               |  ETA: 1:39:15 ( 5.34  s/it)\u001b[39m\u001b[K"
     ]
    },
    {
     "name": "stderr",
     "output_type": "stream",
     "text": [
      "\r\u001b[32mProgress:  44%|████████████               |  ETA: 1:39:09 ( 5.34  s/it)\u001b[39m\u001b[K\r\u001b[32mProgress:  44%|████████████               |  ETA: 1:39:05 ( 5.34  s/it)\u001b[39m\u001b[K\r\u001b[32mProgress:  44%|████████████               |  ETA: 1:38:59 ( 5.34  s/it)\u001b[39m\u001b[K\r\u001b[32mProgress:  44%|█████████████              |  ETA: 1:38:43 ( 5.33  s/it)\u001b[39m\u001b[K\r\u001b[32mProgress:  44%|█████████████              |  ETA: 1:38:42 ( 5.34  s/it)\u001b[39m\u001b[K\r\u001b[32mProgress:  45%|█████████████              |  ETA: 1:38:38 ( 5.34  s/it)\u001b[39m\u001b[K\r\u001b[32mProgress:  45%|█████████████              |  ETA: 1:38:22 ( 5.33  s/it)\u001b[39m\u001b[K\r\u001b[32mProgress:  45%|█████████████              |  ETA: 1:38:20 ( 5.33  s/it)\u001b[39m\u001b[K\r\u001b[32mProgress:  45%|█████████████              |  ETA: 1:38:15 ( 5.34  s/it)\u001b[39m\u001b[K\r\u001b[32mProgress:  45%|█████████████              |  ETA: 1:37:58 ( 5.33  s/it)\u001b[39m\u001b[K\r\u001b[32mProgress:  45%|█████████████              |  ETA: 1:37:54 ( 5.34  s/it)\u001b[39m\u001b[K\r\u001b[32mProgress:  45%|█████████████              |  ETA: 1:37:07 ( 5.33  s/it)\u001b[39m\u001b[K\r\u001b[32mProgress:  46%|█████████████              |  ETA: 1:36:45 ( 5.33  s/it)\u001b[39m\u001b[K\r\u001b[32mProgress:  46%|█████████████              |  ETA: 1:36:26 ( 5.33  s/it)\u001b[39m\u001b[K\r\u001b[32mProgress:  46%|█████████████              |  ETA: 1:36:12 ( 5.32  s/it)\u001b[39m\u001b[K"
     ]
    },
    {
     "name": "stderr",
     "output_type": "stream",
     "text": [
      "\r\u001b[32mProgress:  46%|█████████████              |  ETA: 1:36:07 ( 5.32  s/it)\u001b[39m\u001b[K\r\u001b[32mProgress:  46%|█████████████              |  ETA: 1:35:56 ( 5.32  s/it)\u001b[39m\u001b[K"
     ]
    },
    {
     "name": "stderr",
     "output_type": "stream",
     "text": [
      "\r\u001b[32mProgress:  46%|█████████████              |  ETA: 1:35:23 ( 5.32  s/it)\u001b[39m\u001b[K\r\u001b[32mProgress:  46%|█████████████              |  ETA: 1:35:21 ( 5.32  s/it)\u001b[39m\u001b[K\r\u001b[32mProgress:  46%|█████████████              |  ETA: 1:35:17 ( 5.32  s/it)\u001b[39m\u001b[K\r\u001b[32mProgress:  46%|█████████████              |  ETA: 1:34:58 ( 5.32  s/it)\u001b[39m\u001b[K\r\u001b[32mProgress:  46%|█████████████              |  ETA: 1:34:55 ( 5.32  s/it)\u001b[39m\u001b[K"
     ]
    },
    {
     "name": "stderr",
     "output_type": "stream",
     "text": [
      "\r\u001b[32mProgress:  47%|█████████████              |  ETA: 1:34:31 ( 5.32  s/it)\u001b[39m\u001b[K"
     ]
    },
    {
     "name": "stderr",
     "output_type": "stream",
     "text": [
      "\r\u001b[32mProgress:  47%|█████████████              |  ETA: 1:34:07 ( 5.32  s/it)\u001b[39m\u001b[K"
     ]
    },
    {
     "name": "stderr",
     "output_type": "stream",
     "text": [
      "\r\u001b[32mProgress:  47%|█████████████              |  ETA: 1:33:44 ( 5.32  s/it)\u001b[39m\u001b[K"
     ]
    },
    {
     "name": "stderr",
     "output_type": "stream",
     "text": [
      "\r\u001b[32mProgress:  47%|█████████████              |  ETA: 1:33:30 ( 5.31  s/it)\u001b[39m\u001b[K\r\u001b[32mProgress:  47%|█████████████              |  ETA: 1:33:27 ( 5.31  s/it)\u001b[39m\u001b[K\r\u001b[32mProgress:  47%|█████████████              |  ETA: 1:33:12 ( 5.31  s/it)\u001b[39m\u001b[K\r\u001b[32mProgress:  47%|█████████████              |  ETA: 1:33:07 ( 5.32  s/it)\u001b[39m\u001b[K\r\u001b[32mProgress:  48%|█████████████              |  ETA: 1:32:06 ( 5.31  s/it)\u001b[39m\u001b[K\r\u001b[32mProgress:  48%|█████████████              |  ETA: 1:32:05 ( 5.31  s/it)\u001b[39m\u001b[K"
     ]
    },
    {
     "name": "stderr",
     "output_type": "stream",
     "text": [
      "\r\u001b[32mProgress:  48%|█████████████              |  ETA: 1:31:50 ( 5.31  s/it)\u001b[39m\u001b[K\r\u001b[32mProgress:  48%|██████████████             |  ETA: 1:31:41 ( 5.31  s/it)\u001b[39m\u001b[K"
     ]
    },
    {
     "name": "stderr",
     "output_type": "stream",
     "text": [
      "\r\u001b[32mProgress:  48%|██████████████             |  ETA: 1:31:28 ( 5.31  s/it)\u001b[39m\u001b[K\r\u001b[32mProgress:  48%|██████████████             |  ETA: 1:31:24 ( 5.31  s/it)\u001b[39m\u001b[K\r\u001b[32mProgress:  48%|██████████████             |  ETA: 1:31:12 ( 5.31  s/it)\u001b[39m\u001b[K\r\u001b[32mProgress:  48%|██████████████             |  ETA: 1:31:09 ( 5.31  s/it)\u001b[39m\u001b[K\r\u001b[32mProgress:  49%|██████████████             |  ETA: 1:30:54 ( 5.31  s/it)\u001b[39m\u001b[K"
     ]
    },
    {
     "name": "stderr",
     "output_type": "stream",
     "text": [
      "\r\u001b[32mProgress:  49%|██████████████             |  ETA: 1:30:50 ( 5.31  s/it)\u001b[39m\u001b[K\r\u001b[32mProgress:  49%|██████████████             |  ETA: 1:30:46 ( 5.31  s/it)\u001b[39m\u001b[K\r\u001b[32mProgress:  49%|██████████████             |  ETA: 1:30:42 ( 5.31  s/it)\u001b[39m\u001b[K"
     ]
    },
    {
     "name": "stderr",
     "output_type": "stream",
     "text": [
      "\r\u001b[32mProgress:  49%|██████████████             |  ETA: 1:29:45 ( 5.31  s/it)\u001b[39m\u001b[K\r\u001b[32mProgress:  49%|██████████████             |  ETA: 1:29:44 ( 5.31  s/it)\u001b[39m\u001b[K"
     ]
    },
    {
     "name": "stderr",
     "output_type": "stream",
     "text": [
      "\r\u001b[32mProgress:  50%|██████████████             |  ETA: 1:29:21 ( 5.31  s/it)\u001b[39m\u001b[K"
     ]
    },
    {
     "name": "stderr",
     "output_type": "stream",
     "text": [
      "\r\u001b[32mProgress:  50%|██████████████             |  ETA: 1:29:07 ( 5.30  s/it)\u001b[39m\u001b[K\r\u001b[32mProgress:  50%|██████████████             |  ETA: 1:28:59 ( 5.31  s/it)\u001b[39m\u001b[K"
     ]
    },
    {
     "name": "stderr",
     "output_type": "stream",
     "text": [
      "\r\u001b[32mProgress:  50%|██████████████             |  ETA: 1:28:37 ( 5.31  s/it)\u001b[39m\u001b[K"
     ]
    },
    {
     "name": "stderr",
     "output_type": "stream",
     "text": [
      "\r\u001b[32mProgress:  50%|██████████████             |  ETA: 1:28:22 ( 5.30  s/it)\u001b[39m\u001b[K\r\u001b[32mProgress:  50%|██████████████             |  ETA: 1:28:15 ( 5.31  s/it)\u001b[39m\u001b[K"
     ]
    },
    {
     "name": "stderr",
     "output_type": "stream",
     "text": [
      "\r\u001b[32mProgress:  50%|██████████████             |  ETA: 1:27:55 ( 5.30  s/it)\u001b[39m\u001b[K\r\u001b[32mProgress:  50%|██████████████             |  ETA: 1:27:51 ( 5.30  s/it)\u001b[39m\u001b[K"
     ]
    },
    {
     "name": "stderr",
     "output_type": "stream",
     "text": [
      "\r\u001b[32mProgress:  50%|██████████████             |  ETA: 1:27:36 ( 5.30  s/it)\u001b[39m\u001b[K\r\u001b[32mProgress:  50%|██████████████             |  ETA: 1:27:33 ( 5.30  s/it)\u001b[39m\u001b[K\r\u001b[32mProgress:  51%|██████████████             |  ETA: 1:27:23 ( 5.30  s/it)\u001b[39m\u001b[K\r\u001b[32mProgress:  51%|██████████████             |  ETA: 1:26:59 ( 5.30  s/it)\u001b[39m\u001b[K\r\u001b[32mProgress:  51%|██████████████             |  ETA: 1:26:49 ( 5.30  s/it)\u001b[39m\u001b[K\r\u001b[32mProgress:  51%|██████████████             |  ETA: 1:26:20 ( 5.30  s/it)\u001b[39m\u001b[K"
     ]
    },
    {
     "name": "stderr",
     "output_type": "stream",
     "text": [
      "\r\u001b[32mProgress:  51%|██████████████             |  ETA: 1:26:15 ( 5.30  s/it)\u001b[39m\u001b[K\r\u001b[32mProgress:  51%|██████████████             |  ETA: 1:25:58 ( 5.30  s/it)\u001b[39m\u001b[K"
     ]
    },
    {
     "name": "stderr",
     "output_type": "stream",
     "text": [
      "\r\u001b[32mProgress:  51%|██████████████             |  ETA: 1:25:45 ( 5.29  s/it)\u001b[39m\u001b[K\r\u001b[32mProgress:  51%|██████████████             |  ETA: 1:25:40 ( 5.29  s/it)\u001b[39m\u001b[K\r\u001b[32mProgress:  52%|██████████████             |  ETA: 1:25:29 ( 5.29  s/it)\u001b[39m\u001b[K\r\u001b[32mProgress:  52%|██████████████             |  ETA: 1:25:18 ( 5.29  s/it)\u001b[39m\u001b[K\r\u001b[32mProgress:  52%|██████████████             |  ETA: 1:25:14 ( 5.29  s/it)\u001b[39m\u001b[K"
     ]
    },
    {
     "name": "stderr",
     "output_type": "stream",
     "text": [
      "\r\u001b[32mProgress:  52%|██████████████             |  ETA: 1:25:01 ( 5.29  s/it)\u001b[39m\u001b[K\r\u001b[32mProgress:  52%|██████████████             |  ETA: 1:24:58 ( 5.29  s/it)\u001b[39m\u001b[K\r\u001b[32mProgress:  52%|███████████████            |  ETA: 1:24:45 ( 5.29  s/it)\u001b[39m\u001b[K\r\u001b[32mProgress:  52%|███████████████            |  ETA: 1:24:37 ( 5.29  s/it)\u001b[39m\u001b[K\r\u001b[32mProgress:  52%|███████████████            |  ETA: 1:23:54 ( 5.29  s/it)\u001b[39m\u001b[K\r\u001b[32mProgress:  52%|███████████████            |  ETA: 1:23:50 ( 5.29  s/it)\u001b[39m\u001b[K"
     ]
    },
    {
     "name": "stderr",
     "output_type": "stream",
     "text": [
      "\r\u001b[32mProgress:  53%|███████████████            |  ETA: 1:23:33 ( 5.29  s/it)\u001b[39m\u001b[K\r\u001b[32mProgress:  53%|███████████████            |  ETA: 1:23:28 ( 5.29  s/it)\u001b[39m\u001b[K"
     ]
    },
    {
     "name": "stderr",
     "output_type": "stream",
     "text": [
      "\r\u001b[32mProgress:  53%|███████████████            |  ETA: 1:23:16 ( 5.29  s/it)\u001b[39m\u001b[K\r\u001b[32mProgress:  53%|███████████████            |  ETA: 1:23:06 ( 5.29  s/it)\u001b[39m\u001b[K"
     ]
    },
    {
     "name": "stderr",
     "output_type": "stream",
     "text": [
      "\r\u001b[32mProgress:  53%|███████████████            |  ETA: 1:22:53 ( 5.28  s/it)\u001b[39m\u001b[K\r\u001b[32mProgress:  53%|███████████████            |  ETA: 1:22:47 ( 5.28  s/it)\u001b[39m\u001b[K\r\u001b[32mProgress:  53%|███████████████            |  ETA: 1:22:43 ( 5.29  s/it)\u001b[39m\u001b[K"
     ]
    },
    {
     "name": "stderr",
     "output_type": "stream",
     "text": [
      "\r\u001b[32mProgress:  53%|███████████████            |  ETA: 1:22:39 ( 5.29  s/it)\u001b[39m\u001b[K\r\u001b[32mProgress:  53%|███████████████            |  ETA: 1:22:26 ( 5.28  s/it)\u001b[39m\u001b[K\r\u001b[32mProgress:  53%|███████████████            |  ETA: 1:22:23 ( 5.29  s/it)\u001b[39m\u001b[K"
     ]
    },
    {
     "name": "stderr",
     "output_type": "stream",
     "text": [
      "\r\u001b[32mProgress:  53%|███████████████            |  ETA: 1:22:19 ( 5.29  s/it)\u001b[39m\u001b[K\r\u001b[32mProgress:  54%|███████████████            |  ETA: 1:21:47 ( 5.28  s/it)\u001b[39m\u001b[K\r\u001b[32mProgress:  54%|███████████████            |  ETA: 1:21:40 ( 5.29  s/it)\u001b[39m\u001b[K"
     ]
    },
    {
     "name": "stderr",
     "output_type": "stream",
     "text": [
      "\r\u001b[32mProgress:  54%|███████████████            |  ETA: 1:21:35 ( 5.29  s/it)\u001b[39m\u001b[K\r\u001b[32mProgress:  54%|███████████████            |  ETA: 1:20:40 ( 5.28  s/it)\u001b[39m\u001b[K\r\u001b[32mProgress:  54%|███████████████            |  ETA: 1:20:36 ( 5.28  s/it)\u001b[39m\u001b[K"
     ]
    },
    {
     "name": "stderr",
     "output_type": "stream",
     "text": [
      "\r\u001b[32mProgress:  54%|███████████████            |  ETA: 1:20:25 ( 5.28  s/it)\u001b[39m\u001b[K\r\u001b[32mProgress:  54%|███████████████            |  ETA: 1:20:13 ( 5.28  s/it)\u001b[39m\u001b[K"
     ]
    },
    {
     "name": "stderr",
     "output_type": "stream",
     "text": [
      "\r\u001b[32mProgress:  54%|███████████████            |  ETA: 1:20:08 ( 5.28  s/it)\u001b[39m\u001b[K\r\u001b[32mProgress:  55%|███████████████            |  ETA: 1:20:03 ( 5.28  s/it)\u001b[39m\u001b[K\r\u001b[32mProgress:  55%|███████████████            |  ETA: 1:19:51 ( 5.28  s/it)\u001b[39m\u001b[K"
     ]
    },
    {
     "name": "stderr",
     "output_type": "stream",
     "text": [
      "\r\u001b[32mProgress:  55%|███████████████            |  ETA: 1:19:47 ( 5.28  s/it)\u001b[39m\u001b[K\r\u001b[32mProgress:  55%|███████████████            |  ETA: 1:19:34 ( 5.28  s/it)\u001b[39m\u001b[K\r\u001b[32mProgress:  55%|███████████████            |  ETA: 1:19:29 ( 5.28  s/it)\u001b[39m\u001b[K"
     ]
    },
    {
     "name": "stderr",
     "output_type": "stream",
     "text": [
      "\r\u001b[32mProgress:  55%|███████████████            |  ETA: 1:19:25 ( 5.28  s/it)\u001b[39m\u001b[K\r\u001b[32mProgress:  55%|███████████████            |  ETA: 1:19:07 ( 5.28  s/it)\u001b[39m\u001b[K"
     ]
    },
    {
     "name": "stderr",
     "output_type": "stream",
     "text": [
      "\r\u001b[32mProgress:  55%|███████████████            |  ETA: 1:19:05 ( 5.28  s/it)\u001b[39m\u001b[K\r\u001b[32mProgress:  55%|███████████████            |  ETA: 1:18:27 ( 5.28  s/it)\u001b[39m\u001b[K\r\u001b[32mProgress:  55%|███████████████            |  ETA: 1:18:25 ( 5.28  s/it)\u001b[39m\u001b[K"
     ]
    },
    {
     "name": "stderr",
     "output_type": "stream",
     "text": [
      "\r\u001b[32mProgress:  56%|███████████████            |  ETA: 1:18:21 ( 5.28  s/it)\u001b[39m\u001b[K\r\u001b[32mProgress:  56%|████████████████           |  ETA: 1:18:05 ( 5.28  s/it)\u001b[39m\u001b[K"
     ]
    },
    {
     "name": "stderr",
     "output_type": "stream",
     "text": [
      "\r\u001b[32mProgress:  56%|████████████████           |  ETA: 1:17:43 ( 5.27  s/it)\u001b[39m\u001b[K\r\u001b[32mProgress:  56%|████████████████           |  ETA: 1:17:34 ( 5.28  s/it)\u001b[39m\u001b[K\r\u001b[32mProgress:  56%|████████████████           |  ETA: 1:17:21 ( 5.27  s/it)\u001b[39m\u001b[K\r\u001b[32mProgress:  56%|████████████████           |  ETA: 1:17:20 ( 5.28  s/it)\u001b[39m\u001b[K\r\u001b[32mProgress:  56%|████████████████           |  ETA: 1:16:57 ( 5.27  s/it)\u001b[39m\u001b[K\r\u001b[32mProgress:  56%|████████████████           |  ETA: 1:16:50 ( 5.27  s/it)\u001b[39m\u001b[K\r\u001b[32mProgress:  56%|████████████████           |  ETA: 1:16:35 ( 5.28  s/it)\u001b[39m\u001b[K\r\u001b[32mProgress:  57%|████████████████           |  ETA: 1:15:50 ( 5.27  s/it)\u001b[39m\u001b[K\r\u001b[32mProgress:  57%|████████████████           |  ETA: 1:15:50 ( 5.27  s/it)\u001b[39m\u001b[K\r\u001b[32mProgress:  57%|████████████████           |  ETA: 1:14:50 ( 5.26  s/it)\u001b[39m\u001b[K\r\u001b[32mProgress:  57%|████████████████           |  ETA: 1:14:39 ( 5.26  s/it)\u001b[39m\u001b[K"
     ]
    },
    {
     "name": "stderr",
     "output_type": "stream",
     "text": [
      "\r\u001b[32mProgress:  58%|████████████████           |  ETA: 1:14:37 ( 5.27  s/it)\u001b[39m\u001b[K\r\u001b[32mProgress:  58%|████████████████           |  ETA: 1:14:15 ( 5.27  s/it)\u001b[39m\u001b[K\r\u001b[32mProgress:  58%|████████████████           |  ETA: 1:13:36 ( 5.26  s/it)\u001b[39m\u001b[K\r\u001b[32mProgress:  58%|████████████████           |  ETA: 1:13:34 ( 5.26  s/it)\u001b[39m\u001b[K"
     ]
    },
    {
     "name": "stderr",
     "output_type": "stream",
     "text": [
      "\r\u001b[32mProgress:  58%|████████████████           |  ETA: 1:13:31 ( 5.26  s/it)\u001b[39m\u001b[K\r\u001b[32mProgress:  58%|████████████████           |  ETA: 1:13:11 ( 5.26  s/it)\u001b[39m\u001b[K\r\u001b[32mProgress:  58%|████████████████           |  ETA: 1:12:48 ( 5.26  s/it)\u001b[39m\u001b[K"
     ]
    },
    {
     "name": "stderr",
     "output_type": "stream",
     "text": [
      "\r\u001b[32mProgress:  59%|████████████████           |  ETA: 1:12:41 ( 5.26  s/it)\u001b[39m\u001b[K\r\u001b[32mProgress:  59%|████████████████           |  ETA: 1:11:42 ( 5.25  s/it)\u001b[39m\u001b[K"
     ]
    },
    {
     "name": "stderr",
     "output_type": "stream",
     "text": [
      "\r\u001b[32mProgress:  59%|████████████████           |  ETA: 1:11:43 ( 5.26  s/it)\u001b[39m\u001b[K\r\u001b[32mProgress:  59%|████████████████           |  ETA: 1:11:20 ( 5.25  s/it)\u001b[39m\u001b[K"
     ]
    },
    {
     "name": "stderr",
     "output_type": "stream",
     "text": [
      "\r\u001b[32mProgress:  59%|█████████████████          |  ETA: 1:11:05 ( 5.25  s/it)\u001b[39m\u001b[K\r\u001b[32mProgress:  60%|█████████████████          |  ETA: 1:10:58 ( 5.26  s/it)\u001b[39m\u001b[K\r\u001b[32mProgress:  60%|█████████████████          |  ETA: 1:10:28 ( 5.25  s/it)\u001b[39m\u001b[K\r\u001b[32mProgress:  60%|█████████████████          |  ETA: 1:10:11 ( 5.25  s/it)\u001b[39m\u001b[K\r\u001b[32mProgress:  60%|█████████████████          |  ETA: 1:10:06 ( 5.25  s/it)\u001b[39m\u001b[K\r\u001b[32mProgress:  60%|█████████████████          |  ETA: 1:09:49 ( 5.25  s/it)\u001b[39m\u001b[K\r\u001b[32mProgress:  60%|█████████████████          |  ETA: 1:09:45 ( 5.25  s/it)\u001b[39m\u001b[K\r\u001b[32mProgress:  60%|█████████████████          |  ETA: 1:09:26 ( 5.25  s/it)\u001b[39m\u001b[K\r\u001b[32mProgress:  60%|█████████████████          |  ETA: 1:09:23 ( 5.25  s/it)\u001b[39m\u001b[K"
     ]
    },
    {
     "name": "stderr",
     "output_type": "stream",
     "text": [
      "\r\u001b[32mProgress:  61%|█████████████████          |  ETA: 1:08:44 ( 5.25  s/it)\u001b[39m\u001b[K\r\u001b[32mProgress:  61%|█████████████████          |  ETA: 1:08:31 ( 5.24  s/it)\u001b[39m\u001b[K\r\u001b[32mProgress:  61%|█████████████████          |  ETA: 1:08:22 ( 5.25  s/it)\u001b[39m\u001b[K\r\u001b[32mProgress:  61%|█████████████████          |  ETA: 1:08:09 ( 5.24  s/it)\u001b[39m\u001b[K\r\u001b[32mProgress:  61%|█████████████████          |  ETA: 1:08:00 ( 5.24  s/it)\u001b[39m\u001b[K"
     ]
    },
    {
     "name": "stderr",
     "output_type": "stream",
     "text": [
      "\r\u001b[32mProgress:  62%|█████████████████          |  ETA: 1:07:05 ( 5.24  s/it)\u001b[39m\u001b[K\r\u001b[32mProgress:  62%|█████████████████          |  ETA: 1:06:21 ( 5.24  s/it)\u001b[39m\u001b[K\r\u001b[32mProgress:  62%|█████████████████          |  ETA: 1:06:05 ( 5.24  s/it)\u001b[39m\u001b[K\r\u001b[32mProgress:  62%|█████████████████          |  ETA: 1:05:51 ( 5.23  s/it)\u001b[39m\u001b[K"
     ]
    },
    {
     "name": "stderr",
     "output_type": "stream",
     "text": [
      "\r\u001b[32mProgress:  62%|█████████████████          |  ETA: 1:05:22 ( 5.23  s/it)\u001b[39m\u001b[K\r\u001b[32mProgress:  63%|█████████████████          |  ETA: 1:05:21 ( 5.24  s/it)\u001b[39m\u001b[K\r\u001b[32mProgress:  63%|█████████████████          |  ETA: 1:05:01 ( 5.23  s/it)\u001b[39m\u001b[K\r\u001b[32mProgress:  63%|█████████████████          |  ETA: 1:05:01 ( 5.24  s/it)\u001b[39m\u001b[K\r\u001b[32mProgress:  63%|█████████████████          |  ETA: 1:04:47 ( 5.23  s/it)\u001b[39m\u001b[K\r\u001b[32mProgress:  63%|█████████████████          |  ETA: 1:04:42 ( 5.24  s/it)\u001b[39m\u001b[K\r\u001b[32mProgress:  63%|██████████████████         |  ETA: 1:04:21 ( 5.23  s/it)\u001b[39m\u001b[K\r\u001b[32mProgress:  63%|██████████████████         |  ETA: 1:04:14 ( 5.24  s/it)\u001b[39m\u001b[K\r\u001b[32mProgress:  63%|██████████████████         |  ETA: 1:04:00 ( 5.24  s/it)\u001b[39m\u001b[K\r\u001b[32mProgress:  64%|██████████████████         |  ETA: 1:03:03 ( 5.23  s/it)\u001b[39m\u001b[K"
     ]
    },
    {
     "name": "stderr",
     "output_type": "stream",
     "text": [
      "\r\u001b[32mProgress:  64%|██████████████████         |  ETA: 1:02:58 ( 5.23  s/it)\u001b[39m\u001b[K\r\u001b[32mProgress:  64%|██████████████████         |  ETA: 1:02:56 ( 5.24  s/it)\u001b[39m\u001b[K\r\u001b[32mProgress:  64%|██████████████████         |  ETA: 1:01:58 ( 5.23  s/it)\u001b[39m\u001b[K\r\u001b[32mProgress:  64%|██████████████████         |  ETA: 1:01:56 ( 5.23  s/it)\u001b[39m\u001b[K\r\u001b[32mProgress:  65%|██████████████████         |  ETA: 1:01:52 ( 5.24  s/it)\u001b[39m\u001b[K"
     ]
    },
    {
     "name": "stderr",
     "output_type": "stream",
     "text": [
      "\r\u001b[32mProgress:  65%|██████████████████         |  ETA: 1:01:17 ( 5.24  s/it)\u001b[39m\u001b[K\r\u001b[32mProgress:  65%|██████████████████         |  ETA: 1:01:04 ( 5.23  s/it)\u001b[39m\u001b[K\r\u001b[32mProgress:  65%|██████████████████         |  ETA: 1:00:55 ( 5.24  s/it)\u001b[39m\u001b[K\r\u001b[32mProgress:  65%|██████████████████         |  ETA: 1:00:42 ( 5.23  s/it)\u001b[39m\u001b[K\r\u001b[32mProgress:  65%|██████████████████         |  ETA: 1:00:34 ( 5.24  s/it)\u001b[39m\u001b[K\r\u001b[32mProgress:  65%|██████████████████         |  ETA: 1:00:17 ( 5.24  s/it)\u001b[39m\u001b[K\r\u001b[32mProgress:  66%|██████████████████         |  ETA: 1:00:14 ( 5.24  s/it)\u001b[39m\u001b[K\r\u001b[32mProgress:  66%|██████████████████         |  ETA: 1:00:03 ( 5.24  s/it)\u001b[39m\u001b[K\r\u001b[32mProgress:  66%|██████████████████         |  ETA: 0:59:59 ( 5.24  s/it)\u001b[39m\u001b[K\r\u001b[32mProgress:  66%|██████████████████         |  ETA: 0:59:55 ( 5.24  s/it)\u001b[39m\u001b[K"
     ]
    },
    {
     "name": "stderr",
     "output_type": "stream",
     "text": [
      "\r\u001b[32mProgress:  66%|██████████████████         |  ETA: 0:59:22 ( 5.24  s/it)\u001b[39m\u001b[K\r\u001b[32mProgress:  66%|██████████████████         |  ETA: 0:59:11 ( 5.24  s/it)\u001b[39m\u001b[K"
     ]
    },
    {
     "name": "stderr",
     "output_type": "stream",
     "text": [
      "\r\u001b[32mProgress:  66%|██████████████████         |  ETA: 0:59:03 ( 5.24  s/it)\u001b[39m\u001b[K\r\u001b[32mProgress:  66%|██████████████████         |  ETA: 0:58:58 ( 5.24  s/it)\u001b[39m\u001b[K\r\u001b[32mProgress:  66%|██████████████████         |  ETA: 0:58:45 ( 5.24  s/it)\u001b[39m\u001b[K\r\u001b[32mProgress:  66%|██████████████████         |  ETA: 0:58:38 ( 5.24  s/it)\u001b[39m\u001b[K\r\u001b[32mProgress:  67%|██████████████████         |  ETA: 0:58:19 ( 5.25  s/it)\u001b[39m\u001b[K\r\u001b[32mProgress:  67%|███████████████████        |  ETA: 0:58:06 ( 5.24  s/it)\u001b[39m\u001b[K\r\u001b[32mProgress:  67%|███████████████████        |  ETA: 0:58:05 ( 5.25  s/it)\u001b[39m\u001b[K\r\u001b[32mProgress:  67%|███████████████████        |  ETA: 0:57:53 ( 5.25  s/it)\u001b[39m\u001b[K\r\u001b[32mProgress:  67%|███████████████████        |  ETA: 0:57:19 ( 5.25  s/it)\u001b[39m\u001b[K\r\u001b[32mProgress:  67%|███████████████████        |  ETA: 0:57:14 ( 5.25  s/it)\u001b[39m\u001b[K\r\u001b[32mProgress:  67%|███████████████████        |  ETA: 0:57:08 ( 5.25  s/it)\u001b[39m\u001b[K"
     ]
    },
    {
     "name": "stderr",
     "output_type": "stream",
     "text": [
      "\r\u001b[32mProgress:  67%|███████████████████        |  ETA: 0:56:59 ( 5.25  s/it)\u001b[39m\u001b[K\r\u001b[32mProgress:  68%|███████████████████        |  ETA: 0:56:55 ( 5.25  s/it)\u001b[39m\u001b[K\r\u001b[32mProgress:  68%|███████████████████        |  ETA: 0:56:44 ( 5.25  s/it)\u001b[39m\u001b[K\r\u001b[32mProgress:  68%|███████████████████        |  ETA: 0:56:40 ( 5.25  s/it)\u001b[39m\u001b[K\r\u001b[32mProgress:  68%|███████████████████        |  ETA: 0:56:29 ( 5.25  s/it)\u001b[39m\u001b[K"
     ]
    },
    {
     "name": "stderr",
     "output_type": "stream",
     "text": [
      "\r\u001b[32mProgress:  68%|███████████████████        |  ETA: 0:56:25 ( 5.26  s/it)\u001b[39m\u001b[K\r\u001b[32mProgress:  68%|███████████████████        |  ETA: 0:56:21 ( 5.26  s/it)\u001b[39m\u001b[K\r\u001b[32mProgress:  68%|███████████████████        |  ETA: 0:56:16 ( 5.26  s/it)\u001b[39m\u001b[K\r\u001b[32mProgress:  68%|███████████████████        |  ETA: 0:56:08 ( 5.26  s/it)\u001b[39m\u001b[K\r\u001b[32mProgress:  68%|███████████████████        |  ETA: 0:55:49 ( 5.26  s/it)\u001b[39m\u001b[K"
     ]
    },
    {
     "name": "stderr",
     "output_type": "stream",
     "text": [
      "\r\u001b[32mProgress:  68%|███████████████████        |  ETA: 0:55:41 ( 5.26  s/it)\u001b[39m\u001b[K\r\u001b[32mProgress:  68%|███████████████████        |  ETA: 0:55:38 ( 5.26  s/it)\u001b[39m\u001b[K\r\u001b[32mProgress:  69%|███████████████████        |  ETA: 0:55:11 ( 5.26  s/it)\u001b[39m\u001b[K"
     ]
    },
    {
     "name": "stderr",
     "output_type": "stream",
     "text": [
      "\r\u001b[32mProgress:  69%|███████████████████        |  ETA: 0:55:10 ( 5.27  s/it)\u001b[39m\u001b[K\r\u001b[32mProgress:  69%|███████████████████        |  ETA: 0:54:44 ( 5.27  s/it)\u001b[39m\u001b[K\r\u001b[32mProgress:  69%|███████████████████        |  ETA: 0:54:32 ( 5.27  s/it)\u001b[39m\u001b[K\r\u001b[32mProgress:  69%|███████████████████        |  ETA: 0:54:31 ( 5.28  s/it)\u001b[39m\u001b[K\r\u001b[32mProgress:  69%|███████████████████        |  ETA: 0:54:18 ( 5.27  s/it)\u001b[39m\u001b[K"
     ]
    },
    {
     "name": "stderr",
     "output_type": "stream",
     "text": [
      "\r\u001b[32mProgress:  69%|███████████████████        |  ETA: 0:54:11 ( 5.28  s/it)\u001b[39m\u001b[K\r\u001b[32mProgress:  69%|███████████████████        |  ETA: 0:54:05 ( 5.28  s/it)\u001b[39m\u001b[K\r\u001b[32mProgress:  69%|███████████████████        |  ETA: 0:53:52 ( 5.28  s/it)\u001b[39m\u001b[K\r\u001b[32mProgress:  70%|███████████████████        |  ETA: 0:53:35 ( 5.28  s/it)\u001b[39m\u001b[K\r\u001b[32mProgress:  70%|███████████████████        |  ETA: 0:53:32 ( 5.28  s/it)\u001b[39m\u001b[K\r\u001b[32mProgress:  70%|███████████████████        |  ETA: 0:53:16 ( 5.28  s/it)\u001b[39m\u001b[K\r\u001b[32mProgress:  70%|███████████████████        |  ETA: 0:53:13 ( 5.29  s/it)\u001b[39m\u001b[K\r\u001b[32mProgress:  70%|███████████████████        |  ETA: 0:52:57 ( 5.29  s/it)\u001b[39m\u001b[K\r\u001b[32mProgress:  70%|███████████████████        |  ETA: 0:52:52 ( 5.29  s/it)\u001b[39m\u001b[K\r\u001b[32mProgress:  70%|███████████████████        |  ETA: 0:52:40 ( 5.28  s/it)\u001b[39m\u001b[K\r\u001b[32mProgress:  70%|███████████████████        |  ETA: 0:52:38 ( 5.29  s/it)\u001b[39m\u001b[K\r\u001b[32mProgress:  70%|███████████████████        |  ETA: 0:52:26 ( 5.29  s/it)\u001b[39m\u001b[K"
     ]
    },
    {
     "name": "stderr",
     "output_type": "stream",
     "text": [
      "\r\u001b[32mProgress:  70%|███████████████████        |  ETA: 0:52:18 ( 5.29  s/it)\u001b[39m\u001b[K\r\u001b[32mProgress:  70%|████████████████████       |  ETA: 0:52:06 ( 5.29  s/it)\u001b[39m\u001b[K"
     ]
    },
    {
     "name": "stderr",
     "output_type": "stream",
     "text": [
      "\r\u001b[32mProgress:  71%|████████████████████       |  ETA: 0:51:41 ( 5.29  s/it)\u001b[39m\u001b[K\r\u001b[32mProgress:  71%|████████████████████       |  ETA: 0:51:40 ( 5.30  s/it)\u001b[39m\u001b[K\r\u001b[32mProgress:  71%|████████████████████       |  ETA: 0:51:27 ( 5.29  s/it)\u001b[39m\u001b[K"
     ]
    },
    {
     "name": "stderr",
     "output_type": "stream",
     "text": [
      "\r\u001b[32mProgress:  71%|████████████████████       |  ETA: 0:51:22 ( 5.30  s/it)\u001b[39m\u001b[K\r\u001b[32mProgress:  71%|████████████████████       |  ETA: 0:51:20 ( 5.30  s/it)\u001b[39m\u001b[K\r\u001b[32mProgress:  71%|████████████████████       |  ETA: 0:51:02 ( 5.30  s/it)\u001b[39m\u001b[K\r\u001b[32mProgress:  71%|████████████████████       |  ETA: 0:50:59 ( 5.30  s/it)\u001b[39m\u001b[K\r\u001b[32mProgress:  71%|████████████████████       |  ETA: 0:50:54 ( 5.30  s/it)\u001b[39m\u001b[K\r\u001b[32mProgress:  71%|████████████████████       |  ETA: 0:50:28 ( 5.30  s/it)\u001b[39m\u001b[K"
     ]
    },
    {
     "name": "stderr",
     "output_type": "stream",
     "text": [
      "\r\u001b[32mProgress:  72%|████████████████████       |  ETA: 0:50:23 ( 5.30  s/it)\u001b[39m\u001b[K\r\u001b[32mProgress:  72%|████████████████████       |  ETA: 0:50:19 ( 5.31  s/it)\u001b[39m\u001b[K\r\u001b[32mProgress:  72%|████████████████████       |  ETA: 0:50:07 ( 5.30  s/it)\u001b[39m\u001b[K"
     ]
    },
    {
     "name": "stderr",
     "output_type": "stream",
     "text": [
      "\r\u001b[32mProgress:  72%|████████████████████       |  ETA: 0:50:04 ( 5.31  s/it)\u001b[39m\u001b[K\r\u001b[32mProgress:  72%|████████████████████       |  ETA: 0:49:59 ( 5.31  s/it)\u001b[39m\u001b[K\r\u001b[32mProgress:  72%|████████████████████       |  ETA: 0:49:48 ( 5.31  s/it)\u001b[39m\u001b[K"
     ]
    },
    {
     "name": "stderr",
     "output_type": "stream",
     "text": [
      "\r\u001b[32mProgress:  72%|████████████████████       |  ETA: 0:49:44 ( 5.31  s/it)\u001b[39m\u001b[K\r\u001b[32mProgress:  72%|████████████████████       |  ETA: 0:49:33 ( 5.31  s/it)\u001b[39m\u001b[K\r\u001b[32mProgress:  72%|████████████████████       |  ETA: 0:49:25 ( 5.31  s/it)\u001b[39m\u001b[K\r\u001b[32mProgress:  73%|████████████████████       |  ETA: 0:48:33 ( 5.32  s/it)\u001b[39m\u001b[K"
     ]
    },
    {
     "name": "stderr",
     "output_type": "stream",
     "text": [
      "\r\u001b[32mProgress:  73%|████████████████████       |  ETA: 0:48:17 ( 5.32  s/it)\u001b[39m\u001b[K\r\u001b[32mProgress:  73%|████████████████████       |  ETA: 0:48:07 ( 5.32  s/it)\u001b[39m\u001b[K\r\u001b[32mProgress:  73%|████████████████████       |  ETA: 0:48:04 ( 5.32  s/it)\u001b[39m\u001b[K\r\u001b[32mProgress:  73%|████████████████████       |  ETA: 0:47:47 ( 5.32  s/it)\u001b[39m\u001b[K\r\u001b[32mProgress:  73%|████████████████████       |  ETA: 0:47:43 ( 5.32  s/it)\u001b[39m\u001b[K\r\u001b[32mProgress:  74%|████████████████████       |  ETA: 0:46:49 ( 5.32  s/it)\u001b[39m\u001b[K"
     ]
    },
    {
     "name": "stderr",
     "output_type": "stream",
     "text": [
      "\r\u001b[32mProgress:  74%|████████████████████       |  ETA: 0:46:46 ( 5.32  s/it)\u001b[39m\u001b[K\r\u001b[32mProgress:  74%|████████████████████       |  ETA: 0:46:42 ( 5.33  s/it)\u001b[39m\u001b[K\r\u001b[32mProgress:  74%|████████████████████       |  ETA: 0:46:29 ( 5.32  s/it)\u001b[39m\u001b[K\r\u001b[32mProgress:  74%|████████████████████       |  ETA: 0:46:25 ( 5.33  s/it)\u001b[39m\u001b[K\r\u001b[32mProgress:  74%|████████████████████       |  ETA: 0:46:21 ( 5.33  s/it)\u001b[39m\u001b[K\r\u001b[32mProgress:  74%|████████████████████       |  ETA: 0:46:09 ( 5.32  s/it)\u001b[39m\u001b[K"
     ]
    },
    {
     "name": "stderr",
     "output_type": "stream",
     "text": [
      "\r\u001b[32mProgress:  74%|████████████████████       |  ETA: 0:46:06 ( 5.33  s/it)\u001b[39m\u001b[K\r\u001b[32mProgress:  74%|█████████████████████      |  ETA: 0:45:55 ( 5.33  s/it)\u001b[39m\u001b[K\r\u001b[32mProgress:  74%|█████████████████████      |  ETA: 0:45:41 ( 5.33  s/it)\u001b[39m\u001b[K\r\u001b[32mProgress:  74%|█████████████████████      |  ETA: 0:45:29 ( 5.33  s/it)\u001b[39m\u001b[K"
     ]
    },
    {
     "name": "stderr",
     "output_type": "stream",
     "text": [
      "\r\u001b[32mProgress:  74%|█████████████████████      |  ETA: 0:45:27 ( 5.34  s/it)\u001b[39m\u001b[K\r\u001b[32mProgress:  74%|█████████████████████      |  ETA: 0:45:21 ( 5.34  s/it)\u001b[39m\u001b[K\r\u001b[32mProgress:  75%|█████████████████████      |  ETA: 0:44:47 ( 5.34  s/it)\u001b[39m\u001b[K\r\u001b[32mProgress:  75%|█████████████████████      |  ETA: 0:44:35 ( 5.34  s/it)\u001b[39m\u001b[K\r\u001b[32mProgress:  75%|█████████████████████      |  ETA: 0:44:30 ( 5.34  s/it)\u001b[39m\u001b[K"
     ]
    },
    {
     "name": "stderr",
     "output_type": "stream",
     "text": [
      "\r\u001b[32mProgress:  75%|█████████████████████      |  ETA: 0:44:26 ( 5.34  s/it)\u001b[39m\u001b[K\r\u001b[32mProgress:  75%|█████████████████████      |  ETA: 0:43:59 ( 5.34  s/it)\u001b[39m\u001b[K\r\u001b[32mProgress:  75%|█████████████████████      |  ETA: 0:43:55 ( 5.35  s/it)\u001b[39m\u001b[K"
     ]
    },
    {
     "name": "stderr",
     "output_type": "stream",
     "text": [
      "\r\u001b[32mProgress:  76%|█████████████████████      |  ETA: 0:43:28 ( 5.34  s/it)\u001b[39m\u001b[K"
     ]
    },
    {
     "name": "stderr",
     "output_type": "stream",
     "text": [
      "\r\u001b[32mProgress:  76%|█████████████████████      |  ETA: 0:43:25 ( 5.35  s/it)\u001b[39m\u001b[K\r\u001b[32mProgress:  76%|█████████████████████      |  ETA: 0:43:05 ( 5.35  s/it)\u001b[39m\u001b[K\r\u001b[32mProgress:  76%|█████████████████████      |  ETA: 0:42:14 ( 5.36  s/it)\u001b[39m\u001b[K"
     ]
    },
    {
     "name": "stderr",
     "output_type": "stream",
     "text": [
      "\r\u001b[32mProgress:  77%|█████████████████████      |  ETA: 0:41:53 ( 5.36  s/it)\u001b[39m\u001b[K"
     ]
    },
    {
     "name": "stderr",
     "output_type": "stream",
     "text": [
      "\r\u001b[32mProgress:  77%|█████████████████████      |  ETA: 0:41:32 ( 5.36  s/it)\u001b[39m\u001b[K\r\u001b[32mProgress:  77%|█████████████████████      |  ETA: 0:41:11 ( 5.36  s/it)\u001b[39m\u001b[K"
     ]
    },
    {
     "name": "stderr",
     "output_type": "stream",
     "text": [
      "\r\u001b[32mProgress:  77%|█████████████████████      |  ETA: 0:40:49 ( 5.36  s/it)\u001b[39m\u001b[K"
     ]
    },
    {
     "name": "stderr",
     "output_type": "stream",
     "text": [
      "\r\u001b[32mProgress:  77%|█████████████████████      |  ETA: 0:40:39 ( 5.36  s/it)\u001b[39m\u001b[K\r\u001b[32mProgress:  77%|█████████████████████      |  ETA: 0:40:28 ( 5.36  s/it)\u001b[39m\u001b[K"
     ]
    },
    {
     "name": "stderr",
     "output_type": "stream",
     "text": [
      "\r\u001b[32mProgress:  77%|█████████████████████      |  ETA: 0:40:23 ( 5.36  s/it)\u001b[39m\u001b[K\r\u001b[32mProgress:  77%|█████████████████████      |  ETA: 0:40:19 ( 5.36  s/it)\u001b[39m\u001b[K\r\u001b[32mProgress:  78%|█████████████████████      |  ETA: 0:40:08 ( 5.36  s/it)\u001b[39m\u001b[K"
     ]
    },
    {
     "name": "stderr",
     "output_type": "stream",
     "text": [
      "\r\u001b[32mProgress:  78%|█████████████████████      |  ETA: 0:39:59 ( 5.37  s/it)\u001b[39m\u001b[K\r\u001b[32mProgress:  78%|█████████████████████      |  ETA: 0:39:47 ( 5.36  s/it)\u001b[39m\u001b[K"
     ]
    },
    {
     "name": "stderr",
     "output_type": "stream",
     "text": [
      "\r\u001b[32mProgress:  78%|██████████████████████     |  ETA: 0:39:38 ( 5.37  s/it)\u001b[39m\u001b[K\r\u001b[32mProgress:  78%|██████████████████████     |  ETA: 0:39:26 ( 5.36  s/it)\u001b[39m\u001b[K"
     ]
    },
    {
     "name": "stderr",
     "output_type": "stream",
     "text": [
      "\r\u001b[32mProgress:  78%|██████████████████████     |  ETA: 0:39:17 ( 5.37  s/it)\u001b[39m\u001b[K\r\u001b[32mProgress:  78%|██████████████████████     |  ETA: 0:39:11 ( 5.37  s/it)\u001b[39m\u001b[K\r\u001b[32mProgress:  78%|██████████████████████     |  ETA: 0:39:00 ( 5.37  s/it)\u001b[39m\u001b[K\r\u001b[32mProgress:  78%|██████████████████████     |  ETA: 0:38:55 ( 5.37  s/it)\u001b[39m\u001b[K\r\u001b[32mProgress:  78%|██████████████████████     |  ETA: 0:38:45 ( 5.37  s/it)\u001b[39m\u001b[K"
     ]
    },
    {
     "name": "stderr",
     "output_type": "stream",
     "text": [
      "\r\u001b[32mProgress:  78%|██████████████████████     |  ETA: 0:38:35 ( 5.37  s/it)\u001b[39m\u001b[K\r\u001b[32mProgress:  78%|██████████████████████     |  ETA: 0:38:30 ( 5.37  s/it)\u001b[39m\u001b[K\r\u001b[32mProgress:  79%|██████████████████████     |  ETA: 0:38:25 ( 5.37  s/it)\u001b[39m\u001b[K"
     ]
    },
    {
     "name": "stderr",
     "output_type": "stream",
     "text": [
      "\r\u001b[32mProgress:  79%|██████████████████████     |  ETA: 0:38:14 ( 5.37  s/it)\u001b[39m\u001b[K\r\u001b[32mProgress:  79%|██████████████████████     |  ETA: 0:38:09 ( 5.37  s/it)\u001b[39m\u001b[K\r\u001b[32mProgress:  79%|██████████████████████     |  ETA: 0:38:04 ( 5.37  s/it)\u001b[39m\u001b[K"
     ]
    },
    {
     "name": "stderr",
     "output_type": "stream",
     "text": [
      "\r\u001b[32mProgress:  79%|██████████████████████     |  ETA: 0:37:54 ( 5.38  s/it)\u001b[39m\u001b[K\r\u001b[32mProgress:  79%|██████████████████████     |  ETA: 0:37:49 ( 5.38  s/it)\u001b[39m\u001b[K\r\u001b[32mProgress:  79%|██████████████████████     |  ETA: 0:37:43 ( 5.38  s/it)\u001b[39m\u001b[K"
     ]
    },
    {
     "name": "stderr",
     "output_type": "stream",
     "text": [
      "\r\u001b[32mProgress:  79%|██████████████████████     |  ETA: 0:37:38 ( 5.38  s/it)\u001b[39m\u001b[K\r\u001b[32mProgress:  79%|██████████████████████     |  ETA: 0:37:33 ( 5.38  s/it)\u001b[39m\u001b[K\r\u001b[32mProgress:  79%|██████████████████████     |  ETA: 0:37:28 ( 5.38  s/it)\u001b[39m\u001b[K\r\u001b[32mProgress:  79%|██████████████████████     |  ETA: 0:37:23 ( 5.38  s/it)\u001b[39m\u001b[K"
     ]
    },
    {
     "name": "stderr",
     "output_type": "stream",
     "text": [
      "\r\u001b[32mProgress:  79%|██████████████████████     |  ETA: 0:37:18 ( 5.38  s/it)\u001b[39m\u001b[K\r\u001b[32mProgress:  79%|██████████████████████     |  ETA: 0:37:07 ( 5.38  s/it)\u001b[39m\u001b[K\r\u001b[32mProgress:  79%|██████████████████████     |  ETA: 0:37:02 ( 5.38  s/it)\u001b[39m\u001b[K"
     ]
    },
    {
     "name": "stderr",
     "output_type": "stream",
     "text": [
      "\r\u001b[32mProgress:  79%|██████████████████████     |  ETA: 0:36:58 ( 5.38  s/it)\u001b[39m\u001b[K\r\u001b[32mProgress:  80%|██████████████████████     |  ETA: 0:36:46 ( 5.38  s/it)\u001b[39m\u001b[K\r\u001b[32mProgress:  80%|██████████████████████     |  ETA: 0:36:43 ( 5.39  s/it)\u001b[39m\u001b[K"
     ]
    },
    {
     "name": "stderr",
     "output_type": "stream",
     "text": [
      "\r\u001b[32mProgress:  80%|██████████████████████     |  ETA: 0:36:37 ( 5.39  s/it)\u001b[39m\u001b[K\r\u001b[32mProgress:  80%|██████████████████████     |  ETA: 0:36:26 ( 5.38  s/it)\u001b[39m\u001b[K\r\u001b[32mProgress:  80%|██████████████████████     |  ETA: 0:36:23 ( 5.39  s/it)\u001b[39m\u001b[K"
     ]
    },
    {
     "name": "stderr",
     "output_type": "stream",
     "text": [
      "\r\u001b[32mProgress:  80%|██████████████████████     |  ETA: 0:36:12 ( 5.39  s/it)\u001b[39m\u001b[K\r\u001b[32mProgress:  80%|██████████████████████     |  ETA: 0:35:57 ( 5.39  s/it)\u001b[39m\u001b[K\r\u001b[32mProgress:  80%|██████████████████████     |  ETA: 0:35:03 ( 5.39  s/it)\u001b[39m\u001b[K\r\u001b[32mProgress:  81%|██████████████████████     |  ETA: 0:35:00 ( 5.40  s/it)\u001b[39m\u001b[K"
     ]
    },
    {
     "name": "stderr",
     "output_type": "stream",
     "text": [
      "\r\u001b[32mProgress:  81%|██████████████████████     |  ETA: 0:34:55 ( 5.40  s/it)\u001b[39m\u001b[K\r\u001b[32mProgress:  81%|██████████████████████     |  ETA: 0:34:01 ( 5.40  s/it)\u001b[39m\u001b[K\r\u001b[32mProgress:  81%|██████████████████████     |  ETA: 0:33:56 ( 5.40  s/it)\u001b[39m\u001b[K"
     ]
    },
    {
     "name": "stderr",
     "output_type": "stream",
     "text": [
      "\r\u001b[32mProgress:  81%|██████████████████████     |  ETA: 0:33:52 ( 5.40  s/it)\u001b[39m\u001b[K\r\u001b[32mProgress:  81%|██████████████████████     |  ETA: 0:33:25 ( 5.40  s/it)\u001b[39m\u001b[K\r\u001b[32mProgress:  82%|███████████████████████    |  ETA: 0:33:10 ( 5.41  s/it)\u001b[39m\u001b[K\r\u001b[32mProgress:  82%|███████████████████████    |  ETA: 0:32:52 ( 5.40  s/it)\u001b[39m\u001b[K"
     ]
    },
    {
     "name": "stderr",
     "output_type": "stream",
     "text": [
      "\r\u001b[32mProgress:  82%|███████████████████████    |  ETA: 0:32:43 ( 5.41  s/it)\u001b[39m\u001b[K\r\u001b[32mProgress:  82%|███████████████████████    |  ETA: 0:31:49 ( 5.41  s/it)\u001b[39m\u001b[K"
     ]
    },
    {
     "name": "stderr",
     "output_type": "stream",
     "text": [
      "\r\u001b[32mProgress:  82%|███████████████████████    |  ETA: 0:31:47 ( 5.42  s/it)\u001b[39m\u001b[K\r\u001b[32mProgress:  83%|███████████████████████    |  ETA: 0:31:28 ( 5.41  s/it)\u001b[39m\u001b[K\r\u001b[32mProgress:  83%|███████████████████████    |  ETA: 0:31:20 ( 5.42  s/it)\u001b[39m\u001b[K\r\u001b[32mProgress:  83%|███████████████████████    |  ETA: 0:30:26 ( 5.42  s/it)\u001b[39m\u001b[K"
     ]
    },
    {
     "name": "stderr",
     "output_type": "stream",
     "text": [
      "\r\u001b[32mProgress:  83%|███████████████████████    |  ETA: 0:30:22 ( 5.42  s/it)\u001b[39m\u001b[K\r\u001b[32mProgress:  83%|███████████████████████    |  ETA: 0:30:10 ( 5.42  s/it)\u001b[39m\u001b[K\r\u001b[32mProgress:  83%|███████████████████████    |  ETA: 0:30:00 ( 5.42  s/it)\u001b[39m\u001b[K\r\u001b[32mProgress:  84%|███████████████████████    |  ETA: 0:29:49 ( 5.42  s/it)\u001b[39m\u001b[K\r\u001b[32mProgress:  84%|███████████████████████    |  ETA: 0:29:39 ( 5.42  s/it)\u001b[39m\u001b[K\r\u001b[32mProgress:  84%|███████████████████████    |  ETA: 0:29:34 ( 5.42  s/it)\u001b[39m\u001b[K\r\u001b[32mProgress:  84%|███████████████████████    |  ETA: 0:28:39 ( 5.42  s/it)\u001b[39m\u001b[K\r\u001b[32mProgress:  84%|███████████████████████    |  ETA: 0:28:35 ( 5.43  s/it)\u001b[39m\u001b[K\r\u001b[32mProgress:  84%|███████████████████████    |  ETA: 0:28:30 ( 5.43  s/it)\u001b[39m\u001b[K\r\u001b[32mProgress:  84%|███████████████████████    |  ETA: 0:28:14 ( 5.43  s/it)\u001b[39m\u001b[K\r\u001b[32mProgress:  84%|███████████████████████    |  ETA: 0:28:02 ( 5.43  s/it)\u001b[39m\u001b[K"
     ]
    },
    {
     "name": "stderr",
     "output_type": "stream",
     "text": [
      "\r\u001b[32mProgress:  85%|███████████████████████    |  ETA: 0:27:53 ( 5.43  s/it)\u001b[39m\u001b[K\r\u001b[32mProgress:  85%|███████████████████████    |  ETA: 0:27:35 ( 5.43  s/it)\u001b[39m\u001b[K\r\u001b[32mProgress:  85%|███████████████████████    |  ETA: 0:27:32 ( 5.43  s/it)\u001b[39m\u001b[K\r\u001b[32mProgress:  85%|███████████████████████    |  ETA: 0:27:15 ( 5.43  s/it)\u001b[39m\u001b[K\r\u001b[32mProgress:  85%|███████████████████████    |  ETA: 0:27:10 ( 5.43  s/it)\u001b[39m\u001b[K\r\u001b[32mProgress:  85%|███████████████████████    |  ETA: 0:26:53 ( 5.43  s/it)\u001b[39m\u001b[K\r\u001b[32mProgress:  85%|████████████████████████   |  ETA: 0:26:48 ( 5.43  s/it)\u001b[39m\u001b[K\r\u001b[32mProgress:  85%|████████████████████████   |  ETA: 0:26:43 ( 5.43  s/it)\u001b[39m\u001b[K"
     ]
    },
    {
     "name": "stderr",
     "output_type": "stream",
     "text": [
      "\r\u001b[32mProgress:  85%|████████████████████████   |  ETA: 0:26:28 ( 5.44  s/it)\u001b[39m\u001b[K\r\u001b[32mProgress:  86%|████████████████████████   |  ETA: 0:25:34 ( 5.44  s/it)\u001b[39m\u001b[K\r\u001b[32mProgress:  86%|████████████████████████   |  ETA: 0:25:24 ( 5.44  s/it)\u001b[39m\u001b[K"
     ]
    },
    {
     "name": "stderr",
     "output_type": "stream",
     "text": [
      "\r\u001b[32mProgress:  86%|████████████████████████   |  ETA: 0:25:13 ( 5.44  s/it)\u001b[39m\u001b[K\r\u001b[32mProgress:  86%|████████████████████████   |  ETA: 0:25:03 ( 5.45  s/it)\u001b[39m\u001b[K"
     ]
    },
    {
     "name": "stderr",
     "output_type": "stream",
     "text": [
      "\r\u001b[32mProgress:  86%|████████████████████████   |  ETA: 0:24:46 ( 5.44  s/it)\u001b[39m\u001b[K\r\u001b[32mProgress:  86%|████████████████████████   |  ETA: 0:24:42 ( 5.45  s/it)\u001b[39m\u001b[K"
     ]
    },
    {
     "name": "stderr",
     "output_type": "stream",
     "text": [
      "\r\u001b[32mProgress:  87%|████████████████████████   |  ETA: 0:24:25 ( 5.44  s/it)\u001b[39m\u001b[K\r\u001b[32mProgress:  87%|████████████████████████   |  ETA: 0:24:14 ( 5.45  s/it)\u001b[39m\u001b[K"
     ]
    },
    {
     "name": "stderr",
     "output_type": "stream",
     "text": [
      "\r\u001b[32mProgress:  87%|████████████████████████   |  ETA: 0:24:03 ( 5.45  s/it)\u001b[39m\u001b[K\r\u001b[32mProgress:  87%|████████████████████████   |  ETA: 0:23:59 ( 5.45  s/it)\u001b[39m\u001b[K"
     ]
    },
    {
     "name": "stderr",
     "output_type": "stream",
     "text": [
      "\r\u001b[32mProgress:  87%|████████████████████████   |  ETA: 0:23:48 ( 5.45  s/it)\u001b[39m\u001b[K\r\u001b[32mProgress:  87%|████████████████████████   |  ETA: 0:23:42 ( 5.45  s/it)\u001b[39m\u001b[K\r\u001b[32mProgress:  87%|████████████████████████   |  ETA: 0:23:37 ( 5.45  s/it)\u001b[39m\u001b[K"
     ]
    },
    {
     "name": "stderr",
     "output_type": "stream",
     "text": [
      "\r\u001b[32mProgress:  87%|████████████████████████   |  ETA: 0:23:32 ( 5.45  s/it)\u001b[39m\u001b[K\r\u001b[32mProgress:  87%|████████████████████████   |  ETA: 0:23:21 ( 5.45  s/it)\u001b[39m\u001b[K\r\u001b[32mProgress:  87%|████████████████████████   |  ETA: 0:23:16 ( 5.45  s/it)\u001b[39m\u001b[K"
     ]
    },
    {
     "name": "stderr",
     "output_type": "stream",
     "text": [
      "\r\u001b[32mProgress:  87%|████████████████████████   |  ETA: 0:23:05 ( 5.45  s/it)\u001b[39m\u001b[K\r\u001b[32mProgress:  87%|████████████████████████   |  ETA: 0:22:59 ( 5.45  s/it)\u001b[39m\u001b[K\r\u001b[32mProgress:  87%|████████████████████████   |  ETA: 0:22:54 ( 5.45  s/it)\u001b[39m\u001b[K"
     ]
    },
    {
     "name": "stderr",
     "output_type": "stream",
     "text": [
      "\r\u001b[32mProgress:  87%|████████████████████████   |  ETA: 0:22:49 ( 5.45  s/it)\u001b[39m\u001b[K\r\u001b[32mProgress:  88%|████████████████████████   |  ETA: 0:22:38 ( 5.45  s/it)\u001b[39m\u001b[K\r\u001b[32mProgress:  88%|████████████████████████   |  ETA: 0:22:33 ( 5.45  s/it)\u001b[39m\u001b[K"
     ]
    },
    {
     "name": "stderr",
     "output_type": "stream",
     "text": [
      "\r\u001b[32mProgress:  88%|████████████████████████   |  ETA: 0:22:27 ( 5.45  s/it)\u001b[39m\u001b[K\r\u001b[32mProgress:  88%|████████████████████████   |  ETA: 0:22:17 ( 5.46  s/it)\u001b[39m\u001b[K\r\u001b[32mProgress:  88%|████████████████████████   |  ETA: 0:22:06 ( 5.46  s/it)\u001b[39m\u001b[K\r\u001b[32mProgress:  88%|████████████████████████   |  ETA: 0:21:12 ( 5.46  s/it)\u001b[39m\u001b[K\r\u001b[32mProgress:  88%|████████████████████████   |  ETA: 0:21:01 ( 5.46  s/it)\u001b[39m\u001b[K\r\u001b[32mProgress:  89%|█████████████████████████  |  ETA: 0:20:06 ( 5.46  s/it)\u001b[39m\u001b[K\r\u001b[32mProgress:  89%|█████████████████████████  |  ETA: 0:19:49 ( 5.45  s/it)\u001b[39m\u001b[K\r\u001b[32mProgress:  89%|█████████████████████████  |  ETA: 0:19:38 ( 5.46  s/it)\u001b[39m\u001b[K\r\u001b[32mProgress:  89%|█████████████████████████  |  ETA: 0:19:33 ( 5.46  s/it)\u001b[39m\u001b[K\r\u001b[32mProgress:  90%|█████████████████████████  |  ETA: 0:18:38 ( 5.45  s/it)\u001b[39m\u001b[K"
     ]
    },
    {
     "name": "stderr",
     "output_type": "stream",
     "text": [
      "\r\u001b[32mProgress:  90%|█████████████████████████  |  ETA: 0:18:28 ( 5.46  s/it)\u001b[39m\u001b[K\r\u001b[32mProgress:  90%|█████████████████████████  |  ETA: 0:18:17 ( 5.46  s/it)\u001b[39m\u001b[K"
     ]
    },
    {
     "name": "stderr",
     "output_type": "stream",
     "text": [
      "\r\u001b[32mProgress:  90%|█████████████████████████  |  ETA: 0:18:07 ( 5.46  s/it)\u001b[39m\u001b[K\r\u001b[32mProgress:  90%|█████████████████████████  |  ETA: 0:17:50 ( 5.46  s/it)\u001b[39m\u001b[K\r\u001b[32mProgress:  90%|█████████████████████████  |  ETA: 0:17:45 ( 5.46  s/it)\u001b[39m\u001b[K\r\u001b[32mProgress:  90%|█████████████████████████  |  ETA: 0:17:28 ( 5.46  s/it)\u001b[39m\u001b[K\r\u001b[32mProgress:  90%|█████████████████████████  |  ETA: 0:17:23 ( 5.46  s/it)\u001b[39m\u001b[K\r\u001b[32mProgress:  91%|█████████████████████████  |  ETA: 0:17:07 ( 5.46  s/it)\u001b[39m\u001b[K\r\u001b[32mProgress:  91%|█████████████████████████  |  ETA: 0:17:02 ( 5.46  s/it)\u001b[39m\u001b[K\r\u001b[32mProgress:  91%|█████████████████████████  |  ETA: 0:16:24 ( 5.46  s/it)\u001b[39m\u001b[K\r\u001b[32mProgress:  91%|█████████████████████████  |  ETA: 0:16:18 ( 5.47  s/it)\u001b[39m\u001b[K\r\u001b[32mProgress:  91%|█████████████████████████  |  ETA: 0:16:07 ( 5.47  s/it)\u001b[39m\u001b[K"
     ]
    },
    {
     "name": "stderr",
     "output_type": "stream",
     "text": [
      "\r\u001b[32mProgress:  91%|█████████████████████████  |  ETA: 0:15:57 ( 5.47  s/it)\u001b[39m\u001b[K\r\u001b[32mProgress:  91%|█████████████████████████  |  ETA: 0:15:51 ( 5.47  s/it)\u001b[39m\u001b[K\r\u001b[32mProgress:  91%|█████████████████████████  |  ETA: 0:15:46 ( 5.47  s/it)\u001b[39m\u001b[K"
     ]
    },
    {
     "name": "stderr",
     "output_type": "stream",
     "text": [
      "\r\u001b[32mProgress:  91%|█████████████████████████  |  ETA: 0:15:40 ( 5.47  s/it)\u001b[39m\u001b[K\r\u001b[32mProgress:  91%|█████████████████████████  |  ETA: 0:15:35 ( 5.47  s/it)\u001b[39m\u001b[K\r\u001b[32mProgress:  92%|█████████████████████████  |  ETA: 0:15:08 ( 5.47  s/it)\u001b[39m\u001b[K\r\u001b[32mProgress:  92%|█████████████████████████  |  ETA: 0:14:35 ( 5.47  s/it)\u001b[39m\u001b[K\r\u001b[32mProgress:  92%|█████████████████████████  |  ETA: 0:14:30 ( 5.47  s/it)\u001b[39m\u001b[K\r\u001b[32mProgress:  92%|█████████████████████████  |  ETA: 0:14:24 ( 5.47  s/it)\u001b[39m\u001b[K\r\u001b[32mProgress:  93%|██████████████████████████ |  ETA: 0:13:29 ( 5.47  s/it)\u001b[39m\u001b[K\r\u001b[32mProgress:  93%|██████████████████████████ |  ETA: 0:13:12 ( 5.47  s/it)\u001b[39m\u001b[K"
     ]
    },
    {
     "name": "stderr",
     "output_type": "stream",
     "text": [
      "\r\u001b[32mProgress:  93%|██████████████████████████ |  ETA: 0:13:02 ( 5.47  s/it)\u001b[39m\u001b[K\r\u001b[32mProgress:  93%|██████████████████████████ |  ETA: 0:12:56 ( 5.47  s/it)\u001b[39m\u001b[K\r\u001b[32mProgress:  93%|██████████████████████████ |  ETA: 0:12:23 ( 5.47  s/it)\u001b[39m\u001b[K\r\u001b[32mProgress:  94%|██████████████████████████ |  ETA: 0:11:33 ( 5.46  s/it)\u001b[39m\u001b[K\r\u001b[32mProgress:  94%|██████████████████████████ |  ETA: 0:11:22 ( 5.46  s/it)\u001b[39m\u001b[K\r\u001b[32mProgress:  94%|██████████████████████████ |  ETA: 0:11:17 ( 5.46  s/it)\u001b[39m\u001b[K\r\u001b[32mProgress:  94%|██████████████████████████ |  ETA: 0:10:22 ( 5.45  s/it)\u001b[39m\u001b[K\r\u001b[32mProgress:  94%|██████████████████████████ |  ETA: 0:10:11 ( 5.46  s/it)\u001b[39m\u001b[K\r\u001b[32mProgress:  94%|██████████████████████████ |  ETA: 0:10:00 ( 5.45  s/it)\u001b[39m\u001b[K\r\u001b[32mProgress:  95%|██████████████████████████ |  ETA: 0:09:49 ( 5.46  s/it)\u001b[39m\u001b[K\r\u001b[32mProgress:  95%|██████████████████████████ |  ETA: 0:09:32 ( 5.45  s/it)\u001b[39m\u001b[K\r\u001b[32mProgress:  95%|██████████████████████████ |  ETA: 0:09:22 ( 5.45  s/it)\u001b[39m\u001b[K"
     ]
    },
    {
     "name": "stderr",
     "output_type": "stream",
     "text": [
      "\r\u001b[32mProgress:  95%|██████████████████████████ |  ETA: 0:09:11 ( 5.45  s/it)\u001b[39m\u001b[K\r\u001b[32mProgress:  95%|██████████████████████████ |  ETA: 0:09:05 ( 5.45  s/it)\u001b[39m\u001b[K\r\u001b[32mProgress:  95%|██████████████████████████ |  ETA: 0:08:54 ( 5.45  s/it)\u001b[39m\u001b[K\r\u001b[32mProgress:  95%|██████████████████████████ |  ETA: 0:08:49 ( 5.45  s/it)\u001b[39m\u001b[K\r\u001b[32mProgress:  95%|██████████████████████████ |  ETA: 0:08:44 ( 5.45  s/it)\u001b[39m\u001b[K\r\u001b[32mProgress:  96%|██████████████████████████ |  ETA: 0:08:11 ( 5.45  s/it)\u001b[39m\u001b[K\r\u001b[32mProgress:  96%|██████████████████████████ |  ETA: 0:08:05 ( 5.45  s/it)\u001b[39m\u001b[K\r\u001b[32mProgress:  96%|██████████████████████████ |  ETA: 0:07:49 ( 5.45  s/it)\u001b[39m\u001b[K\r\u001b[32mProgress:  96%|██████████████████████████ |  ETA: 0:07:43 ( 5.45  s/it)\u001b[39m\u001b[K\r\u001b[32mProgress:  96%|██████████████████████████ |  ETA: 0:07:27 ( 5.45  s/it)\u001b[39m\u001b[K\r\u001b[32mProgress:  96%|██████████████████████████ |  ETA: 0:07:22 ( 5.45  s/it)\u001b[39m\u001b[K\r\u001b[32mProgress:  96%|██████████████████████████ |  ETA: 0:07:00 ( 5.45  s/it)\u001b[39m\u001b[K\r\u001b[32mProgress:  96%|███████████████████████████|  ETA: 0:06:43 ( 5.45  s/it)\u001b[39m\u001b[K\r\u001b[32mProgress:  96%|███████████████████████████|  ETA: 0:06:38 ( 5.45  s/it)\u001b[39m\u001b[K\r\u001b[32mProgress:  97%|███████████████████████████|  ETA: 0:06:16 ( 5.45  s/it)\u001b[39m\u001b[K"
     ]
    },
    {
     "name": "stderr",
     "output_type": "stream",
     "text": [
      "\r\u001b[32mProgress:  97%|███████████████████████████|  ETA: 0:05:54 ( 5.45  s/it)\u001b[39m\u001b[K"
     ]
    },
    {
     "name": "stderr",
     "output_type": "stream",
     "text": [
      "\r\u001b[32mProgress:  97%|███████████████████████████|  ETA: 0:05:43 ( 5.45  s/it)\u001b[39m\u001b[K\r\u001b[32mProgress:  97%|███████████████████████████|  ETA: 0:05:38 ( 5.45  s/it)\u001b[39m\u001b[K\r\u001b[32mProgress:  97%|███████████████████████████|  ETA: 0:05:32 ( 5.45  s/it)\u001b[39m\u001b[K"
     ]
    },
    {
     "name": "stderr",
     "output_type": "stream",
     "text": [
      "\r\u001b[32mProgress:  97%|███████████████████████████|  ETA: 0:05:27 ( 5.45  s/it)\u001b[39m\u001b[K\r\u001b[32mProgress:  97%|███████████████████████████|  ETA: 0:05:05 ( 5.45  s/it)\u001b[39m\u001b[K\r\u001b[32mProgress:  97%|███████████████████████████|  ETA: 0:04:54 ( 5.45  s/it)\u001b[39m\u001b[K\r\u001b[32mProgress:  97%|███████████████████████████|  ETA: 0:04:49 ( 5.45  s/it)\u001b[39m\u001b[K"
     ]
    },
    {
     "name": "stderr",
     "output_type": "stream",
     "text": [
      "\r\u001b[32mProgress:  97%|███████████████████████████|  ETA: 0:04:43 ( 5.45  s/it)\u001b[39m\u001b[K\r\u001b[32mProgress:  98%|███████████████████████████|  ETA: 0:04:21 ( 5.45  s/it)\u001b[39m\u001b[K\r\u001b[32mProgress:  98%|███████████████████████████|  ETA: 0:04:10 ( 5.45  s/it)\u001b[39m\u001b[K\r\u001b[32mProgress:  98%|███████████████████████████|  ETA: 0:04:05 ( 5.45  s/it)\u001b[39m\u001b[K"
     ]
    },
    {
     "name": "stderr",
     "output_type": "stream",
     "text": [
      "\r\u001b[32mProgress:  98%|███████████████████████████|  ETA: 0:04:00 ( 5.45  s/it)\u001b[39m\u001b[K\r\u001b[32mProgress:  98%|███████████████████████████|  ETA: 0:03:49 ( 5.45  s/it)\u001b[39m\u001b[K\r\u001b[32mProgress:  98%|███████████████████████████|  ETA: 0:03:38 ( 5.45  s/it)\u001b[39m\u001b[K\r\u001b[32mProgress:  98%|███████████████████████████|  ETA: 0:03:27 ( 5.45  s/it)\u001b[39m\u001b[K\r\u001b[32mProgress:  98%|███████████████████████████|  ETA: 0:03:16 ( 5.44  s/it)\u001b[39m\u001b[K\r\u001b[32mProgress:  98%|███████████████████████████|  ETA: 0:03:11 ( 5.45  s/it)\u001b[39m\u001b[K\r\u001b[32mProgress:  98%|███████████████████████████|  ETA: 0:02:49 ( 5.44  s/it)\u001b[39m\u001b[K"
     ]
    },
    {
     "name": "stderr",
     "output_type": "stream",
     "text": [
      "\r\u001b[32mProgress:  98%|███████████████████████████|  ETA: 0:02:43 ( 5.45  s/it)\u001b[39m\u001b[K"
     ]
    },
    {
     "name": "stderr",
     "output_type": "stream",
     "text": [
      "\r\u001b[32mProgress:  99%|███████████████████████████|  ETA: 0:02:38 ( 5.45  s/it)\u001b[39m\u001b[K"
     ]
    },
    {
     "name": "stderr",
     "output_type": "stream",
     "text": [
      "\r\u001b[32mProgress:  99%|███████████████████████████|  ETA: 0:02:27 ( 5.45  s/it)\u001b[39m\u001b[K"
     ]
    },
    {
     "name": "stderr",
     "output_type": "stream",
     "text": [
      "\r\u001b[32mProgress:  99%|███████████████████████████|  ETA: 0:02:22 ( 5.45  s/it)\u001b[39m\u001b[K"
     ]
    },
    {
     "name": "stderr",
     "output_type": "stream",
     "text": [
      "\r\u001b[32mProgress:  99%|███████████████████████████|  ETA: 0:02:16 ( 5.45  s/it)\u001b[39m\u001b[K"
     ]
    },
    {
     "name": "stderr",
     "output_type": "stream",
     "text": [
      "\r\u001b[32mProgress:  99%|███████████████████████████|  ETA: 0:02:11 ( 5.45  s/it)\u001b[39m\u001b[K"
     ]
    },
    {
     "name": "stderr",
     "output_type": "stream",
     "text": [
      "\r\u001b[32mProgress:  99%|███████████████████████████|  ETA: 0:02:00 ( 5.45  s/it)\u001b[39m\u001b[K"
     ]
    },
    {
     "name": "stderr",
     "output_type": "stream",
     "text": [
      "\r\u001b[32mProgress:  99%|███████████████████████████|  ETA: 0:01:54 ( 5.45  s/it)\u001b[39m\u001b[K"
     ]
    },
    {
     "name": "stderr",
     "output_type": "stream",
     "text": [
      "\r\u001b[32mProgress:  99%|███████████████████████████|  ETA: 0:01:38 ( 5.45  s/it)\u001b[39m\u001b[K"
     ]
    },
    {
     "name": "stderr",
     "output_type": "stream",
     "text": [
      "\r\u001b[32mProgress:  99%|███████████████████████████|  ETA: 0:01:27 ( 5.45  s/it)\u001b[39m\u001b[K"
     ]
    },
    {
     "name": "stderr",
     "output_type": "stream",
     "text": [
      "\r\u001b[32mProgress:  99%|███████████████████████████|  ETA: 0:01:22 ( 5.45  s/it)\u001b[39m\u001b[K"
     ]
    },
    {
     "name": "stderr",
     "output_type": "stream",
     "text": [
      "\r\u001b[32mProgress:  99%|███████████████████████████|  ETA: 0:01:16 ( 5.45  s/it)\u001b[39m\u001b[K"
     ]
    },
    {
     "name": "stderr",
     "output_type": "stream",
     "text": [
      "\r\u001b[32mProgress:  99%|███████████████████████████|  ETA: 0:01:11 ( 5.45  s/it)\u001b[39m\u001b[K"
     ]
    },
    {
     "name": "stderr",
     "output_type": "stream",
     "text": [
      "\r\u001b[32mProgress:  99%|███████████████████████████|  ETA: 0:01:00 ( 5.45  s/it)\u001b[39m\u001b[K"
     ]
    },
    {
     "name": "stderr",
     "output_type": "stream",
     "text": [
      "\r\u001b[32mProgress: 100%|███████████████████████████|  ETA: 0:00:55 ( 5.45  s/it)\u001b[39m\u001b[K"
     ]
    },
    {
     "name": "stderr",
     "output_type": "stream",
     "text": [
      "\r\u001b[32mProgress: 100%|███████████████████████████|  ETA: 0:00:44 ( 5.46  s/it)\u001b[39m\u001b[K"
     ]
    },
    {
     "name": "stderr",
     "output_type": "stream",
     "text": [
      "\r\u001b[32mProgress: 100%|███████████████████████████|  ETA: 0:00:33 ( 5.46  s/it)\u001b[39m\u001b[K"
     ]
    },
    {
     "name": "stderr",
     "output_type": "stream",
     "text": [
      "\r\u001b[32mProgress: 100%|███████████████████████████|  ETA: 0:00:27 ( 5.46  s/it)\u001b[39m\u001b[K"
     ]
    },
    {
     "name": "stderr",
     "output_type": "stream",
     "text": [
      "\r\u001b[32mProgress: 100%|███████████████████████████|  ETA: 0:00:22 ( 5.46  s/it)\u001b[39m\u001b[K"
     ]
    },
    {
     "name": "stderr",
     "output_type": "stream",
     "text": [
      "\r\u001b[32mProgress: 100%|███████████████████████████|  ETA: 0:00:16 ( 5.46  s/it)\u001b[39m\u001b[K"
     ]
    },
    {
     "name": "stderr",
     "output_type": "stream",
     "text": [
      "\r\u001b[32mProgress: 100%|███████████████████████████|  ETA: 0:00:05 ( 5.47  s/it)\u001b[39m\u001b[K"
     ]
    },
    {
     "name": "stderr",
     "output_type": "stream",
     "text": [
      "\r\u001b[32mProgress: 100%|███████████████████████████| Time: 3:02:09 ( 5.46  s/it)\u001b[39m\u001b[K\n"
     ]
    },
    {
     "name": "stdout",
     "output_type": "stream",
     "text": [
      "Starting multi-threaded sampling\n"
     ]
    },
    {
     "data": {
      "text/plain": [
       "200×6 Matrix{Float64}:\n",
       " 514.564  16.5096   -4.39547  6.57425  1.57665   0.94794\n",
       " 515.987  15.8964   -4.40103  6.44613  1.63025   0.930329\n",
       " 494.643   8.51614  -4.05897  6.37167  1.13783   0.922686\n",
       " 505.11   14.789    -4.34292  6.42516  1.38617   0.928087\n",
       " 512.383  12.5231   -3.84646  6.47959  1.40528   0.912822\n",
       " 504.415  17.0395   -4.1839   6.33482  1.17952   0.917528\n",
       " 506.253   9.9926   -4.37048  6.64051  1.24559   0.884538\n",
       " 493.608   3.63635  -4.09193  6.40432  0.841042  0.693198\n",
       " 503.152  18.5137   -4.19958  6.70127  1.33593   0.923153\n",
       " 499.682   7.3007   -4.24425  6.46281  1.09427   0.869142\n",
       "   ⋮                                             ⋮\n",
       " 491.099  14.4009   -4.26706  6.3366   0.931271  0.900221\n",
       " 499.147  18.2927   -4.53283  6.51154  1.28468   0.919803\n",
       " 500.216   3.92221  -4.36701  6.51955  0.94576   0.714452\n",
       " 508.332   2.9507   -3.97438  6.68645  1.29098   0.709911\n",
       " 516.347   4.91393  -3.59488  6.32472  1.49383   0.864393\n",
       " 504.734  18.7448   -4.00748  6.36432  1.39164   0.946832\n",
       " 504.849  16.1195   -4.46584  6.52359  1.28558   0.935875\n",
       " 494.823  11.9283   -4.42698  6.59946  0.947033  0.855692\n",
       " 495.988  16.3649   -4.30261  6.49538  1.12181   0.93657"
      ]
     },
     "metadata": {},
     "output_type": "display_data"
    }
   ],
   "source": [
    "sample(S, burnin_final_state, nsamples, thin, true)  # (sampler, starting point, number of steps, thinning factor for data, store chain?)\n",
    "#println(\"acceptance ratio: $(S.accepted / S.iterations)\")"
   ]
  },
  {
   "cell_type": "code",
   "execution_count": 18,
   "metadata": {},
   "outputs": [
    {
     "data": {
      "text/plain": [
       "85067"
      ]
     },
     "metadata": {},
     "output_type": "display_data"
    }
   ],
   "source": [
    "S.accepted"
   ]
  },
  {
   "cell_type": "code",
   "execution_count": 19,
   "metadata": {},
   "outputs": [
    {
     "data": {
      "text/plain": [
       "479994"
      ]
     },
     "metadata": {},
     "output_type": "display_data"
    }
   ],
   "source": [
    "S.iterations"
   ]
  },
  {
   "cell_type": "code",
   "execution_count": 55,
   "metadata": {},
   "outputs": [
    {
     "data": {
      "text/plain": [
       "6×69811 Matrix{Float64}:\n",
       " 502.52      524.604     489.53      …  507.704     514.521     487.932\n",
       "  16.476       7.41337     3.48845       15.1413      5.32231    16.8745\n",
       "  -4.18494    -4.34971    -4.63309       -4.31424    -3.62996    -4.56546\n",
       "   6.3301      6.81675     6.68739        6.54101     6.31677     6.65028\n",
       "   1.36969     1.67876     0.55291        1.465       1.45454     0.852528\n",
       "   0.955988    0.884768    0.623984  …    0.939487    0.864159    0.905582"
      ]
     },
     "metadata": {},
     "output_type": "display_data"
    }
   ],
   "source": [
    "vesc_posterior = flat_chain(S)[1,:]\n",
    "accepted_mask = vesc_posterior .!= 0.0\n",
    "flat_chain(S)[:,accepted_mask]"
   ]
  },
  {
   "cell_type": "code",
   "execution_count": 30,
   "metadata": {},
   "outputs": [],
   "source": [
    "vesc_posterior = flat_chain(S)[1,:]\n",
    "k_posterior = flat_chain(S)[2,:]\n",
    "frac_posterior = flat_chain(S)[3,:]\n",
    "sigma_out_posterior = flat_chain(S)[4,:];\n",
    "ks_posterior = flat_chain(S)[5,:];\n",
    "fs_posterior = flat_chain(S)[6,:];"
   ]
  },
  {
   "cell_type": "code",
   "execution_count": 31,
   "metadata": {},
   "outputs": [
    {
     "data": {
      "text/plain": [
       "1×400000 adjoint(::Vector{Float64}) with eltype Float64:\n",
       " 502.52  0.0  0.0  0.0  0.0  524.604  0.0  …  514.521  0.0  0.0  487.932  0.0"
      ]
     },
     "metadata": {},
     "output_type": "display_data"
    }
   ],
   "source": [
    "vesc_posterior'"
   ]
  },
  {
   "cell_type": "code",
   "execution_count": 32,
   "metadata": {},
   "outputs": [],
   "source": [
    "rejected_mask = vesc_posterior .== 0.0\n",
    "deleteat!(vesc_posterior, rejected_mask)\n",
    "deleteat!(k_posterior, rejected_mask)\n",
    "deleteat!(frac_posterior, rejected_mask)\n",
    "deleteat!(sigma_out_posterior, rejected_mask)\n",
    "deleteat!(ks_posterior, rejected_mask)\n",
    "deleteat!(fs_posterior, rejected_mask);"
   ]
  },
  {
   "cell_type": "code",
   "execution_count": 33,
   "metadata": {},
   "outputs": [
    {
     "data": {
      "text/plain": [
       "1×69811 adjoint(::Vector{Float64}) with eltype Float64:\n",
       " 502.52  524.604  489.53  498.565  …  500.994  507.704  514.521  487.932"
      ]
     },
     "metadata": {},
     "output_type": "display_data"
    }
   ],
   "source": [
    "vesc_posterior'"
   ]
  },
  {
   "cell_type": "markdown",
   "metadata": {},
   "source": [
    "### Process the data"
   ]
  },
  {
   "cell_type": "code",
   "execution_count": 24,
   "metadata": {},
   "outputs": [],
   "source": [
    "# Establish estimates of parameters via median and expected error on these estimates\n",
    "vesc_quantiles = quantile(vesc_posterior, quantile_list)\n",
    "k_quantiles = quantile(k_posterior, quantile_list)\n",
    "\n",
    "\n",
    "vesc_median = vesc_quantiles[2]\n",
    "vesc_lower_1sigma = vesc_median - vesc_quantiles[1]\n",
    "vesc_upper_1sigma = vesc_quantiles[3] - vesc_median\n",
    "\n",
    "k_median = k_quantiles[2]\n",
    "k_lower_1sigma = k_median - k_quantiles[1]\n",
    "k_upper_1sigma = k_quantiles[3] - k_median;"
   ]
  },
  {
   "cell_type": "code",
   "execution_count": 25,
   "metadata": {},
   "outputs": [
    {
     "data": {
      "image/png": "[encoded data removed]",
      "image/svg+xml": "<?xml version=\"1.0\" encoding=\"utf-8\" standalone=\"no\"?>\n<!DOCTYPE svg PUBLIC \"-//W3C//DTD SVG 1.1//EN\"\n  \"http://www.w3.org/Graphics/SVG/1.1/DTD/svg11.dtd\">\n<svg xmlns:xlink=\"http://www.w3.org/1999/xlink\" width=\"360pt\" height=\"288pt\" viewBox=\"0 0 360 288\" xmlns=\"http://www.w3.org/2000/svg\" version=\"1.1\">\n <metadata>\n  <rdf:RDF xmlns:dc=\"http://purl.org/dc/elements/1.1/\" xmlns:cc=\"http://creativecommons.org/ns#\" xmlns:rdf=\"http://www.w3.org/1999/02/22-rdf-syntax-ns#\">\n   <cc:Work>\n    <dc:type rdf:resource=\"http://purl.org/dc/dcmitype/StillImage\"/>\n    <dc:date>2022-06-12T21:06:36.084844</dc:date>\n    <dc:format>image/svg+xml</dc:format>\n    <dc:creator>\n     <cc:Agent>\n      <dc:title>Matplotlib v3.5.2, https://matplotlib.org/</dc:title>\n     </cc:Agent>\n    </dc:creator>\n   </cc:Work>\n  </rdf:RDF>\n </metadata>\n <defs>\n  <style type=\"text/css\">*{stroke-linejoin: round; stroke-linecap: butt}</style>\n </defs>\n <g id=\"figure_1\">\n  <g id=\"patch_1\">\n   <path d=\"M 0 288 \nL 360 288 \nL 360 0 \nL 0 0 \nz\n\" style=\"fill: #ffffff\"/>\n  </g>\n  <g id=\"axes_1\">\n   <g id=\"patch_2\">\n    <path d=\"M 2.834646 273.025354 \nL 357.165354 273.025354 \nL 357.165354 23.018646 \nL 2.834646 23.018646 \nz\n\" style=\"fill: #ffffff\"/>\n   </g>\n   <g id=\"matplotlib.axis_1\">\n    <g id=\"xtick_1\">\n     <g id=\"line2d_1\">\n      <path d=\"M 65.643019 273.025354 \nL 65.643019 23.018646 \n\" clip-path=\"url(#pc09641c7a9)\" style=\"fill: none; stroke: #000000; stroke-opacity: 0.1; stroke-width: 0.5; stroke-linecap: square\"/>\n     </g>\n     <g id=\"line2d_2\">\n      <defs>\n       <path id=\"m47a694e5bf\" d=\"M 0 0 \nL 0 -2.5 \n\" style=\"stroke: #000000; stroke-width: 0.5\"/>\n      </defs>\n      <g>\n       <use xlink:href=\"#m47a694e5bf\" x=\"65.643019\" y=\"273.025354\" style=\"stroke: #000000; stroke-width: 0.5\"/>\n      </g>\n     </g>\n     <g id=\"line2d_3\">\n      <defs>\n       <path id=\"m1f037e1647\" d=\"M 0 0 \nL 0 2.5 \n\" style=\"stroke: #000000; stroke-width: 0.5\"/>\n      </defs>\n      <g>\n       <use xlink:href=\"#m1f037e1647\" x=\"65.643019\" y=\"23.018646\" style=\"stroke: #000000; stroke-width: 0.5\"/>\n      </g>\n     </g>\n     <g id=\"text_1\">\n      <!-- $480$ -->\n      <g transform=\"translate(58.003019 282.604104)scale(0.08 -0.08)\">\n       <defs>\n        <path id=\"DejaVuSans-34\" d=\"M 2419 4116 \nL 825 1625 \nL 2419 1625 \nL 2419 4116 \nz\nM 2253 4666 \nL 3047 4666 \nL 3047 1625 \nL 3713 1625 \nL 3713 1100 \nL 3047 1100 \nL 3047 0 \nL 2419 0 \nL 2419 1100 \nL 313 1100 \nL 313 1709 \nL 2253 4666 \nz\n\" transform=\"scale(0.015625)\"/>\n        <path id=\"DejaVuSans-38\" d=\"M 2034 2216 \nQ 1584 2216 1326 1975 \nQ 1069 1734 1069 1313 \nQ 1069 891 1326 650 \nQ 1584 409 2034 409 \nQ 2484 409 2743 651 \nQ 3003 894 3003 1313 \nQ 3003 1734 2745 1975 \nQ 2488 2216 2034 2216 \nz\nM 1403 2484 \nQ 997 2584 770 2862 \nQ 544 3141 544 3541 \nQ 544 4100 942 4425 \nQ 1341 4750 2034 4750 \nQ 2731 4750 3128 4425 \nQ 3525 4100 3525 3541 \nQ 3525 3141 3298 2862 \nQ 3072 2584 2669 2484 \nQ 3125 2378 3379 2068 \nQ 3634 1759 3634 1313 \nQ 3634 634 3220 271 \nQ 2806 -91 2034 -91 \nQ 1263 -91 848 271 \nQ 434 634 434 1313 \nQ 434 1759 690 2068 \nQ 947 2378 1403 2484 \nz\nM 1172 3481 \nQ 1172 3119 1398 2916 \nQ 1625 2713 2034 2713 \nQ 2441 2713 2670 2916 \nQ 2900 3119 2900 3481 \nQ 2900 3844 2670 4047 \nQ 2441 4250 2034 4250 \nQ 1625 4250 1398 4047 \nQ 1172 3844 1172 3481 \nz\n\" transform=\"scale(0.015625)\"/>\n        <path id=\"DejaVuSans-30\" d=\"M 2034 4250 \nQ 1547 4250 1301 3770 \nQ 1056 3291 1056 2328 \nQ 1056 1369 1301 889 \nQ 1547 409 2034 409 \nQ 2525 409 2770 889 \nQ 3016 1369 3016 2328 \nQ 3016 3291 2770 3770 \nQ 2525 4250 2034 4250 \nz\nM 2034 4750 \nQ 2819 4750 3233 4129 \nQ 3647 3509 3647 2328 \nQ 3647 1150 3233 529 \nQ 2819 -91 2034 -91 \nQ 1250 -91 836 529 \nQ 422 1150 422 2328 \nQ 422 3509 836 4129 \nQ 1250 4750 2034 4750 \nz\n\" transform=\"scale(0.015625)\"/>\n       </defs>\n       <use xlink:href=\"#DejaVuSans-34\" transform=\"translate(0 0.78125)\"/>\n       <use xlink:href=\"#DejaVuSans-38\" transform=\"translate(63.623047 0.78125)\"/>\n       <use xlink:href=\"#DejaVuSans-30\" transform=\"translate(127.246094 0.78125)\"/>\n      </g>\n     </g>\n    </g>\n    <g id=\"xtick_2\">\n     <g id=\"line2d_4\">\n      <path d=\"M 136.016546 273.025354 \nL 136.016546 23.018646 \n\" clip-path=\"url(#pc09641c7a9)\" style=\"fill: none; stroke: #000000; stroke-opacity: 0.1; stroke-width: 0.5; stroke-linecap: square\"/>\n     </g>\n     <g id=\"line2d_5\">\n      <g>\n       <use xlink:href=\"#m47a694e5bf\" x=\"136.016546\" y=\"273.025354\" style=\"stroke: #000000; stroke-width: 0.5\"/>\n      </g>\n     </g>\n     <g id=\"line2d_6\">\n      <g>\n       <use xlink:href=\"#m1f037e1647\" x=\"136.016546\" y=\"23.018646\" style=\"stroke: #000000; stroke-width: 0.5\"/>\n      </g>\n     </g>\n     <g id=\"text_2\">\n      <!-- $500$ -->\n      <g transform=\"translate(128.376546 282.604104)scale(0.08 -0.08)\">\n       <defs>\n        <path id=\"DejaVuSans-35\" d=\"M 691 4666 \nL 3169 4666 \nL 3169 4134 \nL 1269 4134 \nL 1269 2991 \nQ 1406 3038 1543 3061 \nQ 1681 3084 1819 3084 \nQ 2600 3084 3056 2656 \nQ 3513 2228 3513 1497 \nQ 3513 744 3044 326 \nQ 2575 -91 1722 -91 \nQ 1428 -91 1123 -41 \nQ 819 9 494 109 \nL 494 744 \nQ 775 591 1075 516 \nQ 1375 441 1709 441 \nQ 2250 441 2565 725 \nQ 2881 1009 2881 1497 \nQ 2881 1984 2565 2268 \nQ 2250 2553 1709 2553 \nQ 1456 2553 1204 2497 \nQ 953 2441 691 2322 \nL 691 4666 \nz\n\" transform=\"scale(0.015625)\"/>\n       </defs>\n       <use xlink:href=\"#DejaVuSans-35\" transform=\"translate(0 0.78125)\"/>\n       <use xlink:href=\"#DejaVuSans-30\" transform=\"translate(63.623047 0.78125)\"/>\n       <use xlink:href=\"#DejaVuSans-30\" transform=\"translate(127.246094 0.78125)\"/>\n      </g>\n     </g>\n    </g>\n    <g id=\"xtick_3\">\n     <g id=\"line2d_7\">\n      <path d=\"M 206.390073 273.025354 \nL 206.390073 23.018646 \n\" clip-path=\"url(#pc09641c7a9)\" style=\"fill: none; stroke: #000000; stroke-opacity: 0.1; stroke-width: 0.5; stroke-linecap: square\"/>\n     </g>\n     <g id=\"line2d_8\">\n      <g>\n       <use xlink:href=\"#m47a694e5bf\" x=\"206.390073\" y=\"273.025354\" style=\"stroke: #000000; stroke-width: 0.5\"/>\n      </g>\n     </g>\n     <g id=\"line2d_9\">\n      <g>\n       <use xlink:href=\"#m1f037e1647\" x=\"206.390073\" y=\"23.018646\" style=\"stroke: #000000; stroke-width: 0.5\"/>\n      </g>\n     </g>\n     <g id=\"text_3\">\n      <!-- $520$ -->\n      <g transform=\"translate(198.750073 282.604104)scale(0.08 -0.08)\">\n       <defs>\n        <path id=\"DejaVuSans-32\" d=\"M 1228 531 \nL 3431 531 \nL 3431 0 \nL 469 0 \nL 469 531 \nQ 828 903 1448 1529 \nQ 2069 2156 2228 2338 \nQ 2531 2678 2651 2914 \nQ 2772 3150 2772 3378 \nQ 2772 3750 2511 3984 \nQ 2250 4219 1831 4219 \nQ 1534 4219 1204 4116 \nQ 875 4013 500 3803 \nL 500 4441 \nQ 881 4594 1212 4672 \nQ 1544 4750 1819 4750 \nQ 2544 4750 2975 4387 \nQ 3406 4025 3406 3419 \nQ 3406 3131 3298 2873 \nQ 3191 2616 2906 2266 \nQ 2828 2175 2409 1742 \nQ 1991 1309 1228 531 \nz\n\" transform=\"scale(0.015625)\"/>\n       </defs>\n       <use xlink:href=\"#DejaVuSans-35\" transform=\"translate(0 0.78125)\"/>\n       <use xlink:href=\"#DejaVuSans-32\" transform=\"translate(63.623047 0.78125)\"/>\n       <use xlink:href=\"#DejaVuSans-30\" transform=\"translate(127.246094 0.78125)\"/>\n      </g>\n     </g>\n    </g>\n    <g id=\"xtick_4\">\n     <g id=\"line2d_10\">\n      <path d=\"M 276.7636 273.025354 \nL 276.7636 23.018646 \n\" clip-path=\"url(#pc09641c7a9)\" style=\"fill: none; stroke: #000000; stroke-opacity: 0.1; stroke-width: 0.5; stroke-linecap: square\"/>\n     </g>\n     <g id=\"line2d_11\">\n      <g>\n       <use xlink:href=\"#m47a694e5bf\" x=\"276.7636\" y=\"273.025354\" style=\"stroke: #000000; stroke-width: 0.5\"/>\n      </g>\n     </g>\n     <g id=\"line2d_12\">\n      <g>\n       <use xlink:href=\"#m1f037e1647\" x=\"276.7636\" y=\"23.018646\" style=\"stroke: #000000; stroke-width: 0.5\"/>\n      </g>\n     </g>\n     <g id=\"text_4\">\n      <!-- $540$ -->\n      <g transform=\"translate(269.1236 282.604104)scale(0.08 -0.08)\">\n       <use xlink:href=\"#DejaVuSans-35\" transform=\"translate(0 0.78125)\"/>\n       <use xlink:href=\"#DejaVuSans-34\" transform=\"translate(63.623047 0.78125)\"/>\n       <use xlink:href=\"#DejaVuSans-30\" transform=\"translate(127.246094 0.78125)\"/>\n      </g>\n     </g>\n    </g>\n    <g id=\"xtick_5\">\n     <g id=\"line2d_13\">\n      <path d=\"M 347.137127 273.025354 \nL 347.137127 23.018646 \n\" clip-path=\"url(#pc09641c7a9)\" style=\"fill: none; stroke: #000000; stroke-opacity: 0.1; stroke-width: 0.5; stroke-linecap: square\"/>\n     </g>\n     <g id=\"line2d_14\">\n      <g>\n       <use xlink:href=\"#m47a694e5bf\" x=\"347.137127\" y=\"273.025354\" style=\"stroke: #000000; stroke-width: 0.5\"/>\n      </g>\n     </g>\n     <g id=\"line2d_15\">\n      <g>\n       <use xlink:href=\"#m1f037e1647\" x=\"347.137127\" y=\"23.018646\" style=\"stroke: #000000; stroke-width: 0.5\"/>\n      </g>\n     </g>\n     <g id=\"text_5\">\n      <!-- $560$ -->\n      <g transform=\"translate(339.497127 282.604104)scale(0.08 -0.08)\">\n       <defs>\n        <path id=\"DejaVuSans-36\" d=\"M 2113 2584 \nQ 1688 2584 1439 2293 \nQ 1191 2003 1191 1497 \nQ 1191 994 1439 701 \nQ 1688 409 2113 409 \nQ 2538 409 2786 701 \nQ 3034 994 3034 1497 \nQ 3034 2003 2786 2293 \nQ 2538 2584 2113 2584 \nz\nM 3366 4563 \nL 3366 3988 \nQ 3128 4100 2886 4159 \nQ 2644 4219 2406 4219 \nQ 1781 4219 1451 3797 \nQ 1122 3375 1075 2522 \nQ 1259 2794 1537 2939 \nQ 1816 3084 2150 3084 \nQ 2853 3084 3261 2657 \nQ 3669 2231 3669 1497 \nQ 3669 778 3244 343 \nQ 2819 -91 2113 -91 \nQ 1303 -91 875 529 \nQ 447 1150 447 2328 \nQ 447 3434 972 4092 \nQ 1497 4750 2381 4750 \nQ 2619 4750 2861 4703 \nQ 3103 4656 3366 4563 \nz\n\" transform=\"scale(0.015625)\"/>\n       </defs>\n       <use xlink:href=\"#DejaVuSans-35\" transform=\"translate(0 0.78125)\"/>\n       <use xlink:href=\"#DejaVuSans-36\" transform=\"translate(63.623047 0.78125)\"/>\n       <use xlink:href=\"#DejaVuSans-30\" transform=\"translate(127.246094 0.78125)\"/>\n      </g>\n     </g>\n    </g>\n   </g>\n   <g id=\"matplotlib.axis_2\"/>\n   <g id=\"line2d_16\">\n    <path d=\"M 12.862873 265.949693 \nL 12.862873 265.91984 \nL 30.456255 265.91984 \nL 30.456255 265.800427 \nL 48.049637 265.800427 \nL 48.049637 264.128646 \nL 65.643019 264.128646 \nL 65.643019 255.396579 \nL 83.2364 255.396579 \nL 83.2364 223.692456 \nL 100.829782 223.692456 \nL 100.829782 162.373937 \nL 118.423164 162.373937 \nL 118.423164 73.29192 \nL 136.016546 73.29192 \nL 136.016546 30.094307 \nL 153.609927 30.094307 \nL 153.609927 64.156834 \nL 171.203309 64.156834 \nL 171.203309 132.416228 \nL 188.796691 132.416228 \nL 188.796691 200.541282 \nL 206.390073 200.541282 \nL 206.390073 233.558946 \nL 223.983454 233.558946 \nL 223.983454 252.067944 \nL 241.576836 252.067944 \nL 241.576836 260.650746 \nL 259.170218 260.650746 \nL 259.170218 264.06894 \nL 276.7636 264.06894 \nL 276.7636 265.322775 \nL 294.356981 265.322775 \nL 294.356981 265.666087 \nL 311.950363 265.666087 \nL 311.950363 265.91984 \nL 329.543745 265.91984 \nL 329.543745 265.934766 \nL 347.137127 265.934766 \nL 347.137127 265.949693 \n\" clip-path=\"url(#pc09641c7a9)\" style=\"fill: none; stroke: #000000\"/>\n   </g>\n   <g id=\"line2d_17\">\n    <path d=\"M 136.016546 289 \nL 136.016546 -1 \n\" clip-path=\"url(#pc09641c7a9)\" style=\"fill: none; stroke: #e36f47; stroke-width: 2\"/>\n   </g>\n   <g id=\"patch_3\">\n    <path d=\"M 2.834646 273.025354 \nL 2.834646 23.018646 \n\" style=\"fill: none; stroke: #000000; stroke-linejoin: miter; stroke-linecap: square\"/>\n   </g>\n   <g id=\"patch_4\">\n    <path d=\"M 357.165354 273.025354 \nL 357.165354 23.018646 \n\" style=\"fill: none; stroke: #000000; stroke-linejoin: miter; stroke-linecap: square\"/>\n   </g>\n   <g id=\"patch_5\">\n    <path d=\"M 2.834646 273.025354 \nL 357.165354 273.025354 \n\" style=\"fill: none; stroke: #000000; stroke-linejoin: miter; stroke-linecap: square\"/>\n   </g>\n   <g id=\"patch_6\">\n    <path d=\"M 2.834646 23.018646 \nL 357.165354 23.018646 \n\" style=\"fill: none; stroke: #000000; stroke-linejoin: miter; stroke-linecap: square\"/>\n   </g>\n   <g id=\"line2d_18\">\n    <path d=\"M 119.510537 289 \nL 119.510537 -1 \n\" clip-path=\"url(#pc09641c7a9)\" style=\"fill: none; stroke-dasharray: 3.7,1.6; stroke-dashoffset: 0; stroke: #000000\"/>\n   </g>\n   <g id=\"line2d_19\">\n    <path d=\"M 148.753375 289 \nL 148.753375 -1 \n\" clip-path=\"url(#pc09641c7a9)\" style=\"fill: none; stroke-dasharray: 3.7,1.6; stroke-dashoffset: 0; stroke: #000000\"/>\n   </g>\n   <g id=\"line2d_20\">\n    <path d=\"M 181.298208 289 \nL 181.298208 -1 \n\" clip-path=\"url(#pc09641c7a9)\" style=\"fill: none; stroke-dasharray: 3.7,1.6; stroke-dashoffset: 0; stroke: #000000\"/>\n   </g>\n   <g id=\"text_6\">\n    <!-- $v_{esc} =$ 503.62 $ ^{+9.25}_{-8.31}$  -->\n    <g transform=\"translate(112.31 17.018646)scale(0.14 -0.14)\">\n     <defs>\n      <path id=\"DejaVuSans-Oblique-76\" d=\"M 459 3500 \nL 1069 3500 \nL 1581 525 \nL 3256 3500 \nL 3866 3500 \nL 1875 0 \nL 1100 0 \nL 459 3500 \nz\n\" transform=\"scale(0.015625)\"/>\n      <path id=\"DejaVuSans-Oblique-65\" d=\"M 3078 2063 \nQ 3088 2113 3092 2166 \nQ 3097 2219 3097 2272 \nQ 3097 2653 2873 2875 \nQ 2650 3097 2266 3097 \nQ 1838 3097 1509 2826 \nQ 1181 2556 1013 2059 \nL 3078 2063 \nz\nM 3578 1613 \nL 903 1613 \nQ 884 1494 878 1425 \nQ 872 1356 872 1306 \nQ 872 872 1139 634 \nQ 1406 397 1894 397 \nQ 2269 397 2603 481 \nQ 2938 566 3225 728 \nL 3116 159 \nQ 2806 34 2476 -28 \nQ 2147 -91 1806 -91 \nQ 1078 -91 686 257 \nQ 294 606 294 1247 \nQ 294 1794 489 2264 \nQ 684 2734 1063 3103 \nQ 1306 3334 1642 3459 \nQ 1978 3584 2356 3584 \nQ 2950 3584 3301 3228 \nQ 3653 2872 3653 2272 \nQ 3653 2128 3634 1964 \nQ 3616 1800 3578 1613 \nz\n\" transform=\"scale(0.015625)\"/>\n      <path id=\"DejaVuSans-Oblique-73\" d=\"M 3200 3397 \nL 3091 2853 \nQ 2863 2978 2609 3040 \nQ 2356 3103 2088 3103 \nQ 1634 3103 1373 2948 \nQ 1113 2794 1113 2528 \nQ 1113 2219 1719 2053 \nQ 1766 2041 1788 2034 \nL 1972 1978 \nQ 2547 1819 2739 1644 \nQ 2931 1469 2931 1166 \nQ 2931 609 2489 259 \nQ 2047 -91 1331 -91 \nQ 1053 -91 747 -37 \nQ 441 16 72 128 \nL 184 722 \nQ 500 559 806 475 \nQ 1113 391 1394 391 \nQ 1816 391 2080 572 \nQ 2344 753 2344 1031 \nQ 2344 1331 1650 1516 \nL 1591 1531 \nL 1394 1581 \nQ 956 1697 753 1886 \nQ 550 2075 550 2369 \nQ 550 2928 970 3256 \nQ 1391 3584 2113 3584 \nQ 2397 3584 2667 3537 \nQ 2938 3491 3200 3397 \nz\n\" transform=\"scale(0.015625)\"/>\n      <path id=\"DejaVuSans-Oblique-63\" d=\"M 3431 3366 \nL 3316 2797 \nQ 3109 2947 2876 3022 \nQ 2644 3097 2394 3097 \nQ 2119 3097 1870 3000 \nQ 1622 2903 1453 2725 \nQ 1184 2453 1037 2087 \nQ 891 1722 891 1331 \nQ 891 859 1127 628 \nQ 1363 397 1844 397 \nQ 2081 397 2348 469 \nQ 2616 541 2906 684 \nL 2797 116 \nQ 2547 13 2283 -39 \nQ 2019 -91 1741 -91 \nQ 1044 -91 669 257 \nQ 294 606 294 1253 \nQ 294 1797 489 2255 \nQ 684 2713 1069 3078 \nQ 1331 3328 1684 3456 \nQ 2038 3584 2456 3584 \nQ 2700 3584 2940 3529 \nQ 3181 3475 3431 3366 \nz\n\" transform=\"scale(0.015625)\"/>\n      <path id=\"DejaVuSans-3d\" d=\"M 678 2906 \nL 4684 2906 \nL 4684 2381 \nL 678 2381 \nL 678 2906 \nz\nM 678 1631 \nL 4684 1631 \nL 4684 1100 \nL 678 1100 \nL 678 1631 \nz\n\" transform=\"scale(0.015625)\"/>\n      <path id=\"DejaVuSans-20\" transform=\"scale(0.015625)\"/>\n      <path id=\"DejaVuSans-33\" d=\"M 2597 2516 \nQ 3050 2419 3304 2112 \nQ 3559 1806 3559 1356 \nQ 3559 666 3084 287 \nQ 2609 -91 1734 -91 \nQ 1441 -91 1130 -33 \nQ 819 25 488 141 \nL 488 750 \nQ 750 597 1062 519 \nQ 1375 441 1716 441 \nQ 2309 441 2620 675 \nQ 2931 909 2931 1356 \nQ 2931 1769 2642 2001 \nQ 2353 2234 1838 2234 \nL 1294 2234 \nL 1294 2753 \nL 1863 2753 \nQ 2328 2753 2575 2939 \nQ 2822 3125 2822 3475 \nQ 2822 3834 2567 4026 \nQ 2313 4219 1838 4219 \nQ 1578 4219 1281 4162 \nQ 984 4106 628 3988 \nL 628 4550 \nQ 988 4650 1302 4700 \nQ 1616 4750 1894 4750 \nQ 2613 4750 3031 4423 \nQ 3450 4097 3450 3541 \nQ 3450 3153 3228 2886 \nQ 3006 2619 2597 2516 \nz\n\" transform=\"scale(0.015625)\"/>\n      <path id=\"DejaVuSans-2e\" d=\"M 684 794 \nL 1344 794 \nL 1344 0 \nL 684 0 \nL 684 794 \nz\n\" transform=\"scale(0.015625)\"/>\n      <path id=\"DejaVuSans-2b\" d=\"M 2944 4013 \nL 2944 2272 \nL 4684 2272 \nL 4684 1741 \nL 2944 1741 \nL 2944 0 \nL 2419 0 \nL 2419 1741 \nL 678 1741 \nL 678 2272 \nL 2419 2272 \nL 2419 4013 \nL 2944 4013 \nz\n\" transform=\"scale(0.015625)\"/>\n      <path id=\"DejaVuSans-39\" d=\"M 703 97 \nL 703 672 \nQ 941 559 1184 500 \nQ 1428 441 1663 441 \nQ 2288 441 2617 861 \nQ 2947 1281 2994 2138 \nQ 2813 1869 2534 1725 \nQ 2256 1581 1919 1581 \nQ 1219 1581 811 2004 \nQ 403 2428 403 3163 \nQ 403 3881 828 4315 \nQ 1253 4750 1959 4750 \nQ 2769 4750 3195 4129 \nQ 3622 3509 3622 2328 \nQ 3622 1225 3098 567 \nQ 2575 -91 1691 -91 \nQ 1453 -91 1209 -44 \nQ 966 3 703 97 \nz\nM 1959 2075 \nQ 2384 2075 2632 2365 \nQ 2881 2656 2881 3163 \nQ 2881 3666 2632 3958 \nQ 2384 4250 1959 4250 \nQ 1534 4250 1286 3958 \nQ 1038 3666 1038 3163 \nQ 1038 2656 1286 2365 \nQ 1534 2075 1959 2075 \nz\n\" transform=\"scale(0.015625)\"/>\n      <path id=\"DejaVuSans-2212\" d=\"M 678 2272 \nL 4684 2272 \nL 4684 1741 \nL 678 1741 \nL 678 2272 \nz\n\" transform=\"scale(0.015625)\"/>\n      <path id=\"DejaVuSans-31\" d=\"M 794 531 \nL 1825 531 \nL 1825 4091 \nL 703 3866 \nL 703 4441 \nL 1819 4666 \nL 2450 4666 \nL 2450 531 \nL 3481 531 \nL 3481 0 \nL 794 0 \nL 794 531 \nz\n\" transform=\"scale(0.015625)\"/>\n     </defs>\n     <use xlink:href=\"#DejaVuSans-Oblique-76\" transform=\"translate(0 0.765625)\"/>\n     <use xlink:href=\"#DejaVuSans-Oblique-65\" transform=\"translate(59.179688 -15.640625)scale(0.7)\"/>\n     <use xlink:href=\"#DejaVuSans-Oblique-73\" transform=\"translate(102.246094 -15.640625)scale(0.7)\"/>\n     <use xlink:href=\"#DejaVuSans-Oblique-63\" transform=\"translate(138.71582 -15.640625)scale(0.7)\"/>\n     <use xlink:href=\"#DejaVuSans-3d\" transform=\"translate(199.418945 0.765625)\"/>\n     <use xlink:href=\"#DejaVuSans-20\" transform=\"translate(302.69043 0.765625)\"/>\n     <use xlink:href=\"#DejaVuSans-35\" transform=\"translate(334.477539 0.765625)\"/>\n     <use xlink:href=\"#DejaVuSans-30\" transform=\"translate(398.100586 0.765625)\"/>\n     <use xlink:href=\"#DejaVuSans-33\" transform=\"translate(461.723633 0.765625)\"/>\n     <use xlink:href=\"#DejaVuSans-2e\" transform=\"translate(525.34668 0.765625)\"/>\n     <use xlink:href=\"#DejaVuSans-36\" transform=\"translate(557.133789 0.765625)\"/>\n     <use xlink:href=\"#DejaVuSans-32\" transform=\"translate(620.756836 0.765625)\"/>\n     <use xlink:href=\"#DejaVuSans-20\" transform=\"translate(684.379883 0.765625)\"/>\n     <use xlink:href=\"#DejaVuSans-2b\" transform=\"translate(717.124023 39.046875)scale(0.7)\"/>\n     <use xlink:href=\"#DejaVuSans-39\" transform=\"translate(775.776367 39.046875)scale(0.7)\"/>\n     <use xlink:href=\"#DejaVuSans-2e\" transform=\"translate(820.3125 39.046875)scale(0.7)\"/>\n     <use xlink:href=\"#DejaVuSans-32\" transform=\"translate(838.713477 39.046875)scale(0.7)\"/>\n     <use xlink:href=\"#DejaVuSans-35\" transform=\"translate(883.249609 39.046875)scale(0.7)\"/>\n     <use xlink:href=\"#DejaVuSans-2212\" transform=\"translate(717.124023 -26.578125)scale(0.7)\"/>\n     <use xlink:href=\"#DejaVuSans-38\" transform=\"translate(775.776367 -26.578125)scale(0.7)\"/>\n     <use xlink:href=\"#DejaVuSans-2e\" transform=\"translate(820.3125 -26.578125)scale(0.7)\"/>\n     <use xlink:href=\"#DejaVuSans-33\" transform=\"translate(842.563477 -26.578125)scale(0.7)\"/>\n     <use xlink:href=\"#DejaVuSans-31\" transform=\"translate(887.099609 -26.578125)scale(0.7)\"/>\n     <use xlink:href=\"#DejaVuSans-20\" transform=\"translate(934.370117 0.765625)\"/>\n    </g>\n   </g>\n   <g id=\"legend_1\">\n    <g id=\"patch_7\">\n     <path d=\"M 282.845354 47.561146 \nL 353.165354 47.561146 \nL 353.165354 27.018646 \nL 282.845354 27.018646 \nz\n\" style=\"fill: #ffffff; stroke: #000000; stroke-linejoin: miter\"/>\n    </g>\n    <g id=\"line2d_21\">\n     <path d=\"M 289.245354 36.697396 \nL 297.245354 36.697396 \nL 305.245354 36.697396 \n\" style=\"fill: none; stroke: #e36f47; stroke-linejoin: miter\"/>\n    </g>\n    <g id=\"text_7\">\n     <!-- True $v_{esc}$ -->\n     <g transform=\"translate(311.645354 39.497396)scale(0.08 -0.08)\">\n      <defs>\n       <path id=\"DejaVuSans-54\" d=\"M -19 4666 \nL 3928 4666 \nL 3928 4134 \nL 2272 4134 \nL 2272 0 \nL 1638 0 \nL 1638 4134 \nL -19 4134 \nL -19 4666 \nz\n\" transform=\"scale(0.015625)\"/>\n       <path id=\"DejaVuSans-72\" d=\"M 2631 2963 \nQ 2534 3019 2420 3045 \nQ 2306 3072 2169 3072 \nQ 1681 3072 1420 2755 \nQ 1159 2438 1159 1844 \nL 1159 0 \nL 581 0 \nL 581 3500 \nL 1159 3500 \nL 1159 2956 \nQ 1341 3275 1631 3429 \nQ 1922 3584 2338 3584 \nQ 2397 3584 2469 3576 \nQ 2541 3569 2628 3553 \nL 2631 2963 \nz\n\" transform=\"scale(0.015625)\"/>\n       <path id=\"DejaVuSans-75\" d=\"M 544 1381 \nL 544 3500 \nL 1119 3500 \nL 1119 1403 \nQ 1119 906 1312 657 \nQ 1506 409 1894 409 \nQ 2359 409 2629 706 \nQ 2900 1003 2900 1516 \nL 2900 3500 \nL 3475 3500 \nL 3475 0 \nL 2900 0 \nL 2900 538 \nQ 2691 219 2414 64 \nQ 2138 -91 1772 -91 \nQ 1169 -91 856 284 \nQ 544 659 544 1381 \nz\nM 1991 3584 \nL 1991 3584 \nz\n\" transform=\"scale(0.015625)\"/>\n       <path id=\"DejaVuSans-65\" d=\"M 3597 1894 \nL 3597 1613 \nL 953 1613 \nQ 991 1019 1311 708 \nQ 1631 397 2203 397 \nQ 2534 397 2845 478 \nQ 3156 559 3463 722 \nL 3463 178 \nQ 3153 47 2828 -22 \nQ 2503 -91 2169 -91 \nQ 1331 -91 842 396 \nQ 353 884 353 1716 \nQ 353 2575 817 3079 \nQ 1281 3584 2069 3584 \nQ 2775 3584 3186 3129 \nQ 3597 2675 3597 1894 \nz\nM 3022 2063 \nQ 3016 2534 2758 2815 \nQ 2500 3097 2075 3097 \nQ 1594 3097 1305 2825 \nQ 1016 2553 972 2059 \nL 3022 2063 \nz\n\" transform=\"scale(0.015625)\"/>\n      </defs>\n      <use xlink:href=\"#DejaVuSans-54\" transform=\"translate(0 0.09375)\"/>\n      <use xlink:href=\"#DejaVuSans-72\" transform=\"translate(61.083984 0.09375)\"/>\n      <use xlink:href=\"#DejaVuSans-75\" transform=\"translate(102.197266 0.09375)\"/>\n      <use xlink:href=\"#DejaVuSans-65\" transform=\"translate(165.576172 0.09375)\"/>\n      <use xlink:href=\"#DejaVuSans-20\" transform=\"translate(227.099609 0.09375)\"/>\n      <use xlink:href=\"#DejaVuSans-Oblique-76\" transform=\"translate(258.886719 0.09375)\"/>\n      <use xlink:href=\"#DejaVuSans-Oblique-65\" transform=\"translate(318.066406 -16.3125)scale(0.7)\"/>\n      <use xlink:href=\"#DejaVuSans-Oblique-73\" transform=\"translate(361.132812 -16.3125)scale(0.7)\"/>\n      <use xlink:href=\"#DejaVuSans-Oblique-63\" transform=\"translate(397.602539 -16.3125)scale(0.7)\"/>\n     </g>\n    </g>\n   </g>\n  </g>\n </g>\n <defs>\n  <clipPath id=\"pc09641c7a9\">\n   <rect x=\"2.834646\" y=\"23.018646\" width=\"354.330709\" height=\"250.006709\"/>\n  </clipPath>\n </defs>\n</svg>\n",
      "text/html": [
       "<img src=\"data:image/png;base64,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\" />"
      ]
     },
     "metadata": {},
     "output_type": "display_data"
    }
   ],
   "source": [
    "vplot = Plots.plot(vesc_posterior,\n",
    "            title =\"\\$v_{esc} =\\$ $(@sprintf(\"%.2f\", vesc_median)) \\$ ^{+$(@sprintf(\"%.2f\", vesc_upper_1sigma))}_{-$(@sprintf(\"%.2f\", vesc_lower_1sigma))}\\$ \",\n",
    "            #alpha = 0.5,\n",
    "            seriestype=:stephist,\n",
    "            bins = 25,\n",
    "            normed = true,\n",
    "            #bar_width = 15,\n",
    "            #linewidth = 0,\n",
    "            #color = \"gray\" ,\n",
    "            lc=\"black\",\n",
    "            label = \"\",\n",
    "            size=(500,400),\n",
    "            framestyle = :box,\n",
    "            yticks=false\n",
    "            )\n",
    "vline!([target_vesc], lw = 2, label = L\"True $v_{esc}$\")\n",
    "\n",
    "vline!(vesc_quantiles , ls=:dash, color=\"black\",lw=1,label=\"\" )"
   ]
  },
  {
   "cell_type": "code",
   "execution_count": 26,
   "metadata": {},
   "outputs": [
    {
     "data": {
      "image/png": "[encoded data removed]",
      "image/svg+xml": "<?xml version=\"1.0\" encoding=\"utf-8\" standalone=\"no\"?>\n<!DOCTYPE svg PUBLIC \"-//W3C//DTD SVG 1.1//EN\"\n  \"http://www.w3.org/Graphics/SVG/1.1/DTD/svg11.dtd\">\n<svg xmlns:xlink=\"http://www.w3.org/1999/xlink\" width=\"360pt\" height=\"288pt\" viewBox=\"0 0 360 288\" xmlns=\"http://www.w3.org/2000/svg\" version=\"1.1\">\n <metadata>\n  <rdf:RDF xmlns:dc=\"http://purl.org/dc/elements/1.1/\" xmlns:cc=\"http://creativecommons.org/ns#\" xmlns:rdf=\"http://www.w3.org/1999/02/22-rdf-syntax-ns#\">\n   <cc:Work>\n    <dc:type rdf:resource=\"http://purl.org/dc/dcmitype/StillImage\"/>\n    <dc:date>2022-06-12T21:06:44.253716</dc:date>\n    <dc:format>image/svg+xml</dc:format>\n    <dc:creator>\n     <cc:Agent>\n      <dc:title>Matplotlib v3.5.2, https://matplotlib.org/</dc:title>\n     </cc:Agent>\n    </dc:creator>\n   </cc:Work>\n  </rdf:RDF>\n </metadata>\n <defs>\n  <style type=\"text/css\">*{stroke-linejoin: round; stroke-linecap: butt}</style>\n </defs>\n <g id=\"figure_1\">\n  <g id=\"patch_1\">\n   <path d=\"M 0 288 \nL 360 288 \nL 360 0 \nL 0 0 \nz\n\" style=\"fill: #ffffff\"/>\n  </g>\n  <g id=\"axes_1\">\n   <g id=\"patch_2\">\n    <path d=\"M 2.834646 273.025354 \nL 357.165354 273.025354 \nL 357.165354 23.018646 \nL 2.834646 23.018646 \nz\n\" style=\"fill: #ffffff\"/>\n   </g>\n   <g id=\"matplotlib.axis_1\">\n    <g id=\"xtick_1\">\n     <g id=\"line2d_1\">\n      <path d=\"M 83.2364 273.025354 \nL 83.2364 23.018646 \n\" clip-path=\"url(#p70cc71524f)\" style=\"fill: none; stroke: #000000; stroke-opacity: 0.1; stroke-width: 0.5; stroke-linecap: square\"/>\n     </g>\n     <g id=\"line2d_2\">\n      <defs>\n       <path id=\"m68f2da4238\" d=\"M 0 0 \nL 0 -2.5 \n\" style=\"stroke: #000000; stroke-width: 0.5\"/>\n      </defs>\n      <g>\n       <use xlink:href=\"#m68f2da4238\" x=\"83.2364\" y=\"273.025354\" style=\"stroke: #000000; stroke-width: 0.5\"/>\n      </g>\n     </g>\n     <g id=\"line2d_3\">\n      <defs>\n       <path id=\"m629d58e7e5\" d=\"M 0 0 \nL 0 2.5 \n\" style=\"stroke: #000000; stroke-width: 0.5\"/>\n      </defs>\n      <g>\n       <use xlink:href=\"#m629d58e7e5\" x=\"83.2364\" y=\"23.018646\" style=\"stroke: #000000; stroke-width: 0.5\"/>\n      </g>\n     </g>\n     <g id=\"text_1\">\n      <!-- $5$ -->\n      <g transform=\"translate(80.6764 282.604104)scale(0.08 -0.08)\">\n       <defs>\n        <path id=\"DejaVuSans-35\" d=\"M 691 4666 \nL 3169 4666 \nL 3169 4134 \nL 1269 4134 \nL 1269 2991 \nQ 1406 3038 1543 3061 \nQ 1681 3084 1819 3084 \nQ 2600 3084 3056 2656 \nQ 3513 2228 3513 1497 \nQ 3513 744 3044 326 \nQ 2575 -91 1722 -91 \nQ 1428 -91 1123 -41 \nQ 819 9 494 109 \nL 494 744 \nQ 775 591 1075 516 \nQ 1375 441 1709 441 \nQ 2250 441 2565 725 \nQ 2881 1009 2881 1497 \nQ 2881 1984 2565 2268 \nQ 2250 2553 1709 2553 \nQ 1456 2553 1204 2497 \nQ 953 2441 691 2322 \nL 691 4666 \nz\n\" transform=\"scale(0.015625)\"/>\n       </defs>\n       <use xlink:href=\"#DejaVuSans-35\" transform=\"translate(0 0.09375)\"/>\n      </g>\n     </g>\n    </g>\n    <g id=\"xtick_2\">\n     <g id=\"line2d_4\">\n      <path d=\"M 171.203309 273.025354 \nL 171.203309 23.018646 \n\" clip-path=\"url(#p70cc71524f)\" style=\"fill: none; stroke: #000000; stroke-opacity: 0.1; stroke-width: 0.5; stroke-linecap: square\"/>\n     </g>\n     <g id=\"line2d_5\">\n      <g>\n       <use xlink:href=\"#m68f2da4238\" x=\"171.203309\" y=\"273.025354\" style=\"stroke: #000000; stroke-width: 0.5\"/>\n      </g>\n     </g>\n     <g id=\"line2d_6\">\n      <g>\n       <use xlink:href=\"#m629d58e7e5\" x=\"171.203309\" y=\"23.018646\" style=\"stroke: #000000; stroke-width: 0.5\"/>\n      </g>\n     </g>\n     <g id=\"text_2\">\n      <!-- $10$ -->\n      <g transform=\"translate(166.083309 282.604104)scale(0.08 -0.08)\">\n       <defs>\n        <path id=\"DejaVuSans-31\" d=\"M 794 531 \nL 1825 531 \nL 1825 4091 \nL 703 3866 \nL 703 4441 \nL 1819 4666 \nL 2450 4666 \nL 2450 531 \nL 3481 531 \nL 3481 0 \nL 794 0 \nL 794 531 \nz\n\" transform=\"scale(0.015625)\"/>\n        <path id=\"DejaVuSans-30\" d=\"M 2034 4250 \nQ 1547 4250 1301 3770 \nQ 1056 3291 1056 2328 \nQ 1056 1369 1301 889 \nQ 1547 409 2034 409 \nQ 2525 409 2770 889 \nQ 3016 1369 3016 2328 \nQ 3016 3291 2770 3770 \nQ 2525 4250 2034 4250 \nz\nM 2034 4750 \nQ 2819 4750 3233 4129 \nQ 3647 3509 3647 2328 \nQ 3647 1150 3233 529 \nQ 2819 -91 2034 -91 \nQ 1250 -91 836 529 \nQ 422 1150 422 2328 \nQ 422 3509 836 4129 \nQ 1250 4750 2034 4750 \nz\n\" transform=\"scale(0.015625)\"/>\n       </defs>\n       <use xlink:href=\"#DejaVuSans-31\" transform=\"translate(0 0.78125)\"/>\n       <use xlink:href=\"#DejaVuSans-30\" transform=\"translate(63.623047 0.78125)\"/>\n      </g>\n     </g>\n    </g>\n    <g id=\"xtick_3\">\n     <g id=\"line2d_7\">\n      <path d=\"M 259.170218 273.025354 \nL 259.170218 23.018646 \n\" clip-path=\"url(#p70cc71524f)\" style=\"fill: none; stroke: #000000; stroke-opacity: 0.1; stroke-width: 0.5; stroke-linecap: square\"/>\n     </g>\n     <g id=\"line2d_8\">\n      <g>\n       <use xlink:href=\"#m68f2da4238\" x=\"259.170218\" y=\"273.025354\" style=\"stroke: #000000; stroke-width: 0.5\"/>\n      </g>\n     </g>\n     <g id=\"line2d_9\">\n      <g>\n       <use xlink:href=\"#m629d58e7e5\" x=\"259.170218\" y=\"23.018646\" style=\"stroke: #000000; stroke-width: 0.5\"/>\n      </g>\n     </g>\n     <g id=\"text_3\">\n      <!-- $15$ -->\n      <g transform=\"translate(254.050218 282.604104)scale(0.08 -0.08)\">\n       <use xlink:href=\"#DejaVuSans-31\" transform=\"translate(0 0.09375)\"/>\n       <use xlink:href=\"#DejaVuSans-35\" transform=\"translate(63.623047 0.09375)\"/>\n      </g>\n     </g>\n    </g>\n    <g id=\"xtick_4\">\n     <g id=\"line2d_10\">\n      <path d=\"M 347.137127 273.025354 \nL 347.137127 23.018646 \n\" clip-path=\"url(#p70cc71524f)\" style=\"fill: none; stroke: #000000; stroke-opacity: 0.1; stroke-width: 0.5; stroke-linecap: square\"/>\n     </g>\n     <g id=\"line2d_11\">\n      <g>\n       <use xlink:href=\"#m68f2da4238\" x=\"347.137127\" y=\"273.025354\" style=\"stroke: #000000; stroke-width: 0.5\"/>\n      </g>\n     </g>\n     <g id=\"line2d_12\">\n      <g>\n       <use xlink:href=\"#m629d58e7e5\" x=\"347.137127\" y=\"23.018646\" style=\"stroke: #000000; stroke-width: 0.5\"/>\n      </g>\n     </g>\n     <g id=\"text_4\">\n      <!-- $20$ -->\n      <g transform=\"translate(342.017127 282.604104)scale(0.08 -0.08)\">\n       <defs>\n        <path id=\"DejaVuSans-32\" d=\"M 1228 531 \nL 3431 531 \nL 3431 0 \nL 469 0 \nL 469 531 \nQ 828 903 1448 1529 \nQ 2069 2156 2228 2338 \nQ 2531 2678 2651 2914 \nQ 2772 3150 2772 3378 \nQ 2772 3750 2511 3984 \nQ 2250 4219 1831 4219 \nQ 1534 4219 1204 4116 \nQ 875 4013 500 3803 \nL 500 4441 \nQ 881 4594 1212 4672 \nQ 1544 4750 1819 4750 \nQ 2544 4750 2975 4387 \nQ 3406 4025 3406 3419 \nQ 3406 3131 3298 2873 \nQ 3191 2616 2906 2266 \nQ 2828 2175 2409 1742 \nQ 1991 1309 1228 531 \nz\n\" transform=\"scale(0.015625)\"/>\n       </defs>\n       <use xlink:href=\"#DejaVuSans-32\" transform=\"translate(0 0.78125)\"/>\n       <use xlink:href=\"#DejaVuSans-30\" transform=\"translate(63.623047 0.78125)\"/>\n      </g>\n     </g>\n    </g>\n   </g>\n   <g id=\"matplotlib.axis_2\"/>\n   <g id=\"line2d_13\">\n    <path d=\"M 12.862873 265.949693 \nL 12.862873 262.824598 \nL 30.456255 262.824598 \nL 30.456255 196.170785 \nL 48.049637 196.170785 \nL 48.049637 163.178711 \nL 65.643019 163.178711 \nL 65.643019 151.30335 \nL 83.2364 151.30335 \nL 83.2364 145.633535 \nL 100.829782 145.633535 \nL 100.829782 134.338548 \nL 118.423164 134.338548 \nL 118.423164 120.811351 \nL 136.016546 120.811351 \nL 136.016546 112.462883 \nL 153.609927 112.462883 \nL 153.609927 99.82857 \nL 171.203309 99.82857 \nL 171.203309 83.488788 \nL 188.796691 83.488788 \nL 188.796691 71.925936 \nL 206.390073 71.925936 \nL 206.390073 58.666605 \nL 223.983454 58.666605 \nL 223.983454 46.076936 \nL 241.576836 46.076936 \nL 241.576836 33.576556 \nL 259.170218 33.576556 \nL 259.170218 32.058653 \nL 276.7636 32.058653 \nL 276.7636 30.094307 \nL 294.356981 30.094307 \nL 294.356981 31.790787 \nL 311.950363 31.790787 \nL 311.950363 57.327278 \nL 329.543745 57.327278 \nL 329.543745 104.828722 \nL 347.137127 104.828722 \nL 347.137127 265.949693 \n\" clip-path=\"url(#p70cc71524f)\" style=\"fill: none; stroke: #000000\"/>\n   </g>\n   <g id=\"line2d_14\">\n    <path d=\"M 56.846328 289 \nL 56.846328 -1 \n\" clip-path=\"url(#p70cc71524f)\" style=\"fill: none; stroke: #e36f47; stroke-width: 2\"/>\n   </g>\n   <g id=\"patch_3\">\n    <path d=\"M 2.834646 273.025354 \nL 2.834646 23.018646 \n\" style=\"fill: none; stroke: #000000; stroke-linejoin: miter; stroke-linecap: square\"/>\n   </g>\n   <g id=\"patch_4\">\n    <path d=\"M 357.165354 273.025354 \nL 357.165354 23.018646 \n\" style=\"fill: none; stroke: #000000; stroke-linejoin: miter; stroke-linecap: square\"/>\n   </g>\n   <g id=\"patch_5\">\n    <path d=\"M 2.834646 273.025354 \nL 357.165354 273.025354 \n\" style=\"fill: none; stroke: #000000; stroke-linejoin: miter; stroke-linecap: square\"/>\n   </g>\n   <g id=\"patch_6\">\n    <path d=\"M 2.834646 23.018646 \nL 357.165354 23.018646 \n\" style=\"fill: none; stroke: #000000; stroke-linejoin: miter; stroke-linecap: square\"/>\n   </g>\n   <g id=\"line2d_15\">\n    <path d=\"M 112.685657 289 \nL 112.685657 -1 \n\" clip-path=\"url(#p70cc71524f)\" style=\"fill: none; stroke-dasharray: 3.7,1.6; stroke-dashoffset: 0; stroke: #000000\"/>\n   </g>\n   <g id=\"line2d_16\">\n    <path d=\"M 221.461881 289 \nL 221.461881 -1 \n\" clip-path=\"url(#p70cc71524f)\" style=\"fill: none; stroke-dasharray: 3.7,1.6; stroke-dashoffset: 0; stroke: #000000\"/>\n   </g>\n   <g id=\"line2d_17\">\n    <path d=\"M 301.808678 289 \nL 301.808678 -1 \n\" clip-path=\"url(#p70cc71524f)\" style=\"fill: none; stroke-dasharray: 3.7,1.6; stroke-dashoffset: 0; stroke: #000000\"/>\n   </g>\n   <g id=\"text_5\">\n    <!-- $k =$ 12.86 $ ^{+4.57}_{-6.18}$  -->\n    <g transform=\"translate(125.54 17.018646)scale(0.14 -0.14)\">\n     <defs>\n      <path id=\"DejaVuSans-Oblique-6b\" d=\"M 1172 4863 \nL 1747 4863 \nL 1197 2028 \nL 3169 3500 \nL 3916 3500 \nL 1716 1825 \nL 3322 0 \nL 2625 0 \nL 1131 1709 \nL 800 0 \nL 225 0 \nL 1172 4863 \nz\n\" transform=\"scale(0.015625)\"/>\n      <path id=\"DejaVuSans-3d\" d=\"M 678 2906 \nL 4684 2906 \nL 4684 2381 \nL 678 2381 \nL 678 2906 \nz\nM 678 1631 \nL 4684 1631 \nL 4684 1100 \nL 678 1100 \nL 678 1631 \nz\n\" transform=\"scale(0.015625)\"/>\n      <path id=\"DejaVuSans-20\" transform=\"scale(0.015625)\"/>\n      <path id=\"DejaVuSans-2e\" d=\"M 684 794 \nL 1344 794 \nL 1344 0 \nL 684 0 \nL 684 794 \nz\n\" transform=\"scale(0.015625)\"/>\n      <path id=\"DejaVuSans-38\" d=\"M 2034 2216 \nQ 1584 2216 1326 1975 \nQ 1069 1734 1069 1313 \nQ 1069 891 1326 650 \nQ 1584 409 2034 409 \nQ 2484 409 2743 651 \nQ 3003 894 3003 1313 \nQ 3003 1734 2745 1975 \nQ 2488 2216 2034 2216 \nz\nM 1403 2484 \nQ 997 2584 770 2862 \nQ 544 3141 544 3541 \nQ 544 4100 942 4425 \nQ 1341 4750 2034 4750 \nQ 2731 4750 3128 4425 \nQ 3525 4100 3525 3541 \nQ 3525 3141 3298 2862 \nQ 3072 2584 2669 2484 \nQ 3125 2378 3379 2068 \nQ 3634 1759 3634 1313 \nQ 3634 634 3220 271 \nQ 2806 -91 2034 -91 \nQ 1263 -91 848 271 \nQ 434 634 434 1313 \nQ 434 1759 690 2068 \nQ 947 2378 1403 2484 \nz\nM 1172 3481 \nQ 1172 3119 1398 2916 \nQ 1625 2713 2034 2713 \nQ 2441 2713 2670 2916 \nQ 2900 3119 2900 3481 \nQ 2900 3844 2670 4047 \nQ 2441 4250 2034 4250 \nQ 1625 4250 1398 4047 \nQ 1172 3844 1172 3481 \nz\n\" transform=\"scale(0.015625)\"/>\n      <path id=\"DejaVuSans-36\" d=\"M 2113 2584 \nQ 1688 2584 1439 2293 \nQ 1191 2003 1191 1497 \nQ 1191 994 1439 701 \nQ 1688 409 2113 409 \nQ 2538 409 2786 701 \nQ 3034 994 3034 1497 \nQ 3034 2003 2786 2293 \nQ 2538 2584 2113 2584 \nz\nM 3366 4563 \nL 3366 3988 \nQ 3128 4100 2886 4159 \nQ 2644 4219 2406 4219 \nQ 1781 4219 1451 3797 \nQ 1122 3375 1075 2522 \nQ 1259 2794 1537 2939 \nQ 1816 3084 2150 3084 \nQ 2853 3084 3261 2657 \nQ 3669 2231 3669 1497 \nQ 3669 778 3244 343 \nQ 2819 -91 2113 -91 \nQ 1303 -91 875 529 \nQ 447 1150 447 2328 \nQ 447 3434 972 4092 \nQ 1497 4750 2381 4750 \nQ 2619 4750 2861 4703 \nQ 3103 4656 3366 4563 \nz\n\" transform=\"scale(0.015625)\"/>\n      <path id=\"DejaVuSans-2b\" d=\"M 2944 4013 \nL 2944 2272 \nL 4684 2272 \nL 4684 1741 \nL 2944 1741 \nL 2944 0 \nL 2419 0 \nL 2419 1741 \nL 678 1741 \nL 678 2272 \nL 2419 2272 \nL 2419 4013 \nL 2944 4013 \nz\n\" transform=\"scale(0.015625)\"/>\n      <path id=\"DejaVuSans-34\" d=\"M 2419 4116 \nL 825 1625 \nL 2419 1625 \nL 2419 4116 \nz\nM 2253 4666 \nL 3047 4666 \nL 3047 1625 \nL 3713 1625 \nL 3713 1100 \nL 3047 1100 \nL 3047 0 \nL 2419 0 \nL 2419 1100 \nL 313 1100 \nL 313 1709 \nL 2253 4666 \nz\n\" transform=\"scale(0.015625)\"/>\n      <path id=\"DejaVuSans-37\" d=\"M 525 4666 \nL 3525 4666 \nL 3525 4397 \nL 1831 0 \nL 1172 0 \nL 2766 4134 \nL 525 4134 \nL 525 4666 \nz\n\" transform=\"scale(0.015625)\"/>\n      <path id=\"DejaVuSans-2212\" d=\"M 678 2272 \nL 4684 2272 \nL 4684 1741 \nL 678 1741 \nL 678 2272 \nz\n\" transform=\"scale(0.015625)\"/>\n     </defs>\n     <use xlink:href=\"#DejaVuSans-Oblique-6b\" transform=\"translate(0 0.684375)\"/>\n     <use xlink:href=\"#DejaVuSans-3d\" transform=\"translate(77.392578 0.684375)\"/>\n     <use xlink:href=\"#DejaVuSans-20\" transform=\"translate(180.664062 0.684375)\"/>\n     <use xlink:href=\"#DejaVuSans-31\" transform=\"translate(212.451172 0.684375)\"/>\n     <use xlink:href=\"#DejaVuSans-32\" transform=\"translate(276.074219 0.684375)\"/>\n     <use xlink:href=\"#DejaVuSans-2e\" transform=\"translate(339.697266 0.684375)\"/>\n     <use xlink:href=\"#DejaVuSans-38\" transform=\"translate(368.859375 0.684375)\"/>\n     <use xlink:href=\"#DejaVuSans-36\" transform=\"translate(432.482422 0.684375)\"/>\n     <use xlink:href=\"#DejaVuSans-20\" transform=\"translate(496.105469 0.684375)\"/>\n     <use xlink:href=\"#DejaVuSans-2b\" transform=\"translate(528.849609 38.965625)scale(0.7)\"/>\n     <use xlink:href=\"#DejaVuSans-34\" transform=\"translate(587.501953 38.965625)scale(0.7)\"/>\n     <use xlink:href=\"#DejaVuSans-2e\" transform=\"translate(632.038086 38.965625)scale(0.7)\"/>\n     <use xlink:href=\"#DejaVuSans-35\" transform=\"translate(654.289062 38.965625)scale(0.7)\"/>\n     <use xlink:href=\"#DejaVuSans-37\" transform=\"translate(693.750195 38.965625)scale(0.7)\"/>\n     <use xlink:href=\"#DejaVuSans-2212\" transform=\"translate(528.849609 -26.659375)scale(0.7)\"/>\n     <use xlink:href=\"#DejaVuSans-36\" transform=\"translate(587.501953 -26.659375)scale(0.7)\"/>\n     <use xlink:href=\"#DejaVuSans-2e\" transform=\"translate(632.038086 -26.659375)scale(0.7)\"/>\n     <use xlink:href=\"#DejaVuSans-31\" transform=\"translate(654.289062 -26.659375)scale(0.7)\"/>\n     <use xlink:href=\"#DejaVuSans-38\" transform=\"translate(698.825195 -26.659375)scale(0.7)\"/>\n     <use xlink:href=\"#DejaVuSans-20\" transform=\"translate(746.095703 0.684375)\"/>\n    </g>\n   </g>\n   <g id=\"legend_1\">\n    <g id=\"patch_7\">\n     <path d=\"M 292.605354 47.561146 \nL 353.165354 47.561146 \nL 353.165354 27.018646 \nL 292.605354 27.018646 \nz\n\" style=\"fill: #ffffff; stroke: #000000; stroke-linejoin: miter\"/>\n    </g>\n    <g id=\"line2d_18\">\n     <path d=\"M 299.005354 36.697396 \nL 307.005354 36.697396 \nL 315.005354 36.697396 \n\" style=\"fill: none; stroke: #e36f47; stroke-linejoin: miter\"/>\n    </g>\n    <g id=\"text_6\">\n     <!-- True $k$ -->\n     <g transform=\"translate(321.405354 39.497396)scale(0.08 -0.08)\">\n      <defs>\n       <path id=\"DejaVuSans-54\" d=\"M -19 4666 \nL 3928 4666 \nL 3928 4134 \nL 2272 4134 \nL 2272 0 \nL 1638 0 \nL 1638 4134 \nL -19 4134 \nL -19 4666 \nz\n\" transform=\"scale(0.015625)\"/>\n       <path id=\"DejaVuSans-72\" d=\"M 2631 2963 \nQ 2534 3019 2420 3045 \nQ 2306 3072 2169 3072 \nQ 1681 3072 1420 2755 \nQ 1159 2438 1159 1844 \nL 1159 0 \nL 581 0 \nL 581 3500 \nL 1159 3500 \nL 1159 2956 \nQ 1341 3275 1631 3429 \nQ 1922 3584 2338 3584 \nQ 2397 3584 2469 3576 \nQ 2541 3569 2628 3553 \nL 2631 2963 \nz\n\" transform=\"scale(0.015625)\"/>\n       <path id=\"DejaVuSans-75\" d=\"M 544 1381 \nL 544 3500 \nL 1119 3500 \nL 1119 1403 \nQ 1119 906 1312 657 \nQ 1506 409 1894 409 \nQ 2359 409 2629 706 \nQ 2900 1003 2900 1516 \nL 2900 3500 \nL 3475 3500 \nL 3475 0 \nL 2900 0 \nL 2900 538 \nQ 2691 219 2414 64 \nQ 2138 -91 1772 -91 \nQ 1169 -91 856 284 \nQ 544 659 544 1381 \nz\nM 1991 3584 \nL 1991 3584 \nz\n\" transform=\"scale(0.015625)\"/>\n       <path id=\"DejaVuSans-65\" d=\"M 3597 1894 \nL 3597 1613 \nL 953 1613 \nQ 991 1019 1311 708 \nQ 1631 397 2203 397 \nQ 2534 397 2845 478 \nQ 3156 559 3463 722 \nL 3463 178 \nQ 3153 47 2828 -22 \nQ 2503 -91 2169 -91 \nQ 1331 -91 842 396 \nQ 353 884 353 1716 \nQ 353 2575 817 3079 \nQ 1281 3584 2069 3584 \nQ 2775 3584 3186 3129 \nQ 3597 2675 3597 1894 \nz\nM 3022 2063 \nQ 3016 2534 2758 2815 \nQ 2500 3097 2075 3097 \nQ 1594 3097 1305 2825 \nQ 1016 2553 972 2059 \nL 3022 2063 \nz\n\" transform=\"scale(0.015625)\"/>\n      </defs>\n      <use xlink:href=\"#DejaVuSans-54\" transform=\"translate(0 0.015625)\"/>\n      <use xlink:href=\"#DejaVuSans-72\" transform=\"translate(61.083984 0.015625)\"/>\n      <use xlink:href=\"#DejaVuSans-75\" transform=\"translate(102.197266 0.015625)\"/>\n      <use xlink:href=\"#DejaVuSans-65\" transform=\"translate(165.576172 0.015625)\"/>\n      <use xlink:href=\"#DejaVuSans-20\" transform=\"translate(227.099609 0.015625)\"/>\n      <use xlink:href=\"#DejaVuSans-Oblique-6b\" transform=\"translate(258.886719 0.015625)\"/>\n     </g>\n    </g>\n   </g>\n  </g>\n </g>\n <defs>\n  <clipPath id=\"p70cc71524f\">\n   <rect x=\"2.834646\" y=\"23.018646\" width=\"354.330709\" height=\"250.006709\"/>\n  </clipPath>\n </defs>\n</svg>\n",
      "text/html": [
       "<img src=\"data:image/png;base64,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\" />"
      ]
     },
     "metadata": {},
     "output_type": "display_data"
    }
   ],
   "source": [
    "kplot = Plots.plot(k_posterior, normed = true,\n",
    "                    bins = 25,\n",
    "                    title = \"\\$k =\\$ $(@sprintf(\"%.2f\", k_median)) \\$ ^{+$(@sprintf(\"%.2f\", k_upper_1sigma))}_{-$(@sprintf(\"%.2f\", k_lower_1sigma))}\\$ \",\n",
    "                    #alpha = 0.5,\n",
    "                    #bar_width = 15,\n",
    "                    #linewidth = 0,\n",
    "                    #color = \"gray\" ,\n",
    "                    lc=\"black\",\n",
    "                    label = \"\",\n",
    "                    seriestype=:stephist,\n",
    "                    size=(500,400),\n",
    "                    framestyle = :box,\n",
    "                    yticks=false\n",
    "                    )\n",
    "vline!([target_k], lw = 2, label = L\"True $k$\")\n",
    "\n",
    "vline!( k_quantiles, ls=:dash, color=\"black\",lw=1, label=\"\")"
   ]
  },
  {
   "cell_type": "code",
   "execution_count": 34,
   "metadata": {},
   "outputs": [
    {
     "data": {
      "image/png": "[encoded data removed]",
      "image/svg+xml": "<?xml version=\"1.0\" encoding=\"utf-8\" standalone=\"no\"?>\n<!DOCTYPE svg PUBLIC \"-//W3C//DTD SVG 1.1//EN\"\n  \"http://www.w3.org/Graphics/SVG/1.1/DTD/svg11.dtd\">\n<svg xmlns:xlink=\"http://www.w3.org/1999/xlink\" width=\"360pt\" height=\"288pt\" viewBox=\"0 0 360 288\" xmlns=\"http://www.w3.org/2000/svg\" version=\"1.1\">\n <metadata>\n  <rdf:RDF xmlns:dc=\"http://purl.org/dc/elements/1.1/\" xmlns:cc=\"http://creativecommons.org/ns#\" xmlns:rdf=\"http://www.w3.org/1999/02/22-rdf-syntax-ns#\">\n   <cc:Work>\n    <dc:type rdf:resource=\"http://purl.org/dc/dcmitype/StillImage\"/>\n    <dc:date>2022-06-12T21:09:30.104847</dc:date>\n    <dc:format>image/svg+xml</dc:format>\n    <dc:creator>\n     <cc:Agent>\n      <dc:title>Matplotlib v3.5.2, https://matplotlib.org/</dc:title>\n     </cc:Agent>\n    </dc:creator>\n   </cc:Work>\n  </rdf:RDF>\n </metadata>\n <defs>\n  <style type=\"text/css\">*{stroke-linejoin: round; stroke-linecap: butt}</style>\n </defs>\n <g id=\"figure_1\">\n  <g id=\"patch_1\">\n   <path d=\"M 0 288 \nL 360 288 \nL 360 0 \nL 0 0 \nz\n\" style=\"fill: #ffffff\"/>\n  </g>\n  <g id=\"axes_1\">\n   <g id=\"patch_2\">\n    <path d=\"M 2.834646 273.025354 \nL 357.165354 273.025354 \nL 357.165354 19.634646 \nL 2.834646 19.634646 \nz\n\" style=\"fill: #ffffff\"/>\n   </g>\n   <g id=\"matplotlib.axis_1\">\n    <g id=\"xtick_1\">\n     <g id=\"line2d_1\">\n      <path d=\"M 27.396536 273.025354 \nL 27.396536 19.634646 \n\" clip-path=\"url(#pc86d540048)\" style=\"fill: none; stroke: #000000; stroke-opacity: 0.1; stroke-width: 0.5; stroke-linecap: square\"/>\n     </g>\n     <g id=\"line2d_2\">\n      <defs>\n       <path id=\"m9dda41f1eb\" d=\"M 0 0 \nL 0 -2.5 \n\" style=\"stroke: #000000; stroke-width: 0.5\"/>\n      </defs>\n      <g>\n       <use xlink:href=\"#m9dda41f1eb\" x=\"27.396536\" y=\"273.025354\" style=\"stroke: #000000; stroke-width: 0.5\"/>\n      </g>\n     </g>\n     <g id=\"line2d_3\">\n      <defs>\n       <path id=\"med9ca2adb7\" d=\"M 0 0 \nL 0 2.5 \n\" style=\"stroke: #000000; stroke-width: 0.5\"/>\n      </defs>\n      <g>\n       <use xlink:href=\"#med9ca2adb7\" x=\"27.396536\" y=\"19.634646\" style=\"stroke: #000000; stroke-width: 0.5\"/>\n      </g>\n     </g>\n     <g id=\"text_1\">\n      <!-- $-5.5$ -->\n      <g transform=\"translate(17.676536 282.604104)scale(0.08 -0.08)\">\n       <defs>\n        <path id=\"DejaVuSans-2212\" d=\"M 678 2272 \nL 4684 2272 \nL 4684 1741 \nL 678 1741 \nL 678 2272 \nz\n\" transform=\"scale(0.015625)\"/>\n        <path id=\"DejaVuSans-35\" d=\"M 691 4666 \nL 3169 4666 \nL 3169 4134 \nL 1269 4134 \nL 1269 2991 \nQ 1406 3038 1543 3061 \nQ 1681 3084 1819 3084 \nQ 2600 3084 3056 2656 \nQ 3513 2228 3513 1497 \nQ 3513 744 3044 326 \nQ 2575 -91 1722 -91 \nQ 1428 -91 1123 -41 \nQ 819 9 494 109 \nL 494 744 \nQ 775 591 1075 516 \nQ 1375 441 1709 441 \nQ 2250 441 2565 725 \nQ 2881 1009 2881 1497 \nQ 2881 1984 2565 2268 \nQ 2250 2553 1709 2553 \nQ 1456 2553 1204 2497 \nQ 953 2441 691 2322 \nL 691 4666 \nz\n\" transform=\"scale(0.015625)\"/>\n        <path id=\"DejaVuSans-2e\" d=\"M 684 794 \nL 1344 794 \nL 1344 0 \nL 684 0 \nL 684 794 \nz\n\" transform=\"scale(0.015625)\"/>\n       </defs>\n       <use xlink:href=\"#DejaVuSans-2212\" transform=\"translate(0 0.09375)\"/>\n       <use xlink:href=\"#DejaVuSans-35\" transform=\"translate(83.789062 0.09375)\"/>\n       <use xlink:href=\"#DejaVuSans-2e\" transform=\"translate(147.412109 0.09375)\"/>\n       <use xlink:href=\"#DejaVuSans-35\" transform=\"translate(179.199219 0.09375)\"/>\n      </g>\n     </g>\n    </g>\n    <g id=\"xtick_2\">\n     <g id=\"line2d_4\">\n      <path d=\"M 100.064852 273.025354 \nL 100.064852 19.634646 \n\" clip-path=\"url(#pc86d540048)\" style=\"fill: none; stroke: #000000; stroke-opacity: 0.1; stroke-width: 0.5; stroke-linecap: square\"/>\n     </g>\n     <g id=\"line2d_5\">\n      <g>\n       <use xlink:href=\"#m9dda41f1eb\" x=\"100.064852\" y=\"273.025354\" style=\"stroke: #000000; stroke-width: 0.5\"/>\n      </g>\n     </g>\n     <g id=\"line2d_6\">\n      <g>\n       <use xlink:href=\"#med9ca2adb7\" x=\"100.064852\" y=\"19.634646\" style=\"stroke: #000000; stroke-width: 0.5\"/>\n      </g>\n     </g>\n     <g id=\"text_2\">\n      <!-- $-5.0$ -->\n      <g transform=\"translate(90.344852 282.604104)scale(0.08 -0.08)\">\n       <defs>\n        <path id=\"DejaVuSans-30\" d=\"M 2034 4250 \nQ 1547 4250 1301 3770 \nQ 1056 3291 1056 2328 \nQ 1056 1369 1301 889 \nQ 1547 409 2034 409 \nQ 2525 409 2770 889 \nQ 3016 1369 3016 2328 \nQ 3016 3291 2770 3770 \nQ 2525 4250 2034 4250 \nz\nM 2034 4750 \nQ 2819 4750 3233 4129 \nQ 3647 3509 3647 2328 \nQ 3647 1150 3233 529 \nQ 2819 -91 2034 -91 \nQ 1250 -91 836 529 \nQ 422 1150 422 2328 \nQ 422 3509 836 4129 \nQ 1250 4750 2034 4750 \nz\n\" transform=\"scale(0.015625)\"/>\n       </defs>\n       <use xlink:href=\"#DejaVuSans-2212\" transform=\"translate(0 0.78125)\"/>\n       <use xlink:href=\"#DejaVuSans-35\" transform=\"translate(83.789062 0.78125)\"/>\n       <use xlink:href=\"#DejaVuSans-2e\" transform=\"translate(147.412109 0.78125)\"/>\n       <use xlink:href=\"#DejaVuSans-30\" transform=\"translate(179.199219 0.78125)\"/>\n      </g>\n     </g>\n    </g>\n    <g id=\"xtick_3\">\n     <g id=\"line2d_7\">\n      <path d=\"M 172.733168 273.025354 \nL 172.733168 19.634646 \n\" clip-path=\"url(#pc86d540048)\" style=\"fill: none; stroke: #000000; stroke-opacity: 0.1; stroke-width: 0.5; stroke-linecap: square\"/>\n     </g>\n     <g id=\"line2d_8\">\n      <g>\n       <use xlink:href=\"#m9dda41f1eb\" x=\"172.733168\" y=\"273.025354\" style=\"stroke: #000000; stroke-width: 0.5\"/>\n      </g>\n     </g>\n     <g id=\"line2d_9\">\n      <g>\n       <use xlink:href=\"#med9ca2adb7\" x=\"172.733168\" y=\"19.634646\" style=\"stroke: #000000; stroke-width: 0.5\"/>\n      </g>\n     </g>\n     <g id=\"text_3\">\n      <!-- $-4.5$ -->\n      <g transform=\"translate(163.013168 282.604104)scale(0.08 -0.08)\">\n       <defs>\n        <path id=\"DejaVuSans-34\" d=\"M 2419 4116 \nL 825 1625 \nL 2419 1625 \nL 2419 4116 \nz\nM 2253 4666 \nL 3047 4666 \nL 3047 1625 \nL 3713 1625 \nL 3713 1100 \nL 3047 1100 \nL 3047 0 \nL 2419 0 \nL 2419 1100 \nL 313 1100 \nL 313 1709 \nL 2253 4666 \nz\n\" transform=\"scale(0.015625)\"/>\n       </defs>\n       <use xlink:href=\"#DejaVuSans-2212\" transform=\"translate(0 0.09375)\"/>\n       <use xlink:href=\"#DejaVuSans-34\" transform=\"translate(83.789062 0.09375)\"/>\n       <use xlink:href=\"#DejaVuSans-2e\" transform=\"translate(147.412109 0.09375)\"/>\n       <use xlink:href=\"#DejaVuSans-35\" transform=\"translate(179.199219 0.09375)\"/>\n      </g>\n     </g>\n    </g>\n    <g id=\"xtick_4\">\n     <g id=\"line2d_10\">\n      <path d=\"M 245.401484 273.025354 \nL 245.401484 19.634646 \n\" clip-path=\"url(#pc86d540048)\" style=\"fill: none; stroke: #000000; stroke-opacity: 0.1; stroke-width: 0.5; stroke-linecap: square\"/>\n     </g>\n     <g id=\"line2d_11\">\n      <g>\n       <use xlink:href=\"#m9dda41f1eb\" x=\"245.401484\" y=\"273.025354\" style=\"stroke: #000000; stroke-width: 0.5\"/>\n      </g>\n     </g>\n     <g id=\"line2d_12\">\n      <g>\n       <use xlink:href=\"#med9ca2adb7\" x=\"245.401484\" y=\"19.634646\" style=\"stroke: #000000; stroke-width: 0.5\"/>\n      </g>\n     </g>\n     <g id=\"text_4\">\n      <!-- $-4.0$ -->\n      <g transform=\"translate(235.681484 282.604104)scale(0.08 -0.08)\">\n       <use xlink:href=\"#DejaVuSans-2212\" transform=\"translate(0 0.78125)\"/>\n       <use xlink:href=\"#DejaVuSans-34\" transform=\"translate(83.789062 0.78125)\"/>\n       <use xlink:href=\"#DejaVuSans-2e\" transform=\"translate(147.412109 0.78125)\"/>\n       <use xlink:href=\"#DejaVuSans-30\" transform=\"translate(179.199219 0.78125)\"/>\n      </g>\n     </g>\n    </g>\n    <g id=\"xtick_5\">\n     <g id=\"line2d_13\">\n      <path d=\"M 318.0698 273.025354 \nL 318.0698 19.634646 \n\" clip-path=\"url(#pc86d540048)\" style=\"fill: none; stroke: #000000; stroke-opacity: 0.1; stroke-width: 0.5; stroke-linecap: square\"/>\n     </g>\n     <g id=\"line2d_14\">\n      <g>\n       <use xlink:href=\"#m9dda41f1eb\" x=\"318.0698\" y=\"273.025354\" style=\"stroke: #000000; stroke-width: 0.5\"/>\n      </g>\n     </g>\n     <g id=\"line2d_15\">\n      <g>\n       <use xlink:href=\"#med9ca2adb7\" x=\"318.0698\" y=\"19.634646\" style=\"stroke: #000000; stroke-width: 0.5\"/>\n      </g>\n     </g>\n     <g id=\"text_5\">\n      <!-- $-3.5$ -->\n      <g transform=\"translate(308.3498 282.604104)scale(0.08 -0.08)\">\n       <defs>\n        <path id=\"DejaVuSans-33\" d=\"M 2597 2516 \nQ 3050 2419 3304 2112 \nQ 3559 1806 3559 1356 \nQ 3559 666 3084 287 \nQ 2609 -91 1734 -91 \nQ 1441 -91 1130 -33 \nQ 819 25 488 141 \nL 488 750 \nQ 750 597 1062 519 \nQ 1375 441 1716 441 \nQ 2309 441 2620 675 \nQ 2931 909 2931 1356 \nQ 2931 1769 2642 2001 \nQ 2353 2234 1838 2234 \nL 1294 2234 \nL 1294 2753 \nL 1863 2753 \nQ 2328 2753 2575 2939 \nQ 2822 3125 2822 3475 \nQ 2822 3834 2567 4026 \nQ 2313 4219 1838 4219 \nQ 1578 4219 1281 4162 \nQ 984 4106 628 3988 \nL 628 4550 \nQ 988 4650 1302 4700 \nQ 1616 4750 1894 4750 \nQ 2613 4750 3031 4423 \nQ 3450 4097 3450 3541 \nQ 3450 3153 3228 2886 \nQ 3006 2619 2597 2516 \nz\n\" transform=\"scale(0.015625)\"/>\n       </defs>\n       <use xlink:href=\"#DejaVuSans-2212\" transform=\"translate(0 0.78125)\"/>\n       <use xlink:href=\"#DejaVuSans-33\" transform=\"translate(83.789062 0.78125)\"/>\n       <use xlink:href=\"#DejaVuSans-2e\" transform=\"translate(147.412109 0.78125)\"/>\n       <use xlink:href=\"#DejaVuSans-35\" transform=\"translate(179.199219 0.78125)\"/>\n      </g>\n     </g>\n    </g>\n   </g>\n   <g id=\"matplotlib.axis_2\"/>\n   <g id=\"line2d_16\">\n    <path d=\"M 12.862873 265.853919 \nL 12.862873 265.833649 \nL 27.396536 265.833649 \nL 27.396536 265.813379 \nL 41.9302 265.813379 \nL 41.9302 265.712027 \nL 56.463863 265.712027 \nL 56.463863 265.063377 \nL 70.997526 265.063377 \nL 70.997526 264.374186 \nL 85.531189 264.374186 \nL 85.531189 261.272828 \nL 100.064852 261.272828 \nL 100.064852 257.644441 \nL 114.598516 257.644441 \nL 114.598516 247.144417 \nL 129.132179 247.144417 \nL 129.132179 227.664644 \nL 143.665842 227.664644 \nL 143.665842 196.732141 \nL 158.199505 196.732141 \nL 158.199505 149.096898 \nL 172.733168 149.096898 \nL 172.733168 90.961631 \nL 187.266832 90.961631 \nL 187.266832 43.103415 \nL 201.800495 43.103415 \nL 201.800495 26.806081 \nL 216.334158 26.806081 \nL 216.334158 55.468308 \nL 230.867821 55.468308 \nL 230.867821 116.258986 \nL 245.401484 116.258986 \nL 245.401484 178.103721 \nL 259.935148 178.103721 \nL 259.935148 222.475443 \nL 274.468811 222.475443 \nL 274.468811 246.293064 \nL 289.002474 246.293064 \nL 289.002474 258.617416 \nL 303.536137 258.617416 \nL 303.536137 263.786347 \nL 318.0698 263.786347 \nL 318.0698 265.570135 \nL 332.603464 265.570135 \nL 332.603464 265.752568 \nL 347.137127 265.752568 \nL 347.137127 265.853919 \n\" clip-path=\"url(#pc86d540048)\" style=\"fill: none; stroke: #000000\"/>\n   </g>\n   <g id=\"line2d_17\">\n    <path d=\"M 157.448088 289 \nL 157.448088 -1 \n\" clip-path=\"url(#pc86d540048)\" style=\"fill: none; stroke: #e36f47; stroke-width: 2\"/>\n   </g>\n   <g id=\"patch_3\">\n    <path d=\"M 2.834646 273.025354 \nL 2.834646 19.634646 \n\" style=\"fill: none; stroke: #000000; stroke-linejoin: miter; stroke-linecap: square\"/>\n   </g>\n   <g id=\"patch_4\">\n    <path d=\"M 357.165354 273.025354 \nL 357.165354 19.634646 \n\" style=\"fill: none; stroke: #000000; stroke-linejoin: miter; stroke-linecap: square\"/>\n   </g>\n   <g id=\"patch_5\">\n    <path d=\"M 2.834646 273.025354 \nL 357.165354 273.025354 \n\" style=\"fill: none; stroke: #000000; stroke-linejoin: miter; stroke-linecap: square\"/>\n   </g>\n   <g id=\"patch_6\">\n    <path d=\"M 2.834646 19.634646 \nL 357.165354 19.634646 \n\" style=\"fill: none; stroke: #000000; stroke-linejoin: miter; stroke-linecap: square\"/>\n   </g>\n   <g id=\"text_6\">\n    <!-- outlier fraction -->\n    <g transform=\"translate(128.34875 13.634646)scale(0.14 -0.14)\">\n     <defs>\n      <path id=\"DejaVuSans-6f\" d=\"M 1959 3097 \nQ 1497 3097 1228 2736 \nQ 959 2375 959 1747 \nQ 959 1119 1226 758 \nQ 1494 397 1959 397 \nQ 2419 397 2687 759 \nQ 2956 1122 2956 1747 \nQ 2956 2369 2687 2733 \nQ 2419 3097 1959 3097 \nz\nM 1959 3584 \nQ 2709 3584 3137 3096 \nQ 3566 2609 3566 1747 \nQ 3566 888 3137 398 \nQ 2709 -91 1959 -91 \nQ 1206 -91 779 398 \nQ 353 888 353 1747 \nQ 353 2609 779 3096 \nQ 1206 3584 1959 3584 \nz\n\" transform=\"scale(0.015625)\"/>\n      <path id=\"DejaVuSans-75\" d=\"M 544 1381 \nL 544 3500 \nL 1119 3500 \nL 1119 1403 \nQ 1119 906 1312 657 \nQ 1506 409 1894 409 \nQ 2359 409 2629 706 \nQ 2900 1003 2900 1516 \nL 2900 3500 \nL 3475 3500 \nL 3475 0 \nL 2900 0 \nL 2900 538 \nQ 2691 219 2414 64 \nQ 2138 -91 1772 -91 \nQ 1169 -91 856 284 \nQ 544 659 544 1381 \nz\nM 1991 3584 \nL 1991 3584 \nz\n\" transform=\"scale(0.015625)\"/>\n      <path id=\"DejaVuSans-74\" d=\"M 1172 4494 \nL 1172 3500 \nL 2356 3500 \nL 2356 3053 \nL 1172 3053 \nL 1172 1153 \nQ 1172 725 1289 603 \nQ 1406 481 1766 481 \nL 2356 481 \nL 2356 0 \nL 1766 0 \nQ 1100 0 847 248 \nQ 594 497 594 1153 \nL 594 3053 \nL 172 3053 \nL 172 3500 \nL 594 3500 \nL 594 4494 \nL 1172 4494 \nz\n\" transform=\"scale(0.015625)\"/>\n      <path id=\"DejaVuSans-6c\" d=\"M 603 4863 \nL 1178 4863 \nL 1178 0 \nL 603 0 \nL 603 4863 \nz\n\" transform=\"scale(0.015625)\"/>\n      <path id=\"DejaVuSans-69\" d=\"M 603 3500 \nL 1178 3500 \nL 1178 0 \nL 603 0 \nL 603 3500 \nz\nM 603 4863 \nL 1178 4863 \nL 1178 4134 \nL 603 4134 \nL 603 4863 \nz\n\" transform=\"scale(0.015625)\"/>\n      <path id=\"DejaVuSans-65\" d=\"M 3597 1894 \nL 3597 1613 \nL 953 1613 \nQ 991 1019 1311 708 \nQ 1631 397 2203 397 \nQ 2534 397 2845 478 \nQ 3156 559 3463 722 \nL 3463 178 \nQ 3153 47 2828 -22 \nQ 2503 -91 2169 -91 \nQ 1331 -91 842 396 \nQ 353 884 353 1716 \nQ 353 2575 817 3079 \nQ 1281 3584 2069 3584 \nQ 2775 3584 3186 3129 \nQ 3597 2675 3597 1894 \nz\nM 3022 2063 \nQ 3016 2534 2758 2815 \nQ 2500 3097 2075 3097 \nQ 1594 3097 1305 2825 \nQ 1016 2553 972 2059 \nL 3022 2063 \nz\n\" transform=\"scale(0.015625)\"/>\n      <path id=\"DejaVuSans-72\" d=\"M 2631 2963 \nQ 2534 3019 2420 3045 \nQ 2306 3072 2169 3072 \nQ 1681 3072 1420 2755 \nQ 1159 2438 1159 1844 \nL 1159 0 \nL 581 0 \nL 581 3500 \nL 1159 3500 \nL 1159 2956 \nQ 1341 3275 1631 3429 \nQ 1922 3584 2338 3584 \nQ 2397 3584 2469 3576 \nQ 2541 3569 2628 3553 \nL 2631 2963 \nz\n\" transform=\"scale(0.015625)\"/>\n      <path id=\"DejaVuSans-20\" transform=\"scale(0.015625)\"/>\n      <path id=\"DejaVuSans-66\" d=\"M 2375 4863 \nL 2375 4384 \nL 1825 4384 \nQ 1516 4384 1395 4259 \nQ 1275 4134 1275 3809 \nL 1275 3500 \nL 2222 3500 \nL 2222 3053 \nL 1275 3053 \nL 1275 0 \nL 697 0 \nL 697 3053 \nL 147 3053 \nL 147 3500 \nL 697 3500 \nL 697 3744 \nQ 697 4328 969 4595 \nQ 1241 4863 1831 4863 \nL 2375 4863 \nz\n\" transform=\"scale(0.015625)\"/>\n      <path id=\"DejaVuSans-61\" d=\"M 2194 1759 \nQ 1497 1759 1228 1600 \nQ 959 1441 959 1056 \nQ 959 750 1161 570 \nQ 1363 391 1709 391 \nQ 2188 391 2477 730 \nQ 2766 1069 2766 1631 \nL 2766 1759 \nL 2194 1759 \nz\nM 3341 1997 \nL 3341 0 \nL 2766 0 \nL 2766 531 \nQ 2569 213 2275 61 \nQ 1981 -91 1556 -91 \nQ 1019 -91 701 211 \nQ 384 513 384 1019 \nQ 384 1609 779 1909 \nQ 1175 2209 1959 2209 \nL 2766 2209 \nL 2766 2266 \nQ 2766 2663 2505 2880 \nQ 2244 3097 1772 3097 \nQ 1472 3097 1187 3025 \nQ 903 2953 641 2809 \nL 641 3341 \nQ 956 3463 1253 3523 \nQ 1550 3584 1831 3584 \nQ 2591 3584 2966 3190 \nQ 3341 2797 3341 1997 \nz\n\" transform=\"scale(0.015625)\"/>\n      <path id=\"DejaVuSans-63\" d=\"M 3122 3366 \nL 3122 2828 \nQ 2878 2963 2633 3030 \nQ 2388 3097 2138 3097 \nQ 1578 3097 1268 2742 \nQ 959 2388 959 1747 \nQ 959 1106 1268 751 \nQ 1578 397 2138 397 \nQ 2388 397 2633 464 \nQ 2878 531 3122 666 \nL 3122 134 \nQ 2881 22 2623 -34 \nQ 2366 -91 2075 -91 \nQ 1284 -91 818 406 \nQ 353 903 353 1747 \nQ 353 2603 823 3093 \nQ 1294 3584 2113 3584 \nQ 2378 3584 2631 3529 \nQ 2884 3475 3122 3366 \nz\n\" transform=\"scale(0.015625)\"/>\n      <path id=\"DejaVuSans-6e\" d=\"M 3513 2113 \nL 3513 0 \nL 2938 0 \nL 2938 2094 \nQ 2938 2591 2744 2837 \nQ 2550 3084 2163 3084 \nQ 1697 3084 1428 2787 \nQ 1159 2491 1159 1978 \nL 1159 0 \nL 581 0 \nL 581 3500 \nL 1159 3500 \nL 1159 2956 \nQ 1366 3272 1645 3428 \nQ 1925 3584 2291 3584 \nQ 2894 3584 3203 3211 \nQ 3513 2838 3513 2113 \nz\n\" transform=\"scale(0.015625)\"/>\n     </defs>\n     <use xlink:href=\"#DejaVuSans-6f\"/>\n     <use xlink:href=\"#DejaVuSans-75\" x=\"61.181641\"/>\n     <use xlink:href=\"#DejaVuSans-74\" x=\"124.560547\"/>\n     <use xlink:href=\"#DejaVuSans-6c\" x=\"163.769531\"/>\n     <use xlink:href=\"#DejaVuSans-69\" x=\"191.552734\"/>\n     <use xlink:href=\"#DejaVuSans-65\" x=\"219.335938\"/>\n     <use xlink:href=\"#DejaVuSans-72\" x=\"280.859375\"/>\n     <use xlink:href=\"#DejaVuSans-20\" x=\"321.972656\"/>\n     <use xlink:href=\"#DejaVuSans-66\" x=\"353.759766\"/>\n     <use xlink:href=\"#DejaVuSans-72\" x=\"388.964844\"/>\n     <use xlink:href=\"#DejaVuSans-61\" x=\"430.078125\"/>\n     <use xlink:href=\"#DejaVuSans-63\" x=\"491.357422\"/>\n     <use xlink:href=\"#DejaVuSans-74\" x=\"546.337891\"/>\n     <use xlink:href=\"#DejaVuSans-69\" x=\"585.546875\"/>\n     <use xlink:href=\"#DejaVuSans-6f\" x=\"613.330078\"/>\n     <use xlink:href=\"#DejaVuSans-6e\" x=\"674.511719\"/>\n    </g>\n   </g>\n   <g id=\"legend_1\">\n    <g id=\"patch_7\">\n     <path d=\"M 294.365354 44.177146 \nL 353.165354 44.177146 \nL 353.165354 23.634646 \nL 294.365354 23.634646 \nz\n\" style=\"fill: #ffffff; stroke: #000000; stroke-linejoin: miter\"/>\n    </g>\n    <g id=\"line2d_18\">\n     <path d=\"M 300.765354 33.313396 \nL 308.765354 33.313396 \nL 316.765354 33.313396 \n\" style=\"fill: none; stroke: #e36f47; stroke-linejoin: miter\"/>\n    </g>\n    <g id=\"text_7\">\n     <!-- True $f$ -->\n     <g transform=\"translate(323.165354 36.113396)scale(0.08 -0.08)\">\n      <defs>\n       <path id=\"DejaVuSans-54\" d=\"M -19 4666 \nL 3928 4666 \nL 3928 4134 \nL 2272 4134 \nL 2272 0 \nL 1638 0 \nL 1638 4134 \nL -19 4134 \nL -19 4666 \nz\n\" transform=\"scale(0.015625)\"/>\n       <path id=\"DejaVuSans-Oblique-66\" d=\"M 3059 4863 \nL 2969 4384 \nL 2419 4384 \nQ 2106 4384 1964 4261 \nQ 1822 4138 1753 3809 \nL 1691 3500 \nL 2638 3500 \nL 2553 3053 \nL 1606 3053 \nL 1013 0 \nL 434 0 \nL 1031 3053 \nL 481 3053 \nL 563 3500 \nL 1113 3500 \nL 1159 3744 \nQ 1278 4363 1576 4613 \nQ 1875 4863 2516 4863 \nL 3059 4863 \nz\n\" transform=\"scale(0.015625)\"/>\n      </defs>\n      <use xlink:href=\"#DejaVuSans-54\" transform=\"translate(0 0.015625)\"/>\n      <use xlink:href=\"#DejaVuSans-72\" transform=\"translate(61.083984 0.015625)\"/>\n      <use xlink:href=\"#DejaVuSans-75\" transform=\"translate(102.197266 0.015625)\"/>\n      <use xlink:href=\"#DejaVuSans-65\" transform=\"translate(165.576172 0.015625)\"/>\n      <use xlink:href=\"#DejaVuSans-20\" transform=\"translate(227.099609 0.015625)\"/>\n      <use xlink:href=\"#DejaVuSans-Oblique-66\" transform=\"translate(258.886719 0.015625)\"/>\n     </g>\n    </g>\n   </g>\n  </g>\n </g>\n <defs>\n  <clipPath id=\"pc86d540048\">\n   <rect x=\"2.834646\" y=\"19.634646\" width=\"354.330709\" height=\"253.390709\"/>\n  </clipPath>\n </defs>\n</svg>\n",
      "text/html": [
       "<img src=\"data:image/png;base64,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\" />"
      ]
     },
     "metadata": {},
     "output_type": "display_data"
    }
   ],
   "source": [
    "fracplot = Plots.plot(frac_posterior,\n",
    "            title =\"outlier fraction\",\n",
    "            #alpha = 0.5,\n",
    "            seriestype=:stephist,\n",
    "            bins = 25,\n",
    "            normed = true,\n",
    "            #bar_width = 15,\n",
    "            #linewidth = 0,\n",
    "            #color = \"gray\" ,\n",
    "            lc=\"black\",\n",
    "            label = \"\",\n",
    "            size=(500,400),\n",
    "            framestyle = :box,\n",
    "            yticks=false\n",
    "            )\n",
    "\n",
    "vline!([target_frac], lw = 2, label = L\"True $f$\")"
   ]
  },
  {
   "cell_type": "code",
   "execution_count": 35,
   "metadata": {},
   "outputs": [
    {
     "data": {
      "image/png": "[encoded data removed]",
      "image/svg+xml": "<?xml version=\"1.0\" encoding=\"utf-8\" standalone=\"no\"?>\n<!DOCTYPE svg PUBLIC \"-//W3C//DTD SVG 1.1//EN\"\n  \"http://www.w3.org/Graphics/SVG/1.1/DTD/svg11.dtd\">\n<svg xmlns:xlink=\"http://www.w3.org/1999/xlink\" width=\"360pt\" height=\"288pt\" viewBox=\"0 0 360 288\" xmlns=\"http://www.w3.org/2000/svg\" version=\"1.1\">\n <metadata>\n  <rdf:RDF xmlns:dc=\"http://purl.org/dc/elements/1.1/\" xmlns:cc=\"http://creativecommons.org/ns#\" xmlns:rdf=\"http://www.w3.org/1999/02/22-rdf-syntax-ns#\">\n   <cc:Work>\n    <dc:type rdf:resource=\"http://purl.org/dc/dcmitype/StillImage\"/>\n    <dc:date>2022-06-12T21:10:03.433078</dc:date>\n    <dc:format>image/svg+xml</dc:format>\n    <dc:creator>\n     <cc:Agent>\n      <dc:title>Matplotlib v3.5.2, https://matplotlib.org/</dc:title>\n     </cc:Agent>\n    </dc:creator>\n   </cc:Work>\n  </rdf:RDF>\n </metadata>\n <defs>\n  <style type=\"text/css\">*{stroke-linejoin: round; stroke-linecap: butt}</style>\n </defs>\n <g id=\"figure_1\">\n  <g id=\"patch_1\">\n   <path d=\"M 0 288 \nL 360 288 \nL 360 0 \nL 0 0 \nz\n\" style=\"fill: #ffffff\"/>\n  </g>\n  <g id=\"axes_1\">\n   <g id=\"patch_2\">\n    <path d=\"M 2.834646 273.025354 \nL 357.165354 273.025354 \nL 357.165354 19.634646 \nL 2.834646 19.634646 \nz\n\" style=\"fill: #ffffff\"/>\n   </g>\n   <g id=\"matplotlib.axis_1\">\n    <g id=\"xtick_1\">\n     <g id=\"line2d_1\">\n      <path d=\"M 12.862873 273.025354 \nL 12.862873 19.634646 \n\" clip-path=\"url(#pbf9fec6cc5)\" style=\"fill: none; stroke: #000000; stroke-opacity: 0.1; stroke-width: 0.5; stroke-linecap: square\"/>\n     </g>\n     <g id=\"line2d_2\">\n      <defs>\n       <path id=\"m46566f640c\" d=\"M 0 0 \nL 0 -2.5 \n\" style=\"stroke: #000000; stroke-width: 0.5\"/>\n      </defs>\n      <g>\n       <use xlink:href=\"#m46566f640c\" x=\"12.862873\" y=\"273.025354\" style=\"stroke: #000000; stroke-width: 0.5\"/>\n      </g>\n     </g>\n     <g id=\"line2d_3\">\n      <defs>\n       <path id=\"mde78668b0f\" d=\"M 0 0 \nL 0 2.5 \n\" style=\"stroke: #000000; stroke-width: 0.5\"/>\n      </defs>\n      <g>\n       <use xlink:href=\"#mde78668b0f\" x=\"12.862873\" y=\"19.634646\" style=\"stroke: #000000; stroke-width: 0.5\"/>\n      </g>\n     </g>\n     <g id=\"text_1\">\n      <!-- $6.0$ -->\n      <g transform=\"translate(6.462873 282.604104)scale(0.08 -0.08)\">\n       <defs>\n        <path id=\"DejaVuSans-36\" d=\"M 2113 2584 \nQ 1688 2584 1439 2293 \nQ 1191 2003 1191 1497 \nQ 1191 994 1439 701 \nQ 1688 409 2113 409 \nQ 2538 409 2786 701 \nQ 3034 994 3034 1497 \nQ 3034 2003 2786 2293 \nQ 2538 2584 2113 2584 \nz\nM 3366 4563 \nL 3366 3988 \nQ 3128 4100 2886 4159 \nQ 2644 4219 2406 4219 \nQ 1781 4219 1451 3797 \nQ 1122 3375 1075 2522 \nQ 1259 2794 1537 2939 \nQ 1816 3084 2150 3084 \nQ 2853 3084 3261 2657 \nQ 3669 2231 3669 1497 \nQ 3669 778 3244 343 \nQ 2819 -91 2113 -91 \nQ 1303 -91 875 529 \nQ 447 1150 447 2328 \nQ 447 3434 972 4092 \nQ 1497 4750 2381 4750 \nQ 2619 4750 2861 4703 \nQ 3103 4656 3366 4563 \nz\n\" transform=\"scale(0.015625)\"/>\n        <path id=\"DejaVuSans-2e\" d=\"M 684 794 \nL 1344 794 \nL 1344 0 \nL 684 0 \nL 684 794 \nz\n\" transform=\"scale(0.015625)\"/>\n        <path id=\"DejaVuSans-30\" d=\"M 2034 4250 \nQ 1547 4250 1301 3770 \nQ 1056 3291 1056 2328 \nQ 1056 1369 1301 889 \nQ 1547 409 2034 409 \nQ 2525 409 2770 889 \nQ 3016 1369 3016 2328 \nQ 3016 3291 2770 3770 \nQ 2525 4250 2034 4250 \nz\nM 2034 4750 \nQ 2819 4750 3233 4129 \nQ 3647 3509 3647 2328 \nQ 3647 1150 3233 529 \nQ 2819 -91 2034 -91 \nQ 1250 -91 836 529 \nQ 422 1150 422 2328 \nQ 422 3509 836 4129 \nQ 1250 4750 2034 4750 \nz\n\" transform=\"scale(0.015625)\"/>\n       </defs>\n       <use xlink:href=\"#DejaVuSans-36\" transform=\"translate(0 0.78125)\"/>\n       <use xlink:href=\"#DejaVuSans-2e\" transform=\"translate(63.623047 0.78125)\"/>\n       <use xlink:href=\"#DejaVuSans-30\" transform=\"translate(95.410156 0.78125)\"/>\n      </g>\n     </g>\n    </g>\n    <g id=\"xtick_2\">\n     <g id=\"line2d_4\">\n      <path d=\"M 66.346754 273.025354 \nL 66.346754 19.634646 \n\" clip-path=\"url(#pbf9fec6cc5)\" style=\"fill: none; stroke: #000000; stroke-opacity: 0.1; stroke-width: 0.5; stroke-linecap: square\"/>\n     </g>\n     <g id=\"line2d_5\">\n      <g>\n       <use xlink:href=\"#m46566f640c\" x=\"66.346754\" y=\"273.025354\" style=\"stroke: #000000; stroke-width: 0.5\"/>\n      </g>\n     </g>\n     <g id=\"line2d_6\">\n      <g>\n       <use xlink:href=\"#mde78668b0f\" x=\"66.346754\" y=\"19.634646\" style=\"stroke: #000000; stroke-width: 0.5\"/>\n      </g>\n     </g>\n     <g id=\"text_2\">\n      <!-- $6.2$ -->\n      <g transform=\"translate(60.186754 282.604104)scale(0.08 -0.08)\">\n       <defs>\n        <path id=\"DejaVuSans-32\" d=\"M 1228 531 \nL 3431 531 \nL 3431 0 \nL 469 0 \nL 469 531 \nQ 828 903 1448 1529 \nQ 2069 2156 2228 2338 \nQ 2531 2678 2651 2914 \nQ 2772 3150 2772 3378 \nQ 2772 3750 2511 3984 \nQ 2250 4219 1831 4219 \nQ 1534 4219 1204 4116 \nQ 875 4013 500 3803 \nL 500 4441 \nQ 881 4594 1212 4672 \nQ 1544 4750 1819 4750 \nQ 2544 4750 2975 4387 \nQ 3406 4025 3406 3419 \nQ 3406 3131 3298 2873 \nQ 3191 2616 2906 2266 \nQ 2828 2175 2409 1742 \nQ 1991 1309 1228 531 \nz\n\" transform=\"scale(0.015625)\"/>\n       </defs>\n       <use xlink:href=\"#DejaVuSans-36\" transform=\"translate(0 0.78125)\"/>\n       <use xlink:href=\"#DejaVuSans-2e\" transform=\"translate(63.623047 0.78125)\"/>\n       <use xlink:href=\"#DejaVuSans-32\" transform=\"translate(89.910156 0.78125)\"/>\n      </g>\n     </g>\n    </g>\n    <g id=\"xtick_3\">\n     <g id=\"line2d_7\">\n      <path d=\"M 119.830634 273.025354 \nL 119.830634 19.634646 \n\" clip-path=\"url(#pbf9fec6cc5)\" style=\"fill: none; stroke: #000000; stroke-opacity: 0.1; stroke-width: 0.5; stroke-linecap: square\"/>\n     </g>\n     <g id=\"line2d_8\">\n      <g>\n       <use xlink:href=\"#m46566f640c\" x=\"119.830634\" y=\"273.025354\" style=\"stroke: #000000; stroke-width: 0.5\"/>\n      </g>\n     </g>\n     <g id=\"line2d_9\">\n      <g>\n       <use xlink:href=\"#mde78668b0f\" x=\"119.830634\" y=\"19.634646\" style=\"stroke: #000000; stroke-width: 0.5\"/>\n      </g>\n     </g>\n     <g id=\"text_3\">\n      <!-- $6.4$ -->\n      <g transform=\"translate(113.430634 282.604104)scale(0.08 -0.08)\">\n       <defs>\n        <path id=\"DejaVuSans-34\" d=\"M 2419 4116 \nL 825 1625 \nL 2419 1625 \nL 2419 4116 \nz\nM 2253 4666 \nL 3047 4666 \nL 3047 1625 \nL 3713 1625 \nL 3713 1100 \nL 3047 1100 \nL 3047 0 \nL 2419 0 \nL 2419 1100 \nL 313 1100 \nL 313 1709 \nL 2253 4666 \nz\n\" transform=\"scale(0.015625)\"/>\n       </defs>\n       <use xlink:href=\"#DejaVuSans-36\" transform=\"translate(0 0.78125)\"/>\n       <use xlink:href=\"#DejaVuSans-2e\" transform=\"translate(63.623047 0.78125)\"/>\n       <use xlink:href=\"#DejaVuSans-34\" transform=\"translate(95.410156 0.78125)\"/>\n      </g>\n     </g>\n    </g>\n    <g id=\"xtick_4\">\n     <g id=\"line2d_10\">\n      <path d=\"M 173.314515 273.025354 \nL 173.314515 19.634646 \n\" clip-path=\"url(#pbf9fec6cc5)\" style=\"fill: none; stroke: #000000; stroke-opacity: 0.1; stroke-width: 0.5; stroke-linecap: square\"/>\n     </g>\n     <g id=\"line2d_11\">\n      <g>\n       <use xlink:href=\"#m46566f640c\" x=\"173.314515\" y=\"273.025354\" style=\"stroke: #000000; stroke-width: 0.5\"/>\n      </g>\n     </g>\n     <g id=\"line2d_12\">\n      <g>\n       <use xlink:href=\"#mde78668b0f\" x=\"173.314515\" y=\"19.634646\" style=\"stroke: #000000; stroke-width: 0.5\"/>\n      </g>\n     </g>\n     <g id=\"text_4\">\n      <!-- $6.6$ -->\n      <g transform=\"translate(166.914515 282.604104)scale(0.08 -0.08)\">\n       <use xlink:href=\"#DejaVuSans-36\" transform=\"translate(0 0.78125)\"/>\n       <use xlink:href=\"#DejaVuSans-2e\" transform=\"translate(63.623047 0.78125)\"/>\n       <use xlink:href=\"#DejaVuSans-36\" transform=\"translate(95.410156 0.78125)\"/>\n      </g>\n     </g>\n    </g>\n    <g id=\"xtick_5\">\n     <g id=\"line2d_13\">\n      <path d=\"M 226.798395 273.025354 \nL 226.798395 19.634646 \n\" clip-path=\"url(#pbf9fec6cc5)\" style=\"fill: none; stroke: #000000; stroke-opacity: 0.1; stroke-width: 0.5; stroke-linecap: square\"/>\n     </g>\n     <g id=\"line2d_14\">\n      <g>\n       <use xlink:href=\"#m46566f640c\" x=\"226.798395\" y=\"273.025354\" style=\"stroke: #000000; stroke-width: 0.5\"/>\n      </g>\n     </g>\n     <g id=\"line2d_15\">\n      <g>\n       <use xlink:href=\"#mde78668b0f\" x=\"226.798395\" y=\"19.634646\" style=\"stroke: #000000; stroke-width: 0.5\"/>\n      </g>\n     </g>\n     <g id=\"text_5\">\n      <!-- $6.8$ -->\n      <g transform=\"translate(220.518395 282.604104)scale(0.08 -0.08)\">\n       <defs>\n        <path id=\"DejaVuSans-38\" d=\"M 2034 2216 \nQ 1584 2216 1326 1975 \nQ 1069 1734 1069 1313 \nQ 1069 891 1326 650 \nQ 1584 409 2034 409 \nQ 2484 409 2743 651 \nQ 3003 894 3003 1313 \nQ 3003 1734 2745 1975 \nQ 2488 2216 2034 2216 \nz\nM 1403 2484 \nQ 997 2584 770 2862 \nQ 544 3141 544 3541 \nQ 544 4100 942 4425 \nQ 1341 4750 2034 4750 \nQ 2731 4750 3128 4425 \nQ 3525 4100 3525 3541 \nQ 3525 3141 3298 2862 \nQ 3072 2584 2669 2484 \nQ 3125 2378 3379 2068 \nQ 3634 1759 3634 1313 \nQ 3634 634 3220 271 \nQ 2806 -91 2034 -91 \nQ 1263 -91 848 271 \nQ 434 634 434 1313 \nQ 434 1759 690 2068 \nQ 947 2378 1403 2484 \nz\nM 1172 3481 \nQ 1172 3119 1398 2916 \nQ 1625 2713 2034 2713 \nQ 2441 2713 2670 2916 \nQ 2900 3119 2900 3481 \nQ 2900 3844 2670 4047 \nQ 2441 4250 2034 4250 \nQ 1625 4250 1398 4047 \nQ 1172 3844 1172 3481 \nz\n\" transform=\"scale(0.015625)\"/>\n       </defs>\n       <use xlink:href=\"#DejaVuSans-36\" transform=\"translate(0 0.78125)\"/>\n       <use xlink:href=\"#DejaVuSans-2e\" transform=\"translate(63.623047 0.78125)\"/>\n       <use xlink:href=\"#DejaVuSans-38\" transform=\"translate(92.785156 0.78125)\"/>\n      </g>\n     </g>\n    </g>\n    <g id=\"xtick_6\">\n     <g id=\"line2d_16\">\n      <path d=\"M 280.282276 273.025354 \nL 280.282276 19.634646 \n\" clip-path=\"url(#pbf9fec6cc5)\" style=\"fill: none; stroke: #000000; stroke-opacity: 0.1; stroke-width: 0.5; stroke-linecap: square\"/>\n     </g>\n     <g id=\"line2d_17\">\n      <g>\n       <use xlink:href=\"#m46566f640c\" x=\"280.282276\" y=\"273.025354\" style=\"stroke: #000000; stroke-width: 0.5\"/>\n      </g>\n     </g>\n     <g id=\"line2d_18\">\n      <g>\n       <use xlink:href=\"#mde78668b0f\" x=\"280.282276\" y=\"19.634646\" style=\"stroke: #000000; stroke-width: 0.5\"/>\n      </g>\n     </g>\n     <g id=\"text_6\">\n      <!-- $7.0$ -->\n      <g transform=\"translate(273.882276 282.604104)scale(0.08 -0.08)\">\n       <defs>\n        <path id=\"DejaVuSans-37\" d=\"M 525 4666 \nL 3525 4666 \nL 3525 4397 \nL 1831 0 \nL 1172 0 \nL 2766 4134 \nL 525 4134 \nL 525 4666 \nz\n\" transform=\"scale(0.015625)\"/>\n       </defs>\n       <use xlink:href=\"#DejaVuSans-37\" transform=\"translate(0 0.78125)\"/>\n       <use xlink:href=\"#DejaVuSans-2e\" transform=\"translate(63.623047 0.78125)\"/>\n       <use xlink:href=\"#DejaVuSans-30\" transform=\"translate(95.410156 0.78125)\"/>\n      </g>\n     </g>\n    </g>\n    <g id=\"xtick_7\">\n     <g id=\"line2d_19\">\n      <path d=\"M 333.766157 273.025354 \nL 333.766157 19.634646 \n\" clip-path=\"url(#pbf9fec6cc5)\" style=\"fill: none; stroke: #000000; stroke-opacity: 0.1; stroke-width: 0.5; stroke-linecap: square\"/>\n     </g>\n     <g id=\"line2d_20\">\n      <g>\n       <use xlink:href=\"#m46566f640c\" x=\"333.766157\" y=\"273.025354\" style=\"stroke: #000000; stroke-width: 0.5\"/>\n      </g>\n     </g>\n     <g id=\"line2d_21\">\n      <g>\n       <use xlink:href=\"#mde78668b0f\" x=\"333.766157\" y=\"19.634646\" style=\"stroke: #000000; stroke-width: 0.5\"/>\n      </g>\n     </g>\n     <g id=\"text_7\">\n      <!-- $7.2$ -->\n      <g transform=\"translate(327.606157 282.604104)scale(0.08 -0.08)\">\n       <use xlink:href=\"#DejaVuSans-37\" transform=\"translate(0 0.78125)\"/>\n       <use xlink:href=\"#DejaVuSans-2e\" transform=\"translate(63.623047 0.78125)\"/>\n       <use xlink:href=\"#DejaVuSans-32\" transform=\"translate(89.910156 0.78125)\"/>\n      </g>\n     </g>\n    </g>\n   </g>\n   <g id=\"matplotlib.axis_2\"/>\n   <g id=\"line2d_22\">\n    <path d=\"M 12.862873 265.853919 \nL 12.862873 265.332577 \nL 26.233843 265.332577 \nL 26.233843 263.445814 \nL 39.604814 263.445814 \nL 39.604814 257.562095 \nL 52.975784 257.562095 \nL 52.975784 245.521571 \nL 66.346754 245.521571 \nL 66.346754 216.996702 \nL 79.717724 216.996702 \nL 79.717724 177.250561 \nL 93.088694 177.250561 \nL 93.088694 126.233497 \nL 106.459664 126.233497 \nL 106.459664 68.76172 \nL 119.830634 68.76172 \nL 119.830634 37.332229 \nL 133.201605 37.332229 \nL 133.201605 26.806081 \nL 146.572575 26.806081 \nL 146.572575 44.829627 \nL 159.943545 44.829627 \nL 159.943545 95.399827 \nL 173.314515 95.399827 \nL 173.314515 135.741787 \nL 186.685485 135.741787 \nL 186.685485 169.802815 \nL 200.056455 169.802815 \nL 200.056455 204.906527 \nL 213.427425 204.906527 \nL 213.427425 230.67573 \nL 226.798395 230.67573 \nL 226.798395 243.932719 \nL 240.169366 243.932719 \nL 240.169366 254.08648 \nL 253.540336 254.08648 \nL 253.540336 259.622638 \nL 266.911306 259.622638 \nL 266.911306 262.378304 \nL 280.282276 262.378304 \nL 280.282276 264.289892 \nL 293.653246 264.289892 \nL 293.653246 265.307751 \nL 307.024216 265.307751 \nL 307.024216 265.531183 \nL 320.395186 265.531183 \nL 320.395186 265.680138 \nL 333.766157 265.680138 \nL 333.766157 265.804268 \nL 347.137127 265.804268 \nL 347.137127 265.853919 \n\" clip-path=\"url(#pbf9fec6cc5)\" style=\"fill: none; stroke: #000000\"/>\n   </g>\n   <g id=\"line2d_23\">\n    <path d=\"M 255.614248 289 \nL 255.614248 -1 \n\" clip-path=\"url(#pbf9fec6cc5)\" style=\"fill: none; stroke: #e36f47; stroke-width: 2\"/>\n   </g>\n   <g id=\"patch_3\">\n    <path d=\"M 2.834646 273.025354 \nL 2.834646 19.634646 \n\" style=\"fill: none; stroke: #000000; stroke-linejoin: miter; stroke-linecap: square\"/>\n   </g>\n   <g id=\"patch_4\">\n    <path d=\"M 357.165354 273.025354 \nL 357.165354 19.634646 \n\" style=\"fill: none; stroke: #000000; stroke-linejoin: miter; stroke-linecap: square\"/>\n   </g>\n   <g id=\"patch_5\">\n    <path d=\"M 2.834646 273.025354 \nL 357.165354 273.025354 \n\" style=\"fill: none; stroke: #000000; stroke-linejoin: miter; stroke-linecap: square\"/>\n   </g>\n   <g id=\"patch_6\">\n    <path d=\"M 2.834646 19.634646 \nL 357.165354 19.634646 \n\" style=\"fill: none; stroke: #000000; stroke-linejoin: miter; stroke-linecap: square\"/>\n   </g>\n   <g id=\"text_8\">\n    <!-- sigma outlier -->\n    <g transform=\"translate(134.094219 13.634646)scale(0.14 -0.14)\">\n     <defs>\n      <path id=\"DejaVuSans-73\" d=\"M 2834 3397 \nL 2834 2853 \nQ 2591 2978 2328 3040 \nQ 2066 3103 1784 3103 \nQ 1356 3103 1142 2972 \nQ 928 2841 928 2578 \nQ 928 2378 1081 2264 \nQ 1234 2150 1697 2047 \nL 1894 2003 \nQ 2506 1872 2764 1633 \nQ 3022 1394 3022 966 \nQ 3022 478 2636 193 \nQ 2250 -91 1575 -91 \nQ 1294 -91 989 -36 \nQ 684 19 347 128 \nL 347 722 \nQ 666 556 975 473 \nQ 1284 391 1588 391 \nQ 1994 391 2212 530 \nQ 2431 669 2431 922 \nQ 2431 1156 2273 1281 \nQ 2116 1406 1581 1522 \nL 1381 1569 \nQ 847 1681 609 1914 \nQ 372 2147 372 2553 \nQ 372 3047 722 3315 \nQ 1072 3584 1716 3584 \nQ 2034 3584 2315 3537 \nQ 2597 3491 2834 3397 \nz\n\" transform=\"scale(0.015625)\"/>\n      <path id=\"DejaVuSans-69\" d=\"M 603 3500 \nL 1178 3500 \nL 1178 0 \nL 603 0 \nL 603 3500 \nz\nM 603 4863 \nL 1178 4863 \nL 1178 4134 \nL 603 4134 \nL 603 4863 \nz\n\" transform=\"scale(0.015625)\"/>\n      <path id=\"DejaVuSans-67\" d=\"M 2906 1791 \nQ 2906 2416 2648 2759 \nQ 2391 3103 1925 3103 \nQ 1463 3103 1205 2759 \nQ 947 2416 947 1791 \nQ 947 1169 1205 825 \nQ 1463 481 1925 481 \nQ 2391 481 2648 825 \nQ 2906 1169 2906 1791 \nz\nM 3481 434 \nQ 3481 -459 3084 -895 \nQ 2688 -1331 1869 -1331 \nQ 1566 -1331 1297 -1286 \nQ 1028 -1241 775 -1147 \nL 775 -588 \nQ 1028 -725 1275 -790 \nQ 1522 -856 1778 -856 \nQ 2344 -856 2625 -561 \nQ 2906 -266 2906 331 \nL 2906 616 \nQ 2728 306 2450 153 \nQ 2172 0 1784 0 \nQ 1141 0 747 490 \nQ 353 981 353 1791 \nQ 353 2603 747 3093 \nQ 1141 3584 1784 3584 \nQ 2172 3584 2450 3431 \nQ 2728 3278 2906 2969 \nL 2906 3500 \nL 3481 3500 \nL 3481 434 \nz\n\" transform=\"scale(0.015625)\"/>\n      <path id=\"DejaVuSans-6d\" d=\"M 3328 2828 \nQ 3544 3216 3844 3400 \nQ 4144 3584 4550 3584 \nQ 5097 3584 5394 3201 \nQ 5691 2819 5691 2113 \nL 5691 0 \nL 5113 0 \nL 5113 2094 \nQ 5113 2597 4934 2840 \nQ 4756 3084 4391 3084 \nQ 3944 3084 3684 2787 \nQ 3425 2491 3425 1978 \nL 3425 0 \nL 2847 0 \nL 2847 2094 \nQ 2847 2600 2669 2842 \nQ 2491 3084 2119 3084 \nQ 1678 3084 1418 2786 \nQ 1159 2488 1159 1978 \nL 1159 0 \nL 581 0 \nL 581 3500 \nL 1159 3500 \nL 1159 2956 \nQ 1356 3278 1631 3431 \nQ 1906 3584 2284 3584 \nQ 2666 3584 2933 3390 \nQ 3200 3197 3328 2828 \nz\n\" transform=\"scale(0.015625)\"/>\n      <path id=\"DejaVuSans-61\" d=\"M 2194 1759 \nQ 1497 1759 1228 1600 \nQ 959 1441 959 1056 \nQ 959 750 1161 570 \nQ 1363 391 1709 391 \nQ 2188 391 2477 730 \nQ 2766 1069 2766 1631 \nL 2766 1759 \nL 2194 1759 \nz\nM 3341 1997 \nL 3341 0 \nL 2766 0 \nL 2766 531 \nQ 2569 213 2275 61 \nQ 1981 -91 1556 -91 \nQ 1019 -91 701 211 \nQ 384 513 384 1019 \nQ 384 1609 779 1909 \nQ 1175 2209 1959 2209 \nL 2766 2209 \nL 2766 2266 \nQ 2766 2663 2505 2880 \nQ 2244 3097 1772 3097 \nQ 1472 3097 1187 3025 \nQ 903 2953 641 2809 \nL 641 3341 \nQ 956 3463 1253 3523 \nQ 1550 3584 1831 3584 \nQ 2591 3584 2966 3190 \nQ 3341 2797 3341 1997 \nz\n\" transform=\"scale(0.015625)\"/>\n      <path id=\"DejaVuSans-20\" transform=\"scale(0.015625)\"/>\n      <path id=\"DejaVuSans-6f\" d=\"M 1959 3097 \nQ 1497 3097 1228 2736 \nQ 959 2375 959 1747 \nQ 959 1119 1226 758 \nQ 1494 397 1959 397 \nQ 2419 397 2687 759 \nQ 2956 1122 2956 1747 \nQ 2956 2369 2687 2733 \nQ 2419 3097 1959 3097 \nz\nM 1959 3584 \nQ 2709 3584 3137 3096 \nQ 3566 2609 3566 1747 \nQ 3566 888 3137 398 \nQ 2709 -91 1959 -91 \nQ 1206 -91 779 398 \nQ 353 888 353 1747 \nQ 353 2609 779 3096 \nQ 1206 3584 1959 3584 \nz\n\" transform=\"scale(0.015625)\"/>\n      <path id=\"DejaVuSans-75\" d=\"M 544 1381 \nL 544 3500 \nL 1119 3500 \nL 1119 1403 \nQ 1119 906 1312 657 \nQ 1506 409 1894 409 \nQ 2359 409 2629 706 \nQ 2900 1003 2900 1516 \nL 2900 3500 \nL 3475 3500 \nL 3475 0 \nL 2900 0 \nL 2900 538 \nQ 2691 219 2414 64 \nQ 2138 -91 1772 -91 \nQ 1169 -91 856 284 \nQ 544 659 544 1381 \nz\nM 1991 3584 \nL 1991 3584 \nz\n\" transform=\"scale(0.015625)\"/>\n      <path id=\"DejaVuSans-74\" d=\"M 1172 4494 \nL 1172 3500 \nL 2356 3500 \nL 2356 3053 \nL 1172 3053 \nL 1172 1153 \nQ 1172 725 1289 603 \nQ 1406 481 1766 481 \nL 2356 481 \nL 2356 0 \nL 1766 0 \nQ 1100 0 847 248 \nQ 594 497 594 1153 \nL 594 3053 \nL 172 3053 \nL 172 3500 \nL 594 3500 \nL 594 4494 \nL 1172 4494 \nz\n\" transform=\"scale(0.015625)\"/>\n      <path id=\"DejaVuSans-6c\" d=\"M 603 4863 \nL 1178 4863 \nL 1178 0 \nL 603 0 \nL 603 4863 \nz\n\" transform=\"scale(0.015625)\"/>\n      <path id=\"DejaVuSans-65\" d=\"M 3597 1894 \nL 3597 1613 \nL 953 1613 \nQ 991 1019 1311 708 \nQ 1631 397 2203 397 \nQ 2534 397 2845 478 \nQ 3156 559 3463 722 \nL 3463 178 \nQ 3153 47 2828 -22 \nQ 2503 -91 2169 -91 \nQ 1331 -91 842 396 \nQ 353 884 353 1716 \nQ 353 2575 817 3079 \nQ 1281 3584 2069 3584 \nQ 2775 3584 3186 3129 \nQ 3597 2675 3597 1894 \nz\nM 3022 2063 \nQ 3016 2534 2758 2815 \nQ 2500 3097 2075 3097 \nQ 1594 3097 1305 2825 \nQ 1016 2553 972 2059 \nL 3022 2063 \nz\n\" transform=\"scale(0.015625)\"/>\n      <path id=\"DejaVuSans-72\" d=\"M 2631 2963 \nQ 2534 3019 2420 3045 \nQ 2306 3072 2169 3072 \nQ 1681 3072 1420 2755 \nQ 1159 2438 1159 1844 \nL 1159 0 \nL 581 0 \nL 581 3500 \nL 1159 3500 \nL 1159 2956 \nQ 1341 3275 1631 3429 \nQ 1922 3584 2338 3584 \nQ 2397 3584 2469 3576 \nQ 2541 3569 2628 3553 \nL 2631 2963 \nz\n\" transform=\"scale(0.015625)\"/>\n     </defs>\n     <use xlink:href=\"#DejaVuSans-73\"/>\n     <use xlink:href=\"#DejaVuSans-69\" x=\"52.099609\"/>\n     <use xlink:href=\"#DejaVuSans-67\" x=\"79.882812\"/>\n     <use xlink:href=\"#DejaVuSans-6d\" x=\"143.359375\"/>\n     <use xlink:href=\"#DejaVuSans-61\" x=\"240.771484\"/>\n     <use xlink:href=\"#DejaVuSans-20\" x=\"302.050781\"/>\n     <use xlink:href=\"#DejaVuSans-6f\" x=\"333.837891\"/>\n     <use xlink:href=\"#DejaVuSans-75\" x=\"395.019531\"/>\n     <use xlink:href=\"#DejaVuSans-74\" x=\"458.398438\"/>\n     <use xlink:href=\"#DejaVuSans-6c\" x=\"497.607422\"/>\n     <use xlink:href=\"#DejaVuSans-69\" x=\"525.390625\"/>\n     <use xlink:href=\"#DejaVuSans-65\" x=\"553.173828\"/>\n     <use xlink:href=\"#DejaVuSans-72\" x=\"614.697266\"/>\n    </g>\n   </g>\n   <g id=\"legend_1\">\n    <g id=\"patch_7\">\n     <path d=\"M 294.365354 44.177146 \nL 353.165354 44.177146 \nL 353.165354 23.634646 \nL 294.365354 23.634646 \nz\n\" style=\"fill: #ffffff; stroke: #000000; stroke-linejoin: miter\"/>\n    </g>\n    <g id=\"line2d_24\">\n     <path d=\"M 300.765354 33.313396 \nL 308.765354 33.313396 \nL 316.765354 33.313396 \n\" style=\"fill: none; stroke: #e36f47; stroke-linejoin: miter\"/>\n    </g>\n    <g id=\"text_9\">\n     <!-- True $f$ -->\n     <g transform=\"translate(323.165354 36.113396)scale(0.08 -0.08)\">\n      <defs>\n       <path id=\"DejaVuSans-54\" d=\"M -19 4666 \nL 3928 4666 \nL 3928 4134 \nL 2272 4134 \nL 2272 0 \nL 1638 0 \nL 1638 4134 \nL -19 4134 \nL -19 4666 \nz\n\" transform=\"scale(0.015625)\"/>\n       <path id=\"DejaVuSans-Oblique-66\" d=\"M 3059 4863 \nL 2969 4384 \nL 2419 4384 \nQ 2106 4384 1964 4261 \nQ 1822 4138 1753 3809 \nL 1691 3500 \nL 2638 3500 \nL 2553 3053 \nL 1606 3053 \nL 1013 0 \nL 434 0 \nL 1031 3053 \nL 481 3053 \nL 563 3500 \nL 1113 3500 \nL 1159 3744 \nQ 1278 4363 1576 4613 \nQ 1875 4863 2516 4863 \nL 3059 4863 \nz\n\" transform=\"scale(0.015625)\"/>\n      </defs>\n      <use xlink:href=\"#DejaVuSans-54\" transform=\"translate(0 0.015625)\"/>\n      <use xlink:href=\"#DejaVuSans-72\" transform=\"translate(61.083984 0.015625)\"/>\n      <use xlink:href=\"#DejaVuSans-75\" transform=\"translate(102.197266 0.015625)\"/>\n      <use xlink:href=\"#DejaVuSans-65\" transform=\"translate(165.576172 0.015625)\"/>\n      <use xlink:href=\"#DejaVuSans-20\" transform=\"translate(227.099609 0.015625)\"/>\n      <use xlink:href=\"#DejaVuSans-Oblique-66\" transform=\"translate(258.886719 0.015625)\"/>\n     </g>\n    </g>\n   </g>\n  </g>\n </g>\n <defs>\n  <clipPath id=\"pbf9fec6cc5\">\n   <rect x=\"2.834646\" y=\"19.634646\" width=\"354.330709\" height=\"253.390709\"/>\n  </clipPath>\n </defs>\n</svg>\n",
      "text/html": [
       "<img src=\"data:image/png;base64,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\" />"
      ]
     },
     "metadata": {},
     "output_type": "display_data"
    }
   ],
   "source": [
    "sigma_out_plot = Plots.plot(sigma_out_posterior,\n",
    "            title =\"sigma outlier\",\n",
    "            #alpha = 0.5,\n",
    "            seriestype=:stephist,\n",
    "            bins = 25,\n",
    "            normed = true,\n",
    "            #bar_width = 15,\n",
    "            #linewidth = 0,\n",
    "            #color = \"gray\" ,\n",
    "            lc=\"black\",\n",
    "            label = \"\",\n",
    "            size=(500,400),\n",
    "            framestyle = :box,\n",
    "            yticks=false\n",
    "            )\n",
    "\n",
    "vline!([target_sigma], lw = 2, label = L\"True $f$\")"
   ]
  },
  {
   "cell_type": "code",
   "execution_count": 36,
   "metadata": {},
   "outputs": [
    {
     "data": {
      "image/png": "[encoded data removed]",
      "image/svg+xml": "<?xml version=\"1.0\" encoding=\"utf-8\" standalone=\"no\"?>\n<!DOCTYPE svg PUBLIC \"-//W3C//DTD SVG 1.1//EN\"\n  \"http://www.w3.org/Graphics/SVG/1.1/DTD/svg11.dtd\">\n<svg xmlns:xlink=\"http://www.w3.org/1999/xlink\" width=\"360pt\" height=\"288pt\" viewBox=\"0 0 360 288\" xmlns=\"http://www.w3.org/2000/svg\" version=\"1.1\">\n <metadata>\n  <rdf:RDF xmlns:dc=\"http://purl.org/dc/elements/1.1/\" xmlns:cc=\"http://creativecommons.org/ns#\" xmlns:rdf=\"http://www.w3.org/1999/02/22-rdf-syntax-ns#\">\n   <cc:Work>\n    <dc:type rdf:resource=\"http://purl.org/dc/dcmitype/StillImage\"/>\n    <dc:date>2022-06-12T21:10:50.166596</dc:date>\n    <dc:format>image/svg+xml</dc:format>\n    <dc:creator>\n     <cc:Agent>\n      <dc:title>Matplotlib v3.5.2, https://matplotlib.org/</dc:title>\n     </cc:Agent>\n    </dc:creator>\n   </cc:Work>\n  </rdf:RDF>\n </metadata>\n <defs>\n  <style type=\"text/css\">*{stroke-linejoin: round; stroke-linecap: butt}</style>\n </defs>\n <g id=\"figure_1\">\n  <g id=\"patch_1\">\n   <path d=\"M 0 288 \nL 360 288 \nL 360 0 \nL 0 0 \nz\n\" style=\"fill: #ffffff\"/>\n  </g>\n  <g id=\"axes_1\">\n   <g id=\"patch_2\">\n    <path d=\"M 2.834646 273.025354 \nL 357.165354 273.025354 \nL 357.165354 19.634646 \nL 2.834646 19.634646 \nz\n\" style=\"fill: #ffffff\"/>\n   </g>\n   <g id=\"matplotlib.axis_1\">\n    <g id=\"xtick_1\">\n     <g id=\"line2d_1\">\n      <path d=\"M 64.289681 273.025354 \nL 64.289681 19.634646 \n\" clip-path=\"url(#pf2f67c003c)\" style=\"fill: none; stroke: #000000; stroke-opacity: 0.1; stroke-width: 0.5; stroke-linecap: square\"/>\n     </g>\n     <g id=\"line2d_2\">\n      <defs>\n       <path id=\"mbdba312a3c\" d=\"M 0 0 \nL 0 -2.5 \n\" style=\"stroke: #000000; stroke-width: 0.5\"/>\n      </defs>\n      <g>\n       <use xlink:href=\"#mbdba312a3c\" x=\"64.289681\" y=\"273.025354\" style=\"stroke: #000000; stroke-width: 0.5\"/>\n      </g>\n     </g>\n     <g id=\"line2d_3\">\n      <defs>\n       <path id=\"m3ee48db257\" d=\"M 0 0 \nL 0 2.5 \n\" style=\"stroke: #000000; stroke-width: 0.5\"/>\n      </defs>\n      <g>\n       <use xlink:href=\"#m3ee48db257\" x=\"64.289681\" y=\"19.634646\" style=\"stroke: #000000; stroke-width: 0.5\"/>\n      </g>\n     </g>\n     <g id=\"text_1\">\n      <!-- $0.5$ -->\n      <g transform=\"translate(57.889681 282.604104)scale(0.08 -0.08)\">\n       <defs>\n        <path id=\"DejaVuSans-30\" d=\"M 2034 4250 \nQ 1547 4250 1301 3770 \nQ 1056 3291 1056 2328 \nQ 1056 1369 1301 889 \nQ 1547 409 2034 409 \nQ 2525 409 2770 889 \nQ 3016 1369 3016 2328 \nQ 3016 3291 2770 3770 \nQ 2525 4250 2034 4250 \nz\nM 2034 4750 \nQ 2819 4750 3233 4129 \nQ 3647 3509 3647 2328 \nQ 3647 1150 3233 529 \nQ 2819 -91 2034 -91 \nQ 1250 -91 836 529 \nQ 422 1150 422 2328 \nQ 422 3509 836 4129 \nQ 1250 4750 2034 4750 \nz\n\" transform=\"scale(0.015625)\"/>\n        <path id=\"DejaVuSans-2e\" d=\"M 684 794 \nL 1344 794 \nL 1344 0 \nL 684 0 \nL 684 794 \nz\n\" transform=\"scale(0.015625)\"/>\n        <path id=\"DejaVuSans-35\" d=\"M 691 4666 \nL 3169 4666 \nL 3169 4134 \nL 1269 4134 \nL 1269 2991 \nQ 1406 3038 1543 3061 \nQ 1681 3084 1819 3084 \nQ 2600 3084 3056 2656 \nQ 3513 2228 3513 1497 \nQ 3513 744 3044 326 \nQ 2575 -91 1722 -91 \nQ 1428 -91 1123 -41 \nQ 819 9 494 109 \nL 494 744 \nQ 775 591 1075 516 \nQ 1375 441 1709 441 \nQ 2250 441 2565 725 \nQ 2881 1009 2881 1497 \nQ 2881 1984 2565 2268 \nQ 2250 2553 1709 2553 \nQ 1456 2553 1204 2497 \nQ 953 2441 691 2322 \nL 691 4666 \nz\n\" transform=\"scale(0.015625)\"/>\n       </defs>\n       <use xlink:href=\"#DejaVuSans-30\" transform=\"translate(0 0.78125)\"/>\n       <use xlink:href=\"#DejaVuSans-2e\" transform=\"translate(63.623047 0.78125)\"/>\n       <use xlink:href=\"#DejaVuSans-35\" transform=\"translate(95.410156 0.78125)\"/>\n      </g>\n     </g>\n    </g>\n    <g id=\"xtick_2\">\n     <g id=\"line2d_4\">\n      <path d=\"M 128.573192 273.025354 \nL 128.573192 19.634646 \n\" clip-path=\"url(#pf2f67c003c)\" style=\"fill: none; stroke: #000000; stroke-opacity: 0.1; stroke-width: 0.5; stroke-linecap: square\"/>\n     </g>\n     <g id=\"line2d_5\">\n      <g>\n       <use xlink:href=\"#mbdba312a3c\" x=\"128.573192\" y=\"273.025354\" style=\"stroke: #000000; stroke-width: 0.5\"/>\n      </g>\n     </g>\n     <g id=\"line2d_6\">\n      <g>\n       <use xlink:href=\"#m3ee48db257\" x=\"128.573192\" y=\"19.634646\" style=\"stroke: #000000; stroke-width: 0.5\"/>\n      </g>\n     </g>\n     <g id=\"text_2\">\n      <!-- $1.0$ -->\n      <g transform=\"translate(122.173192 282.604104)scale(0.08 -0.08)\">\n       <defs>\n        <path id=\"DejaVuSans-31\" d=\"M 794 531 \nL 1825 531 \nL 1825 4091 \nL 703 3866 \nL 703 4441 \nL 1819 4666 \nL 2450 4666 \nL 2450 531 \nL 3481 531 \nL 3481 0 \nL 794 0 \nL 794 531 \nz\n\" transform=\"scale(0.015625)\"/>\n       </defs>\n       <use xlink:href=\"#DejaVuSans-31\" transform=\"translate(0 0.78125)\"/>\n       <use xlink:href=\"#DejaVuSans-2e\" transform=\"translate(63.623047 0.78125)\"/>\n       <use xlink:href=\"#DejaVuSans-30\" transform=\"translate(95.410156 0.78125)\"/>\n      </g>\n     </g>\n    </g>\n    <g id=\"xtick_3\">\n     <g id=\"line2d_7\">\n      <path d=\"M 192.856702 273.025354 \nL 192.856702 19.634646 \n\" clip-path=\"url(#pf2f67c003c)\" style=\"fill: none; stroke: #000000; stroke-opacity: 0.1; stroke-width: 0.5; stroke-linecap: square\"/>\n     </g>\n     <g id=\"line2d_8\">\n      <g>\n       <use xlink:href=\"#mbdba312a3c\" x=\"192.856702\" y=\"273.025354\" style=\"stroke: #000000; stroke-width: 0.5\"/>\n      </g>\n     </g>\n     <g id=\"line2d_9\">\n      <g>\n       <use xlink:href=\"#m3ee48db257\" x=\"192.856702\" y=\"19.634646\" style=\"stroke: #000000; stroke-width: 0.5\"/>\n      </g>\n     </g>\n     <g id=\"text_3\">\n      <!-- $1.5$ -->\n      <g transform=\"translate(186.456702 282.604104)scale(0.08 -0.08)\">\n       <use xlink:href=\"#DejaVuSans-31\" transform=\"translate(0 0.09375)\"/>\n       <use xlink:href=\"#DejaVuSans-2e\" transform=\"translate(63.623047 0.09375)\"/>\n       <use xlink:href=\"#DejaVuSans-35\" transform=\"translate(95.410156 0.09375)\"/>\n      </g>\n     </g>\n    </g>\n    <g id=\"xtick_4\">\n     <g id=\"line2d_10\">\n      <path d=\"M 257.140212 273.025354 \nL 257.140212 19.634646 \n\" clip-path=\"url(#pf2f67c003c)\" style=\"fill: none; stroke: #000000; stroke-opacity: 0.1; stroke-width: 0.5; stroke-linecap: square\"/>\n     </g>\n     <g id=\"line2d_11\">\n      <g>\n       <use xlink:href=\"#mbdba312a3c\" x=\"257.140212\" y=\"273.025354\" style=\"stroke: #000000; stroke-width: 0.5\"/>\n      </g>\n     </g>\n     <g id=\"line2d_12\">\n      <g>\n       <use xlink:href=\"#m3ee48db257\" x=\"257.140212\" y=\"19.634646\" style=\"stroke: #000000; stroke-width: 0.5\"/>\n      </g>\n     </g>\n     <g id=\"text_4\">\n      <!-- $2.0$ -->\n      <g transform=\"translate(250.740212 282.604104)scale(0.08 -0.08)\">\n       <defs>\n        <path id=\"DejaVuSans-32\" d=\"M 1228 531 \nL 3431 531 \nL 3431 0 \nL 469 0 \nL 469 531 \nQ 828 903 1448 1529 \nQ 2069 2156 2228 2338 \nQ 2531 2678 2651 2914 \nQ 2772 3150 2772 3378 \nQ 2772 3750 2511 3984 \nQ 2250 4219 1831 4219 \nQ 1534 4219 1204 4116 \nQ 875 4013 500 3803 \nL 500 4441 \nQ 881 4594 1212 4672 \nQ 1544 4750 1819 4750 \nQ 2544 4750 2975 4387 \nQ 3406 4025 3406 3419 \nQ 3406 3131 3298 2873 \nQ 3191 2616 2906 2266 \nQ 2828 2175 2409 1742 \nQ 1991 1309 1228 531 \nz\n\" transform=\"scale(0.015625)\"/>\n       </defs>\n       <use xlink:href=\"#DejaVuSans-32\" transform=\"translate(0 0.78125)\"/>\n       <use xlink:href=\"#DejaVuSans-2e\" transform=\"translate(63.623047 0.78125)\"/>\n       <use xlink:href=\"#DejaVuSans-30\" transform=\"translate(95.410156 0.78125)\"/>\n      </g>\n     </g>\n    </g>\n    <g id=\"xtick_5\">\n     <g id=\"line2d_13\">\n      <path d=\"M 321.423723 273.025354 \nL 321.423723 19.634646 \n\" clip-path=\"url(#pf2f67c003c)\" style=\"fill: none; stroke: #000000; stroke-opacity: 0.1; stroke-width: 0.5; stroke-linecap: square\"/>\n     </g>\n     <g id=\"line2d_14\">\n      <g>\n       <use xlink:href=\"#mbdba312a3c\" x=\"321.423723\" y=\"273.025354\" style=\"stroke: #000000; stroke-width: 0.5\"/>\n      </g>\n     </g>\n     <g id=\"line2d_15\">\n      <g>\n       <use xlink:href=\"#m3ee48db257\" x=\"321.423723\" y=\"19.634646\" style=\"stroke: #000000; stroke-width: 0.5\"/>\n      </g>\n     </g>\n     <g id=\"text_5\">\n      <!-- $2.5$ -->\n      <g transform=\"translate(315.023723 282.604104)scale(0.08 -0.08)\">\n       <use xlink:href=\"#DejaVuSans-32\" transform=\"translate(0 0.78125)\"/>\n       <use xlink:href=\"#DejaVuSans-2e\" transform=\"translate(63.623047 0.78125)\"/>\n       <use xlink:href=\"#DejaVuSans-35\" transform=\"translate(95.410156 0.78125)\"/>\n      </g>\n     </g>\n    </g>\n   </g>\n   <g id=\"matplotlib.axis_2\"/>\n   <g id=\"line2d_16\">\n    <path d=\"M 12.862873 265.853919 \nL 12.862873 264.262671 \nL 25.719575 264.262671 \nL 25.719575 262.94724 \nL 38.576277 262.94724 \nL 38.576277 260.48611 \nL 51.432979 260.48611 \nL 51.432979 258.02498 \nL 64.289681 258.02498 \nL 64.289681 253.99382 \nL 77.146384 253.99382 \nL 77.146384 247.204496 \nL 90.003086 247.204496 \nL 90.003086 237.105377 \nL 102.859788 237.105377 \nL 102.859788 214.976426 \nL 115.71649 214.976426 \nL 115.71649 172.118821 \nL 128.573192 172.118821 \nL 128.573192 114.897554 \nL 141.429894 114.897554 \nL 141.429894 62.174213 \nL 154.286596 62.174213 \nL 154.286596 26.806081 \nL 167.143298 26.806081 \nL 167.143298 38.72983 \nL 180 38.72983 \nL 180 91.622904 \nL 192.856702 91.622904 \nL 192.856702 150.308119 \nL 205.713404 150.308119 \nL 205.713404 197.090802 \nL 218.570106 197.090802 \nL 218.570106 226.603142 \nL 231.426808 226.603142 \nL 231.426808 244.997966 \nL 244.28351 244.997966 \nL 244.28351 255.118301 \nL 257.140212 255.118301 \nL 257.140212 260.380027 \nL 269.996914 260.380027 \nL 269.996914 263.541306 \nL 282.853616 263.541306 \nL 282.853616 264.877954 \nL 295.710319 264.877954 \nL 295.710319 265.493236 \nL 308.567021 265.493236 \nL 308.567021 265.662969 \nL 321.423723 265.662969 \nL 321.423723 265.790269 \nL 334.280425 265.790269 \nL 334.280425 265.832703 \nL 347.137127 265.832703 \nL 347.137127 265.853919 \n\" clip-path=\"url(#pf2f67c003c)\" style=\"fill: none; stroke: #000000\"/>\n   </g>\n   <g id=\"line2d_17\">\n    <path d=\"M 128.573192 289 \nL 128.573192 -1 \n\" clip-path=\"url(#pf2f67c003c)\" style=\"fill: none; stroke: #e36f47; stroke-width: 2\"/>\n   </g>\n   <g id=\"patch_3\">\n    <path d=\"M 2.834646 273.025354 \nL 2.834646 19.634646 \n\" style=\"fill: none; stroke: #000000; stroke-linejoin: miter; stroke-linecap: square\"/>\n   </g>\n   <g id=\"patch_4\">\n    <path d=\"M 357.165354 273.025354 \nL 357.165354 19.634646 \n\" style=\"fill: none; stroke: #000000; stroke-linejoin: miter; stroke-linecap: square\"/>\n   </g>\n   <g id=\"patch_5\">\n    <path d=\"M 2.834646 273.025354 \nL 357.165354 273.025354 \n\" style=\"fill: none; stroke: #000000; stroke-linejoin: miter; stroke-linecap: square\"/>\n   </g>\n   <g id=\"patch_6\">\n    <path d=\"M 2.834646 19.634646 \nL 357.165354 19.634646 \n\" style=\"fill: none; stroke: #000000; stroke-linejoin: miter; stroke-linecap: square\"/>\n   </g>\n   <g id=\"text_6\">\n    <!-- ks -->\n    <g transform=\"translate(172.3 13.634646)scale(0.14 -0.14)\">\n     <defs>\n      <path id=\"DejaVuSans-6b\" d=\"M 581 4863 \nL 1159 4863 \nL 1159 1991 \nL 2875 3500 \nL 3609 3500 \nL 1753 1863 \nL 3688 0 \nL 2938 0 \nL 1159 1709 \nL 1159 0 \nL 581 0 \nL 581 4863 \nz\n\" transform=\"scale(0.015625)\"/>\n      <path id=\"DejaVuSans-73\" d=\"M 2834 3397 \nL 2834 2853 \nQ 2591 2978 2328 3040 \nQ 2066 3103 1784 3103 \nQ 1356 3103 1142 2972 \nQ 928 2841 928 2578 \nQ 928 2378 1081 2264 \nQ 1234 2150 1697 2047 \nL 1894 2003 \nQ 2506 1872 2764 1633 \nQ 3022 1394 3022 966 \nQ 3022 478 2636 193 \nQ 2250 -91 1575 -91 \nQ 1294 -91 989 -36 \nQ 684 19 347 128 \nL 347 722 \nQ 666 556 975 473 \nQ 1284 391 1588 391 \nQ 1994 391 2212 530 \nQ 2431 669 2431 922 \nQ 2431 1156 2273 1281 \nQ 2116 1406 1581 1522 \nL 1381 1569 \nQ 847 1681 609 1914 \nQ 372 2147 372 2553 \nQ 372 3047 722 3315 \nQ 1072 3584 1716 3584 \nQ 2034 3584 2315 3537 \nQ 2597 3491 2834 3397 \nz\n\" transform=\"scale(0.015625)\"/>\n     </defs>\n     <use xlink:href=\"#DejaVuSans-6b\"/>\n     <use xlink:href=\"#DejaVuSans-73\" x=\"57.910156\"/>\n    </g>\n   </g>\n   <g id=\"legend_1\">\n    <g id=\"patch_7\">\n     <path d=\"M 294.365354 44.177146 \nL 353.165354 44.177146 \nL 353.165354 23.634646 \nL 294.365354 23.634646 \nz\n\" style=\"fill: #ffffff; stroke: #000000; stroke-linejoin: miter\"/>\n    </g>\n    <g id=\"line2d_18\">\n     <path d=\"M 300.765354 33.313396 \nL 308.765354 33.313396 \nL 316.765354 33.313396 \n\" style=\"fill: none; stroke: #e36f47; stroke-linejoin: miter\"/>\n    </g>\n    <g id=\"text_7\">\n     <!-- True $f$ -->\n     <g transform=\"translate(323.165354 36.113396)scale(0.08 -0.08)\">\n      <defs>\n       <path id=\"DejaVuSans-54\" d=\"M -19 4666 \nL 3928 4666 \nL 3928 4134 \nL 2272 4134 \nL 2272 0 \nL 1638 0 \nL 1638 4134 \nL -19 4134 \nL -19 4666 \nz\n\" transform=\"scale(0.015625)\"/>\n       <path id=\"DejaVuSans-72\" d=\"M 2631 2963 \nQ 2534 3019 2420 3045 \nQ 2306 3072 2169 3072 \nQ 1681 3072 1420 2755 \nQ 1159 2438 1159 1844 \nL 1159 0 \nL 581 0 \nL 581 3500 \nL 1159 3500 \nL 1159 2956 \nQ 1341 3275 1631 3429 \nQ 1922 3584 2338 3584 \nQ 2397 3584 2469 3576 \nQ 2541 3569 2628 3553 \nL 2631 2963 \nz\n\" transform=\"scale(0.015625)\"/>\n       <path id=\"DejaVuSans-75\" d=\"M 544 1381 \nL 544 3500 \nL 1119 3500 \nL 1119 1403 \nQ 1119 906 1312 657 \nQ 1506 409 1894 409 \nQ 2359 409 2629 706 \nQ 2900 1003 2900 1516 \nL 2900 3500 \nL 3475 3500 \nL 3475 0 \nL 2900 0 \nL 2900 538 \nQ 2691 219 2414 64 \nQ 2138 -91 1772 -91 \nQ 1169 -91 856 284 \nQ 544 659 544 1381 \nz\nM 1991 3584 \nL 1991 3584 \nz\n\" transform=\"scale(0.015625)\"/>\n       <path id=\"DejaVuSans-65\" d=\"M 3597 1894 \nL 3597 1613 \nL 953 1613 \nQ 991 1019 1311 708 \nQ 1631 397 2203 397 \nQ 2534 397 2845 478 \nQ 3156 559 3463 722 \nL 3463 178 \nQ 3153 47 2828 -22 \nQ 2503 -91 2169 -91 \nQ 1331 -91 842 396 \nQ 353 884 353 1716 \nQ 353 2575 817 3079 \nQ 1281 3584 2069 3584 \nQ 2775 3584 3186 3129 \nQ 3597 2675 3597 1894 \nz\nM 3022 2063 \nQ 3016 2534 2758 2815 \nQ 2500 3097 2075 3097 \nQ 1594 3097 1305 2825 \nQ 1016 2553 972 2059 \nL 3022 2063 \nz\n\" transform=\"scale(0.015625)\"/>\n       <path id=\"DejaVuSans-20\" transform=\"scale(0.015625)\"/>\n       <path id=\"DejaVuSans-Oblique-66\" d=\"M 3059 4863 \nL 2969 4384 \nL 2419 4384 \nQ 2106 4384 1964 4261 \nQ 1822 4138 1753 3809 \nL 1691 3500 \nL 2638 3500 \nL 2553 3053 \nL 1606 3053 \nL 1013 0 \nL 434 0 \nL 1031 3053 \nL 481 3053 \nL 563 3500 \nL 1113 3500 \nL 1159 3744 \nQ 1278 4363 1576 4613 \nQ 1875 4863 2516 4863 \nL 3059 4863 \nz\n\" transform=\"scale(0.015625)\"/>\n      </defs>\n      <use xlink:href=\"#DejaVuSans-54\" transform=\"translate(0 0.015625)\"/>\n      <use xlink:href=\"#DejaVuSans-72\" transform=\"translate(61.083984 0.015625)\"/>\n      <use xlink:href=\"#DejaVuSans-75\" transform=\"translate(102.197266 0.015625)\"/>\n      <use xlink:href=\"#DejaVuSans-65\" transform=\"translate(165.576172 0.015625)\"/>\n      <use xlink:href=\"#DejaVuSans-20\" transform=\"translate(227.099609 0.015625)\"/>\n      <use xlink:href=\"#DejaVuSans-Oblique-66\" transform=\"translate(258.886719 0.015625)\"/>\n     </g>\n    </g>\n   </g>\n  </g>\n </g>\n <defs>\n  <clipPath id=\"pf2f67c003c\">\n   <rect x=\"2.834646\" y=\"19.634646\" width=\"354.330709\" height=\"253.390709\"/>\n  </clipPath>\n </defs>\n</svg>\n",
      "text/html": [
       "<img src=\"data:image/png;base64,iVBORw0KGgoAAAANSUhEUgAAAfQAAAGQCAYAAABYs5LGAAAAOXRFWHRTb2Z0d2FyZQBNYXRwbG90bGliIHZlcnNpb24zLjUuMiwgaHR0cHM6Ly9tYXRwbG90bGliLm9yZy8qNh9FAAAACXBIWXMAAA9hAAAPYQGoP6dpAAAUyUlEQVR4nO3df2xddd3A8U/XqrBw6ez6gNNZGuZtKHGudMsyZpBticyhMgQS/9h9YjQmPioxGGOiiQoxavxDjFGjCEb/oHMaHhYI4YkLyI8RTbbBwIBevTeDZUONUOdmB4OHbef5A7vHud+7p73tp69X0ui60y+fnJ7s3dN77jkdRVEUAQBMa7PaPQAA0DpBB4AEBB0AEhB0mOYeeeSR6OjoiFtuuaXdowBtJOgAkICgA0ACgg4ACQg6JLV379644oororOzM26//faIiNi+fXvccMMN0dfXF29605viwgsvjMsvvzy++c1vtnlaoFVd7R4AKN+f//znWL16dTSbzbjrrrviuuuui6eeeiqWL18enZ2dsXbt2rjoooti79698bvf/S7uuOOO+MIXvtDusYEWCDok02g04qqrroq///3v8ctf/jJWrFgRERF33nlnvPrqq3HvvffGNddcc9TX/O1vf2vDpECZBB0S2bZtW1x99dXR2dkZjz76aAwNDR2zzbnnnnvM5+bOnTsJ0wETyWvokMRjjz0Wq1atiu7u7vj1r399TMxvuOGGmDVrVlx77bXx0Y9+NH72s5/Frl272jMsUDpBhySefPLJ2L9/fwwPD0d/f/8xf3/55ZfHQw89FFdccUVs2LAh1q1bFxdddFEsWbIkHn744ckfGCiVX7lDEjfeeGP86U9/ip/85CfR1dUVd955Z3R2dh61zZVXXhlXXnllHDhwILZs2RL33Xdf/OAHP4j3v//98fTTT8eCBQvaND3QKkGHJGbNmhU//vGPj/xvRBw36hGvv46+YsWKWLFiRcyZMye+8pWvxIMPPijoMI0JOiTS0dERt99+e3R0dMQdd9wRhw8fjvXr10dnZ2c89thjsWjRojj//POP+pq//vWvEXH8i+WA6UPQIZmOjo740Y9+dCTuRVHE+vXr49Zbb40HHnggVq5cGRdffHGcc845sX379vjVr34V73jHO+JDH/pQu0cHWiDokFBHR0fcdtttMWvWrLjtttuiKIr45Cc/Gd3d3bFly5bYvHlzFEURfX198aUvfSluuummqFQq7R4baEFHURRFu4cAAFrjbWsAkICgA0ACgg4ACQg6ACQg6ACQgKADQAJHvQ99dHQ0Nm3aFP39/e4aBQBT1IEDB2Lnzp2xevXq6O3tjYh/C/qmTZuiVqu1ZTgA4MyMjIzEunXrIuLfgj7+yMWRkZEYHByc9MGyuvHGG+P73/9+u8dI7cXbvhSH9++NWefNif/4r6+1e5y0HMsTzz6eeBn2cb1ej1qtdtSjko8K+viv2QcHB2N4eHhSh8usu7vb/pxgf5nXE4f2HY7O7p6YZ19PGMfyxLOPJ16mffyvL4+7KG4SXHfdde0eAUrhWJ549vHEy7qPBX0SXH/99e0eAUrhWJ549vHEy7qPPW0NgFLt2rUrRkdH2z3GCe3bty+6u7vbPcYZ6e3tjb6+vpNuI+gAlGbXrl0xODgYL7/8crtHSWX27NlRr9dPGnVBB6A0o6Oj8fLLL3u3VInGr2gfHR0VdAAml3dLTT5BhwnQbDZjbGys5XUqlUpUq9USJgKyE3QoWbPZjIGBgdLWazQaog6ckqBDycbPzFt9DXH8dbMyzvSB/AQdJojXEIHJ5MYyAJCAoANAAoIOAAkIOgAkIOgAzDhDQ0MxNDQUl156aXR1dR3584c//OEJ/e+uX78+Fi5cGMPDw/HUU0+Vurar3AGYccZjunPnzliyZMkJ43rw4MHo6ionlYcPH47Pfe5z8fjjj8f8+fNLWfNfOUMHgH/R0dERt956a6xYsSK++MUvHvnc/v37j2zT29sbO3fujIiIbdu2xapVq2LJkiUxPDwcd9999zFr7tmzJy655JIYGxuLD3zgA/HDH/6w9LmdoQMwqQ7t+1sc+seeCVm78/ye6Oye2/I6r776ajzyyCOn3G7v3r3xiU98Iu6///6YN29ejI6OxuLFi+Pd7353vOUtbzmyXU9PT3z1q1+Ne+65J37+85+3PN/xCDoAk2r/b/4nxjatn5C1K6vXRfea/2x5nY997GOntd1vfvObePbZZ2PNmjVHPlcURfzxj388KugREY8//ngsXry45dlORNABmFTnLb86zn3nsglZu/P8nlLWOe+8845et7MzDh06dOTPr7zySkS8Hu93vetdsXnz5lOu+cQTT8SXv/zlUuY7HkEHYFJ1ds8t5dfik2nBggWxZcuWuOqqq2Ljxo3x0ksvRUTE8uXLo9lsxkMPPRSrVq2KiNcvuLv00kvjjW9845GvL4oinnzyyQm9HbSgA8ApfOc734lPf/rTccEFF8TKlStj7tzXfyB585vfHPfdd198/vOfj89+9rPx2muvRV9fX9xzzz1HfX2z2Yy5c+fGnDlzJmxGQQdgxurv74/R0dGjPlcUxTHbrVmzJprN5pE/f+1rXzvy/5csWRIPP/zwSf87AwMDsWPHjhanPTlBhymuXq+3vEalUvFMdUhO0GGKqlQqERFRq9VKWa/RaIg6JCboMEVVq9VoNBoxNjbW0jr1ej1qtVrL6wBTm6DDFOaMGjhdbv0KAAkIOgAkIOgAkICgA0ACgg4ACbjKHYDSlXFDJF53uvtS0AEoTW9vb8yePbu0GyLxutmzZ0dvb+9JtxF0AErT19cX9Xr9mPujTyX79u2L7u7udo9xRnp7e6Ovr++k2wg6AKXq6+s7ZXzaac+ePdHTU85z06cSF8UBQAKCDgAJCDoAJCDoAJCAoANAAoIOAAkIOgAkIOgAkICgA0ACgg4ACQg6ACQg6ACQgKADQAKCDgAJCDoAJCDoAJCAoANAAoIOAAkIOgAk0NXuAWAqaTabMTY21tIa9Xq9pGkATp+gwz81m80YGBgobb1KpVLaWgCnIujwT+Nn5iMjIzE4ONjSWpVKJarVahljAZwWQYd/Mzg4GMPDw+0eA+CMuCgOABIQdABIQNABIAFBB4AEBB0AEhB0AEhA0AEgAUEHgAQEHQASEHQASEDQASABQQeABAQdABIQdABIQNABIAFBB4AEBB0AEhB0AEhA0AEgAUEHgAQEHQASEHQASEDQASABQQeABAQdABIQdABIQNABIAFBB4AEBB0AEhB0AEhA0AEgAUEHgAQEHQASEHQASEDQASABQQeABAQdABLoavcAwOSo1+str3Ho0KHo6ekpYRqgbIIOyVUqlYiIqNVqpazXaDSiWq2WshZQHkGH5KrVajQajRgbG2tpnXq9HrVareV1gIkh6DADOKOG/FwUBwAJCDoAJCDoAJCAoANAAoIOAAkIOgAkIOgAkICgA0ACgg4ACQg6ACQg6ACQgKADQAKCDgAJCDoAJCDoAJCAoANAAoIOAAkIOgAkIOgAkICgA0ACgg4ACQg6ACQg6ACQgKADQAKCDgAJCDoAJCDoAJCAoANAAoIOAAl0tXsAKNP/vva/sX379rP62nq9XvI0AJNH0Enh4MGD0RERL/z1hVi6eHFLa1UqlXKGAphEgk4Kh4vD0RkRPT098cQTT5z1OpVKJarVanmDAUwSQSeVrjd0xfDwcLvHAJh0LooDgAQEHQASEHQASEDQASABQQeABAQdABIQdABIQNABIAFBB4AEBB0AEhB0AEhA0AEgAUEHgAQEHQASEHQASEDQASABQQeABAQdABIQdABIQNABIAFBB4AEBB0AEhB0AEhA0AEgAUEHgAQEHQASEHQASEDQASABQQeABAQdABIQdABIQNABIAFBB4AEBB0AEhB0AEhA0AEgAUEHgAQEHQASEHQASEDQASABQQeABAQdABIQdABIQNABIAFBB4AEuto9ADC91Ov1lteoVCpRrVZLmAYYJ+jAaalUKhERUavVSlmv0WiIOpRI0IHTUq1WY+vWrdHZ2dnSOvV6PWq1WoyNjZU0GRAh6MAZWLBgQfT09LR7DOA4XBQHAAkIOgAkIOgAkICgA0ACgg4ACQg6ACQg6ACQgKADQAKCDgAJCDoAJCDoAJCAoANAAoIOAAkIOgAkIOgAkICgA0ACgg4ACQg6ACQg6ACQgKADQAKCDgAJCDoAJCDoAJCAoANAAoIOAAkIOgAk0NXuAaDZbMbY2FhLa3S/djA6S5oHYDoSdNqq2WzGwMBAy+ts/diVMa9yTszq8EsnYGYSdNpq/Mx8ZGQkBgcHz3qduf/9zYiX/xFdXQ5pYGbyrx9TwuDgYAwPD5/11//l3jfGoRLnAZhu/H4SABIQdABIQNABIAFBB4AEBB0AEhB0AEhA0AEgAUEHgAQEHQASEHQASEDQASABQQeABAQdABIQdABIQNABIAFBB4AEBB0AEhB0AEhA0AEgAUEHgAQEHQASEHQASEDQASABQQeABAQdABIQdABIQNABIAFBB4AEBB0AEhB0AEhA0AEgga52DwDMTPV6veU1KpVKVKvVEqaB6U/QgUlVqVQiIqJWq5WyXqPREHUIQQcmWbVajUajEWNjYy2tU6/Xo1artbwOZCHowKRzRg3lc1EcACQg6ACQgKADQAKCDgAJCDoAJCDoAJCAoANAAoIOAAkIOgAkIOgAkICgA0ACgg4ACQg6ACQg6ACQgKADQAKCDgAJCDoAJCDoAJCAoANAAoIOAAkIOgAk0NXuAZi+ms1mjI2NtbRGvV4vaRqAmU3QOSvNZjMGBgZKW69SqZS2FsBMJOiclfEz85GRkRgcHGxprUqlEtVqtYyxAGYsQaclg4ODMTw83O4xAGY8F8UBQAKCDgAJCDoAJCDoAJCAoANAAoIOAAkIOgAkIOgAkICgA0ACgg4ACQg6ACQg6ACQgIezANNavV5v6es97Y8sBB2YliqVSkRE1Gq1ltdqNBqizrQn6MC0VK1Wo9FoxNjY2FmvUa/Xo1artbQGTBWCDkxbzqrh/7koDgASEHQASEDQASABQQeABAQdABIQdABIQNABIAFBB4AEBB0AEhB0AEjArV9noGaz2fK9q1t9whUA5RL0GabZbMbAwEBp640/8QqA9hL0GWb8zHxkZCQGBwdbWstzpAGmDkGfoQYHB2N4eLjdYwBQEhfFAUACgg4ACQg6ACQg6ACQgKADQAKCDgAJCDoAJOB96MCMV8atjN1oiXYTdGDGGr91ca1WK2W9RqMh6rSNoAMzVrVajUajUcrDimq1WsvrQCsEfRrxlDQonzNqshD0acJT0gA4GUGfJjwlDYCTEfRpxlPSADge70MHgAQEHQASEHQASEDQASABQQeABAQdABLwtrVJsGPHjti5c2dLa7jDGwAnI+gTrNlsxtKlS0tbzx3eYOoq4wfvQ4cORU9PTwnTMNMI+gRzhzfIz1PbmAoEfZK4wxvk5altTAWCDlACZ9S0m6CfhMeVAjBdCPoJeFwpANOJoJ9AmRezHTp0yK/jAJhQgn4KZVzMtmfPnpKmAYDjSxv0Vl//9to30C5l/Pvjba4zT8qgl/n6t9e+gcni/ey0ImXQy3r920+4wGSqVquxdevW6OzsbGkd72efmaZc0Mt8q5ibuQDTzYIFC9z6lbMypYLurWIA5fFa/MxSWtDLPLN233OAs+e1+JmplKCXfWa9dOlSBw/AWSr73vJbt25teS0nWROvlKB7ohjA1FLGv6Nln+nfe++9MX/+/FLWasW+ffuiu7u73WMcMW/evJg3b17L65QS9Hnz5sXNN98cq1atKmUoANqvrDP9559/PtauXRtr164tabJcbr755rjllltaXqe0oJcxDABTSxln+sPDw6X8YFCWqXiGXoYpdZU7ADlNpZdS9+zZk/KtgbPaPQAA0DpBB4AEBB0AEhB0AEhA0CfB3Xff3e4RoBSO5YlnH0+8rPtY0CfBxo0b2z0ClMKxPPHs44mXdR8f9ba1AwcOREQ5N/Tn/+3bty+2b9/e7jFSe/Eve+Lw/n/ErJdnxV/s6wnjWJ549vHEy7CPxzs93u2IiCj+xcjISBERPnz48OHDh49p8DEyMnKk4R1FURTxT6Ojo7Fp06bo7++Pc889NwCAqefAgQOxc+fOWL16dfT29kZExFFBBwCmJxfFAUACgg4ACQg6ACQg6ACQgKCXpNlsxvLly2NgYCCWLl0av//974+7XX9/f1xyySUxNDQUQ0ND8Ytf/GKSJ52+PvOZz0R/f390dHTEM888c8LtTvd7wfGd7n52LJ+dV155Ja699toYGBiIoaGheN/73hc7d+487raO5bNzJvs41XFcUIqVK1cWP/3pT4uiKIq77rqrWLZs2XG3u+iii4qnn356EifL49FHHy127959yn14ut8Lju9097Nj+ewcOHCguP/++4vDhw8XRVEU3/ve94r3vve9x93WsXx2zmQfZzqOnaGX4IUXXojt27dHrVaLiIjrr78+nnvuuRP+RMjZec973hPz588/6Ta+F607nf3M2TvnnHPi6quvjo6OjoiIWLZsWTz77LPHbOdYPnunu4+zEfQS7N69O9761rdGV9frd9Lt6OiIvr6+2LVr13G3X7duXSxcuDA+/vGPx4svvjiZo6Z3pt8LWuNYbt13v/vd+OAHP3jM5x3L5TnRPh6X5TgW9JKM/yQ4rjjB/Xo2b94cv/3tb2P79u0xd+7c+MhHPjIZ480op/u9oDWO5dZ94xvfiGazGV//+teP+/eO5dadah9nOo67Tr0Jp/L2t789nn/++Th48GB0dXVFURSxe/fu6OvrO2bb8c+94Q1viJtuuikGBgYme9zUzuR7QWscy6351re+FRs3bowHH3wwZs+efczfO5Zbd6p9HJHrOHaGXoILLrggLrvsshgZGYmI15+129/fH/39/Udt99JLL8XevXuP/HnDhg1x2WWXTeKk+Z3u94LWOJZb8+1vfzs2bNgQDzzwQMyZM+e42ziWW3M6+zjdcdzOK/Iy+cMf/lAsW7asqFarxeLFi4tnnnnmyN+tWbOm2LZtW7Fjx45iaGioWLhwYfHOd76zuOaaa4rnnnuufUNPM5/61KeKt73tbUVnZ2dx4YUXFgsWLDjyd+P7uChO/r3g1E5nPzuWz97u3buLiCguvvjiYtGiRcWiRYuKpUuXHvl7x3LrTncfZzuOPZwFABLwK3cASEDQASABQQeABAQdABIQdABI4P8A96UUIc2NTwcAAAAASUVORK5CYII=\" />"
      ]
     },
     "metadata": {},
     "output_type": "display_data"
    }
   ],
   "source": [
    "ks_plot = Plots.plot(ks_posterior,\n",
    "            title =\"ks\",\n",
    "            #alpha = 0.5,\n",
    "            seriestype=:stephist,\n",
    "            bins = 25,\n",
    "            normed = true,\n",
    "            #bar_width = 15,\n",
    "            #linewidth = 0,\n",
    "            #color = \"gray\" ,\n",
    "            lc=\"black\",\n",
    "            label = \"\",\n",
    "            size=(500,400),\n",
    "            framestyle = :box,\n",
    "            yticks=false\n",
    "            )\n",
    "\n",
    "vline!([target_ks], lw = 2, label = L\"True $ks$\")"
   ]
  },
  {
   "cell_type": "code",
   "execution_count": 37,
   "metadata": {},
   "outputs": [
    {
     "data": {
      "image/png": "[encoded data removed]",
      "image/svg+xml": "<?xml version=\"1.0\" encoding=\"utf-8\" standalone=\"no\"?>\n<!DOCTYPE svg PUBLIC \"-//W3C//DTD SVG 1.1//EN\"\n  \"http://www.w3.org/Graphics/SVG/1.1/DTD/svg11.dtd\">\n<svg xmlns:xlink=\"http://www.w3.org/1999/xlink\" width=\"360pt\" height=\"288pt\" viewBox=\"0 0 360 288\" xmlns=\"http://www.w3.org/2000/svg\" version=\"1.1\">\n <metadata>\n  <rdf:RDF xmlns:dc=\"http://purl.org/dc/elements/1.1/\" xmlns:cc=\"http://creativecommons.org/ns#\" xmlns:rdf=\"http://www.w3.org/1999/02/22-rdf-syntax-ns#\">\n   <cc:Work>\n    <dc:type rdf:resource=\"http://purl.org/dc/dcmitype/StillImage\"/>\n    <dc:date>2022-06-12T21:11:17.223988</dc:date>\n    <dc:format>image/svg+xml</dc:format>\n    <dc:creator>\n     <cc:Agent>\n      <dc:title>Matplotlib v3.5.2, https://matplotlib.org/</dc:title>\n     </cc:Agent>\n    </dc:creator>\n   </cc:Work>\n  </rdf:RDF>\n </metadata>\n <defs>\n  <style type=\"text/css\">*{stroke-linejoin: round; stroke-linecap: butt}</style>\n </defs>\n <g id=\"figure_1\">\n  <g id=\"patch_1\">\n   <path d=\"M 0 288 \nL 360 288 \nL 360 0 \nL 0 0 \nz\n\" style=\"fill: #ffffff\"/>\n  </g>\n  <g id=\"axes_1\">\n   <g id=\"patch_2\">\n    <path d=\"M 2.834646 273.025354 \nL 357.165354 273.025354 \nL 357.165354 19.634646 \nL 2.834646 19.634646 \nz\n\" style=\"fill: #ffffff\"/>\n   </g>\n   <g id=\"matplotlib.axis_1\">\n    <g id=\"xtick_1\">\n     <g id=\"line2d_1\">\n      <path d=\"M 12.862873 273.025354 \nL 12.862873 19.634646 \n\" clip-path=\"url(#p2e2994ff51)\" style=\"fill: none; stroke: #000000; stroke-opacity: 0.1; stroke-width: 0.5; stroke-linecap: square\"/>\n     </g>\n     <g id=\"line2d_2\">\n      <defs>\n       <path id=\"m705c3856de\" d=\"M 0 0 \nL 0 -2.5 \n\" style=\"stroke: #000000; stroke-width: 0.5\"/>\n      </defs>\n      <g>\n       <use xlink:href=\"#m705c3856de\" x=\"12.862873\" y=\"273.025354\" style=\"stroke: #000000; stroke-width: 0.5\"/>\n      </g>\n     </g>\n     <g id=\"line2d_3\">\n      <defs>\n       <path id=\"m167f1decb8\" d=\"M 0 0 \nL 0 2.5 \n\" style=\"stroke: #000000; stroke-width: 0.5\"/>\n      </defs>\n      <g>\n       <use xlink:href=\"#m167f1decb8\" x=\"12.862873\" y=\"19.634646\" style=\"stroke: #000000; stroke-width: 0.5\"/>\n      </g>\n     </g>\n     <g id=\"text_1\">\n      <!-- $0.00$ -->\n      <g transform=\"translate(3.942873 282.604104)scale(0.08 -0.08)\">\n       <defs>\n        <path id=\"DejaVuSans-30\" d=\"M 2034 4250 \nQ 1547 4250 1301 3770 \nQ 1056 3291 1056 2328 \nQ 1056 1369 1301 889 \nQ 1547 409 2034 409 \nQ 2525 409 2770 889 \nQ 3016 1369 3016 2328 \nQ 3016 3291 2770 3770 \nQ 2525 4250 2034 4250 \nz\nM 2034 4750 \nQ 2819 4750 3233 4129 \nQ 3647 3509 3647 2328 \nQ 3647 1150 3233 529 \nQ 2819 -91 2034 -91 \nQ 1250 -91 836 529 \nQ 422 1150 422 2328 \nQ 422 3509 836 4129 \nQ 1250 4750 2034 4750 \nz\n\" transform=\"scale(0.015625)\"/>\n        <path id=\"DejaVuSans-2e\" d=\"M 684 794 \nL 1344 794 \nL 1344 0 \nL 684 0 \nL 684 794 \nz\n\" transform=\"scale(0.015625)\"/>\n       </defs>\n       <use xlink:href=\"#DejaVuSans-30\" transform=\"translate(0 0.78125)\"/>\n       <use xlink:href=\"#DejaVuSans-2e\" transform=\"translate(63.623047 0.78125)\"/>\n       <use xlink:href=\"#DejaVuSans-30\" transform=\"translate(95.410156 0.78125)\"/>\n       <use xlink:href=\"#DejaVuSans-30\" transform=\"translate(159.033203 0.78125)\"/>\n      </g>\n     </g>\n    </g>\n    <g id=\"xtick_2\">\n     <g id=\"line2d_4\">\n      <path d=\"M 96.431437 273.025354 \nL 96.431437 19.634646 \n\" clip-path=\"url(#p2e2994ff51)\" style=\"fill: none; stroke: #000000; stroke-opacity: 0.1; stroke-width: 0.5; stroke-linecap: square\"/>\n     </g>\n     <g id=\"line2d_5\">\n      <g>\n       <use xlink:href=\"#m705c3856de\" x=\"96.431437\" y=\"273.025354\" style=\"stroke: #000000; stroke-width: 0.5\"/>\n      </g>\n     </g>\n     <g id=\"line2d_6\">\n      <g>\n       <use xlink:href=\"#m167f1decb8\" x=\"96.431437\" y=\"19.634646\" style=\"stroke: #000000; stroke-width: 0.5\"/>\n      </g>\n     </g>\n     <g id=\"text_2\">\n      <!-- $0.25$ -->\n      <g transform=\"translate(87.711437 282.604104)scale(0.08 -0.08)\">\n       <defs>\n        <path id=\"DejaVuSans-32\" d=\"M 1228 531 \nL 3431 531 \nL 3431 0 \nL 469 0 \nL 469 531 \nQ 828 903 1448 1529 \nQ 2069 2156 2228 2338 \nQ 2531 2678 2651 2914 \nQ 2772 3150 2772 3378 \nQ 2772 3750 2511 3984 \nQ 2250 4219 1831 4219 \nQ 1534 4219 1204 4116 \nQ 875 4013 500 3803 \nL 500 4441 \nQ 881 4594 1212 4672 \nQ 1544 4750 1819 4750 \nQ 2544 4750 2975 4387 \nQ 3406 4025 3406 3419 \nQ 3406 3131 3298 2873 \nQ 3191 2616 2906 2266 \nQ 2828 2175 2409 1742 \nQ 1991 1309 1228 531 \nz\n\" transform=\"scale(0.015625)\"/>\n        <path id=\"DejaVuSans-35\" d=\"M 691 4666 \nL 3169 4666 \nL 3169 4134 \nL 1269 4134 \nL 1269 2991 \nQ 1406 3038 1543 3061 \nQ 1681 3084 1819 3084 \nQ 2600 3084 3056 2656 \nQ 3513 2228 3513 1497 \nQ 3513 744 3044 326 \nQ 2575 -91 1722 -91 \nQ 1428 -91 1123 -41 \nQ 819 9 494 109 \nL 494 744 \nQ 775 591 1075 516 \nQ 1375 441 1709 441 \nQ 2250 441 2565 725 \nQ 2881 1009 2881 1497 \nQ 2881 1984 2565 2268 \nQ 2250 2553 1709 2553 \nQ 1456 2553 1204 2497 \nQ 953 2441 691 2322 \nL 691 4666 \nz\n\" transform=\"scale(0.015625)\"/>\n       </defs>\n       <use xlink:href=\"#DejaVuSans-30\" transform=\"translate(0 0.78125)\"/>\n       <use xlink:href=\"#DejaVuSans-2e\" transform=\"translate(63.623047 0.78125)\"/>\n       <use xlink:href=\"#DejaVuSans-32\" transform=\"translate(89.910156 0.78125)\"/>\n       <use xlink:href=\"#DejaVuSans-35\" transform=\"translate(153.533203 0.78125)\"/>\n      </g>\n     </g>\n    </g>\n    <g id=\"xtick_3\">\n     <g id=\"line2d_7\">\n      <path d=\"M 180 273.025354 \nL 180 19.634646 \n\" clip-path=\"url(#p2e2994ff51)\" style=\"fill: none; stroke: #000000; stroke-opacity: 0.1; stroke-width: 0.5; stroke-linecap: square\"/>\n     </g>\n     <g id=\"line2d_8\">\n      <g>\n       <use xlink:href=\"#m705c3856de\" x=\"180\" y=\"273.025354\" style=\"stroke: #000000; stroke-width: 0.5\"/>\n      </g>\n     </g>\n     <g id=\"line2d_9\">\n      <g>\n       <use xlink:href=\"#m167f1decb8\" x=\"180\" y=\"19.634646\" style=\"stroke: #000000; stroke-width: 0.5\"/>\n      </g>\n     </g>\n     <g id=\"text_3\">\n      <!-- $0.50$ -->\n      <g transform=\"translate(171.08 282.604104)scale(0.08 -0.08)\">\n       <use xlink:href=\"#DejaVuSans-30\" transform=\"translate(0 0.78125)\"/>\n       <use xlink:href=\"#DejaVuSans-2e\" transform=\"translate(63.623047 0.78125)\"/>\n       <use xlink:href=\"#DejaVuSans-35\" transform=\"translate(95.410156 0.78125)\"/>\n       <use xlink:href=\"#DejaVuSans-30\" transform=\"translate(159.033203 0.78125)\"/>\n      </g>\n     </g>\n    </g>\n    <g id=\"xtick_4\">\n     <g id=\"line2d_10\">\n      <path d=\"M 263.568563 273.025354 \nL 263.568563 19.634646 \n\" clip-path=\"url(#p2e2994ff51)\" style=\"fill: none; stroke: #000000; stroke-opacity: 0.1; stroke-width: 0.5; stroke-linecap: square\"/>\n     </g>\n     <g id=\"line2d_11\">\n      <g>\n       <use xlink:href=\"#m705c3856de\" x=\"263.568563\" y=\"273.025354\" style=\"stroke: #000000; stroke-width: 0.5\"/>\n      </g>\n     </g>\n     <g id=\"line2d_12\">\n      <g>\n       <use xlink:href=\"#m167f1decb8\" x=\"263.568563\" y=\"19.634646\" style=\"stroke: #000000; stroke-width: 0.5\"/>\n      </g>\n     </g>\n     <g id=\"text_4\">\n      <!-- $0.75$ -->\n      <g transform=\"translate(254.968563 282.604104)scale(0.08 -0.08)\">\n       <defs>\n        <path id=\"DejaVuSans-37\" d=\"M 525 4666 \nL 3525 4666 \nL 3525 4397 \nL 1831 0 \nL 1172 0 \nL 2766 4134 \nL 525 4134 \nL 525 4666 \nz\n\" transform=\"scale(0.015625)\"/>\n       </defs>\n       <use xlink:href=\"#DejaVuSans-30\" transform=\"translate(0 0.78125)\"/>\n       <use xlink:href=\"#DejaVuSans-2e\" transform=\"translate(63.623047 0.78125)\"/>\n       <use xlink:href=\"#DejaVuSans-37\" transform=\"translate(87.660156 0.78125)\"/>\n       <use xlink:href=\"#DejaVuSans-35\" transform=\"translate(151.283203 0.78125)\"/>\n      </g>\n     </g>\n    </g>\n    <g id=\"xtick_5\">\n     <g id=\"line2d_13\">\n      <path d=\"M 347.137127 273.025354 \nL 347.137127 19.634646 \n\" clip-path=\"url(#p2e2994ff51)\" style=\"fill: none; stroke: #000000; stroke-opacity: 0.1; stroke-width: 0.5; stroke-linecap: square\"/>\n     </g>\n     <g id=\"line2d_14\">\n      <g>\n       <use xlink:href=\"#m705c3856de\" x=\"347.137127\" y=\"273.025354\" style=\"stroke: #000000; stroke-width: 0.5\"/>\n      </g>\n     </g>\n     <g id=\"line2d_15\">\n      <g>\n       <use xlink:href=\"#m167f1decb8\" x=\"347.137127\" y=\"19.634646\" style=\"stroke: #000000; stroke-width: 0.5\"/>\n      </g>\n     </g>\n     <g id=\"text_5\">\n      <!-- $1.00$ -->\n      <g transform=\"translate(338.217127 282.604104)scale(0.08 -0.08)\">\n       <defs>\n        <path id=\"DejaVuSans-31\" d=\"M 794 531 \nL 1825 531 \nL 1825 4091 \nL 703 3866 \nL 703 4441 \nL 1819 4666 \nL 2450 4666 \nL 2450 531 \nL 3481 531 \nL 3481 0 \nL 794 0 \nL 794 531 \nz\n\" transform=\"scale(0.015625)\"/>\n       </defs>\n       <use xlink:href=\"#DejaVuSans-31\" transform=\"translate(0 0.78125)\"/>\n       <use xlink:href=\"#DejaVuSans-2e\" transform=\"translate(63.623047 0.78125)\"/>\n       <use xlink:href=\"#DejaVuSans-30\" transform=\"translate(95.410156 0.78125)\"/>\n       <use xlink:href=\"#DejaVuSans-30\" transform=\"translate(159.033203 0.78125)\"/>\n      </g>\n     </g>\n    </g>\n   </g>\n   <g id=\"matplotlib.axis_2\"/>\n   <g id=\"line2d_16\">\n    <path d=\"M 12.862873 265.853919 \nL 12.862873 265.801522 \nL 29.576586 265.801522 \nL 29.576586 265.83427 \nL 46.290299 265.83427 \nL 46.290299 265.84737 \nL 63.004011 265.84737 \nL 63.004011 265.84082 \nL 79.717724 265.84082 \nL 79.717724 265.794973 \nL 96.431437 265.794973 \nL 96.431437 265.598484 \nL 113.145149 265.598484 \nL 113.145149 265.50024 \nL 129.858862 265.50024 \nL 129.858862 265.212057 \nL 146.572575 265.212057 \nL 146.572575 264.714286 \nL 163.286287 264.714286 \nL 163.286287 264.4785 \nL 180 264.4785 \nL 180 263.017936 \nL 196.713713 263.017936 \nL 196.713713 262.801799 \nL 213.427425 262.801799 \nL 213.427425 261.976547 \nL 230.141138 261.976547 \nL 230.141138 260.437388 \nL 246.854851 260.437388 \nL 246.854851 257.470412 \nL 263.568563 257.470412 \nL 263.568563 251.05179 \nL 280.282276 251.05179 \nL 280.282276 234.762898 \nL 296.995989 234.762898 \nL 296.995989 165.074997 \nL 313.709701 165.074997 \nL 313.709701 26.806081 \nL 330.423414 26.806081 \nL 330.423414 221.820859 \nL 347.137127 221.820859 \nL 347.137127 265.853919 \n\" clip-path=\"url(#p2e2994ff51)\" style=\"fill: none; stroke: #000000\"/>\n   </g>\n   <g id=\"line2d_17\">\n    <path d=\"M 213.427425 289 \nL 213.427425 -1 \n\" clip-path=\"url(#p2e2994ff51)\" style=\"fill: none; stroke: #e36f47; stroke-width: 2\"/>\n   </g>\n   <g id=\"patch_3\">\n    <path d=\"M 2.834646 273.025354 \nL 2.834646 19.634646 \n\" style=\"fill: none; stroke: #000000; stroke-linejoin: miter; stroke-linecap: square\"/>\n   </g>\n   <g id=\"patch_4\">\n    <path d=\"M 357.165354 273.025354 \nL 357.165354 19.634646 \n\" style=\"fill: none; stroke: #000000; stroke-linejoin: miter; stroke-linecap: square\"/>\n   </g>\n   <g id=\"patch_5\">\n    <path d=\"M 2.834646 273.025354 \nL 357.165354 273.025354 \n\" style=\"fill: none; stroke: #000000; stroke-linejoin: miter; stroke-linecap: square\"/>\n   </g>\n   <g id=\"patch_6\">\n    <path d=\"M 2.834646 19.634646 \nL 357.165354 19.634646 \n\" style=\"fill: none; stroke: #000000; stroke-linejoin: miter; stroke-linecap: square\"/>\n   </g>\n   <g id=\"text_6\">\n    <!-- ks -->\n    <g transform=\"translate(172.3 13.634646)scale(0.14 -0.14)\">\n     <defs>\n      <path id=\"DejaVuSans-6b\" d=\"M 581 4863 \nL 1159 4863 \nL 1159 1991 \nL 2875 3500 \nL 3609 3500 \nL 1753 1863 \nL 3688 0 \nL 2938 0 \nL 1159 1709 \nL 1159 0 \nL 581 0 \nL 581 4863 \nz\n\" transform=\"scale(0.015625)\"/>\n      <path id=\"DejaVuSans-73\" d=\"M 2834 3397 \nL 2834 2853 \nQ 2591 2978 2328 3040 \nQ 2066 3103 1784 3103 \nQ 1356 3103 1142 2972 \nQ 928 2841 928 2578 \nQ 928 2378 1081 2264 \nQ 1234 2150 1697 2047 \nL 1894 2003 \nQ 2506 1872 2764 1633 \nQ 3022 1394 3022 966 \nQ 3022 478 2636 193 \nQ 2250 -91 1575 -91 \nQ 1294 -91 989 -36 \nQ 684 19 347 128 \nL 347 722 \nQ 666 556 975 473 \nQ 1284 391 1588 391 \nQ 1994 391 2212 530 \nQ 2431 669 2431 922 \nQ 2431 1156 2273 1281 \nQ 2116 1406 1581 1522 \nL 1381 1569 \nQ 847 1681 609 1914 \nQ 372 2147 372 2553 \nQ 372 3047 722 3315 \nQ 1072 3584 1716 3584 \nQ 2034 3584 2315 3537 \nQ 2597 3491 2834 3397 \nz\n\" transform=\"scale(0.015625)\"/>\n     </defs>\n     <use xlink:href=\"#DejaVuSans-6b\"/>\n     <use xlink:href=\"#DejaVuSans-73\" x=\"57.910156\"/>\n    </g>\n   </g>\n   <g id=\"legend_1\">\n    <g id=\"patch_7\">\n     <path d=\"M 290.205354 44.177146 \nL 353.165354 44.177146 \nL 353.165354 23.634646 \nL 290.205354 23.634646 \nz\n\" style=\"fill: #ffffff; stroke: #000000; stroke-linejoin: miter\"/>\n    </g>\n    <g id=\"line2d_18\">\n     <path d=\"M 296.605354 33.313396 \nL 304.605354 33.313396 \nL 312.605354 33.313396 \n\" style=\"fill: none; stroke: #e36f47; stroke-linejoin: miter\"/>\n    </g>\n    <g id=\"text_7\">\n     <!-- True $fs$ -->\n     <g transform=\"translate(319.005354 36.113396)scale(0.08 -0.08)\">\n      <defs>\n       <path id=\"DejaVuSans-54\" d=\"M -19 4666 \nL 3928 4666 \nL 3928 4134 \nL 2272 4134 \nL 2272 0 \nL 1638 0 \nL 1638 4134 \nL -19 4134 \nL -19 4666 \nz\n\" transform=\"scale(0.015625)\"/>\n       <path id=\"DejaVuSans-72\" d=\"M 2631 2963 \nQ 2534 3019 2420 3045 \nQ 2306 3072 2169 3072 \nQ 1681 3072 1420 2755 \nQ 1159 2438 1159 1844 \nL 1159 0 \nL 581 0 \nL 581 3500 \nL 1159 3500 \nL 1159 2956 \nQ 1341 3275 1631 3429 \nQ 1922 3584 2338 3584 \nQ 2397 3584 2469 3576 \nQ 2541 3569 2628 3553 \nL 2631 2963 \nz\n\" transform=\"scale(0.015625)\"/>\n       <path id=\"DejaVuSans-75\" d=\"M 544 1381 \nL 544 3500 \nL 1119 3500 \nL 1119 1403 \nQ 1119 906 1312 657 \nQ 1506 409 1894 409 \nQ 2359 409 2629 706 \nQ 2900 1003 2900 1516 \nL 2900 3500 \nL 3475 3500 \nL 3475 0 \nL 2900 0 \nL 2900 538 \nQ 2691 219 2414 64 \nQ 2138 -91 1772 -91 \nQ 1169 -91 856 284 \nQ 544 659 544 1381 \nz\nM 1991 3584 \nL 1991 3584 \nz\n\" transform=\"scale(0.015625)\"/>\n       <path id=\"DejaVuSans-65\" d=\"M 3597 1894 \nL 3597 1613 \nL 953 1613 \nQ 991 1019 1311 708 \nQ 1631 397 2203 397 \nQ 2534 397 2845 478 \nQ 3156 559 3463 722 \nL 3463 178 \nQ 3153 47 2828 -22 \nQ 2503 -91 2169 -91 \nQ 1331 -91 842 396 \nQ 353 884 353 1716 \nQ 353 2575 817 3079 \nQ 1281 3584 2069 3584 \nQ 2775 3584 3186 3129 \nQ 3597 2675 3597 1894 \nz\nM 3022 2063 \nQ 3016 2534 2758 2815 \nQ 2500 3097 2075 3097 \nQ 1594 3097 1305 2825 \nQ 1016 2553 972 2059 \nL 3022 2063 \nz\n\" transform=\"scale(0.015625)\"/>\n       <path id=\"DejaVuSans-20\" transform=\"scale(0.015625)\"/>\n       <path id=\"DejaVuSans-Oblique-66\" d=\"M 3059 4863 \nL 2969 4384 \nL 2419 4384 \nQ 2106 4384 1964 4261 \nQ 1822 4138 1753 3809 \nL 1691 3500 \nL 2638 3500 \nL 2553 3053 \nL 1606 3053 \nL 1013 0 \nL 434 0 \nL 1031 3053 \nL 481 3053 \nL 563 3500 \nL 1113 3500 \nL 1159 3744 \nQ 1278 4363 1576 4613 \nQ 1875 4863 2516 4863 \nL 3059 4863 \nz\n\" transform=\"scale(0.015625)\"/>\n       <path id=\"DejaVuSans-Oblique-73\" d=\"M 3200 3397 \nL 3091 2853 \nQ 2863 2978 2609 3040 \nQ 2356 3103 2088 3103 \nQ 1634 3103 1373 2948 \nQ 1113 2794 1113 2528 \nQ 1113 2219 1719 2053 \nQ 1766 2041 1788 2034 \nL 1972 1978 \nQ 2547 1819 2739 1644 \nQ 2931 1469 2931 1166 \nQ 2931 609 2489 259 \nQ 2047 -91 1331 -91 \nQ 1053 -91 747 -37 \nQ 441 16 72 128 \nL 184 722 \nQ 500 559 806 475 \nQ 1113 391 1394 391 \nQ 1816 391 2080 572 \nQ 2344 753 2344 1031 \nQ 2344 1331 1650 1516 \nL 1591 1531 \nL 1394 1581 \nQ 956 1697 753 1886 \nQ 550 2075 550 2369 \nQ 550 2928 970 3256 \nQ 1391 3584 2113 3584 \nQ 2397 3584 2667 3537 \nQ 2938 3491 3200 3397 \nz\n\" transform=\"scale(0.015625)\"/>\n      </defs>\n      <use xlink:href=\"#DejaVuSans-54\" transform=\"translate(0 0.015625)\"/>\n      <use xlink:href=\"#DejaVuSans-72\" transform=\"translate(61.083984 0.015625)\"/>\n      <use xlink:href=\"#DejaVuSans-75\" transform=\"translate(102.197266 0.015625)\"/>\n      <use xlink:href=\"#DejaVuSans-65\" transform=\"translate(165.576172 0.015625)\"/>\n      <use xlink:href=\"#DejaVuSans-20\" transform=\"translate(227.099609 0.015625)\"/>\n      <use xlink:href=\"#DejaVuSans-Oblique-66\" transform=\"translate(258.886719 0.015625)\"/>\n      <use xlink:href=\"#DejaVuSans-Oblique-73\" transform=\"translate(294.091797 0.015625)\"/>\n     </g>\n    </g>\n   </g>\n  </g>\n </g>\n <defs>\n  <clipPath id=\"p2e2994ff51\">\n   <rect x=\"2.834646\" y=\"19.634646\" width=\"354.330709\" height=\"253.390709\"/>\n  </clipPath>\n </defs>\n</svg>\n",
      "text/html": [
       "<img src=\"data:image/png;base64,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\" />"
      ]
     },
     "metadata": {},
     "output_type": "display_data"
    }
   ],
   "source": [
    "fs_plot = Plots.plot(fs_posterior,\n",
    "            title =\"ks\",\n",
    "            #alpha = 0.5,\n",
    "            seriestype=:stephist,\n",
    "            bins = 25,\n",
    "            normed = true,\n",
    "            #bar_width = 15,\n",
    "            #linewidth = 0,\n",
    "            #color = \"gray\" ,\n",
    "            lc=\"black\",\n",
    "            label = \"\",\n",
    "            size=(500,400),\n",
    "            framestyle = :box,\n",
    "            yticks=false\n",
    "            )\n",
    "\n",
    "vline!([target_fs], lw = 2, label = L\"True $fs$\")"
   ]
  },
  {
   "cell_type": "code",
   "execution_count": null,
   "metadata": {},
   "outputs": [],
   "source": [
    "using StatsPlots, KernelDensity\n",
    "dens = kde((vesc_posterior,k_posterior))\n",
    "p3 = plot(dens,\n",
    "    #levels = 0.002:0.1:5.0,\n",
    "    colorbar=false,\n",
    "    figsize=(400,400),\n",
    "    xlabel=L\"$v_{esc}$\",\n",
    "    ylabel=L\"$k$\",\n",
    "    framestyle = :box\n",
    "    )\n",
    "\n",
    "vline!([target_vesc], lw = 2,label=\"\")\n",
    "hline!([target_k], lw = 2,color=2,label=\"\")"
   ]
  },
  {
   "cell_type": "code",
   "execution_count": null,
   "metadata": {},
   "outputs": [],
   "source": [
    "l = @layout [a _ ; b c]\n",
    "\n",
    "corner = plot(vplot,p3, kplot, layout = l, size=(600,600))"
   ]
  },
  {
   "cell_type": "code",
   "execution_count": null,
   "metadata": {},
   "outputs": [],
   "source": [
    "#savefig(corner, \"100000_corner_julia_affine.png\")"
   ]
  },
  {
   "cell_type": "code",
   "execution_count": 51,
   "metadata": {},
   "outputs": [
    {
     "name": "stdout",
     "output_type": "stream",
     "text": [
      "Reading FIRE"
     ]
    }
   ],
   "source": [
    "jobs_dir = \"../jobs/\"\n",
    "if edr3\n",
    "    chains_dir = \"../chains_edr3/\"\n",
    "elseif fire\n",
    "    chains_dir = \"../chains/simulations/\" * simulation * \"/\"\n",
    "else\n",
    "    chains_dir = \"../chains/\"\n",
    "end\n",
    "\n",
    "gaia_text = \"\"\n",
    "\n",
    "if edr3\n",
    "    print(\"Reading Gaia EDR3\")\n",
    "    gaia_text = \"_edr3_\"\n",
    "elseif fire\n",
    "    print(\"Reading FIRE\")\n",
    "    gaia_text = \"_fire_\" * simulation * \"_\" * string(lsr) * \"_\"\n",
    "end\n",
    "\n",
    "extratext = \"\"\n",
    "extratext *= \"lsr_\" * string(lsr) * \"_\"\n",
    "extratext *= \"r_\" * string(rgcmin) * \"_\" * string(rgcmax) * \"_z_\" * string(z_min) * \"_\" * string(z_max) * \"_vmin\" * string(Int(vmin))\n",
    "extratext *= \"_verrcut\" * string(verrcut) * error_type\n",
    "extratext *= preprocessing_cut_type\n",
    "\n",
    "\n",
    "if ! sausage\n",
    "    extratext *= \"_1func\"\n",
    "end\n",
    "if random_samples\n",
    "    extratext *= \"_randomsamples\"\n",
    "end\n",
    "if inverse_vesc_prior\n",
    "    extratext *= \"_inverse_vesc_\"\n",
    "end"
   ]
  },
  {
   "cell_type": "code",
   "execution_count": 52,
   "metadata": {},
   "outputs": [
    {
     "data": {
      "text/plain": [
       "\"lsr_0_r_7.0_9.0_z_0.0_15.0_vmin350_verrcut0.05percent\""
      ]
     },
     "metadata": {},
     "output_type": "display_data"
    }
   ],
   "source": [
    "extratext"
   ]
  },
  {
   "cell_type": "code",
   "execution_count": null,
   "metadata": {},
   "outputs": [],
   "source": [
    "npzwrite(chains_dir * extratext * \".npy\",hcat(vesc_posterior,k_posterior))"
   ]
  },
  {
   "cell_type": "code",
   "execution_count": null,
   "metadata": {},
   "outputs": [],
   "source": []
  }
 ],
 "metadata": {
  "kernelspec": {
   "display_name": "Julia 1.7.1",
   "language": "julia",
   "name": "julia-1.7"
  },
  "language_info": {
   "file_extension": ".jl",
   "mimetype": "application/julia",
   "name": "julia",
   "version": "1.7.1"
  },
  "orig_nbformat": 4
 },
 "nbformat": 4,
 "nbformat_minor": 2
}
