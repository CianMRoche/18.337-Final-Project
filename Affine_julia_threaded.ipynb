{
 "cells": [
  {
   "cell_type": "markdown",
   "metadata": {},
   "source": [
    "# affine-invariant MCMC package testing (Julia)"
   ]
  },
  {
   "cell_type": "code",
   "execution_count": 47,
   "metadata": {},
   "outputs": [
    {
     "data": {
      "text/plain": [
       "save_chain (generic function with 1 method)"
      ]
     },
     "execution_count": 47,
     "metadata": {},
     "output_type": "execute_result"
    }
   ],
   "source": [
    "using Plots\n",
    "using BenchmarkTools\n",
    "using LaTeXStrings\n",
    "using Distributions\n",
    "using Statistics\n",
    "using Printf\n",
    "using Distributed\n",
    "import Random: seed!, randn\n",
    "include(\"AffineInvariantMCMC.jl\")"
   ]
  },
  {
   "cell_type": "code",
   "execution_count": 48,
   "metadata": {},
   "outputs": [
    {
     "data": {
      "text/plain": [
       "4"
      ]
     },
     "execution_count": 48,
     "metadata": {},
     "output_type": "execute_result"
    }
   ],
   "source": [
    "Threads.nthreads()"
   ]
  },
  {
   "cell_type": "code",
   "execution_count": 49,
   "metadata": {},
   "outputs": [
    {
     "data": {
      "text/plain": [
       "1"
      ]
     },
     "execution_count": 49,
     "metadata": {},
     "output_type": "execute_result"
    }
   ],
   "source": [
    "nprocs()"
   ]
  },
  {
   "cell_type": "markdown",
   "metadata": {},
   "source": [
    "# Create mock data\n",
    "\n",
    "The mock data we will create is drawn from the distribution $f$ which has PDF \n",
    "$$f(v| v_{esc},k) = \\frac{k+1}{v_{esc}{}^{k+1}} (v_{esc} - v)^k \\quad,\\quad v\\in[0,v_{esc}]$$\n",
    "\n",
    "and CDF\n",
    "$$ \\text{CDF}_f(v) =  \\left( 1 - \\frac{v}{v_{esc}} \\right)^{k+1} -1 \\quad,\\quad v\\in[0,v_{esc}]$$\n",
    "\n",
    "which has inverse \n",
    "$$  \\text{CDF}_f{}^{-1}(y) = v_{esc}\\left[ 1 - (1-y)^{\\frac{1}{k+1}}  \\right] \\quad,\\quad y\\in[0,1] $$\n",
    "\n",
    "We need the inverse CDF to generate samples from this distribution. Note also that the log likelihood is given by\n",
    "$$ Log\\left(\\text{Likelihood} (D|v_{esc},k)  \\right) = \\sum_d Log(f(d|vesc,k)  ) $$\n",
    "\n",
    "for a dataset D consisting of datapoints $d$, where each term is of the form\n",
    "$$  Log(f(d|vesc,k)  ) =  Log(k+1) - (k+1)Log(v_{esc}) + k~Log(v_{esc} - v) $$"
   ]
  },
  {
   "cell_type": "code",
   "execution_count": 50,
   "metadata": {},
   "outputs": [
    {
     "data": {
      "text/plain": [
       "powerlaw_inverse_CDF (generic function with 1 method)"
      ]
     },
     "execution_count": 50,
     "metadata": {},
     "output_type": "execute_result"
    }
   ],
   "source": [
    "function powerlaw_PDF(v,x)\n",
    "    vesc,k = x\n",
    "    return ( (k+1)*(vesc)^(-k-1) ) * (vesc - v)^k\n",
    "end\n",
    "\n",
    "function powerlaw_inverse_CDF(y,x)\n",
    "    vesc,k = x\n",
    "    return vesc*( 1.0 - (1.0-y)^( 1.0/(k+1.0) ) )\n",
    "end"
   ]
  },
  {
   "cell_type": "markdown",
   "metadata": {},
   "source": [
    "### Define helper functions"
   ]
  },
  {
   "cell_type": "code",
   "execution_count": 51,
   "metadata": {},
   "outputs": [
    {
     "data": {
      "text/plain": [
       "generate_samples (generic function with 1 method)"
      ]
     },
     "execution_count": 51,
     "metadata": {},
     "output_type": "execute_result"
    }
   ],
   "source": [
    "function generate_samples(N,inverse_CDF::Function,x)\n",
    "    # To sample from a distribution we perform inverse transform sampling, for which the inverse CDF is required\n",
    "    uniform_random_numbers = rand(Float64,N)\n",
    "    \n",
    "    return map( num -> inverse_CDF(num,x) , uniform_random_numbers )\n",
    "end"
   ]
  },
  {
   "cell_type": "markdown",
   "metadata": {},
   "source": [
    "### Sample from distribution to obtain data which we will fit via MCMC\n",
    "\n",
    "We generate data with a specific escape velocity and $k$ to use in our parameter fit later"
   ]
  },
  {
   "cell_type": "code",
   "execution_count": 52,
   "metadata": {},
   "outputs": [],
   "source": [
    "target_vesc = 550.0\n",
    "target_k = 3.0\n",
    "target_x = [target_vesc,target_k]\n",
    "num_samples = 10000\n",
    "\n",
    "target_data = generate_samples(num_samples,powerlaw_inverse_CDF,target_x);"
   ]
  },
  {
   "cell_type": "code",
   "execution_count": 53,
   "metadata": {},
   "outputs": [
    {
     "data": {
      "image/png": "[encoded data removed]"
     },
     "execution_count": 53,
     "metadata": {},
     "output_type": "execute_result"
    }
   ],
   "source": [
    "pyplot()\n",
    "\n",
    "histogram(target_data, normed = true,\n",
    "                    bins = 25,\n",
    "                    title = \"Mock data, $num_samples samples\",\n",
    "                    alpha = 0.5,\n",
    "                    bar_width = 15,\n",
    "                    linewidth = 0,\n",
    "                    color = \"gray\" ,\n",
    "                    label = \"\",\n",
    "                    xlabel = L\"$v$\",\n",
    "                    ylims = (0,Inf)\n",
    "                    )\n",
    "\n",
    "v_test = collect(1:1:550)\n",
    "plot!(v_test, map(v -> powerlaw_PDF(v,[550.0,3.0]) , v_test) ,\n",
    "                    linewidth = 2,\n",
    "                    #color = \"red\",\n",
    "                    label = L\"v_{esc}=550,~k=3\"\n",
    "                    )"
   ]
  },
  {
   "cell_type": "markdown",
   "metadata": {},
   "source": [
    "# Define MCMC functions and parameters"
   ]
  },
  {
   "cell_type": "code",
   "execution_count": 54,
   "metadata": {},
   "outputs": [
    {
     "data": {
      "text/plain": [
       "log_probability (generic function with 1 method)"
      ]
     },
     "execution_count": 54,
     "metadata": {},
     "output_type": "execute_result"
    }
   ],
   "source": [
    "function log_prior(x)\n",
    "    vesc,k = x\n",
    "    if 100.0 < vesc < 800.0 && 0.2 < k < 10.0 \n",
    "        return 0.0\n",
    "    end\n",
    "\n",
    "    return -Inf\n",
    "end\n",
    "\n",
    "function log_likelihood(x,data)\n",
    "    vesc,k = x\n",
    "    sum = 0.0\n",
    "    for v in data\n",
    "        #println(\"v = \",v,\", vesc = \",vesc)\n",
    "        if v < vesc\n",
    "            sum += log(k+1.0) - (k+1.0)*log(vesc) + k*log(vesc - v)\n",
    "        else\n",
    "            return -Inf \n",
    "        end\n",
    "    end\n",
    "    return sum\n",
    "end\n",
    "\n",
    "function log_probability(x,data)\n",
    "    return log_likelihood(x,data) + log_prior(x)\n",
    "end"
   ]
  },
  {
   "cell_type": "markdown",
   "metadata": {},
   "source": [
    "# Use MCJulia to perform sampling"
   ]
  },
  {
   "cell_type": "markdown",
   "metadata": {},
   "source": [
    "### Parameters and initial conditions for walkers"
   ]
  },
  {
   "cell_type": "code",
   "execution_count": 55,
   "metadata": {},
   "outputs": [],
   "source": [
    "# Parameters\n",
    "ndims = 2\n",
    "nwalkers = 5\n",
    "nsamples_perwalker = 2000\n",
    "burnin = 200\n",
    "a = 2.0     # affine-invariant MCMC scale parameter (see http://msp.org/camcos/2010/5-1/p04.xhtml) \n",
    "thin = 1\n",
    "\n",
    "# ICs\n",
    "guess_vesc = 600\n",
    "guess_k = 4\n",
    "\n",
    "initial_guess_dist = MvNormal([0.0,0.0],[90 0.0 ; 0.0 0.9])\n",
    "\n",
    "initial_guess_onewalker = [guess_vesc,guess_k]\n",
    "initial_guess = copy(transpose(reduce(hcat, [initial_guess_onewalker + vec(rand(initial_guess_dist , 1))  for _ in 1:nwalkers]) ) )\n",
    "#initial_guess = reshape( reduce(hcat, [initial_guess_onewalker + vec(rand(initial_guess_dist , 1))  for _ in 1:nwalkers]) ,\n",
    "#                         (nwalkers,ndims))\n",
    "\n",
    "quantile_list = [0.16, 0.5, 0.84];\n"
   ]
  },
  {
   "cell_type": "code",
   "execution_count": 56,
   "metadata": {},
   "outputs": [],
   "source": [
    "seed!(0)\n",
    "S = Sampler(nwalkers, ndims, log_probability, a, (target_data,));"
   ]
  },
  {
   "cell_type": "code",
   "execution_count": 57,
   "metadata": {},
   "outputs": [
    {
     "data": {
      "text/plain": [
       "5×2 Matrix{Float64}:\n",
       " 549.664  2.96679\n",
       " 558.451  3.04017\n",
       " 552.377  3.00445\n",
       " 547.615  2.97123\n",
       " 561.456  3.04048"
      ]
     },
     "execution_count": 57,
     "metadata": {},
     "output_type": "execute_result"
    }
   ],
   "source": [
    "burnin_final_state = sample(S, initial_guess, burnin,thin,false)"
   ]
  },
  {
   "cell_type": "code",
   "execution_count": 58,
   "metadata": {},
   "outputs": [
    {
     "data": {
      "text/plain": [
       "BenchmarkTools.Trial: 8 samples with 1 evaluation.\n",
       " Range \u001b[90m(\u001b[39m\u001b[36m\u001b[1mmin\u001b[22m\u001b[39m … \u001b[35mmax\u001b[39m\u001b[90m):  \u001b[39m\u001b[36m\u001b[1m610.408 ms\u001b[22m\u001b[39m … \u001b[35m689.952 ms\u001b[39m  \u001b[90m┊\u001b[39m GC \u001b[90m(\u001b[39mmin … max\u001b[90m): \u001b[39m0.00% … 0.00%\n",
       " Time  \u001b[90m(\u001b[39m\u001b[34m\u001b[1mmedian\u001b[22m\u001b[39m\u001b[90m):     \u001b[39m\u001b[34m\u001b[1m655.310 ms               \u001b[22m\u001b[39m\u001b[90m┊\u001b[39m GC \u001b[90m(\u001b[39mmedian\u001b[90m):    \u001b[39m0.00%\n",
       " Time  \u001b[90m(\u001b[39m\u001b[32m\u001b[1mmean\u001b[22m\u001b[39m ± \u001b[32mσ\u001b[39m\u001b[90m):   \u001b[39m\u001b[32m\u001b[1m656.715 ms\u001b[22m\u001b[39m ± \u001b[32m 25.324 ms\u001b[39m  \u001b[90m┊\u001b[39m GC \u001b[90m(\u001b[39mmean ± σ\u001b[90m):  \u001b[39m0.00% ± 0.00%\n",
       "\n",
       "  \u001b[39m█\u001b[39m \u001b[39m \u001b[39m \u001b[39m \u001b[39m \u001b[39m \u001b[39m \u001b[39m \u001b[39m \u001b[39m \u001b[39m \u001b[39m \u001b[39m \u001b[39m \u001b[39m \u001b[39m \u001b[39m \u001b[39m \u001b[39m \u001b[39m \u001b[39m \u001b[39m \u001b[39m \u001b[39m█\u001b[39m \u001b[39m \u001b[39m \u001b[39m█\u001b[39m \u001b[39m \u001b[39m \u001b[39m \u001b[39m█\u001b[34m█\u001b[39m\u001b[39m \u001b[32m \u001b[39m\u001b[39m \u001b[39m \u001b[39m \u001b[39m \u001b[39m \u001b[39m \u001b[39m \u001b[39m█\u001b[39m \u001b[39m \u001b[39m \u001b[39m \u001b[39m \u001b[39m \u001b[39m \u001b[39m \u001b[39m \u001b[39m \u001b[39m \u001b[39m \u001b[39m█\u001b[39m \u001b[39m \u001b[39m█\u001b[39m \u001b[39m \n",
       "  \u001b[39m█\u001b[39m▁\u001b[39m▁\u001b[39m▁\u001b[39m▁\u001b[39m▁\u001b[39m▁\u001b[39m▁\u001b[39m▁\u001b[39m▁\u001b[39m▁\u001b[39m▁\u001b[39m▁\u001b[39m▁\u001b[39m▁\u001b[39m▁\u001b[39m▁\u001b[39m▁\u001b[39m▁\u001b[39m▁\u001b[39m▁\u001b[39m▁\u001b[39m▁\u001b[39m▁\u001b[39m█\u001b[39m▁\u001b[39m▁\u001b[39m▁\u001b[39m█\u001b[39m▁\u001b[39m▁\u001b[39m▁\u001b[39m▁\u001b[39m█\u001b[34m█\u001b[39m\u001b[39m▁\u001b[32m▁\u001b[39m\u001b[39m▁\u001b[39m▁\u001b[39m▁\u001b[39m▁\u001b[39m▁\u001b[39m▁\u001b[39m▁\u001b[39m█\u001b[39m▁\u001b[39m▁\u001b[39m▁\u001b[39m▁\u001b[39m▁\u001b[39m▁\u001b[39m▁\u001b[39m▁\u001b[39m▁\u001b[39m▁\u001b[39m▁\u001b[39m▁\u001b[39m█\u001b[39m▁\u001b[39m▁\u001b[39m█\u001b[39m \u001b[39m▁\n",
       "  610 ms\u001b[90m           Histogram: frequency by time\u001b[39m          690 ms \u001b[0m\u001b[1m<\u001b[22m\n",
       "\n",
       " Memory estimate\u001b[90m: \u001b[39m\u001b[33m5.73 MiB\u001b[39m, allocs estimate\u001b[90m: \u001b[39m\u001b[33m125570\u001b[39m."
      ]
     },
     "execution_count": 58,
     "metadata": {},
     "output_type": "execute_result"
    }
   ],
   "source": [
    "@benchmark sample(S, burnin_final_state, nsamples_perwalker, 5, true)  # (sampler, starting point, number of steps, thinning factor for data, store chain?)\n",
    "#println(\"acceptance ratio: $(S.accepted / S.iterations)\")"
   ]
  },
  {
   "cell_type": "code",
   "execution_count": 59,
   "metadata": {},
   "outputs": [],
   "source": [
    "vesc_posterior = flat_chain(S)[1,:];\n",
    "k_posterior = flat_chain(S)[2,:];\n",
    "\n",
    "deleteat!(vesc_posterior, vesc_posterior .== 0.0);\n",
    "deleteat!(k_posterior, k_posterior .== 0.0);"
   ]
  },
  {
   "cell_type": "markdown",
   "metadata": {},
   "source": [
    "### Process the data"
   ]
  },
  {
   "cell_type": "code",
   "execution_count": 60,
   "metadata": {},
   "outputs": [],
   "source": [
    "# Establish estimates of parameters via median and expected error on these estimates\n",
    "vesc_quantiles = quantile(vesc_posterior, quantile_list)\n",
    "k_quantiles = quantile(k_posterior, quantile_list)\n",
    "\n",
    "\n",
    "vesc_median = vesc_quantiles[2]\n",
    "vesc_lower_1sigma = vesc_median - vesc_quantiles[1]\n",
    "vesc_upper_1sigma = vesc_quantiles[3] - vesc_median\n",
    "\n",
    "k_median = k_quantiles[2]\n",
    "k_lower_1sigma = k_median - k_quantiles[1]\n",
    "k_upper_1sigma = k_quantiles[3] - k_median;"
   ]
  },
  {
   "cell_type": "code",
   "execution_count": 61,
   "metadata": {},
   "outputs": [
    {
     "data": {
      "image/png": "[encoded data removed]"
     },
     "execution_count": 61,
     "metadata": {},
     "output_type": "execute_result"
    }
   ],
   "source": [
    "plot(vesc_posterior, normed = true,\n",
    "                    bins = 25,\n",
    "                    title = \"MCMC result, \\$v_{esc} =\\$ $(@sprintf(\"%.2f\", vesc_median)) \\$ ^{+$(@sprintf(\"%.2f\", vesc_upper_1sigma))}_{-$(@sprintf(\"%.2f\", vesc_lower_1sigma))}\\$ \",\n",
    "                    #alpha = 0.5,\n",
    "                    #bar_width = 15,\n",
    "                    #linewidth = 0,\n",
    "                    #color = \"gray\" ,\n",
    "                    lc=\"black\",\n",
    "                    label = \"\",\n",
    "                    seriestype=:stephist,\n",
    "                    size=(500,400),\n",
    "                    )\n",
    "vline!([target_vesc], lw = 2, label = L\"True $v_{esc}$\")\n",
    "\n",
    "vline!(vesc_quantiles , ls=:dash, color=\"black\",lw=1,label=\"\" )"
   ]
  },
  {
   "cell_type": "code",
   "execution_count": 62,
   "metadata": {},
   "outputs": [
    {
     "data": {
      "image/png": "[encoded data removed]"
     },
     "execution_count": 62,
     "metadata": {},
     "output_type": "execute_result"
    }
   ],
   "source": [
    "plot(k_posterior, normed = true,\n",
    "                    bins = 25,\n",
    "                    title = \"MCMC result, \\$k =\\$ $(@sprintf(\"%.2f\", k_median)) \\$ ^{+$(@sprintf(\"%.2f\", k_upper_1sigma))}_{-$(@sprintf(\"%.2f\", k_lower_1sigma))}\\$ \",\n",
    "                    #alpha = 0.5,\n",
    "                    #bar_width = 15,\n",
    "                    #linewidth = 0,\n",
    "                    #color = \"gray\" ,\n",
    "                    lc=\"black\",\n",
    "                    label = \"\",\n",
    "                    seriestype=:stephist,\n",
    "                    size=(500,400),\n",
    "                    )\n",
    "vline!([target_k], lw = 2, label = L\"True $k$\")\n",
    "\n",
    "vline!( k_quantiles, ls=:dash, color=\"black\",lw=1, label=\"\")"
   ]
  },
  {
   "cell_type": "code",
   "execution_count": null,
   "metadata": {},
   "outputs": [],
   "source": []
  }
 ],
 "metadata": {
  "kernelspec": {
   "display_name": "Julia 4 Threads 1.7.1",
   "language": "julia",
   "name": "julia-4-threads-1.7"
  },
  "language_info": {
   "file_extension": ".jl",
   "mimetype": "application/julia",
   "name": "julia",
   "version": "1.7.1"
  },
  "orig_nbformat": 4
 },
 "nbformat": 4,
 "nbformat_minor": 2
}
