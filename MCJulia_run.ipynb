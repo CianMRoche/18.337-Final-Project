{
 "cells": [
  {
   "cell_type": "markdown",
   "metadata": {},
   "source": [
    "# affine-invariant MCMC package testing (Julia)"
   ]
  },
  {
   "cell_type": "code",
   "execution_count": 34,
   "metadata": {},
   "outputs": [],
   "source": [
    "using Plots\n",
    "using BenchmarkTools\n",
    "using LaTeXStrings\n",
    "using Distributions\n",
    "using Statistics\n",
    "using Printf\n",
    "using Distributed"
   ]
  },
  {
   "cell_type": "code",
   "execution_count": 35,
   "metadata": {},
   "outputs": [
    {
     "data": {
      "text/plain": [
       "save_chain (generic function with 1 method)"
      ]
     },
     "metadata": {},
     "output_type": "display_data"
    }
   ],
   "source": [
    "using JLD\n",
    "import Random: rand\n",
    "import Distributed: pmap\n",
    "export Sampler, sample, reset, flat_chain, save_chain\n",
    "\n",
    "# Random generator for the Z distribution of Goodman & Weare, where\n",
    "# p(x) = 1/sqrt(x) when 1/a <= x <= a.\n",
    "randZ(a::Float64) = ((a - 1.0) * rand() + 1.0)^2 / a\n",
    "\n",
    "# The Sampler type is the interface between the user and the machinery.\n",
    "mutable struct Sampler\n",
    "    n_walkers::Int64\n",
    "    dim::Int64\n",
    "    probfn::Function\n",
    "    a::Float64\n",
    "    chain::Array{Float64, 3}\n",
    "    ln_posterior::Array{Float64,2}\n",
    "    iterations::Int64\n",
    "    accepted::Int64\n",
    "    args::Tuple{Vararg{Any}} # args::(Any...)\n",
    "    callback::Function\n",
    "end\n",
    "\n",
    "function dummy_callback(s::Sampler, iter::Int64, saveindex::Int64, k::Int64)\n",
    "end\n",
    "\n",
    "# Constructor\n",
    "function Sampler(k::Integer, dim::Integer, f::Function, a::Real, args::Tuple{Vararg{Any}}, callback::Function)\n",
    "    accpt=0\n",
    "    iter=0\n",
    "    chain = zeros(Float64, (k, dim, 0))\n",
    "    ln_p = zeros(Float64, (k, 0))\n",
    "    S = Sampler(k,dim,f,a,chain,ln_p,iter,accpt,args,callback)\n",
    "    return S\n",
    "end\n",
    "\n",
    "# Minimal constructors\n",
    "Sampler(k::Integer, dim::Integer, f::Function, a::Real; callback::Function = dummy_callback) = Sampler(k, dim, f, a, (), callback)\n",
    "Sampler(k::Integer, dim::Integer, f::Function, args::Tuple{Vararg{Any}}; callback::Function = dummy_callback) = Sampler(k, dim, f, 2.0, args, callback)\n",
    "Sampler(k::Integer, dim::Integer, f::Function; callback::Function = dummy_callback) = Sampler(k, dim, f, 2.0, (), callback)\n",
    "\n",
    "call_lnprob(S::Sampler, pos::Array{Float64}) = S.probfn(pos, S.args...)\n",
    "\n",
    "# Return all lnprobs at given position\n",
    "function get_lnprob(S::Sampler, pos::Array{Float64})\n",
    "    lnprob = zeros(Float64, S.n_walkers)\n",
    "    for k = 1:S.n_walkers\n",
    "\tlnprob[k] = call_lnprob(S, vec(pos[k,:]))\n",
    "    end\n",
    "    return lnprob\n",
    "end\n",
    "\n",
    "function sample_serial(S::Sampler, p0::Array{Float64,2}, N::Int64, thin::Int64, storechain::Bool)\n",
    "    k = S.n_walkers\n",
    "    halfk = fld(k, 2)\n",
    "    \n",
    "    p = copy(p0)\n",
    "    lnprob = get_lnprob(S, p)\n",
    "    \n",
    "    i0 = size(S.chain, 3)\n",
    "    \n",
    "    # Add N/thin columns of zeroes to the Sampler's chain and ln_posterior\n",
    "    if storechain\n",
    "\tS.chain = cat(S.chain, zeros(Float64, (k, S.dim, fld(N,thin))); dims = 3)\n",
    "\tS.ln_posterior = cat(S.ln_posterior, zeros(Float64, (k, fld(N,thin))); dims = 2)\n",
    "    end\n",
    "    \n",
    "    first = 1 : halfk\n",
    "    second = halfk+1 : k\n",
    "    divisions = [(first, second), (second, first)]\n",
    "    \n",
    "    for i = i0+1 : i0+N\n",
    "\tfor ensembles in divisions\n",
    "\t    active, passive = ensembles\n",
    "\t    l_pas = size(passive,1)\n",
    "\t    for k in active\n",
    "\t        X_active = vec(p[k,:])\n",
    "\t        choice = passive[rand(1:l_pas)]\n",
    "\t        X_passive = vec(p[choice,:])\n",
    "\t        z = randZ(S.a)\n",
    "\t        proposal = X_passive + z*(X_active - X_passive)\n",
    "\t        new_lnprob = call_lnprob(S, proposal)\n",
    "\t        log_ratio = (S.dim - 1) * log(z) + new_lnprob - lnprob[k]\n",
    "\t        if log(rand()) <= log_ratio\n",
    "\t            lnprob[k] = new_lnprob\n",
    "\t            p[k,:] .= proposal\n",
    "\t            S.accepted += 1\n",
    "\t        end\n",
    "\t        S.iterations += 1\n",
    "                if (i - i0) % thin == 0\n",
    "                    if storechain\n",
    "\t                S.ln_posterior[k, fld(i,thin)] = lnprob[k]\n",
    "\t                S.chain[k, :, fld(i,thin)] .= vec(p[k,:])\n",
    "                    end # storechain\n",
    "                    S.callback(S, i - i0, fld(i,thin), k)\n",
    "\t        end # thin\n",
    "\t    end # k in active\n",
    "\tend # ensemble\n",
    "    end # main loop\n",
    "    return p\n",
    "end\n",
    "\n",
    "function sample_parallel(S::Sampler, p0::Array{Float64,2}, N::Int64, thin::Int64, storechain::Bool)\n",
    "\n",
    "    k = S.n_walkers\n",
    "    halfk = fld(k, 2)\n",
    "    \n",
    "    p = copy(p0)\n",
    "    lnprob = pmap(call_lnprob, [S for i = 1:S.n_walkers], [vec(p[i,:]) for i = 1:S.n_walkers])\n",
    "\n",
    "    i0 = size(S.chain, 3)\n",
    "    \n",
    "    # Add N/thin columns of zeroes to the Sampler's chain and ln_posterior\n",
    "    if storechain\n",
    "\tS.chain = cat(S.chain, zeros(Float64, (k, S.dim, fld(N,thin))), dims = 3)\n",
    "\tS.ln_posterior = cat(S.ln_posterior, zeros(Float64, (k, fld(N,thin))), dims = 2)\n",
    "    end\n",
    "    \n",
    "    first = 1 : halfk\n",
    "    second = halfk+1 : k\n",
    "    divisions = [(first, second), (second, first)]\n",
    "    \n",
    "    # For Parallel version\n",
    "    function trystep(proposalk, lnprobk, zk)\n",
    "        new_lnprob = call_lnprob(S, proposalk)\n",
    "        log_ratio = (S.dim - 1)*log(zk) + new_lnprob - lnprobk\n",
    "        if log(rand()) <= log_ratio\n",
    "            return true, new_lnprob\n",
    "        else\n",
    "            return false, new_lnprob\n",
    "        end\n",
    "    end\n",
    "\n",
    "    for i = i0+1 : i0+N\n",
    "\tfor ensembles in divisions\n",
    "\t    active, passive = ensembles\n",
    "\t    l_pas = size(passive,1)\n",
    "            # Parallel version\n",
    "            # Construct a list of proposed steps and evaluate in parallel\n",
    "            zs = [randZ(S.a) for k in active]\n",
    "            proposals = [ (1 - zs[ki])*vec(p[passive[rand(1:l_pas)],:]) + zs[ki]*vec(p[k,:]) for (ki,k) in enumerate(active) ]\n",
    "            lnprobs = [lnprob[k] for k in active]\n",
    "            results = pmap(trystep, proposals, lnprobs, zs)\n",
    "            for (ki, (accept, new_lnprob)) in enumerate(results)\n",
    "                k = active[ki]\n",
    "                if accept\n",
    "                    lnprob[k] = new_lnprob\n",
    "                    p[k,:] .= proposals[ki]\n",
    "                    S.accepted +=1\n",
    "                end\n",
    "                S.iterations += 1\n",
    "                if (i - i0) % thin == 0\n",
    "                    if storechain\n",
    "\t                S.ln_posterior[k, fld(i,thin)] = lnprob[k]\n",
    "\t                S.chain[k, :, fld(i,thin)] .= vec(p[k,:])\n",
    "                    end # storechain\n",
    "                    S.callback(S, i - i0, fld(i,thin), k)\n",
    "\t        end # thin\n",
    "            end # collect results\n",
    "\tend # ensemble\n",
    "    end # main loop\n",
    "    return p\n",
    "end\n",
    "\n",
    "function sample(S::Sampler, p0::Array{Float64,2}, N::Int64, thin::Int64, storechain::Bool, parallel::Bool = nprocs() > 1)\n",
    "    if parallel\n",
    "        sample_parallel(S, p0, N, thin, storechain)\n",
    "    else\n",
    "        sample_serial(S, p0, N, thin, storechain)\n",
    "    end\n",
    "end\n",
    "\n",
    "function sample(S::Sampler, N::Int64, thin::Int64, storechain::Bool)\n",
    "    N = size(S.chain, 3)\n",
    "    if N == 0\n",
    "\terror(\"No initial position for chain!\")\n",
    "    end\n",
    "    p0 = S.chain[:,:,N]\n",
    "    sample(S, p0, N, thin, storechain)\n",
    "end\n",
    "\n",
    "sample(S::Sampler, N::Int64) = sample(S, N, 1, true)\n",
    "sample(S::Sampler, N::Int64, storechain::Bool) = sample(S, N, 1, storechain)\n",
    "\n",
    "\n",
    "# Reset a Sampler to state after construction.\n",
    "function reset(S::Sampler)\n",
    "    k = S.n_walkers\n",
    "    S.chain = zeros(Float64, (k, S.dim, 0))\n",
    "    S.ln_posterior = zeros(Float64, (k, 0))\n",
    "    S.accepted = 0\n",
    "    S.iterations = 0\n",
    "    return S\n",
    "end\n",
    "\n",
    "# Flatten the chain along the walker axis\n",
    "function flat_chain(S::Sampler)\n",
    "    walkers,dimensions,steps = size(S.chain)\n",
    "    flatchain = zeros((dimensions, walkers*steps))\n",
    "    for step = 1:steps\n",
    "\tk = (step-1)*walkers + 1\n",
    "\tfor dim = 1:dimensions\n",
    "\t    flatchain[dim, k:(k+walkers-1)] .= S.chain[:,dim,step]\n",
    "\tend\n",
    "    end\n",
    "    return flatchain\n",
    "end\n",
    "\n",
    "# Squash the chains and save them in a csv file\n",
    "function save_chain(S::Sampler, filename::AbstractString)\n",
    "    # flatchain = flat_chain(S)\n",
    "    # writecsv(filename, flatchain)\n",
    "    save(filename, \"chain\", S.chain, \"ln_posterior\", S.ln_posterior)\n",
    "end"
   ]
  },
  {
   "cell_type": "markdown",
   "metadata": {},
   "source": [
    "### Create mock data\n",
    "\n",
    "The mock data we will create is drawn from the distribution $f$ which has PDF \n",
    "$$f(v| v_{esc},k) = \\frac{k+1}{v_{esc}{}^{k+1}} (v_{esc} - v)^k \\quad,\\quad v\\in[0,v_{esc}]$$\n",
    "\n",
    "and CDF\n",
    "$$ \\text{CDF}_f(v) =  \\left( 1 - \\frac{v}{v_{esc}} \\right)^{k+1} -1 \\quad,\\quad v\\in[0,v_{esc}]$$\n",
    "\n",
    "which has inverse \n",
    "$$  \\text{CDF}_f{}^{-1}(y) = v_{esc}\\left[ 1 - (1-y)^{\\frac{1}{k+1}}  \\right] \\quad,\\quad y\\in[0,1] $$\n",
    "\n",
    "We need the inverse CDF to generate samples from this distribution. Note also that the log likelihood is given by\n",
    "$$ Log\\left(\\text{Likelihood} (D|v_{esc},k)  \\right) = \\sum_d Log(f(d|vesc,k)  ) $$\n",
    "\n",
    "for a dataset D consisting of datapoints $d$, where each term is of the form\n",
    "$$  Log(f(d|vesc,k)  ) =  Log(k+1) - (k+1)Log(v_{esc}) + k~Log(v_{esc} - v) $$"
   ]
  },
  {
   "cell_type": "code",
   "execution_count": 9,
   "metadata": {},
   "outputs": [
    {
     "data": {
      "text/plain": [
       "powerlaw_inverse_CDF (generic function with 1 method)"
      ]
     },
     "metadata": {},
     "output_type": "display_data"
    }
   ],
   "source": [
    "function powerlaw_PDF(v,x)\n",
    "    vesc,k = x\n",
    "    return ( (k+1)*(vesc)^(-k-1) ) * (vesc - v)^k\n",
    "end\n",
    "\n",
    "function powerlaw_inverse_CDF(y,x)\n",
    "    vesc,k = x\n",
    "    return vesc*( 1.0 - (1.0-y)^( 1.0/(k+1.0) ) )\n",
    "end"
   ]
  },
  {
   "cell_type": "markdown",
   "metadata": {},
   "source": [
    "### Define helper functions"
   ]
  },
  {
   "cell_type": "code",
   "execution_count": 10,
   "metadata": {},
   "outputs": [
    {
     "data": {
      "text/plain": [
       "generate_samples (generic function with 1 method)"
      ]
     },
     "metadata": {},
     "output_type": "display_data"
    }
   ],
   "source": [
    "function generate_samples(N,inverse_CDF::Function,x)\n",
    "    # To sample from a distribution we perform inverse transform sampling, for which the inverse CDF is required\n",
    "    uniform_random_numbers = rand(Float64,N)\n",
    "    \n",
    "    return map( num -> inverse_CDF(num,x) , uniform_random_numbers )\n",
    "end"
   ]
  },
  {
   "cell_type": "markdown",
   "metadata": {},
   "source": [
    "### Sample from distribution to obtain data which we will fit via MCMC\n",
    "\n",
    "We generate data with a specific escape velocity and $k$ to use in our parameter fit later"
   ]
  },
  {
   "cell_type": "code",
   "execution_count": 11,
   "metadata": {},
   "outputs": [],
   "source": [
    "target_vesc = 550.0\n",
    "target_k = 3.0\n",
    "target_x = [target_vesc,target_k]\n",
    "num_samples = 1000\n",
    "\n",
    "target_data = generate_samples(num_samples,powerlaw_inverse_CDF,target_x);"
   ]
  },
  {
   "cell_type": "code",
   "execution_count": 12,
   "metadata": {},
   "outputs": [
    {
     "data": {
      "image/png": "[encoded data removed]",
      "image/svg+xml": "<?xml version=\"1.0\" encoding=\"utf-8\" standalone=\"no\"?>\n<!DOCTYPE svg PUBLIC \"-//W3C//DTD SVG 1.1//EN\"\n  \"http://www.w3.org/Graphics/SVG/1.1/DTD/svg11.dtd\">\n<svg xmlns:xlink=\"http://www.w3.org/1999/xlink\" width=\"432pt\" height=\"288pt\" viewBox=\"0 0 432 288\" xmlns=\"http://www.w3.org/2000/svg\" version=\"1.1\">\n <metadata>\n  <rdf:RDF xmlns:dc=\"http://purl.org/dc/elements/1.1/\" xmlns:cc=\"http://creativecommons.org/ns#\" xmlns:rdf=\"http://www.w3.org/1999/02/22-rdf-syntax-ns#\">\n   <cc:Work>\n    <dc:type rdf:resource=\"http://purl.org/dc/dcmitype/StillImage\"/>\n    <dc:date>2022-05-06T23:25:52.272386</dc:date>\n    <dc:format>image/svg+xml</dc:format>\n    <dc:creator>\n     <cc:Agent>\n      <dc:title>Matplotlib v3.5.2, https://matplotlib.org/</dc:title>\n     </cc:Agent>\n    </dc:creator>\n   </cc:Work>\n  </rdf:RDF>\n </metadata>\n <defs>\n  <style type=\"text/css\">*{stroke-linejoin: round; stroke-linecap: butt}</style>\n </defs>\n <g id=\"figure_1\">\n  <g id=\"patch_1\">\n   <path d=\"M 0 288 \nL 432 288 \nL 432 0 \nL 0 0 \nz\n\" style=\"fill: #ffffff\"/>\n  </g>\n  <g id=\"axes_1\">\n   <g id=\"patch_2\">\n    <path d=\"M 30.143744 273.025354 \nL 429.165354 273.025354 \nL 429.165354 19.634646 \nL 30.143744 19.634646 \nz\n\" style=\"fill: #ffffff\"/>\n   </g>\n   <g id=\"matplotlib.axis_1\">\n    <g id=\"xtick_1\">\n     <g id=\"line2d_1\">\n      <path d=\"M 48.521625 273.025354 \nL 48.521625 19.634646 \n\" clip-path=\"url(#p6d87a4d38a)\" style=\"fill: none; stroke: #000000; stroke-opacity: 0.1; stroke-width: 0.5; stroke-linecap: square\"/>\n     </g>\n     <g id=\"line2d_2\">\n      <defs>\n       <path id=\"mc4730572aa\" d=\"M 0 0 \nL 0 -2.5 \n\" style=\"stroke: #000000; stroke-width: 0.5\"/>\n      </defs>\n      <g>\n       <use xlink:href=\"#mc4730572aa\" x=\"48.521625\" y=\"273.025354\" style=\"stroke: #000000; stroke-width: 0.5\"/>\n      </g>\n     </g>\n     <g id=\"text_1\">\n      <!-- $0$ -->\n      <g transform=\"translate(45.961625 282.604104)scale(0.08 -0.08)\">\n       <defs>\n        <path id=\"DejaVuSans-30\" d=\"M 2034 4250 \nQ 1547 4250 1301 3770 \nQ 1056 3291 1056 2328 \nQ 1056 1369 1301 889 \nQ 1547 409 2034 409 \nQ 2525 409 2770 889 \nQ 3016 1369 3016 2328 \nQ 3016 3291 2770 3770 \nQ 2525 4250 2034 4250 \nz\nM 2034 4750 \nQ 2819 4750 3233 4129 \nQ 3647 3509 3647 2328 \nQ 3647 1150 3233 529 \nQ 2819 -91 2034 -91 \nQ 1250 -91 836 529 \nQ 422 1150 422 2328 \nQ 422 3509 836 4129 \nQ 1250 4750 2034 4750 \nz\n\" transform=\"scale(0.015625)\"/>\n       </defs>\n       <use xlink:href=\"#DejaVuSans-30\" transform=\"translate(0 0.78125)\"/>\n      </g>\n     </g>\n    </g>\n    <g id=\"xtick_2\">\n     <g id=\"line2d_3\">\n      <path d=\"M 115.676292 273.025354 \nL 115.676292 19.634646 \n\" clip-path=\"url(#p6d87a4d38a)\" style=\"fill: none; stroke: #000000; stroke-opacity: 0.1; stroke-width: 0.5; stroke-linecap: square\"/>\n     </g>\n     <g id=\"line2d_4\">\n      <g>\n       <use xlink:href=\"#mc4730572aa\" x=\"115.676292\" y=\"273.025354\" style=\"stroke: #000000; stroke-width: 0.5\"/>\n      </g>\n     </g>\n     <g id=\"text_2\">\n      <!-- $100$ -->\n      <g transform=\"translate(108.036292 282.604104)scale(0.08 -0.08)\">\n       <defs>\n        <path id=\"DejaVuSans-31\" d=\"M 794 531 \nL 1825 531 \nL 1825 4091 \nL 703 3866 \nL 703 4441 \nL 1819 4666 \nL 2450 4666 \nL 2450 531 \nL 3481 531 \nL 3481 0 \nL 794 0 \nL 794 531 \nz\n\" transform=\"scale(0.015625)\"/>\n       </defs>\n       <use xlink:href=\"#DejaVuSans-31\" transform=\"translate(0 0.78125)\"/>\n       <use xlink:href=\"#DejaVuSans-30\" transform=\"translate(63.623047 0.78125)\"/>\n       <use xlink:href=\"#DejaVuSans-30\" transform=\"translate(127.246094 0.78125)\"/>\n      </g>\n     </g>\n    </g>\n    <g id=\"xtick_3\">\n     <g id=\"line2d_5\">\n      <path d=\"M 182.830958 273.025354 \nL 182.830958 19.634646 \n\" clip-path=\"url(#p6d87a4d38a)\" style=\"fill: none; stroke: #000000; stroke-opacity: 0.1; stroke-width: 0.5; stroke-linecap: square\"/>\n     </g>\n     <g id=\"line2d_6\">\n      <g>\n       <use xlink:href=\"#mc4730572aa\" x=\"182.830958\" y=\"273.025354\" style=\"stroke: #000000; stroke-width: 0.5\"/>\n      </g>\n     </g>\n     <g id=\"text_3\">\n      <!-- $200$ -->\n      <g transform=\"translate(175.190958 282.604104)scale(0.08 -0.08)\">\n       <defs>\n        <path id=\"DejaVuSans-32\" d=\"M 1228 531 \nL 3431 531 \nL 3431 0 \nL 469 0 \nL 469 531 \nQ 828 903 1448 1529 \nQ 2069 2156 2228 2338 \nQ 2531 2678 2651 2914 \nQ 2772 3150 2772 3378 \nQ 2772 3750 2511 3984 \nQ 2250 4219 1831 4219 \nQ 1534 4219 1204 4116 \nQ 875 4013 500 3803 \nL 500 4441 \nQ 881 4594 1212 4672 \nQ 1544 4750 1819 4750 \nQ 2544 4750 2975 4387 \nQ 3406 4025 3406 3419 \nQ 3406 3131 3298 2873 \nQ 3191 2616 2906 2266 \nQ 2828 2175 2409 1742 \nQ 1991 1309 1228 531 \nz\n\" transform=\"scale(0.015625)\"/>\n       </defs>\n       <use xlink:href=\"#DejaVuSans-32\" transform=\"translate(0 0.78125)\"/>\n       <use xlink:href=\"#DejaVuSans-30\" transform=\"translate(63.623047 0.78125)\"/>\n       <use xlink:href=\"#DejaVuSans-30\" transform=\"translate(127.246094 0.78125)\"/>\n      </g>\n     </g>\n    </g>\n    <g id=\"xtick_4\">\n     <g id=\"line2d_7\">\n      <path d=\"M 249.985624 273.025354 \nL 249.985624 19.634646 \n\" clip-path=\"url(#p6d87a4d38a)\" style=\"fill: none; stroke: #000000; stroke-opacity: 0.1; stroke-width: 0.5; stroke-linecap: square\"/>\n     </g>\n     <g id=\"line2d_8\">\n      <g>\n       <use xlink:href=\"#mc4730572aa\" x=\"249.985624\" y=\"273.025354\" style=\"stroke: #000000; stroke-width: 0.5\"/>\n      </g>\n     </g>\n     <g id=\"text_4\">\n      <!-- $300$ -->\n      <g transform=\"translate(242.345624 282.604104)scale(0.08 -0.08)\">\n       <defs>\n        <path id=\"DejaVuSans-33\" d=\"M 2597 2516 \nQ 3050 2419 3304 2112 \nQ 3559 1806 3559 1356 \nQ 3559 666 3084 287 \nQ 2609 -91 1734 -91 \nQ 1441 -91 1130 -33 \nQ 819 25 488 141 \nL 488 750 \nQ 750 597 1062 519 \nQ 1375 441 1716 441 \nQ 2309 441 2620 675 \nQ 2931 909 2931 1356 \nQ 2931 1769 2642 2001 \nQ 2353 2234 1838 2234 \nL 1294 2234 \nL 1294 2753 \nL 1863 2753 \nQ 2328 2753 2575 2939 \nQ 2822 3125 2822 3475 \nQ 2822 3834 2567 4026 \nQ 2313 4219 1838 4219 \nQ 1578 4219 1281 4162 \nQ 984 4106 628 3988 \nL 628 4550 \nQ 988 4650 1302 4700 \nQ 1616 4750 1894 4750 \nQ 2613 4750 3031 4423 \nQ 3450 4097 3450 3541 \nQ 3450 3153 3228 2886 \nQ 3006 2619 2597 2516 \nz\n\" transform=\"scale(0.015625)\"/>\n       </defs>\n       <use xlink:href=\"#DejaVuSans-33\" transform=\"translate(0 0.78125)\"/>\n       <use xlink:href=\"#DejaVuSans-30\" transform=\"translate(63.623047 0.78125)\"/>\n       <use xlink:href=\"#DejaVuSans-30\" transform=\"translate(127.246094 0.78125)\"/>\n      </g>\n     </g>\n    </g>\n    <g id=\"xtick_5\">\n     <g id=\"line2d_9\">\n      <path d=\"M 317.14029 273.025354 \nL 317.14029 19.634646 \n\" clip-path=\"url(#p6d87a4d38a)\" style=\"fill: none; stroke: #000000; stroke-opacity: 0.1; stroke-width: 0.5; stroke-linecap: square\"/>\n     </g>\n     <g id=\"line2d_10\">\n      <g>\n       <use xlink:href=\"#mc4730572aa\" x=\"317.14029\" y=\"273.025354\" style=\"stroke: #000000; stroke-width: 0.5\"/>\n      </g>\n     </g>\n     <g id=\"text_5\">\n      <!-- $400$ -->\n      <g transform=\"translate(309.50029 282.604104)scale(0.08 -0.08)\">\n       <defs>\n        <path id=\"DejaVuSans-34\" d=\"M 2419 4116 \nL 825 1625 \nL 2419 1625 \nL 2419 4116 \nz\nM 2253 4666 \nL 3047 4666 \nL 3047 1625 \nL 3713 1625 \nL 3713 1100 \nL 3047 1100 \nL 3047 0 \nL 2419 0 \nL 2419 1100 \nL 313 1100 \nL 313 1709 \nL 2253 4666 \nz\n\" transform=\"scale(0.015625)\"/>\n       </defs>\n       <use xlink:href=\"#DejaVuSans-34\" transform=\"translate(0 0.78125)\"/>\n       <use xlink:href=\"#DejaVuSans-30\" transform=\"translate(63.623047 0.78125)\"/>\n       <use xlink:href=\"#DejaVuSans-30\" transform=\"translate(127.246094 0.78125)\"/>\n      </g>\n     </g>\n    </g>\n    <g id=\"xtick_6\">\n     <g id=\"line2d_11\">\n      <path d=\"M 384.294957 273.025354 \nL 384.294957 19.634646 \n\" clip-path=\"url(#p6d87a4d38a)\" style=\"fill: none; stroke: #000000; stroke-opacity: 0.1; stroke-width: 0.5; stroke-linecap: square\"/>\n     </g>\n     <g id=\"line2d_12\">\n      <g>\n       <use xlink:href=\"#mc4730572aa\" x=\"384.294957\" y=\"273.025354\" style=\"stroke: #000000; stroke-width: 0.5\"/>\n      </g>\n     </g>\n     <g id=\"text_6\">\n      <!-- $500$ -->\n      <g transform=\"translate(376.654957 282.604104)scale(0.08 -0.08)\">\n       <defs>\n        <path id=\"DejaVuSans-35\" d=\"M 691 4666 \nL 3169 4666 \nL 3169 4134 \nL 1269 4134 \nL 1269 2991 \nQ 1406 3038 1543 3061 \nQ 1681 3084 1819 3084 \nQ 2600 3084 3056 2656 \nQ 3513 2228 3513 1497 \nQ 3513 744 3044 326 \nQ 2575 -91 1722 -91 \nQ 1428 -91 1123 -41 \nQ 819 9 494 109 \nL 494 744 \nQ 775 591 1075 516 \nQ 1375 441 1709 441 \nQ 2250 441 2565 725 \nQ 2881 1009 2881 1497 \nQ 2881 1984 2565 2268 \nQ 2250 2553 1709 2553 \nQ 1456 2553 1204 2497 \nQ 953 2441 691 2322 \nL 691 4666 \nz\n\" transform=\"scale(0.015625)\"/>\n       </defs>\n       <use xlink:href=\"#DejaVuSans-35\" transform=\"translate(0 0.78125)\"/>\n       <use xlink:href=\"#DejaVuSans-30\" transform=\"translate(63.623047 0.78125)\"/>\n       <use xlink:href=\"#DejaVuSans-30\" transform=\"translate(127.246094 0.78125)\"/>\n      </g>\n     </g>\n    </g>\n   </g>\n   <g id=\"matplotlib.axis_2\">\n    <g id=\"ytick_1\">\n     <g id=\"line2d_13\">\n      <path d=\"M 30.143744 265.853919 \nL 429.165354 265.853919 \n\" clip-path=\"url(#p6d87a4d38a)\" style=\"fill: none; stroke: #000000; stroke-opacity: 0.1; stroke-width: 0.5; stroke-linecap: square\"/>\n     </g>\n     <g id=\"line2d_14\">\n      <defs>\n       <path id=\"m0ddb04472f\" d=\"M 0 0 \nL 2.5 0 \n\" style=\"stroke: #000000; stroke-width: 0.5\"/>\n      </defs>\n      <g>\n       <use xlink:href=\"#m0ddb04472f\" x=\"30.143744\" y=\"265.853919\" style=\"stroke: #000000; stroke-width: 0.5\"/>\n      </g>\n     </g>\n     <g id=\"text_7\">\n      <!-- $0.000$ -->\n      <g transform=\"translate(3.683744 268.893294)scale(0.08 -0.08)\">\n       <defs>\n        <path id=\"DejaVuSans-2e\" d=\"M 684 794 \nL 1344 794 \nL 1344 0 \nL 684 0 \nL 684 794 \nz\n\" transform=\"scale(0.015625)\"/>\n       </defs>\n       <use xlink:href=\"#DejaVuSans-30\" transform=\"translate(0 0.78125)\"/>\n       <use xlink:href=\"#DejaVuSans-2e\" transform=\"translate(63.623047 0.78125)\"/>\n       <use xlink:href=\"#DejaVuSans-30\" transform=\"translate(95.410156 0.78125)\"/>\n       <use xlink:href=\"#DejaVuSans-30\" transform=\"translate(159.033203 0.78125)\"/>\n       <use xlink:href=\"#DejaVuSans-30\" transform=\"translate(222.65625 0.78125)\"/>\n      </g>\n     </g>\n    </g>\n    <g id=\"ytick_2\">\n     <g id=\"line2d_15\">\n      <path d=\"M 30.143744 199.755884 \nL 429.165354 199.755884 \n\" clip-path=\"url(#p6d87a4d38a)\" style=\"fill: none; stroke: #000000; stroke-opacity: 0.1; stroke-width: 0.5; stroke-linecap: square\"/>\n     </g>\n     <g id=\"line2d_16\">\n      <g>\n       <use xlink:href=\"#m0ddb04472f\" x=\"30.143744\" y=\"199.755884\" style=\"stroke: #000000; stroke-width: 0.5\"/>\n      </g>\n     </g>\n     <g id=\"text_8\">\n      <!-- $0.002$ -->\n      <g transform=\"translate(3.683744 202.795259)scale(0.08 -0.08)\">\n       <use xlink:href=\"#DejaVuSans-30\" transform=\"translate(0 0.78125)\"/>\n       <use xlink:href=\"#DejaVuSans-2e\" transform=\"translate(63.623047 0.78125)\"/>\n       <use xlink:href=\"#DejaVuSans-30\" transform=\"translate(95.410156 0.78125)\"/>\n       <use xlink:href=\"#DejaVuSans-30\" transform=\"translate(159.033203 0.78125)\"/>\n       <use xlink:href=\"#DejaVuSans-32\" transform=\"translate(222.65625 0.78125)\"/>\n      </g>\n     </g>\n    </g>\n    <g id=\"ytick_3\">\n     <g id=\"line2d_17\">\n      <path d=\"M 30.143744 133.657849 \nL 429.165354 133.657849 \n\" clip-path=\"url(#p6d87a4d38a)\" style=\"fill: none; stroke: #000000; stroke-opacity: 0.1; stroke-width: 0.5; stroke-linecap: square\"/>\n     </g>\n     <g id=\"line2d_18\">\n      <g>\n       <use xlink:href=\"#m0ddb04472f\" x=\"30.143744\" y=\"133.657849\" style=\"stroke: #000000; stroke-width: 0.5\"/>\n      </g>\n     </g>\n     <g id=\"text_9\">\n      <!-- $0.004$ -->\n      <g transform=\"translate(3.683744 136.697224)scale(0.08 -0.08)\">\n       <use xlink:href=\"#DejaVuSans-30\" transform=\"translate(0 0.78125)\"/>\n       <use xlink:href=\"#DejaVuSans-2e\" transform=\"translate(63.623047 0.78125)\"/>\n       <use xlink:href=\"#DejaVuSans-30\" transform=\"translate(95.410156 0.78125)\"/>\n       <use xlink:href=\"#DejaVuSans-30\" transform=\"translate(159.033203 0.78125)\"/>\n       <use xlink:href=\"#DejaVuSans-34\" transform=\"translate(222.65625 0.78125)\"/>\n      </g>\n     </g>\n    </g>\n    <g id=\"ytick_4\">\n     <g id=\"line2d_19\">\n      <path d=\"M 30.143744 67.559814 \nL 429.165354 67.559814 \n\" clip-path=\"url(#p6d87a4d38a)\" style=\"fill: none; stroke: #000000; stroke-opacity: 0.1; stroke-width: 0.5; stroke-linecap: square\"/>\n     </g>\n     <g id=\"line2d_20\">\n      <g>\n       <use xlink:href=\"#m0ddb04472f\" x=\"30.143744\" y=\"67.559814\" style=\"stroke: #000000; stroke-width: 0.5\"/>\n      </g>\n     </g>\n     <g id=\"text_10\">\n      <!-- $0.006$ -->\n      <g transform=\"translate(3.683744 70.599189)scale(0.08 -0.08)\">\n       <defs>\n        <path id=\"DejaVuSans-36\" d=\"M 2113 2584 \nQ 1688 2584 1439 2293 \nQ 1191 2003 1191 1497 \nQ 1191 994 1439 701 \nQ 1688 409 2113 409 \nQ 2538 409 2786 701 \nQ 3034 994 3034 1497 \nQ 3034 2003 2786 2293 \nQ 2538 2584 2113 2584 \nz\nM 3366 4563 \nL 3366 3988 \nQ 3128 4100 2886 4159 \nQ 2644 4219 2406 4219 \nQ 1781 4219 1451 3797 \nQ 1122 3375 1075 2522 \nQ 1259 2794 1537 2939 \nQ 1816 3084 2150 3084 \nQ 2853 3084 3261 2657 \nQ 3669 2231 3669 1497 \nQ 3669 778 3244 343 \nQ 2819 -91 2113 -91 \nQ 1303 -91 875 529 \nQ 447 1150 447 2328 \nQ 447 3434 972 4092 \nQ 1497 4750 2381 4750 \nQ 2619 4750 2861 4703 \nQ 3103 4656 3366 4563 \nz\n\" transform=\"scale(0.015625)\"/>\n       </defs>\n       <use xlink:href=\"#DejaVuSans-30\" transform=\"translate(0 0.78125)\"/>\n       <use xlink:href=\"#DejaVuSans-2e\" transform=\"translate(63.623047 0.78125)\"/>\n       <use xlink:href=\"#DejaVuSans-30\" transform=\"translate(95.410156 0.78125)\"/>\n       <use xlink:href=\"#DejaVuSans-30\" transform=\"translate(159.033203 0.78125)\"/>\n       <use xlink:href=\"#DejaVuSans-36\" transform=\"translate(222.65625 0.78125)\"/>\n      </g>\n     </g>\n    </g>\n   </g>\n   <g id=\"patch_3\">\n    <path d=\"M 50.200492 49.382854 \nL 50.200492 265.853919 \nL 60.273692 265.853919 \nL 60.273692 49.382854 \nL 50.200492 49.382854 \n\" clip-path=\"url(#p6d87a4d38a)\" style=\"fill: #808080; fill-opacity: 0.5\"/>\n   </g>\n   <g id=\"patch_4\">\n    <path d=\"M 63.631425 46.077952 \nL 63.631425 265.853919 \nL 73.704625 265.853919 \nL 73.704625 46.077952 \nL 63.631425 46.077952 \n\" clip-path=\"url(#p6d87a4d38a)\" style=\"fill: #808080; fill-opacity: 0.5\"/>\n   </g>\n   <g id=\"patch_5\">\n    <path d=\"M 77.062358 70.864715 \nL 77.062358 265.853919 \nL 87.135558 265.853919 \nL 87.135558 70.864715 \nL 77.062358 70.864715 \n\" clip-path=\"url(#p6d87a4d38a)\" style=\"fill: #808080; fill-opacity: 0.5\"/>\n   </g>\n   <g id=\"patch_6\">\n    <path d=\"M 90.493292 108.871086 \nL 90.493292 265.853919 \nL 100.566492 265.853919 \nL 100.566492 108.871086 \nL 90.493292 108.871086 \n\" clip-path=\"url(#p6d87a4d38a)\" style=\"fill: #808080; fill-opacity: 0.5\"/>\n   </g>\n   <g id=\"patch_7\">\n    <path d=\"M 103.924225 128.700496 \nL 103.924225 265.853919 \nL 113.997425 265.853919 \nL 113.997425 128.700496 \nL 103.924225 128.700496 \n\" clip-path=\"url(#p6d87a4d38a)\" style=\"fill: #808080; fill-opacity: 0.5\"/>\n   </g>\n   <g id=\"patch_8\">\n    <path d=\"M 117.355158 120.438242 \nL 117.355158 265.853919 \nL 127.428358 265.853919 \nL 127.428358 120.438242 \nL 117.355158 120.438242 \n\" clip-path=\"url(#p6d87a4d38a)\" style=\"fill: #808080; fill-opacity: 0.5\"/>\n   </g>\n   <g id=\"patch_9\">\n    <path d=\"M 130.786092 165.054416 \nL 130.786092 265.853919 \nL 140.859291 265.853919 \nL 140.859291 165.054416 \nL 130.786092 165.054416 \n\" clip-path=\"url(#p6d87a4d38a)\" style=\"fill: #808080; fill-opacity: 0.5\"/>\n   </g>\n   <g id=\"patch_10\">\n    <path d=\"M 144.217025 173.31667 \nL 144.217025 265.853919 \nL 154.290225 265.853919 \nL 154.290225 173.31667 \nL 144.217025 173.31667 \n\" clip-path=\"url(#p6d87a4d38a)\" style=\"fill: #808080; fill-opacity: 0.5\"/>\n   </g>\n   <g id=\"patch_11\">\n    <path d=\"M 157.647958 208.018138 \nL 157.647958 265.853919 \nL 167.721158 265.853919 \nL 167.721158 208.018138 \nL 157.647958 208.018138 \n\" clip-path=\"url(#p6d87a4d38a)\" style=\"fill: #808080; fill-opacity: 0.5\"/>\n   </g>\n   <g id=\"patch_12\">\n    <path d=\"M 171.078891 189.841179 \nL 171.078891 265.853919 \nL 181.152091 265.853919 \nL 181.152091 189.841179 \nL 171.078891 189.841179 \n\" clip-path=\"url(#p6d87a4d38a)\" style=\"fill: #808080; fill-opacity: 0.5\"/>\n   </g>\n   <g id=\"patch_13\">\n    <path d=\"M 184.509825 206.365688 \nL 184.509825 265.853919 \nL 194.583024 265.853919 \nL 194.583024 206.365688 \nL 184.509825 206.365688 \n\" clip-path=\"url(#p6d87a4d38a)\" style=\"fill: #808080; fill-opacity: 0.5\"/>\n   </g>\n   <g id=\"patch_14\">\n    <path d=\"M 197.940758 219.585295 \nL 197.940758 265.853919 \nL 208.013958 265.853919 \nL 208.013958 219.585295 \nL 197.940758 219.585295 \n\" clip-path=\"url(#p6d87a4d38a)\" style=\"fill: #808080; fill-opacity: 0.5\"/>\n   </g>\n   <g id=\"patch_15\">\n    <path d=\"M 211.371691 226.195098 \nL 211.371691 265.853919 \nL 221.444891 265.853919 \nL 221.444891 226.195098 \nL 211.371691 226.195098 \n\" clip-path=\"url(#p6d87a4d38a)\" style=\"fill: #808080; fill-opacity: 0.5\"/>\n   </g>\n   <g id=\"patch_16\">\n    <path d=\"M 224.802624 244.372058 \nL 224.802624 265.853919 \nL 234.875824 265.853919 \nL 234.875824 244.372058 \nL 224.802624 244.372058 \n\" clip-path=\"url(#p6d87a4d38a)\" style=\"fill: #808080; fill-opacity: 0.5\"/>\n   </g>\n   <g id=\"patch_17\">\n    <path d=\"M 238.233558 242.719607 \nL 238.233558 265.853919 \nL 248.306758 265.853919 \nL 248.306758 242.719607 \nL 238.233558 242.719607 \n\" clip-path=\"url(#p6d87a4d38a)\" style=\"fill: #808080; fill-opacity: 0.5\"/>\n   </g>\n   <g id=\"patch_18\">\n    <path d=\"M 251.664491 247.67696 \nL 251.664491 265.853919 \nL 261.737691 265.853919 \nL 261.737691 247.67696 \nL 251.664491 247.67696 \n\" clip-path=\"url(#p6d87a4d38a)\" style=\"fill: #808080; fill-opacity: 0.5\"/>\n   </g>\n   <g id=\"patch_19\">\n    <path d=\"M 265.095424 252.634312 \nL 265.095424 265.853919 \nL 275.168624 265.853919 \nL 275.168624 252.634312 \nL 265.095424 252.634312 \n\" clip-path=\"url(#p6d87a4d38a)\" style=\"fill: #808080; fill-opacity: 0.5\"/>\n   </g>\n   <g id=\"patch_20\">\n    <path d=\"M 278.526357 252.634312 \nL 278.526357 265.853919 \nL 288.599557 265.853919 \nL 288.599557 252.634312 \nL 278.526357 252.634312 \n\" clip-path=\"url(#p6d87a4d38a)\" style=\"fill: #808080; fill-opacity: 0.5\"/>\n   </g>\n   <g id=\"patch_21\">\n    <path d=\"M 291.957291 262.549017 \nL 291.957291 265.853919 \nL 302.030491 265.853919 \nL 302.030491 262.549017 \nL 291.957291 262.549017 \n\" clip-path=\"url(#p6d87a4d38a)\" style=\"fill: #808080; fill-opacity: 0.5\"/>\n   </g>\n   <g id=\"patch_22\">\n    <path d=\"M 305.388224 255.939214 \nL 305.388224 265.853919 \nL 315.461424 265.853919 \nL 315.461424 255.939214 \nL 305.388224 255.939214 \n\" clip-path=\"url(#p6d87a4d38a)\" style=\"fill: #808080; fill-opacity: 0.5\"/>\n   </g>\n   <g id=\"patch_23\">\n    <path d=\"M 318.819157 260.896567 \nL 318.819157 265.853919 \nL 328.892357 265.853919 \nL 328.892357 260.896567 \nL 318.819157 260.896567 \n\" clip-path=\"url(#p6d87a4d38a)\" style=\"fill: #808080; fill-opacity: 0.5\"/>\n   </g>\n   <g id=\"patch_24\">\n    <path d=\"M 332.25009 264.201468 \nL 332.25009 265.853919 \nL 342.32329 265.853919 \nL 342.32329 264.201468 \nL 332.25009 264.201468 \n\" clip-path=\"url(#p6d87a4d38a)\" style=\"fill: #808080; fill-opacity: 0.5\"/>\n   </g>\n   <g id=\"PathCollection_1\">\n    <defs>\n     <path id=\"md5ea093e34\" d=\"M 0 0 \nC 0 0 0 0 0 0 \nC 0 0 0 0 0 0 \nC 0 0 0 0 0 0 \nC 0 0 0 0 0 0 \nC 0 0 0 0 0 0 \nC 0 0 0 0 0 0 \nC 0 0 0 0 0 0 \nC 0 0 0 0 0 0 \nz\n\" style=\"stroke: #000000; stroke-opacity: 0\"/>\n    </defs>\n    <g clip-path=\"url(#p6d87a4d38a)\">\n     <use xlink:href=\"#md5ea093e34\" x=\"55.237092\" y=\"49.382854\" style=\"fill: #808080; fill-opacity: 0; stroke: #000000; stroke-opacity: 0\"/>\n     <use xlink:href=\"#md5ea093e34\" x=\"68.668025\" y=\"46.077952\" style=\"fill: #808080; fill-opacity: 0; stroke: #000000; stroke-opacity: 0\"/>\n     <use xlink:href=\"#md5ea093e34\" x=\"82.098958\" y=\"70.864715\" style=\"fill: #808080; fill-opacity: 0; stroke: #000000; stroke-opacity: 0\"/>\n     <use xlink:href=\"#md5ea093e34\" x=\"95.529892\" y=\"108.871086\" style=\"fill: #808080; fill-opacity: 0; stroke: #000000; stroke-opacity: 0\"/>\n     <use xlink:href=\"#md5ea093e34\" x=\"108.960825\" y=\"128.700496\" style=\"fill: #808080; fill-opacity: 0; stroke: #000000; stroke-opacity: 0\"/>\n     <use xlink:href=\"#md5ea093e34\" x=\"122.391758\" y=\"120.438242\" style=\"fill: #808080; fill-opacity: 0; stroke: #000000; stroke-opacity: 0\"/>\n     <use xlink:href=\"#md5ea093e34\" x=\"135.822691\" y=\"165.054416\" style=\"fill: #808080; fill-opacity: 0; stroke: #000000; stroke-opacity: 0\"/>\n     <use xlink:href=\"#md5ea093e34\" x=\"149.253625\" y=\"173.31667\" style=\"fill: #808080; fill-opacity: 0; stroke: #000000; stroke-opacity: 0\"/>\n     <use xlink:href=\"#md5ea093e34\" x=\"162.684558\" y=\"208.018138\" style=\"fill: #808080; fill-opacity: 0; stroke: #000000; stroke-opacity: 0\"/>\n     <use xlink:href=\"#md5ea093e34\" x=\"176.115491\" y=\"189.841179\" style=\"fill: #808080; fill-opacity: 0; stroke: #000000; stroke-opacity: 0\"/>\n     <use xlink:href=\"#md5ea093e34\" x=\"189.546425\" y=\"206.365688\" style=\"fill: #808080; fill-opacity: 0; stroke: #000000; stroke-opacity: 0\"/>\n     <use xlink:href=\"#md5ea093e34\" x=\"202.977358\" y=\"219.585295\" style=\"fill: #808080; fill-opacity: 0; stroke: #000000; stroke-opacity: 0\"/>\n     <use xlink:href=\"#md5ea093e34\" x=\"216.408291\" y=\"226.195098\" style=\"fill: #808080; fill-opacity: 0; stroke: #000000; stroke-opacity: 0\"/>\n     <use xlink:href=\"#md5ea093e34\" x=\"229.839224\" y=\"244.372058\" style=\"fill: #808080; fill-opacity: 0; stroke: #000000; stroke-opacity: 0\"/>\n     <use xlink:href=\"#md5ea093e34\" x=\"243.270158\" y=\"242.719607\" style=\"fill: #808080; fill-opacity: 0; stroke: #000000; stroke-opacity: 0\"/>\n     <use xlink:href=\"#md5ea093e34\" x=\"256.701091\" y=\"247.67696\" style=\"fill: #808080; fill-opacity: 0; stroke: #000000; stroke-opacity: 0\"/>\n     <use xlink:href=\"#md5ea093e34\" x=\"270.132024\" y=\"252.634312\" style=\"fill: #808080; fill-opacity: 0; stroke: #000000; stroke-opacity: 0\"/>\n     <use xlink:href=\"#md5ea093e34\" x=\"283.562957\" y=\"252.634312\" style=\"fill: #808080; fill-opacity: 0; stroke: #000000; stroke-opacity: 0\"/>\n     <use xlink:href=\"#md5ea093e34\" x=\"296.993891\" y=\"262.549017\" style=\"fill: #808080; fill-opacity: 0; stroke: #000000; stroke-opacity: 0\"/>\n     <use xlink:href=\"#md5ea093e34\" x=\"310.424824\" y=\"255.939214\" style=\"fill: #808080; fill-opacity: 0; stroke: #000000; stroke-opacity: 0\"/>\n     <use xlink:href=\"#md5ea093e34\" x=\"323.855757\" y=\"260.896567\" style=\"fill: #808080; fill-opacity: 0; stroke: #000000; stroke-opacity: 0\"/>\n     <use xlink:href=\"#md5ea093e34\" x=\"337.28669\" y=\"264.201468\" style=\"fill: #808080; fill-opacity: 0; stroke: #000000; stroke-opacity: 0\"/>\n    </g>\n   </g>\n   <g id=\"line2d_21\">\n    <path d=\"M 49.193172 26.806081 \nL 55.908639 39.632312 \nL 62.624105 51.991338 \nL 69.339572 63.891827 \nL 76.055038 75.342446 \nL 82.770505 86.351864 \nL 89.485972 96.928749 \nL 96.201438 107.081768 \nL 102.916905 116.819591 \nL 109.632372 126.150883 \nL 116.347838 135.084315 \nL 123.063305 143.628553 \nL 129.778772 151.792265 \nL 136.494238 159.584121 \nL 143.209705 167.012787 \nL 149.925171 174.086932 \nL 156.640638 180.815223 \nL 163.356105 187.206329 \nL 170.071571 193.268918 \nL 176.787038 199.011658 \nL 183.502505 204.443216 \nL 190.217971 209.572261 \nL 196.933438 214.407461 \nL 203.648904 218.957483 \nL 210.364371 223.230997 \nL 217.079838 227.236668 \nL 223.795304 230.983167 \nL 230.510771 234.47916 \nL 237.226238 237.733316 \nL 243.941704 240.754303 \nL 250.657171 243.550789 \nL 258.044184 246.377969 \nL 265.431197 248.955528 \nL 272.818211 251.295003 \nL 280.205224 253.407931 \nL 288.263784 255.468125 \nL 296.322344 257.287417 \nL 304.380904 258.880787 \nL 313.11101 260.369362 \nL 321.841117 261.629413 \nL 331.24277 262.752668 \nL 340.644424 263.656761 \nL 350.717624 264.409252 \nL 362.133917 265.027877 \nL 374.221757 265.457177 \nL 388.324237 265.730857 \nL 406.455997 265.846822 \nL 417.87229 265.853919 \nL 417.87229 265.853919 \n\" clip-path=\"url(#p6d87a4d38a)\" style=\"fill: none; stroke: #e36f47; stroke-width: 2\"/>\n   </g>\n   <g id=\"patch_25\">\n    <path d=\"M 30.143744 273.025354 \nL 30.143744 19.634646 \n\" style=\"fill: none; stroke: #000000; stroke-linejoin: miter; stroke-linecap: square\"/>\n   </g>\n   <g id=\"patch_26\">\n    <path d=\"M 30.143744 273.025354 \nL 429.165354 273.025354 \n\" style=\"fill: none; stroke: #000000; stroke-linejoin: miter; stroke-linecap: square\"/>\n   </g>\n   <g id=\"text_11\">\n    <!-- Demonstration of sampling from distribution -->\n    <g transform=\"translate(73.66283 13.634646)scale(0.14 -0.14)\">\n     <defs>\n      <path id=\"DejaVuSans-44\" d=\"M 1259 4147 \nL 1259 519 \nL 2022 519 \nQ 2988 519 3436 956 \nQ 3884 1394 3884 2338 \nQ 3884 3275 3436 3711 \nQ 2988 4147 2022 4147 \nL 1259 4147 \nz\nM 628 4666 \nL 1925 4666 \nQ 3281 4666 3915 4102 \nQ 4550 3538 4550 2338 \nQ 4550 1131 3912 565 \nQ 3275 0 1925 0 \nL 628 0 \nL 628 4666 \nz\n\" transform=\"scale(0.015625)\"/>\n      <path id=\"DejaVuSans-65\" d=\"M 3597 1894 \nL 3597 1613 \nL 953 1613 \nQ 991 1019 1311 708 \nQ 1631 397 2203 397 \nQ 2534 397 2845 478 \nQ 3156 559 3463 722 \nL 3463 178 \nQ 3153 47 2828 -22 \nQ 2503 -91 2169 -91 \nQ 1331 -91 842 396 \nQ 353 884 353 1716 \nQ 353 2575 817 3079 \nQ 1281 3584 2069 3584 \nQ 2775 3584 3186 3129 \nQ 3597 2675 3597 1894 \nz\nM 3022 2063 \nQ 3016 2534 2758 2815 \nQ 2500 3097 2075 3097 \nQ 1594 3097 1305 2825 \nQ 1016 2553 972 2059 \nL 3022 2063 \nz\n\" transform=\"scale(0.015625)\"/>\n      <path id=\"DejaVuSans-6d\" d=\"M 3328 2828 \nQ 3544 3216 3844 3400 \nQ 4144 3584 4550 3584 \nQ 5097 3584 5394 3201 \nQ 5691 2819 5691 2113 \nL 5691 0 \nL 5113 0 \nL 5113 2094 \nQ 5113 2597 4934 2840 \nQ 4756 3084 4391 3084 \nQ 3944 3084 3684 2787 \nQ 3425 2491 3425 1978 \nL 3425 0 \nL 2847 0 \nL 2847 2094 \nQ 2847 2600 2669 2842 \nQ 2491 3084 2119 3084 \nQ 1678 3084 1418 2786 \nQ 1159 2488 1159 1978 \nL 1159 0 \nL 581 0 \nL 581 3500 \nL 1159 3500 \nL 1159 2956 \nQ 1356 3278 1631 3431 \nQ 1906 3584 2284 3584 \nQ 2666 3584 2933 3390 \nQ 3200 3197 3328 2828 \nz\n\" transform=\"scale(0.015625)\"/>\n      <path id=\"DejaVuSans-6f\" d=\"M 1959 3097 \nQ 1497 3097 1228 2736 \nQ 959 2375 959 1747 \nQ 959 1119 1226 758 \nQ 1494 397 1959 397 \nQ 2419 397 2687 759 \nQ 2956 1122 2956 1747 \nQ 2956 2369 2687 2733 \nQ 2419 3097 1959 3097 \nz\nM 1959 3584 \nQ 2709 3584 3137 3096 \nQ 3566 2609 3566 1747 \nQ 3566 888 3137 398 \nQ 2709 -91 1959 -91 \nQ 1206 -91 779 398 \nQ 353 888 353 1747 \nQ 353 2609 779 3096 \nQ 1206 3584 1959 3584 \nz\n\" transform=\"scale(0.015625)\"/>\n      <path id=\"DejaVuSans-6e\" d=\"M 3513 2113 \nL 3513 0 \nL 2938 0 \nL 2938 2094 \nQ 2938 2591 2744 2837 \nQ 2550 3084 2163 3084 \nQ 1697 3084 1428 2787 \nQ 1159 2491 1159 1978 \nL 1159 0 \nL 581 0 \nL 581 3500 \nL 1159 3500 \nL 1159 2956 \nQ 1366 3272 1645 3428 \nQ 1925 3584 2291 3584 \nQ 2894 3584 3203 3211 \nQ 3513 2838 3513 2113 \nz\n\" transform=\"scale(0.015625)\"/>\n      <path id=\"DejaVuSans-73\" d=\"M 2834 3397 \nL 2834 2853 \nQ 2591 2978 2328 3040 \nQ 2066 3103 1784 3103 \nQ 1356 3103 1142 2972 \nQ 928 2841 928 2578 \nQ 928 2378 1081 2264 \nQ 1234 2150 1697 2047 \nL 1894 2003 \nQ 2506 1872 2764 1633 \nQ 3022 1394 3022 966 \nQ 3022 478 2636 193 \nQ 2250 -91 1575 -91 \nQ 1294 -91 989 -36 \nQ 684 19 347 128 \nL 347 722 \nQ 666 556 975 473 \nQ 1284 391 1588 391 \nQ 1994 391 2212 530 \nQ 2431 669 2431 922 \nQ 2431 1156 2273 1281 \nQ 2116 1406 1581 1522 \nL 1381 1569 \nQ 847 1681 609 1914 \nQ 372 2147 372 2553 \nQ 372 3047 722 3315 \nQ 1072 3584 1716 3584 \nQ 2034 3584 2315 3537 \nQ 2597 3491 2834 3397 \nz\n\" transform=\"scale(0.015625)\"/>\n      <path id=\"DejaVuSans-74\" d=\"M 1172 4494 \nL 1172 3500 \nL 2356 3500 \nL 2356 3053 \nL 1172 3053 \nL 1172 1153 \nQ 1172 725 1289 603 \nQ 1406 481 1766 481 \nL 2356 481 \nL 2356 0 \nL 1766 0 \nQ 1100 0 847 248 \nQ 594 497 594 1153 \nL 594 3053 \nL 172 3053 \nL 172 3500 \nL 594 3500 \nL 594 4494 \nL 1172 4494 \nz\n\" transform=\"scale(0.015625)\"/>\n      <path id=\"DejaVuSans-72\" d=\"M 2631 2963 \nQ 2534 3019 2420 3045 \nQ 2306 3072 2169 3072 \nQ 1681 3072 1420 2755 \nQ 1159 2438 1159 1844 \nL 1159 0 \nL 581 0 \nL 581 3500 \nL 1159 3500 \nL 1159 2956 \nQ 1341 3275 1631 3429 \nQ 1922 3584 2338 3584 \nQ 2397 3584 2469 3576 \nQ 2541 3569 2628 3553 \nL 2631 2963 \nz\n\" transform=\"scale(0.015625)\"/>\n      <path id=\"DejaVuSans-61\" d=\"M 2194 1759 \nQ 1497 1759 1228 1600 \nQ 959 1441 959 1056 \nQ 959 750 1161 570 \nQ 1363 391 1709 391 \nQ 2188 391 2477 730 \nQ 2766 1069 2766 1631 \nL 2766 1759 \nL 2194 1759 \nz\nM 3341 1997 \nL 3341 0 \nL 2766 0 \nL 2766 531 \nQ 2569 213 2275 61 \nQ 1981 -91 1556 -91 \nQ 1019 -91 701 211 \nQ 384 513 384 1019 \nQ 384 1609 779 1909 \nQ 1175 2209 1959 2209 \nL 2766 2209 \nL 2766 2266 \nQ 2766 2663 2505 2880 \nQ 2244 3097 1772 3097 \nQ 1472 3097 1187 3025 \nQ 903 2953 641 2809 \nL 641 3341 \nQ 956 3463 1253 3523 \nQ 1550 3584 1831 3584 \nQ 2591 3584 2966 3190 \nQ 3341 2797 3341 1997 \nz\n\" transform=\"scale(0.015625)\"/>\n      <path id=\"DejaVuSans-69\" d=\"M 603 3500 \nL 1178 3500 \nL 1178 0 \nL 603 0 \nL 603 3500 \nz\nM 603 4863 \nL 1178 4863 \nL 1178 4134 \nL 603 4134 \nL 603 4863 \nz\n\" transform=\"scale(0.015625)\"/>\n      <path id=\"DejaVuSans-20\" transform=\"scale(0.015625)\"/>\n      <path id=\"DejaVuSans-66\" d=\"M 2375 4863 \nL 2375 4384 \nL 1825 4384 \nQ 1516 4384 1395 4259 \nQ 1275 4134 1275 3809 \nL 1275 3500 \nL 2222 3500 \nL 2222 3053 \nL 1275 3053 \nL 1275 0 \nL 697 0 \nL 697 3053 \nL 147 3053 \nL 147 3500 \nL 697 3500 \nL 697 3744 \nQ 697 4328 969 4595 \nQ 1241 4863 1831 4863 \nL 2375 4863 \nz\n\" transform=\"scale(0.015625)\"/>\n      <path id=\"DejaVuSans-70\" d=\"M 1159 525 \nL 1159 -1331 \nL 581 -1331 \nL 581 3500 \nL 1159 3500 \nL 1159 2969 \nQ 1341 3281 1617 3432 \nQ 1894 3584 2278 3584 \nQ 2916 3584 3314 3078 \nQ 3713 2572 3713 1747 \nQ 3713 922 3314 415 \nQ 2916 -91 2278 -91 \nQ 1894 -91 1617 61 \nQ 1341 213 1159 525 \nz\nM 3116 1747 \nQ 3116 2381 2855 2742 \nQ 2594 3103 2138 3103 \nQ 1681 3103 1420 2742 \nQ 1159 2381 1159 1747 \nQ 1159 1113 1420 752 \nQ 1681 391 2138 391 \nQ 2594 391 2855 752 \nQ 3116 1113 3116 1747 \nz\n\" transform=\"scale(0.015625)\"/>\n      <path id=\"DejaVuSans-6c\" d=\"M 603 4863 \nL 1178 4863 \nL 1178 0 \nL 603 0 \nL 603 4863 \nz\n\" transform=\"scale(0.015625)\"/>\n      <path id=\"DejaVuSans-67\" d=\"M 2906 1791 \nQ 2906 2416 2648 2759 \nQ 2391 3103 1925 3103 \nQ 1463 3103 1205 2759 \nQ 947 2416 947 1791 \nQ 947 1169 1205 825 \nQ 1463 481 1925 481 \nQ 2391 481 2648 825 \nQ 2906 1169 2906 1791 \nz\nM 3481 434 \nQ 3481 -459 3084 -895 \nQ 2688 -1331 1869 -1331 \nQ 1566 -1331 1297 -1286 \nQ 1028 -1241 775 -1147 \nL 775 -588 \nQ 1028 -725 1275 -790 \nQ 1522 -856 1778 -856 \nQ 2344 -856 2625 -561 \nQ 2906 -266 2906 331 \nL 2906 616 \nQ 2728 306 2450 153 \nQ 2172 0 1784 0 \nQ 1141 0 747 490 \nQ 353 981 353 1791 \nQ 353 2603 747 3093 \nQ 1141 3584 1784 3584 \nQ 2172 3584 2450 3431 \nQ 2728 3278 2906 2969 \nL 2906 3500 \nL 3481 3500 \nL 3481 434 \nz\n\" transform=\"scale(0.015625)\"/>\n      <path id=\"DejaVuSans-64\" d=\"M 2906 2969 \nL 2906 4863 \nL 3481 4863 \nL 3481 0 \nL 2906 0 \nL 2906 525 \nQ 2725 213 2448 61 \nQ 2172 -91 1784 -91 \nQ 1150 -91 751 415 \nQ 353 922 353 1747 \nQ 353 2572 751 3078 \nQ 1150 3584 1784 3584 \nQ 2172 3584 2448 3432 \nQ 2725 3281 2906 2969 \nz\nM 947 1747 \nQ 947 1113 1208 752 \nQ 1469 391 1925 391 \nQ 2381 391 2643 752 \nQ 2906 1113 2906 1747 \nQ 2906 2381 2643 2742 \nQ 2381 3103 1925 3103 \nQ 1469 3103 1208 2742 \nQ 947 2381 947 1747 \nz\n\" transform=\"scale(0.015625)\"/>\n      <path id=\"DejaVuSans-62\" d=\"M 3116 1747 \nQ 3116 2381 2855 2742 \nQ 2594 3103 2138 3103 \nQ 1681 3103 1420 2742 \nQ 1159 2381 1159 1747 \nQ 1159 1113 1420 752 \nQ 1681 391 2138 391 \nQ 2594 391 2855 752 \nQ 3116 1113 3116 1747 \nz\nM 1159 2969 \nQ 1341 3281 1617 3432 \nQ 1894 3584 2278 3584 \nQ 2916 3584 3314 3078 \nQ 3713 2572 3713 1747 \nQ 3713 922 3314 415 \nQ 2916 -91 2278 -91 \nQ 1894 -91 1617 61 \nQ 1341 213 1159 525 \nL 1159 0 \nL 581 0 \nL 581 4863 \nL 1159 4863 \nL 1159 2969 \nz\n\" transform=\"scale(0.015625)\"/>\n      <path id=\"DejaVuSans-75\" d=\"M 544 1381 \nL 544 3500 \nL 1119 3500 \nL 1119 1403 \nQ 1119 906 1312 657 \nQ 1506 409 1894 409 \nQ 2359 409 2629 706 \nQ 2900 1003 2900 1516 \nL 2900 3500 \nL 3475 3500 \nL 3475 0 \nL 2900 0 \nL 2900 538 \nQ 2691 219 2414 64 \nQ 2138 -91 1772 -91 \nQ 1169 -91 856 284 \nQ 544 659 544 1381 \nz\nM 1991 3584 \nL 1991 3584 \nz\n\" transform=\"scale(0.015625)\"/>\n     </defs>\n     <use xlink:href=\"#DejaVuSans-44\"/>\n     <use xlink:href=\"#DejaVuSans-65\" x=\"77.001953\"/>\n     <use xlink:href=\"#DejaVuSans-6d\" x=\"138.525391\"/>\n     <use xlink:href=\"#DejaVuSans-6f\" x=\"235.9375\"/>\n     <use xlink:href=\"#DejaVuSans-6e\" x=\"297.119141\"/>\n     <use xlink:href=\"#DejaVuSans-73\" x=\"360.498047\"/>\n     <use xlink:href=\"#DejaVuSans-74\" x=\"412.597656\"/>\n     <use xlink:href=\"#DejaVuSans-72\" x=\"451.806641\"/>\n     <use xlink:href=\"#DejaVuSans-61\" x=\"492.919922\"/>\n     <use xlink:href=\"#DejaVuSans-74\" x=\"554.199219\"/>\n     <use xlink:href=\"#DejaVuSans-69\" x=\"593.408203\"/>\n     <use xlink:href=\"#DejaVuSans-6f\" x=\"621.191406\"/>\n     <use xlink:href=\"#DejaVuSans-6e\" x=\"682.373047\"/>\n     <use xlink:href=\"#DejaVuSans-20\" x=\"745.751953\"/>\n     <use xlink:href=\"#DejaVuSans-6f\" x=\"777.539062\"/>\n     <use xlink:href=\"#DejaVuSans-66\" x=\"838.720703\"/>\n     <use xlink:href=\"#DejaVuSans-20\" x=\"873.925781\"/>\n     <use xlink:href=\"#DejaVuSans-73\" x=\"905.712891\"/>\n     <use xlink:href=\"#DejaVuSans-61\" x=\"957.8125\"/>\n     <use xlink:href=\"#DejaVuSans-6d\" x=\"1019.091797\"/>\n     <use xlink:href=\"#DejaVuSans-70\" x=\"1116.503906\"/>\n     <use xlink:href=\"#DejaVuSans-6c\" x=\"1179.980469\"/>\n     <use xlink:href=\"#DejaVuSans-69\" x=\"1207.763672\"/>\n     <use xlink:href=\"#DejaVuSans-6e\" x=\"1235.546875\"/>\n     <use xlink:href=\"#DejaVuSans-67\" x=\"1298.925781\"/>\n     <use xlink:href=\"#DejaVuSans-20\" x=\"1362.402344\"/>\n     <use xlink:href=\"#DejaVuSans-66\" x=\"1394.189453\"/>\n     <use xlink:href=\"#DejaVuSans-72\" x=\"1429.394531\"/>\n     <use xlink:href=\"#DejaVuSans-6f\" x=\"1468.257812\"/>\n     <use xlink:href=\"#DejaVuSans-6d\" x=\"1529.439453\"/>\n     <use xlink:href=\"#DejaVuSans-20\" x=\"1626.851562\"/>\n     <use xlink:href=\"#DejaVuSans-64\" x=\"1658.638672\"/>\n     <use xlink:href=\"#DejaVuSans-69\" x=\"1722.115234\"/>\n     <use xlink:href=\"#DejaVuSans-73\" x=\"1749.898438\"/>\n     <use xlink:href=\"#DejaVuSans-74\" x=\"1801.998047\"/>\n     <use xlink:href=\"#DejaVuSans-72\" x=\"1841.207031\"/>\n     <use xlink:href=\"#DejaVuSans-69\" x=\"1882.320312\"/>\n     <use xlink:href=\"#DejaVuSans-62\" x=\"1910.103516\"/>\n     <use xlink:href=\"#DejaVuSans-75\" x=\"1973.580078\"/>\n     <use xlink:href=\"#DejaVuSans-74\" x=\"2036.958984\"/>\n     <use xlink:href=\"#DejaVuSans-69\" x=\"2076.167969\"/>\n     <use xlink:href=\"#DejaVuSans-6f\" x=\"2103.951172\"/>\n     <use xlink:href=\"#DejaVuSans-6e\" x=\"2165.132812\"/>\n    </g>\n   </g>\n   <g id=\"legend_1\">\n    <g id=\"patch_27\">\n     <path d=\"M 324.205354 44.177146 \nL 425.165354 44.177146 \nL 425.165354 23.634646 \nL 324.205354 23.634646 \nz\n\" style=\"fill: #ffffff; stroke: #000000; stroke-linejoin: miter\"/>\n    </g>\n    <g id=\"line2d_22\">\n     <path d=\"M 330.605354 33.313396 \nL 338.605354 33.313396 \nL 346.605354 33.313396 \n\" style=\"fill: none; stroke: #e36f47; stroke-linejoin: miter\"/>\n    </g>\n    <g id=\"text_12\">\n     <!-- $v_{esc}=550,~k=3$ -->\n     <g transform=\"translate(353.005354 36.113396)scale(0.08 -0.08)\">\n      <defs>\n       <path id=\"DejaVuSans-Oblique-76\" d=\"M 459 3500 \nL 1069 3500 \nL 1581 525 \nL 3256 3500 \nL 3866 3500 \nL 1875 0 \nL 1100 0 \nL 459 3500 \nz\n\" transform=\"scale(0.015625)\"/>\n       <path id=\"DejaVuSans-Oblique-65\" d=\"M 3078 2063 \nQ 3088 2113 3092 2166 \nQ 3097 2219 3097 2272 \nQ 3097 2653 2873 2875 \nQ 2650 3097 2266 3097 \nQ 1838 3097 1509 2826 \nQ 1181 2556 1013 2059 \nL 3078 2063 \nz\nM 3578 1613 \nL 903 1613 \nQ 884 1494 878 1425 \nQ 872 1356 872 1306 \nQ 872 872 1139 634 \nQ 1406 397 1894 397 \nQ 2269 397 2603 481 \nQ 2938 566 3225 728 \nL 3116 159 \nQ 2806 34 2476 -28 \nQ 2147 -91 1806 -91 \nQ 1078 -91 686 257 \nQ 294 606 294 1247 \nQ 294 1794 489 2264 \nQ 684 2734 1063 3103 \nQ 1306 3334 1642 3459 \nQ 1978 3584 2356 3584 \nQ 2950 3584 3301 3228 \nQ 3653 2872 3653 2272 \nQ 3653 2128 3634 1964 \nQ 3616 1800 3578 1613 \nz\n\" transform=\"scale(0.015625)\"/>\n       <path id=\"DejaVuSans-Oblique-73\" d=\"M 3200 3397 \nL 3091 2853 \nQ 2863 2978 2609 3040 \nQ 2356 3103 2088 3103 \nQ 1634 3103 1373 2948 \nQ 1113 2794 1113 2528 \nQ 1113 2219 1719 2053 \nQ 1766 2041 1788 2034 \nL 1972 1978 \nQ 2547 1819 2739 1644 \nQ 2931 1469 2931 1166 \nQ 2931 609 2489 259 \nQ 2047 -91 1331 -91 \nQ 1053 -91 747 -37 \nQ 441 16 72 128 \nL 184 722 \nQ 500 559 806 475 \nQ 1113 391 1394 391 \nQ 1816 391 2080 572 \nQ 2344 753 2344 1031 \nQ 2344 1331 1650 1516 \nL 1591 1531 \nL 1394 1581 \nQ 956 1697 753 1886 \nQ 550 2075 550 2369 \nQ 550 2928 970 3256 \nQ 1391 3584 2113 3584 \nQ 2397 3584 2667 3537 \nQ 2938 3491 3200 3397 \nz\n\" transform=\"scale(0.015625)\"/>\n       <path id=\"DejaVuSans-Oblique-63\" d=\"M 3431 3366 \nL 3316 2797 \nQ 3109 2947 2876 3022 \nQ 2644 3097 2394 3097 \nQ 2119 3097 1870 3000 \nQ 1622 2903 1453 2725 \nQ 1184 2453 1037 2087 \nQ 891 1722 891 1331 \nQ 891 859 1127 628 \nQ 1363 397 1844 397 \nQ 2081 397 2348 469 \nQ 2616 541 2906 684 \nL 2797 116 \nQ 2547 13 2283 -39 \nQ 2019 -91 1741 -91 \nQ 1044 -91 669 257 \nQ 294 606 294 1253 \nQ 294 1797 489 2255 \nQ 684 2713 1069 3078 \nQ 1331 3328 1684 3456 \nQ 2038 3584 2456 3584 \nQ 2700 3584 2940 3529 \nQ 3181 3475 3431 3366 \nz\n\" transform=\"scale(0.015625)\"/>\n       <path id=\"DejaVuSans-3d\" d=\"M 678 2906 \nL 4684 2906 \nL 4684 2381 \nL 678 2381 \nL 678 2906 \nz\nM 678 1631 \nL 4684 1631 \nL 4684 1100 \nL 678 1100 \nL 678 1631 \nz\n\" transform=\"scale(0.015625)\"/>\n       <path id=\"DejaVuSans-2c\" d=\"M 750 794 \nL 1409 794 \nL 1409 256 \nL 897 -744 \nL 494 -744 \nL 750 256 \nL 750 794 \nz\n\" transform=\"scale(0.015625)\"/>\n       <path id=\"DejaVuSans-Oblique-6b\" d=\"M 1172 4863 \nL 1747 4863 \nL 1197 2028 \nL 3169 3500 \nL 3916 3500 \nL 1716 1825 \nL 3322 0 \nL 2625 0 \nL 1131 1709 \nL 800 0 \nL 225 0 \nL 1172 4863 \nz\n\" transform=\"scale(0.015625)\"/>\n      </defs>\n      <use xlink:href=\"#DejaVuSans-Oblique-76\" transform=\"translate(0 0.015625)\"/>\n      <use xlink:href=\"#DejaVuSans-Oblique-65\" transform=\"translate(59.179688 -16.390625)scale(0.7)\"/>\n      <use xlink:href=\"#DejaVuSans-Oblique-73\" transform=\"translate(102.246094 -16.390625)scale(0.7)\"/>\n      <use xlink:href=\"#DejaVuSans-Oblique-63\" transform=\"translate(138.71582 -16.390625)scale(0.7)\"/>\n      <use xlink:href=\"#DejaVuSans-3d\" transform=\"translate(199.418945 0.015625)\"/>\n      <use xlink:href=\"#DejaVuSans-35\" transform=\"translate(302.69043 0.015625)\"/>\n      <use xlink:href=\"#DejaVuSans-35\" transform=\"translate(366.313477 0.015625)\"/>\n      <use xlink:href=\"#DejaVuSans-30\" transform=\"translate(429.936523 0.015625)\"/>\n      <use xlink:href=\"#DejaVuSans-2c\" transform=\"translate(493.55957 0.015625)\"/>\n      <use xlink:href=\"#DejaVuSans-Oblique-6b\" transform=\"translate(577.29948 0.015625)\"/>\n      <use xlink:href=\"#DejaVuSans-3d\" transform=\"translate(654.692058 0.015625)\"/>\n      <use xlink:href=\"#DejaVuSans-33\" transform=\"translate(757.963542 0.015625)\"/>\n     </g>\n    </g>\n   </g>\n  </g>\n </g>\n <defs>\n  <clipPath id=\"p6d87a4d38a\">\n   <rect x=\"30.143744\" y=\"19.634646\" width=\"399.021611\" height=\"253.390709\"/>\n  </clipPath>\n </defs>\n</svg>\n",
      "text/html": [
       "<img src=\"data:image/png;base64,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\" />"
      ]
     },
     "metadata": {},
     "output_type": "display_data"
    }
   ],
   "source": [
    "pyplot()\n",
    "\n",
    "histogram(target_data, normed = true,\n",
    "                    bins = 25,\n",
    "                    title = \"Demonstration of sampling from distribution\",\n",
    "                    alpha = 0.5,\n",
    "                    bar_width = 15,\n",
    "                    linewidth = 0,\n",
    "                    color = \"gray\" ,\n",
    "                    label = \"\"\n",
    "                    )\n",
    "\n",
    "v_test = collect(1:1:550)\n",
    "plot!(v_test, map(v -> powerlaw_PDF(v,[550.0,3.0]) , v_test) ,\n",
    "                    linewidth = 2,\n",
    "                    #color = \"red\",\n",
    "                    label = L\"v_{esc}=550,~k=3\"\n",
    "                    )"
   ]
  },
  {
   "cell_type": "markdown",
   "metadata": {},
   "source": [
    "# Define MCMC functions and parameters"
   ]
  },
  {
   "cell_type": "code",
   "execution_count": 18,
   "metadata": {},
   "outputs": [
    {
     "data": {
      "text/plain": [
       "log_probability (generic function with 2 methods)"
      ]
     },
     "metadata": {},
     "output_type": "display_data"
    }
   ],
   "source": [
    "function log_prior(x)\n",
    "    vesc,k = x\n",
    "    if 100.0 < vesc < 800.0 && 0.2 < k < 10.0 \n",
    "        return 0.0\n",
    "    end\n",
    "\n",
    "    return -Inf\n",
    "end\n",
    "\n",
    "function log_likelihood(x,data)\n",
    "    vesc,k = x\n",
    "    sum = 0.0\n",
    "    for v in data\n",
    "        #println(\"v = \",v,\", vesc = \",vesc)\n",
    "        if v < vesc\n",
    "            sum += log(k+1.0) - (k+1.0)*log(vesc) + k*log(vesc - v)\n",
    "        else\n",
    "            return -Inf \n",
    "        end\n",
    "    end\n",
    "    return sum\n",
    "end\n",
    "\n",
    "function log_probability(x,data)\n",
    "    return log_likelihood(x,data) + log_prior(x)\n",
    "end\n",
    "\n",
    "#function log_probability_vectorized(x_vector,data)\n",
    "#    return_vector = zeros(length(x_vector))"
   ]
  },
  {
   "cell_type": "markdown",
   "metadata": {},
   "source": [
    "# Use MCJulia to perform sampling"
   ]
  },
  {
   "cell_type": "markdown",
   "metadata": {},
   "source": [
    "### Parameters and initial conditions for walkers"
   ]
  },
  {
   "cell_type": "code",
   "execution_count": 36,
   "metadata": {},
   "outputs": [],
   "source": [
    "# Parameters\n",
    "ndims = 2\n",
    "nwalkers = 10\n",
    "nsamples_perwalker = 1000\n",
    "burnin = 10\n",
    "\n",
    "# ICs\n",
    "guess_vesc = 600\n",
    "guess_k = 4\n",
    "\n",
    "initial_guess_dist = MvNormal([0.0,0.0],[90 0.0 ; 0.0 0.9])\n",
    "\n",
    "initial_guess_onewalker = [guess_vesc,guess_k]\n",
    "initial_guess = reshape( reduce(hcat, [initial_guess_onewalker + vec(rand(initial_guess_dist , 1))  for _ in 1:nwalkers]) ,\n",
    "                         (nwalkers,ndims))\n",
    "\n",
    "quantile_list = [0.16, 0.5, 0.84];\n"
   ]
  },
  {
   "cell_type": "code",
   "execution_count": 37,
   "metadata": {},
   "outputs": [
    {
     "data": {
      "text/plain": [
       "Sampler(10, 2, log_probability, 2.0, Array{Float64, 3}(undef, 10, 2, 0), Matrix{Float64}(undef, 10, 0), 0, 0, ([98.20791896566853, 58.21756552901358, 103.32733479039364, 75.72616995789096, 0.5894436214505749, 192.67350425116078, 106.95201036570346, 97.03057825422704, 271.12672786709277, 33.40920664502916  …  0.5799806585866485, 115.57642541108349, 220.81893041933822, 250.6033679083438, 43.961476409047606, 259.91085729725296, 248.05436816446195, 9.5563996275218, 152.08072741832953, 22.737482317834594],), dummy_callback)"
      ]
     },
     "metadata": {},
     "output_type": "display_data"
    }
   ],
   "source": [
    "seed!(0)\n",
    "S = Sampler(nwalkers, ndims, log_probability, (target_data,))"
   ]
  },
  {
   "cell_type": "code",
   "execution_count": 38,
   "metadata": {},
   "outputs": [
    {
     "data": {
      "text/plain": [
       "10×2 Matrix{Float64}:\n",
       " 608.946    592.293\n",
       "   4.12705    2.04473\n",
       " 614.468    602.97\n",
       "   4.11754    3.54517\n",
       " 588.561    591.041\n",
       "   4.29582    5.7307\n",
       " 597.774    589.96\n",
       "   2.96845    4.27717\n",
       " 604.386    611.829\n",
       "   3.92354    3.59275"
      ]
     },
     "metadata": {},
     "output_type": "display_data"
    }
   ],
   "source": [
    "# Do a 20-step burn-in without saving the results.  Since we have\n",
    "# 100 walkers, we are throwing away 2000 samples. The return value\n",
    "# p is the position of the walkers at the last step.\n",
    "p = sample(S, initial_guess, burnin,1,false)"
   ]
  },
  {
   "cell_type": "code",
   "execution_count": 40,
   "metadata": {},
   "outputs": [
    {
     "name": "stdout",
     "output_type": "stream",
     "text": [
      "acceptance ratio: 0.0\n"
     ]
    }
   ],
   "source": [
    "sample(S, p, 100, 1, true)\n",
    "println(\"acceptance ratio: $(S.accepted / S.iterations)\")"
   ]
  },
  {
   "cell_type": "code",
   "execution_count": null,
   "metadata": {},
   "outputs": [],
   "source": []
  },
  {
   "cell_type": "code",
   "execution_count": null,
   "metadata": {},
   "outputs": [],
   "source": []
  },
  {
   "cell_type": "markdown",
   "metadata": {},
   "source": [
    "# Run MH algorithm"
   ]
  },
  {
   "cell_type": "code",
   "execution_count": null,
   "metadata": {},
   "outputs": [],
   "source": [
    "num_steps = 40000\n",
    "burnin = 200\n",
    "initial_guess = [600.0,4.0]\n",
    "\n",
    "quantile_list = [0.16, 0.5, 0.84]\n",
    "\n",
    "accepted, rejected = metropolis_hastings(target_data, \n",
    "                                        num_steps,\n",
    "                                        initial_guess,\n",
    "                                        log_likelihood, \n",
    "                                        log_prior, \n",
    "                                        step_model, \n",
    "                                        step_decision\n",
    "                                        )"
   ]
  },
  {
   "cell_type": "markdown",
   "metadata": {},
   "source": [
    "### Strip the zeros"
   ]
  },
  {
   "cell_type": "code",
   "execution_count": null,
   "metadata": {},
   "outputs": [],
   "source": [
    "accepted_col_indices = zeros(Int64,0)\n",
    "rejected_col_indices = zeros(Int64,0)\n",
    "\n",
    "for (i,col) in enumerate(eachcol(accepted))\n",
    "    if col != [0,0]\n",
    "        append!(accepted_col_indices,i)\n",
    "    end\n",
    "end\n",
    "\n",
    "for (i,col) in enumerate(eachcol(rejected))\n",
    "    if col != [0,0]\n",
    "        append!(rejected_col_indices,i)\n",
    "    end\n",
    "end\n",
    "\n",
    "accepted_stripped = accepted[:,accepted_col_indices]\n",
    "rejected_stripped = rejected[:,rejected_col_indices];"
   ]
  },
  {
   "cell_type": "markdown",
   "metadata": {},
   "source": [
    "### Process the data"
   ]
  },
  {
   "cell_type": "code",
   "execution_count": null,
   "metadata": {},
   "outputs": [],
   "source": [
    "# final data to be used\n",
    "vesc_posterior = accepted_stripped[1,burnin:end]\n",
    "k_posterior = accepted_stripped[2,burnin:end]\n",
    "\n",
    "# Examine acceptance fraction\n",
    "println(length(accepted_stripped) / length(rejected_stripped)) # a decent proxy for real value\n",
    "\n",
    "# Establish estimates of parameters via median and expected error on these estimates\n",
    "vesc_quantiles = quantile(vesc_posterior, quantile_list)\n",
    "k_quantiles = quantile(k_posterior, quantile_list)\n",
    "\n",
    "\n",
    "vesc_median = vesc_quantiles[2]\n",
    "vesc_lower_1sigma = vesc_median - vesc_quantiles[1]\n",
    "vesc_upper_1sigma = vesc_quantiles[3] - vesc_median\n",
    "\n",
    "k_median = k_quantiles[2]\n",
    "k_lower_1sigma = k_median - k_quantiles[1]\n",
    "k_upper_1sigma = k_quantiles[3] - k_median;"
   ]
  },
  {
   "cell_type": "code",
   "execution_count": null,
   "metadata": {},
   "outputs": [],
   "source": [
    "plot(vesc_posterior, normed = true,\n",
    "                    bins = 25,\n",
    "                    title = \"MCMC result, \\$v_{esc} =\\$ $(@sprintf(\"%.2f\", vesc_median)) \\$ ^{+$(@sprintf(\"%.2f\", vesc_upper_1sigma))}_{+$(@sprintf(\"%.2f\", vesc_lower_1sigma))}\\$ \",\n",
    "                    #alpha = 0.5,\n",
    "                    #bar_width = 15,\n",
    "                    #linewidth = 0,\n",
    "                    #color = \"gray\" ,\n",
    "                    lc=\"black\",\n",
    "                    label = \"\",\n",
    "                    seriestype=:stephist,\n",
    "                    size=(500,400),\n",
    "                    )\n",
    "vline!([target_vesc], lw = 2, label = L\"True $v_{esc}$\")\n",
    "\n",
    "vline!(vesc_quantiles , ls=:dash, color=\"black\",lw=1,label=\"\" )"
   ]
  },
  {
   "cell_type": "code",
   "execution_count": null,
   "metadata": {},
   "outputs": [],
   "source": [
    "plot(k_posterior, normed = true,\n",
    "                    bins = 25,\n",
    "                    title = \"MCMC result, \\$k =\\$ $(@sprintf(\"%.2f\", k_median)) \\$ ^{+$(@sprintf(\"%.2f\", k_upper_1sigma))}_{+$(@sprintf(\"%.2f\", k_lower_1sigma))}\\$ \",\n",
    "                    #alpha = 0.5,\n",
    "                    #bar_width = 15,\n",
    "                    #linewidth = 0,\n",
    "                    #color = \"gray\" ,\n",
    "                    lc=\"black\",\n",
    "                    label = \"\",\n",
    "                    seriestype=:stephist,\n",
    "                    size=(500,400),\n",
    "                    )\n",
    "vline!([target_k], lw = 2, label = L\"True $k$\")\n",
    "\n",
    "vline!( k_quantiles, ls=:dash, color=\"black\",lw=1, label=\"\")"
   ]
  },
  {
   "cell_type": "code",
   "execution_count": null,
   "metadata": {},
   "outputs": [],
   "source": []
  }
 ],
 "metadata": {
  "kernelspec": {
   "display_name": "Julia 1.7.1",
   "language": "julia",
   "name": "julia-1.7"
  },
  "language_info": {
   "file_extension": ".jl",
   "mimetype": "application/julia",
   "name": "julia",
   "version": "1.7.1"
  },
  "orig_nbformat": 4
 },
 "nbformat": 4,
 "nbformat_minor": 2
}
